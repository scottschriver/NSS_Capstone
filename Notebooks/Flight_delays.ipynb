{
 "cells": [
  {
   "cell_type": "code",
   "execution_count": 105,
   "id": "80657fb1",
   "metadata": {},
   "outputs": [
    {
     "name": "stdout",
     "output_type": "stream",
     "text": [
      "Requirement already satisfied: tabulate in c:\\users\\scott\\anaconda3\\lib\\site-packages (0.8.9)\n",
      "Collecting wordcloud\n",
      "  Downloading wordcloud-1.8.1.tar.gz (220 kB)\n",
      "Requirement already satisfied: numpy>=1.6.1 in c:\\users\\scott\\anaconda3\\lib\\site-packages (from wordcloud) (1.20.3)\n",
      "Requirement already satisfied: pillow in c:\\users\\scott\\anaconda3\\lib\\site-packages (from wordcloud) (8.4.0)\n",
      "Requirement already satisfied: matplotlib in c:\\users\\scott\\anaconda3\\lib\\site-packages (from wordcloud) (3.4.3)\n",
      "Requirement already satisfied: pyparsing>=2.2.1 in c:\\users\\scott\\anaconda3\\lib\\site-packages (from matplotlib->wordcloud) (3.0.4)\n",
      "Requirement already satisfied: kiwisolver>=1.0.1 in c:\\users\\scott\\anaconda3\\lib\\site-packages (from matplotlib->wordcloud) (1.3.1)\n",
      "Requirement already satisfied: cycler>=0.10 in c:\\users\\scott\\anaconda3\\lib\\site-packages (from matplotlib->wordcloud) (0.10.0)\n",
      "Requirement already satisfied: python-dateutil>=2.7 in c:\\users\\scott\\anaconda3\\lib\\site-packages (from matplotlib->wordcloud) (2.8.2)\n",
      "Requirement already satisfied: six in c:\\users\\scott\\anaconda3\\lib\\site-packages (from cycler>=0.10->matplotlib->wordcloud) (1.16.0)\n",
      "Building wheels for collected packages: wordcloud\n",
      "  Building wheel for wordcloud (setup.py): started\n",
      "  Building wheel for wordcloud (setup.py): finished with status 'error'\n",
      "  Running setup.py clean for wordcloud\n",
      "Failed to build wordcloud\n",
      "Installing collected packages: wordcloud\n",
      "    Running setup.py install for wordcloud: started\n",
      "    Running setup.py install for wordcloud: finished with status 'error'\n"
     ]
    },
    {
     "name": "stderr",
     "output_type": "stream",
     "text": [
      "  ERROR: Command errored out with exit status 1:\n",
      "   command: 'C:\\Users\\scott\\anaconda3\\python.exe' -u -c 'import io, os, sys, setuptools, tokenize; sys.argv[0] = '\"'\"'C:\\\\Users\\\\scott\\\\AppData\\\\Local\\\\Temp\\\\pip-install-7u1h13pr\\\\wordcloud_3f04d3ff64b748969d6a49a234c74933\\\\setup.py'\"'\"'; __file__='\"'\"'C:\\\\Users\\\\scott\\\\AppData\\\\Local\\\\Temp\\\\pip-install-7u1h13pr\\\\wordcloud_3f04d3ff64b748969d6a49a234c74933\\\\setup.py'\"'\"';f = getattr(tokenize, '\"'\"'open'\"'\"', open)(__file__) if os.path.exists(__file__) else io.StringIO('\"'\"'from setuptools import setup; setup()'\"'\"');code = f.read().replace('\"'\"'\\r\\n'\"'\"', '\"'\"'\\n'\"'\"');f.close();exec(compile(code, __file__, '\"'\"'exec'\"'\"'))' bdist_wheel -d 'C:\\Users\\scott\\AppData\\Local\\Temp\\pip-wheel-gsrdcqb2'\n",
      "       cwd: C:\\Users\\scott\\AppData\\Local\\Temp\\pip-install-7u1h13pr\\wordcloud_3f04d3ff64b748969d6a49a234c74933\\\n",
      "  Complete output (20 lines):\n",
      "  running bdist_wheel\n",
      "  running build\n",
      "  running build_py\n",
      "  creating build\n",
      "  creating build\\lib.win-amd64-3.9\n",
      "  creating build\\lib.win-amd64-3.9\\wordcloud\n",
      "  copying wordcloud\\color_from_image.py -> build\\lib.win-amd64-3.9\\wordcloud\n",
      "  copying wordcloud\\tokenization.py -> build\\lib.win-amd64-3.9\\wordcloud\n",
      "  copying wordcloud\\wordcloud.py -> build\\lib.win-amd64-3.9\\wordcloud\n",
      "  copying wordcloud\\wordcloud_cli.py -> build\\lib.win-amd64-3.9\\wordcloud\n",
      "  copying wordcloud\\_version.py -> build\\lib.win-amd64-3.9\\wordcloud\n",
      "  copying wordcloud\\__init__.py -> build\\lib.win-amd64-3.9\\wordcloud\n",
      "  copying wordcloud\\__main__.py -> build\\lib.win-amd64-3.9\\wordcloud\n",
      "  copying wordcloud\\stopwords -> build\\lib.win-amd64-3.9\\wordcloud\n",
      "  copying wordcloud\\DroidSansMono.ttf -> build\\lib.win-amd64-3.9\\wordcloud\n",
      "  UPDATING build\\lib.win-amd64-3.9\\wordcloud/_version.py\n",
      "  set build\\lib.win-amd64-3.9\\wordcloud/_version.py to '1.8.1'\n",
      "  running build_ext\n",
      "  building 'wordcloud.query_integral_image' extension\n",
      "  error: Microsoft Visual C++ 14.0 or greater is required. Get it with \"Microsoft C++ Build Tools\": https://visualstudio.microsoft.com/visual-cpp-build-tools/\n",
      "  ----------------------------------------\n",
      "  ERROR: Failed building wheel for wordcloud\n",
      "    ERROR: Command errored out with exit status 1:\n",
      "     command: 'C:\\Users\\scott\\anaconda3\\python.exe' -u -c 'import io, os, sys, setuptools, tokenize; sys.argv[0] = '\"'\"'C:\\\\Users\\\\scott\\\\AppData\\\\Local\\\\Temp\\\\pip-install-7u1h13pr\\\\wordcloud_3f04d3ff64b748969d6a49a234c74933\\\\setup.py'\"'\"'; __file__='\"'\"'C:\\\\Users\\\\scott\\\\AppData\\\\Local\\\\Temp\\\\pip-install-7u1h13pr\\\\wordcloud_3f04d3ff64b748969d6a49a234c74933\\\\setup.py'\"'\"';f = getattr(tokenize, '\"'\"'open'\"'\"', open)(__file__) if os.path.exists(__file__) else io.StringIO('\"'\"'from setuptools import setup; setup()'\"'\"');code = f.read().replace('\"'\"'\\r\\n'\"'\"', '\"'\"'\\n'\"'\"');f.close();exec(compile(code, __file__, '\"'\"'exec'\"'\"'))' install --record 'C:\\Users\\scott\\AppData\\Local\\Temp\\pip-record-togt0hbn\\install-record.txt' --single-version-externally-managed --compile --install-headers 'C:\\Users\\scott\\anaconda3\\Include\\wordcloud'\n",
      "         cwd: C:\\Users\\scott\\AppData\\Local\\Temp\\pip-install-7u1h13pr\\wordcloud_3f04d3ff64b748969d6a49a234c74933\\\n",
      "    Complete output (20 lines):\n",
      "    running install\n",
      "    running build\n",
      "    running build_py\n",
      "    creating build\n",
      "    creating build\\lib.win-amd64-3.9\n",
      "    creating build\\lib.win-amd64-3.9\\wordcloud\n",
      "    copying wordcloud\\color_from_image.py -> build\\lib.win-amd64-3.9\\wordcloud\n",
      "    copying wordcloud\\tokenization.py -> build\\lib.win-amd64-3.9\\wordcloud\n",
      "    copying wordcloud\\wordcloud.py -> build\\lib.win-amd64-3.9\\wordcloud\n",
      "    copying wordcloud\\wordcloud_cli.py -> build\\lib.win-amd64-3.9\\wordcloud\n",
      "    copying wordcloud\\_version.py -> build\\lib.win-amd64-3.9\\wordcloud\n",
      "    copying wordcloud\\__init__.py -> build\\lib.win-amd64-3.9\\wordcloud\n",
      "    copying wordcloud\\__main__.py -> build\\lib.win-amd64-3.9\\wordcloud\n",
      "    copying wordcloud\\stopwords -> build\\lib.win-amd64-3.9\\wordcloud\n",
      "    copying wordcloud\\DroidSansMono.ttf -> build\\lib.win-amd64-3.9\\wordcloud\n",
      "    UPDATING build\\lib.win-amd64-3.9\\wordcloud/_version.py\n",
      "    set build\\lib.win-amd64-3.9\\wordcloud/_version.py to '1.8.1'\n",
      "    running build_ext\n",
      "    building 'wordcloud.query_integral_image' extension\n",
      "    error: Microsoft Visual C++ 14.0 or greater is required. Get it with \"Microsoft C++ Build Tools\": https://visualstudio.microsoft.com/visual-cpp-build-tools/\n",
      "    ----------------------------------------\n",
      "ERROR: Command errored out with exit status 1: 'C:\\Users\\scott\\anaconda3\\python.exe' -u -c 'import io, os, sys, setuptools, tokenize; sys.argv[0] = '\"'\"'C:\\\\Users\\\\scott\\\\AppData\\\\Local\\\\Temp\\\\pip-install-7u1h13pr\\\\wordcloud_3f04d3ff64b748969d6a49a234c74933\\\\setup.py'\"'\"'; __file__='\"'\"'C:\\\\Users\\\\scott\\\\AppData\\\\Local\\\\Temp\\\\pip-install-7u1h13pr\\\\wordcloud_3f04d3ff64b748969d6a49a234c74933\\\\setup.py'\"'\"';f = getattr(tokenize, '\"'\"'open'\"'\"', open)(__file__) if os.path.exists(__file__) else io.StringIO('\"'\"'from setuptools import setup; setup()'\"'\"');code = f.read().replace('\"'\"'\\r\\n'\"'\"', '\"'\"'\\n'\"'\"');f.close();exec(compile(code, __file__, '\"'\"'exec'\"'\"'))' install --record 'C:\\Users\\scott\\AppData\\Local\\Temp\\pip-record-togt0hbn\\install-record.txt' --single-version-externally-managed --compile --install-headers 'C:\\Users\\scott\\anaconda3\\Include\\wordcloud' Check the logs for full command output.\n"
     ]
    }
   ],
   "source": [
    "import pandas as pd\n",
    "import matplotlib.pyplot as plt\n",
    "import seaborn as sns\n",
    "!pip install tabulate\n",
    "from tabulate import tabulate\n",
    "pip install wordcloud"
   ]
  },
  {
   "cell_type": "markdown",
   "id": "b4d06604",
   "metadata": {},
   "source": [
    "### Airline CSV"
   ]
  },
  {
   "cell_type": "code",
   "execution_count": 2,
   "id": "0b31dec6",
   "metadata": {},
   "outputs": [
    {
     "data": {
      "text/html": [
       "<div>\n",
       "<style scoped>\n",
       "    .dataframe tbody tr th:only-of-type {\n",
       "        vertical-align: middle;\n",
       "    }\n",
       "\n",
       "    .dataframe tbody tr th {\n",
       "        vertical-align: top;\n",
       "    }\n",
       "\n",
       "    .dataframe thead th {\n",
       "        text-align: right;\n",
       "    }\n",
       "</style>\n",
       "<table border=\"1\" class=\"dataframe\">\n",
       "  <thead>\n",
       "    <tr style=\"text-align: right;\">\n",
       "      <th></th>\n",
       "      <th>Airline ID</th>\n",
       "      <th>Name</th>\n",
       "      <th>Alias</th>\n",
       "      <th>IATA</th>\n",
       "      <th>ICAO</th>\n",
       "      <th>Callsign</th>\n",
       "      <th>Country</th>\n",
       "      <th>Active</th>\n",
       "    </tr>\n",
       "  </thead>\n",
       "  <tbody>\n",
       "    <tr>\n",
       "      <th>6157</th>\n",
       "      <td>21248</td>\n",
       "      <td>GX Airlines</td>\n",
       "      <td>NaN</td>\n",
       "      <td>NaN</td>\n",
       "      <td>CBG</td>\n",
       "      <td>SPRAY</td>\n",
       "      <td>China</td>\n",
       "      <td>Y</td>\n",
       "    </tr>\n",
       "    <tr>\n",
       "      <th>6158</th>\n",
       "      <td>21251</td>\n",
       "      <td>Lynx Aviation (L3/SSX)</td>\n",
       "      <td>NaN</td>\n",
       "      <td>NaN</td>\n",
       "      <td>SSX</td>\n",
       "      <td>Shasta</td>\n",
       "      <td>United States</td>\n",
       "      <td>N</td>\n",
       "    </tr>\n",
       "    <tr>\n",
       "      <th>6159</th>\n",
       "      <td>21268</td>\n",
       "      <td>Jetgo Australia</td>\n",
       "      <td>NaN</td>\n",
       "      <td>JG</td>\n",
       "      <td>\\N</td>\n",
       "      <td>NaN</td>\n",
       "      <td>Australia</td>\n",
       "      <td>Y</td>\n",
       "    </tr>\n",
       "    <tr>\n",
       "      <th>6160</th>\n",
       "      <td>21270</td>\n",
       "      <td>Air Carnival</td>\n",
       "      <td>NaN</td>\n",
       "      <td>2S</td>\n",
       "      <td>\\N</td>\n",
       "      <td>NaN</td>\n",
       "      <td>India</td>\n",
       "      <td>Y</td>\n",
       "    </tr>\n",
       "    <tr>\n",
       "      <th>6161</th>\n",
       "      <td>21317</td>\n",
       "      <td>Svyaz Rossiya</td>\n",
       "      <td>Russian Commuter</td>\n",
       "      <td>7R</td>\n",
       "      <td>SJM</td>\n",
       "      <td>RussianConnecty</td>\n",
       "      <td>Russia</td>\n",
       "      <td>Y</td>\n",
       "    </tr>\n",
       "  </tbody>\n",
       "</table>\n",
       "</div>"
      ],
      "text/plain": [
       "      Airline ID                    Name              Alias IATA ICAO  \\\n",
       "6157       21248             GX Airlines                NaN  NaN  CBG   \n",
       "6158       21251  Lynx Aviation (L3/SSX)                NaN  NaN  SSX   \n",
       "6159       21268         Jetgo Australia                NaN   JG   \\N   \n",
       "6160       21270            Air Carnival                NaN   2S   \\N   \n",
       "6161       21317           Svyaz Rossiya  Russian Commuter    7R  SJM   \n",
       "\n",
       "             Callsign        Country Active  \n",
       "6157            SPRAY          China      Y  \n",
       "6158           Shasta  United States      N  \n",
       "6159              NaN      Australia      Y  \n",
       "6160              NaN          India      Y  \n",
       "6161  RussianConnecty         Russia      Y  "
      ]
     },
     "execution_count": 2,
     "metadata": {},
     "output_type": "execute_result"
    }
   ],
   "source": [
    "airlines = pd.read_csv('../Data/airlines.csv')\n",
    "airlines.tail()"
   ]
  },
  {
   "cell_type": "code",
   "execution_count": 3,
   "id": "2d681edd",
   "metadata": {},
   "outputs": [
    {
     "data": {
      "text/plain": [
       "Index(['Airline ID', 'Name', 'Alias', 'IATA', 'ICAO', 'Callsign', 'Country',\n",
       "       'Active'],\n",
       "      dtype='object')"
      ]
     },
     "execution_count": 3,
     "metadata": {},
     "output_type": "execute_result"
    }
   ],
   "source": [
    "airlines.columns"
   ]
  },
  {
   "cell_type": "code",
   "execution_count": 4,
   "id": "7eea0c96",
   "metadata": {},
   "outputs": [
    {
     "data": {
      "text/plain": [
       "(6162, 8)"
      ]
     },
     "execution_count": 4,
     "metadata": {},
     "output_type": "execute_result"
    }
   ],
   "source": [
    "#how many rows?\n",
    "airlines.shape"
   ]
  },
  {
   "cell_type": "code",
   "execution_count": 5,
   "id": "483e0f52",
   "metadata": {},
   "outputs": [
    {
     "data": {
      "text/plain": [
       "Airline ID       0\n",
       "Name             0\n",
       "Alias          506\n",
       "IATA          4627\n",
       "ICAO            87\n",
       "Callsign       808\n",
       "Country         15\n",
       "Active           0\n",
       "dtype: int64"
      ]
     },
     "execution_count": 5,
     "metadata": {},
     "output_type": "execute_result"
    }
   ],
   "source": [
    "airlines.isnull().sum()"
   ]
  },
  {
   "cell_type": "code",
   "execution_count": 6,
   "id": "c352035f",
   "metadata": {},
   "outputs": [],
   "source": [
    "#drop Alias column\n",
    "airlines.drop('Alias', axis=1, inplace=True)\n",
    "airlines.drop('Callsign', axis=1, inplace=True)\n",
    "#airlines.head()"
   ]
  },
  {
   "cell_type": "code",
   "execution_count": 7,
   "id": "77c845d8",
   "metadata": {},
   "outputs": [
    {
     "data": {
      "text/html": [
       "<div>\n",
       "<style scoped>\n",
       "    .dataframe tbody tr th:only-of-type {\n",
       "        vertical-align: middle;\n",
       "    }\n",
       "\n",
       "    .dataframe tbody tr th {\n",
       "        vertical-align: top;\n",
       "    }\n",
       "\n",
       "    .dataframe thead th {\n",
       "        text-align: right;\n",
       "    }\n",
       "</style>\n",
       "<table border=\"1\" class=\"dataframe\">\n",
       "  <thead>\n",
       "    <tr style=\"text-align: right;\">\n",
       "      <th></th>\n",
       "      <th>Airline ID</th>\n",
       "      <th>Name</th>\n",
       "      <th>IATA</th>\n",
       "      <th>ICAO</th>\n",
       "      <th>Country</th>\n",
       "      <th>Active</th>\n",
       "    </tr>\n",
       "  </thead>\n",
       "  <tbody>\n",
       "    <tr>\n",
       "      <th>6154</th>\n",
       "      <td>21179</td>\n",
       "      <td>Thai Vietjet Air</td>\n",
       "      <td>NaN</td>\n",
       "      <td>TVJ</td>\n",
       "      <td>Thailand</td>\n",
       "      <td>Y</td>\n",
       "    </tr>\n",
       "    <tr>\n",
       "      <th>6157</th>\n",
       "      <td>21248</td>\n",
       "      <td>GX Airlines</td>\n",
       "      <td>NaN</td>\n",
       "      <td>CBG</td>\n",
       "      <td>China</td>\n",
       "      <td>Y</td>\n",
       "    </tr>\n",
       "    <tr>\n",
       "      <th>6159</th>\n",
       "      <td>21268</td>\n",
       "      <td>Jetgo Australia</td>\n",
       "      <td>JG</td>\n",
       "      <td>\\N</td>\n",
       "      <td>Australia</td>\n",
       "      <td>Y</td>\n",
       "    </tr>\n",
       "    <tr>\n",
       "      <th>6160</th>\n",
       "      <td>21270</td>\n",
       "      <td>Air Carnival</td>\n",
       "      <td>2S</td>\n",
       "      <td>\\N</td>\n",
       "      <td>India</td>\n",
       "      <td>Y</td>\n",
       "    </tr>\n",
       "    <tr>\n",
       "      <th>6161</th>\n",
       "      <td>21317</td>\n",
       "      <td>Svyaz Rossiya</td>\n",
       "      <td>7R</td>\n",
       "      <td>SJM</td>\n",
       "      <td>Russia</td>\n",
       "      <td>Y</td>\n",
       "    </tr>\n",
       "  </tbody>\n",
       "</table>\n",
       "</div>"
      ],
      "text/plain": [
       "      Airline ID              Name IATA ICAO    Country Active\n",
       "6154       21179  Thai Vietjet Air  NaN  TVJ   Thailand      Y\n",
       "6157       21248       GX Airlines  NaN  CBG      China      Y\n",
       "6159       21268   Jetgo Australia   JG   \\N  Australia      Y\n",
       "6160       21270      Air Carnival   2S   \\N      India      Y\n",
       "6161       21317     Svyaz Rossiya   7R  SJM     Russia      Y"
      ]
     },
     "execution_count": 7,
     "metadata": {},
     "output_type": "execute_result"
    }
   ],
   "source": [
    "#subset for active airlines\n",
    "airlines = airlines[airlines['Active']=='Y']\n",
    "airlines.tail()"
   ]
  },
  {
   "cell_type": "code",
   "execution_count": 8,
   "id": "799cd2d8",
   "metadata": {},
   "outputs": [
    {
     "data": {
      "text/html": [
       "<div>\n",
       "<style scoped>\n",
       "    .dataframe tbody tr th:only-of-type {\n",
       "        vertical-align: middle;\n",
       "    }\n",
       "\n",
       "    .dataframe tbody tr th {\n",
       "        vertical-align: top;\n",
       "    }\n",
       "\n",
       "    .dataframe thead th {\n",
       "        text-align: right;\n",
       "    }\n",
       "</style>\n",
       "<table border=\"1\" class=\"dataframe\">\n",
       "  <thead>\n",
       "    <tr style=\"text-align: right;\">\n",
       "      <th></th>\n",
       "      <th>AirLine_ID_al</th>\n",
       "      <th>Name_al</th>\n",
       "      <th>IATA_al</th>\n",
       "      <th>ICAO_al</th>\n",
       "      <th>Country_al</th>\n",
       "      <th>Active_al</th>\n",
       "    </tr>\n",
       "  </thead>\n",
       "  <tbody>\n",
       "    <tr>\n",
       "      <th>0</th>\n",
       "      <td>-1</td>\n",
       "      <td>Unknown</td>\n",
       "      <td>-</td>\n",
       "      <td>NaN</td>\n",
       "      <td>\\N</td>\n",
       "      <td>Y</td>\n",
       "    </tr>\n",
       "    <tr>\n",
       "      <th>1</th>\n",
       "      <td>1</td>\n",
       "      <td>Private flight</td>\n",
       "      <td>-</td>\n",
       "      <td>NaN</td>\n",
       "      <td>NaN</td>\n",
       "      <td>Y</td>\n",
       "    </tr>\n",
       "  </tbody>\n",
       "</table>\n",
       "</div>"
      ],
      "text/plain": [
       "   AirLine_ID_al         Name_al IATA_al ICAO_al Country_al Active_al\n",
       "0             -1         Unknown       -     NaN         \\N         Y\n",
       "1              1  Private flight       -     NaN        NaN         Y"
      ]
     },
     "execution_count": 8,
     "metadata": {},
     "output_type": "execute_result"
    }
   ],
   "source": [
    "airlines.rename(columns = {'Airline ID':'AirLine_ID_al','Name':'Name_al', 'IATA':'IATA_al', 'ICAO':'ICAO_al','Country':'Country_al', 'Active':'Active_al'}, inplace=True)\n",
    "airlines.head(2)\n",
    "#unknown and private, etc., will drop out when joined with delays"
   ]
  },
  {
   "cell_type": "code",
   "execution_count": null,
   "id": "99b6d12a",
   "metadata": {},
   "outputs": [],
   "source": []
  },
  {
   "cell_type": "code",
   "execution_count": 9,
   "id": "4732c3ab",
   "metadata": {},
   "outputs": [
    {
     "data": {
      "text/plain": [
       "(1255, 6)"
      ]
     },
     "execution_count": 9,
     "metadata": {},
     "output_type": "execute_result"
    }
   ],
   "source": [
    "airlines.shape"
   ]
  },
  {
   "cell_type": "code",
   "execution_count": 10,
   "id": "08bbfa4e",
   "metadata": {},
   "outputs": [
    {
     "data": {
      "text/plain": [
       "AirLine_ID_al      0\n",
       "Name_al            0\n",
       "IATA_al          240\n",
       "ICAO_al           29\n",
       "Country_al         2\n",
       "Active_al          0\n",
       "dtype: int64"
      ]
     },
     "execution_count": 10,
     "metadata": {},
     "output_type": "execute_result"
    }
   ],
   "source": [
    "airlines.isnull().sum()"
   ]
  },
  {
   "cell_type": "code",
   "execution_count": 103,
   "id": "1d4faee0",
   "metadata": {},
   "outputs": [
    {
     "data": {
      "text/plain": [
       "array(['Unknown', 'Private flight', '1Time Airline', ...,\n",
       "       'Jetgo Australia', 'Air Carnival', 'Svyaz Rossiya'], dtype=object)"
      ]
     },
     "execution_count": 103,
     "metadata": {},
     "output_type": "execute_result"
    }
   ],
   "source": [
    "airlines.Name_al.unique()"
   ]
  },
  {
   "cell_type": "code",
   "execution_count": 11,
   "id": "caf5ff85",
   "metadata": {},
   "outputs": [],
   "source": [
    "#print(tabulate(airlines, headers='keys', tablefmt='pretty'))"
   ]
  },
  {
   "cell_type": "code",
   "execution_count": 12,
   "id": "57490f29",
   "metadata": {},
   "outputs": [],
   "source": [
    "#pd.set_option('display.max_rows', None)\n",
    "#pd.set_option('display.max_columns', None)\n",
    "#pd.set_option('display.width', None)\n",
    "#pd.set_option('display.max_colwidth', -1)"
   ]
  },
  {
   "cell_type": "code",
   "execution_count": 13,
   "id": "29946bcd",
   "metadata": {},
   "outputs": [],
   "source": [
    "#airlines['newname'] = airlines['Name']\n",
    "#airlines.head(10)"
   ]
  },
  {
   "cell_type": "code",
   "execution_count": 14,
   "id": "c789969e",
   "metadata": {},
   "outputs": [],
   "source": [
    "#airlines['newname'] = airlines['newname'].str.replace('-',' ')\n",
    "#airlines.head()"
   ]
  },
  {
   "cell_type": "code",
   "execution_count": 15,
   "id": "0bd65e34",
   "metadata": {},
   "outputs": [],
   "source": [
    "#airlines['newname'] = airlines['newname'].str.extract(r'(\\w+\\s+\\w+)')\n",
    "#airlines.head()"
   ]
  },
  {
   "cell_type": "markdown",
   "id": "64cdb106",
   "metadata": {},
   "source": [
    "### FAA Regions"
   ]
  },
  {
   "cell_type": "code",
   "execution_count": 16,
   "id": "469a4295",
   "metadata": {},
   "outputs": [
    {
     "data": {
      "text/html": [
       "<div>\n",
       "<style scoped>\n",
       "    .dataframe tbody tr th:only-of-type {\n",
       "        vertical-align: middle;\n",
       "    }\n",
       "\n",
       "    .dataframe tbody tr th {\n",
       "        vertical-align: top;\n",
       "    }\n",
       "\n",
       "    .dataframe thead th {\n",
       "        text-align: right;\n",
       "    }\n",
       "</style>\n",
       "<table border=\"1\" class=\"dataframe\">\n",
       "  <thead>\n",
       "    <tr style=\"text-align: right;\">\n",
       "      <th></th>\n",
       "      <th>FID</th>\n",
       "      <th>REGION</th>\n",
       "      <th>CNT_REGION</th>\n",
       "      <th>Shape_Leng</th>\n",
       "      <th>Shape_Area</th>\n",
       "    </tr>\n",
       "  </thead>\n",
       "  <tbody>\n",
       "    <tr>\n",
       "      <th>0</th>\n",
       "      <td>1</td>\n",
       "      <td>New England Region</td>\n",
       "      <td>6</td>\n",
       "      <td>152.233742</td>\n",
       "      <td>19.099946</td>\n",
       "    </tr>\n",
       "    <tr>\n",
       "      <th>1</th>\n",
       "      <td>2</td>\n",
       "      <td>Central Region</td>\n",
       "      <td>4</td>\n",
       "      <td>51.318016</td>\n",
       "      <td>78.091215</td>\n",
       "    </tr>\n",
       "    <tr>\n",
       "      <th>2</th>\n",
       "      <td>3</td>\n",
       "      <td>Southern Region</td>\n",
       "      <td>8</td>\n",
       "      <td>471.324583</td>\n",
       "      <td>94.856190</td>\n",
       "    </tr>\n",
       "    <tr>\n",
       "      <th>3</th>\n",
       "      <td>4</td>\n",
       "      <td>Western Pacific Region</td>\n",
       "      <td>4</td>\n",
       "      <td>94.202014</td>\n",
       "      <td>101.933953</td>\n",
       "    </tr>\n",
       "    <tr>\n",
       "      <th>4</th>\n",
       "      <td>5</td>\n",
       "      <td>Southwest Region</td>\n",
       "      <td>5</td>\n",
       "      <td>428.811114</td>\n",
       "      <td>138.650729</td>\n",
       "    </tr>\n",
       "    <tr>\n",
       "      <th>5</th>\n",
       "      <td>6</td>\n",
       "      <td>Great Lakes Region</td>\n",
       "      <td>8</td>\n",
       "      <td>189.109110</td>\n",
       "      <td>139.986989</td>\n",
       "    </tr>\n",
       "    <tr>\n",
       "      <th>6</th>\n",
       "      <td>7</td>\n",
       "      <td>Eastern Region</td>\n",
       "      <td>8</td>\n",
       "      <td>308.913778</td>\n",
       "      <td>48.682795</td>\n",
       "    </tr>\n",
       "    <tr>\n",
       "      <th>7</th>\n",
       "      <td>8</td>\n",
       "      <td>Northwest Mountain Region</td>\n",
       "      <td>7</td>\n",
       "      <td>151.363696</td>\n",
       "      <td>197.475811</td>\n",
       "    </tr>\n",
       "    <tr>\n",
       "      <th>8</th>\n",
       "      <td>9</td>\n",
       "      <td>Alaska Region</td>\n",
       "      <td>1</td>\n",
       "      <td>1033.192985</td>\n",
       "      <td>278.612678</td>\n",
       "    </tr>\n",
       "  </tbody>\n",
       "</table>\n",
       "</div>"
      ],
      "text/plain": [
       "   FID                     REGION  CNT_REGION   Shape_Leng  Shape_Area\n",
       "0    1         New England Region           6   152.233742   19.099946\n",
       "1    2             Central Region           4    51.318016   78.091215\n",
       "2    3            Southern Region           8   471.324583   94.856190\n",
       "3    4     Western Pacific Region           4    94.202014  101.933953\n",
       "4    5           Southwest Region           5   428.811114  138.650729\n",
       "5    6         Great Lakes Region           8   189.109110  139.986989\n",
       "6    7             Eastern Region           8   308.913778   48.682795\n",
       "7    8  Northwest Mountain Region           7   151.363696  197.475811\n",
       "8    9              Alaska Region           1  1033.192985  278.612678"
      ]
     },
     "execution_count": 16,
     "metadata": {},
     "output_type": "execute_result"
    }
   ],
   "source": [
    "FAA_Regions = pd.read_csv('../Data/Federal_Aviation_Administration_FAA_Regions.csv')\n",
    "FAA_Regions.head(11)"
   ]
  },
  {
   "cell_type": "code",
   "execution_count": 17,
   "id": "baf51aae",
   "metadata": {},
   "outputs": [
    {
     "data": {
      "text/plain": [
       "Index(['FID', 'REGION', 'CNT_REGION', 'Shape_Leng', 'Shape_Area'], dtype='object')"
      ]
     },
     "execution_count": 17,
     "metadata": {},
     "output_type": "execute_result"
    }
   ],
   "source": [
    "FAA_Regions.columns"
   ]
  },
  {
   "cell_type": "markdown",
   "id": "319b4943",
   "metadata": {},
   "source": [
    "### Airports"
   ]
  },
  {
   "cell_type": "code",
   "execution_count": null,
   "id": "6d909b59",
   "metadata": {},
   "outputs": [],
   "source": []
  },
  {
   "cell_type": "code",
   "execution_count": 18,
   "id": "8030f190",
   "metadata": {},
   "outputs": [
    {
     "data": {
      "text/html": [
       "<div>\n",
       "<style scoped>\n",
       "    .dataframe tbody tr th:only-of-type {\n",
       "        vertical-align: middle;\n",
       "    }\n",
       "\n",
       "    .dataframe tbody tr th {\n",
       "        vertical-align: top;\n",
       "    }\n",
       "\n",
       "    .dataframe thead th {\n",
       "        text-align: right;\n",
       "    }\n",
       "</style>\n",
       "<table border=\"1\" class=\"dataframe\">\n",
       "  <thead>\n",
       "    <tr style=\"text-align: right;\">\n",
       "      <th></th>\n",
       "      <th>Airport ID</th>\n",
       "      <th>Name</th>\n",
       "      <th>City</th>\n",
       "      <th>Country</th>\n",
       "      <th>IATA</th>\n",
       "      <th>ICAO</th>\n",
       "      <th>Latitude</th>\n",
       "      <th>Longitude</th>\n",
       "      <th>Altitude</th>\n",
       "      <th>Timezone</th>\n",
       "      <th>DST</th>\n",
       "      <th>Tz database time zone</th>\n",
       "      <th>Type</th>\n",
       "      <th>Source</th>\n",
       "    </tr>\n",
       "  </thead>\n",
       "  <tbody>\n",
       "    <tr>\n",
       "      <th>0</th>\n",
       "      <td>1</td>\n",
       "      <td>Goroka Airport</td>\n",
       "      <td>Goroka</td>\n",
       "      <td>Papua New Guinea</td>\n",
       "      <td>GKA</td>\n",
       "      <td>AYGA</td>\n",
       "      <td>-6.081690</td>\n",
       "      <td>145.391998</td>\n",
       "      <td>5282</td>\n",
       "      <td>10</td>\n",
       "      <td>U</td>\n",
       "      <td>Pacific/Port_Moresby</td>\n",
       "      <td>airport</td>\n",
       "      <td>OurAirports</td>\n",
       "    </tr>\n",
       "    <tr>\n",
       "      <th>1</th>\n",
       "      <td>2</td>\n",
       "      <td>Madang Airport</td>\n",
       "      <td>Madang</td>\n",
       "      <td>Papua New Guinea</td>\n",
       "      <td>MAG</td>\n",
       "      <td>AYMD</td>\n",
       "      <td>-5.207080</td>\n",
       "      <td>145.789001</td>\n",
       "      <td>20</td>\n",
       "      <td>10</td>\n",
       "      <td>U</td>\n",
       "      <td>Pacific/Port_Moresby</td>\n",
       "      <td>airport</td>\n",
       "      <td>OurAirports</td>\n",
       "    </tr>\n",
       "    <tr>\n",
       "      <th>2</th>\n",
       "      <td>3</td>\n",
       "      <td>Mount Hagen Kagamuga Airport</td>\n",
       "      <td>Mount Hagen</td>\n",
       "      <td>Papua New Guinea</td>\n",
       "      <td>HGU</td>\n",
       "      <td>AYMH</td>\n",
       "      <td>-5.826790</td>\n",
       "      <td>144.296005</td>\n",
       "      <td>5388</td>\n",
       "      <td>10</td>\n",
       "      <td>U</td>\n",
       "      <td>Pacific/Port_Moresby</td>\n",
       "      <td>airport</td>\n",
       "      <td>OurAirports</td>\n",
       "    </tr>\n",
       "    <tr>\n",
       "      <th>3</th>\n",
       "      <td>4</td>\n",
       "      <td>Nadzab Airport</td>\n",
       "      <td>Nadzab</td>\n",
       "      <td>Papua New Guinea</td>\n",
       "      <td>LAE</td>\n",
       "      <td>AYNZ</td>\n",
       "      <td>-6.569803</td>\n",
       "      <td>146.725977</td>\n",
       "      <td>239</td>\n",
       "      <td>10</td>\n",
       "      <td>U</td>\n",
       "      <td>Pacific/Port_Moresby</td>\n",
       "      <td>airport</td>\n",
       "      <td>OurAirports</td>\n",
       "    </tr>\n",
       "    <tr>\n",
       "      <th>4</th>\n",
       "      <td>5</td>\n",
       "      <td>Port Moresby Jacksons International Airport</td>\n",
       "      <td>Port Moresby</td>\n",
       "      <td>Papua New Guinea</td>\n",
       "      <td>POM</td>\n",
       "      <td>AYPY</td>\n",
       "      <td>-9.443380</td>\n",
       "      <td>147.220001</td>\n",
       "      <td>146</td>\n",
       "      <td>10</td>\n",
       "      <td>U</td>\n",
       "      <td>Pacific/Port_Moresby</td>\n",
       "      <td>airport</td>\n",
       "      <td>OurAirports</td>\n",
       "    </tr>\n",
       "  </tbody>\n",
       "</table>\n",
       "</div>"
      ],
      "text/plain": [
       "   Airport ID                                         Name          City  \\\n",
       "0           1                               Goroka Airport        Goroka   \n",
       "1           2                               Madang Airport        Madang   \n",
       "2           3                 Mount Hagen Kagamuga Airport   Mount Hagen   \n",
       "3           4                               Nadzab Airport        Nadzab   \n",
       "4           5  Port Moresby Jacksons International Airport  Port Moresby   \n",
       "\n",
       "            Country IATA  ICAO  Latitude   Longitude  Altitude Timezone DST  \\\n",
       "0  Papua New Guinea  GKA  AYGA -6.081690  145.391998      5282       10   U   \n",
       "1  Papua New Guinea  MAG  AYMD -5.207080  145.789001        20       10   U   \n",
       "2  Papua New Guinea  HGU  AYMH -5.826790  144.296005      5388       10   U   \n",
       "3  Papua New Guinea  LAE  AYNZ -6.569803  146.725977       239       10   U   \n",
       "4  Papua New Guinea  POM  AYPY -9.443380  147.220001       146       10   U   \n",
       "\n",
       "  Tz database time zone     Type       Source  \n",
       "0  Pacific/Port_Moresby  airport  OurAirports  \n",
       "1  Pacific/Port_Moresby  airport  OurAirports  \n",
       "2  Pacific/Port_Moresby  airport  OurAirports  \n",
       "3  Pacific/Port_Moresby  airport  OurAirports  \n",
       "4  Pacific/Port_Moresby  airport  OurAirports  "
      ]
     },
     "execution_count": 18,
     "metadata": {},
     "output_type": "execute_result"
    }
   ],
   "source": [
    "airports = pd.read_csv('../Data/Airports.csv')\n",
    "airports.head()"
   ]
  },
  {
   "cell_type": "code",
   "execution_count": 19,
   "id": "f194201b",
   "metadata": {},
   "outputs": [
    {
     "data": {
      "text/html": [
       "<div>\n",
       "<style scoped>\n",
       "    .dataframe tbody tr th:only-of-type {\n",
       "        vertical-align: middle;\n",
       "    }\n",
       "\n",
       "    .dataframe tbody tr th {\n",
       "        vertical-align: top;\n",
       "    }\n",
       "\n",
       "    .dataframe thead th {\n",
       "        text-align: right;\n",
       "    }\n",
       "</style>\n",
       "<table border=\"1\" class=\"dataframe\">\n",
       "  <thead>\n",
       "    <tr style=\"text-align: right;\">\n",
       "      <th></th>\n",
       "      <th>Airport ID</th>\n",
       "      <th>Name</th>\n",
       "      <th>City</th>\n",
       "      <th>Country</th>\n",
       "      <th>IATA</th>\n",
       "      <th>ICAO</th>\n",
       "      <th>Latitude</th>\n",
       "      <th>Longitude</th>\n",
       "      <th>Altitude</th>\n",
       "      <th>Timezone</th>\n",
       "      <th>DST</th>\n",
       "      <th>Tz database time zone</th>\n",
       "      <th>Source</th>\n",
       "    </tr>\n",
       "    <tr>\n",
       "      <th>Type</th>\n",
       "      <th></th>\n",
       "      <th></th>\n",
       "      <th></th>\n",
       "      <th></th>\n",
       "      <th></th>\n",
       "      <th></th>\n",
       "      <th></th>\n",
       "      <th></th>\n",
       "      <th></th>\n",
       "      <th></th>\n",
       "      <th></th>\n",
       "      <th></th>\n",
       "      <th></th>\n",
       "    </tr>\n",
       "  </thead>\n",
       "  <tbody>\n",
       "    <tr>\n",
       "      <th>airport</th>\n",
       "      <td>7698</td>\n",
       "      <td>7698</td>\n",
       "      <td>7649</td>\n",
       "      <td>7698</td>\n",
       "      <td>7698</td>\n",
       "      <td>7698</td>\n",
       "      <td>7698</td>\n",
       "      <td>7698</td>\n",
       "      <td>7698</td>\n",
       "      <td>7698</td>\n",
       "      <td>7698</td>\n",
       "      <td>7698</td>\n",
       "      <td>7698</td>\n",
       "    </tr>\n",
       "  </tbody>\n",
       "</table>\n",
       "</div>"
      ],
      "text/plain": [
       "         Airport ID  Name  City  Country  IATA  ICAO  Latitude  Longitude  \\\n",
       "Type                                                                        \n",
       "airport        7698  7698  7649     7698  7698  7698      7698       7698   \n",
       "\n",
       "         Altitude  Timezone   DST  Tz database time zone  Source  \n",
       "Type                                                              \n",
       "airport      7698      7698  7698                   7698    7698  "
      ]
     },
     "execution_count": 19,
     "metadata": {},
     "output_type": "execute_result"
    }
   ],
   "source": [
    "airports.groupby(['Type']).count()"
   ]
  },
  {
   "cell_type": "code",
   "execution_count": null,
   "id": "8fee639f",
   "metadata": {},
   "outputs": [],
   "source": []
  },
  {
   "cell_type": "code",
   "execution_count": 20,
   "id": "2d6ec935",
   "metadata": {},
   "outputs": [
    {
     "data": {
      "text/plain": [
       "Index(['Airport ID', 'Name', 'City', 'Country', 'IATA', 'ICAO', 'Latitude',\n",
       "       'Longitude', 'Altitude', 'Timezone', 'DST', 'Tz database time zone',\n",
       "       'Type', 'Source'],\n",
       "      dtype='object')"
      ]
     },
     "execution_count": 20,
     "metadata": {},
     "output_type": "execute_result"
    }
   ],
   "source": [
    "airports.columns"
   ]
  },
  {
   "cell_type": "code",
   "execution_count": 21,
   "id": "12d21316",
   "metadata": {},
   "outputs": [
    {
     "data": {
      "text/html": [
       "<div>\n",
       "<style scoped>\n",
       "    .dataframe tbody tr th:only-of-type {\n",
       "        vertical-align: middle;\n",
       "    }\n",
       "\n",
       "    .dataframe tbody tr th {\n",
       "        vertical-align: top;\n",
       "    }\n",
       "\n",
       "    .dataframe thead th {\n",
       "        text-align: right;\n",
       "    }\n",
       "</style>\n",
       "<table border=\"1\" class=\"dataframe\">\n",
       "  <thead>\n",
       "    <tr style=\"text-align: right;\">\n",
       "      <th></th>\n",
       "      <th>Airport ID</th>\n",
       "      <th>Name</th>\n",
       "      <th>City</th>\n",
       "      <th>Country</th>\n",
       "      <th>IATA</th>\n",
       "      <th>ICAO</th>\n",
       "      <th>Latitude</th>\n",
       "      <th>Longitude</th>\n",
       "      <th>Altitude</th>\n",
       "      <th>Timezone</th>\n",
       "    </tr>\n",
       "  </thead>\n",
       "  <tbody>\n",
       "    <tr>\n",
       "      <th>0</th>\n",
       "      <td>1</td>\n",
       "      <td>Goroka Airport</td>\n",
       "      <td>Goroka</td>\n",
       "      <td>Papua New Guinea</td>\n",
       "      <td>GKA</td>\n",
       "      <td>AYGA</td>\n",
       "      <td>-6.08169</td>\n",
       "      <td>145.391998</td>\n",
       "      <td>5282</td>\n",
       "      <td>10</td>\n",
       "    </tr>\n",
       "    <tr>\n",
       "      <th>1</th>\n",
       "      <td>2</td>\n",
       "      <td>Madang Airport</td>\n",
       "      <td>Madang</td>\n",
       "      <td>Papua New Guinea</td>\n",
       "      <td>MAG</td>\n",
       "      <td>AYMD</td>\n",
       "      <td>-5.20708</td>\n",
       "      <td>145.789001</td>\n",
       "      <td>20</td>\n",
       "      <td>10</td>\n",
       "    </tr>\n",
       "  </tbody>\n",
       "</table>\n",
       "</div>"
      ],
      "text/plain": [
       "   Airport ID            Name    City           Country IATA  ICAO  Latitude  \\\n",
       "0           1  Goroka Airport  Goroka  Papua New Guinea  GKA  AYGA  -6.08169   \n",
       "1           2  Madang Airport  Madang  Papua New Guinea  MAG  AYMD  -5.20708   \n",
       "\n",
       "    Longitude  Altitude Timezone  \n",
       "0  145.391998      5282       10  \n",
       "1  145.789001        20       10  "
      ]
     },
     "execution_count": 21,
     "metadata": {},
     "output_type": "execute_result"
    }
   ],
   "source": [
    "airports.drop(['DST', 'Tz database time zone', 'Type', 'Source'], axis=1, inplace=True)\n",
    "airports.head(2)"
   ]
  },
  {
   "cell_type": "code",
   "execution_count": 22,
   "id": "4a9ac407",
   "metadata": {},
   "outputs": [
    {
     "data": {
      "text/html": [
       "<div>\n",
       "<style scoped>\n",
       "    .dataframe tbody tr th:only-of-type {\n",
       "        vertical-align: middle;\n",
       "    }\n",
       "\n",
       "    .dataframe tbody tr th {\n",
       "        vertical-align: top;\n",
       "    }\n",
       "\n",
       "    .dataframe thead th {\n",
       "        text-align: right;\n",
       "    }\n",
       "</style>\n",
       "<table border=\"1\" class=\"dataframe\">\n",
       "  <thead>\n",
       "    <tr style=\"text-align: right;\">\n",
       "      <th></th>\n",
       "      <th>Airport ID</th>\n",
       "      <th>Name_ap</th>\n",
       "      <th>City</th>\n",
       "      <th>Country_ap</th>\n",
       "      <th>IATA_ap</th>\n",
       "      <th>ICAO_ap</th>\n",
       "      <th>Lat_ap</th>\n",
       "      <th>Long_ap</th>\n",
       "      <th>Alt_ap</th>\n",
       "      <th>TZone_ap</th>\n",
       "    </tr>\n",
       "  </thead>\n",
       "  <tbody>\n",
       "    <tr>\n",
       "      <th>0</th>\n",
       "      <td>1</td>\n",
       "      <td>Goroka Airport</td>\n",
       "      <td>Goroka</td>\n",
       "      <td>Papua New Guinea</td>\n",
       "      <td>GKA</td>\n",
       "      <td>AYGA</td>\n",
       "      <td>-6.08169</td>\n",
       "      <td>145.391998</td>\n",
       "      <td>5282</td>\n",
       "      <td>10</td>\n",
       "    </tr>\n",
       "    <tr>\n",
       "      <th>1</th>\n",
       "      <td>2</td>\n",
       "      <td>Madang Airport</td>\n",
       "      <td>Madang</td>\n",
       "      <td>Papua New Guinea</td>\n",
       "      <td>MAG</td>\n",
       "      <td>AYMD</td>\n",
       "      <td>-5.20708</td>\n",
       "      <td>145.789001</td>\n",
       "      <td>20</td>\n",
       "      <td>10</td>\n",
       "    </tr>\n",
       "  </tbody>\n",
       "</table>\n",
       "</div>"
      ],
      "text/plain": [
       "   Airport ID         Name_ap    City        Country_ap IATA_ap ICAO_ap  \\\n",
       "0           1  Goroka Airport  Goroka  Papua New Guinea     GKA    AYGA   \n",
       "1           2  Madang Airport  Madang  Papua New Guinea     MAG    AYMD   \n",
       "\n",
       "    Lat_ap     Long_ap  Alt_ap TZone_ap  \n",
       "0 -6.08169  145.391998    5282       10  \n",
       "1 -5.20708  145.789001      20       10  "
      ]
     },
     "execution_count": 22,
     "metadata": {},
     "output_type": "execute_result"
    }
   ],
   "source": [
    "airports.rename(columns = {'Name':'Name_ap', 'Country':'Country_ap','IATA':'IATA_ap', 'ICAO':'ICAO_ap', 'Latitude':'Lat_ap', 'Longitude':'Long_ap', 'Altitude':'Alt_ap', 'Timezone':'TZone_ap'}, inplace=True)\n",
    "airports.head(2)"
   ]
  },
  {
   "cell_type": "code",
   "execution_count": null,
   "id": "01cd71ba",
   "metadata": {},
   "outputs": [],
   "source": []
  },
  {
   "cell_type": "code",
   "execution_count": 23,
   "id": "b640e58e",
   "metadata": {},
   "outputs": [],
   "source": [
    "#airports['Country_ap'].unique()"
   ]
  },
  {
   "cell_type": "code",
   "execution_count": 24,
   "id": "0c6ad1b7",
   "metadata": {},
   "outputs": [
    {
     "data": {
      "text/html": [
       "<div>\n",
       "<style scoped>\n",
       "    .dataframe tbody tr th:only-of-type {\n",
       "        vertical-align: middle;\n",
       "    }\n",
       "\n",
       "    .dataframe tbody tr th {\n",
       "        vertical-align: top;\n",
       "    }\n",
       "\n",
       "    .dataframe thead th {\n",
       "        text-align: right;\n",
       "    }\n",
       "</style>\n",
       "<table border=\"1\" class=\"dataframe\">\n",
       "  <thead>\n",
       "    <tr style=\"text-align: right;\">\n",
       "      <th></th>\n",
       "      <th>Airport ID</th>\n",
       "      <th>Name_ap</th>\n",
       "      <th>City</th>\n",
       "      <th>Country_ap</th>\n",
       "      <th>IATA_ap</th>\n",
       "      <th>ICAO_ap</th>\n",
       "      <th>Lat_ap</th>\n",
       "      <th>Long_ap</th>\n",
       "      <th>Alt_ap</th>\n",
       "      <th>TZone_ap</th>\n",
       "    </tr>\n",
       "  </thead>\n",
       "  <tbody>\n",
       "    <tr>\n",
       "      <th>3212</th>\n",
       "      <td>3411</td>\n",
       "      <td>Barter Island LRRS Airport</td>\n",
       "      <td>Barter Island</td>\n",
       "      <td>United States</td>\n",
       "      <td>BTI</td>\n",
       "      <td>PABA</td>\n",
       "      <td>70.134003</td>\n",
       "      <td>-143.582001</td>\n",
       "      <td>2</td>\n",
       "      <td>-9</td>\n",
       "    </tr>\n",
       "    <tr>\n",
       "      <th>3213</th>\n",
       "      <td>3412</td>\n",
       "      <td>Wainwright Air Station</td>\n",
       "      <td>Fort Wainwright</td>\n",
       "      <td>United States</td>\n",
       "      <td>\\N</td>\n",
       "      <td>PAWT</td>\n",
       "      <td>70.613403</td>\n",
       "      <td>-159.860001</td>\n",
       "      <td>35</td>\n",
       "      <td>-9</td>\n",
       "    </tr>\n",
       "    <tr>\n",
       "      <th>3214</th>\n",
       "      <td>3413</td>\n",
       "      <td>Cape Lisburne LRRS Airport</td>\n",
       "      <td>Cape Lisburne</td>\n",
       "      <td>United States</td>\n",
       "      <td>LUR</td>\n",
       "      <td>PALU</td>\n",
       "      <td>68.875099</td>\n",
       "      <td>-166.110001</td>\n",
       "      <td>16</td>\n",
       "      <td>-9</td>\n",
       "    </tr>\n",
       "    <tr>\n",
       "      <th>3215</th>\n",
       "      <td>3414</td>\n",
       "      <td>Point Lay LRRS Airport</td>\n",
       "      <td>Point Lay</td>\n",
       "      <td>United States</td>\n",
       "      <td>PIZ</td>\n",
       "      <td>PPIZ</td>\n",
       "      <td>69.732903</td>\n",
       "      <td>-163.005005</td>\n",
       "      <td>22</td>\n",
       "      <td>-9</td>\n",
       "    </tr>\n",
       "    <tr>\n",
       "      <th>3216</th>\n",
       "      <td>3415</td>\n",
       "      <td>Hilo International Airport</td>\n",
       "      <td>Hilo</td>\n",
       "      <td>United States</td>\n",
       "      <td>ITO</td>\n",
       "      <td>PHTO</td>\n",
       "      <td>19.721399</td>\n",
       "      <td>-155.048004</td>\n",
       "      <td>38</td>\n",
       "      <td>-10</td>\n",
       "    </tr>\n",
       "  </tbody>\n",
       "</table>\n",
       "</div>"
      ],
      "text/plain": [
       "      Airport ID                     Name_ap             City     Country_ap  \\\n",
       "3212        3411  Barter Island LRRS Airport    Barter Island  United States   \n",
       "3213        3412      Wainwright Air Station  Fort Wainwright  United States   \n",
       "3214        3413  Cape Lisburne LRRS Airport    Cape Lisburne  United States   \n",
       "3215        3414      Point Lay LRRS Airport        Point Lay  United States   \n",
       "3216        3415  Hilo International Airport             Hilo  United States   \n",
       "\n",
       "     IATA_ap ICAO_ap     Lat_ap     Long_ap  Alt_ap TZone_ap  \n",
       "3212     BTI    PABA  70.134003 -143.582001       2       -9  \n",
       "3213      \\N    PAWT  70.613403 -159.860001      35       -9  \n",
       "3214     LUR    PALU  68.875099 -166.110001      16       -9  \n",
       "3215     PIZ    PPIZ  69.732903 -163.005005      22       -9  \n",
       "3216     ITO    PHTO  19.721399 -155.048004      38      -10  "
      ]
     },
     "execution_count": 24,
     "metadata": {},
     "output_type": "execute_result"
    }
   ],
   "source": [
    "#subset to United States\n",
    "airports = airports[airports['Country_ap']=='United States']\n",
    "airports.head()"
   ]
  },
  {
   "cell_type": "code",
   "execution_count": 25,
   "id": "53a44124",
   "metadata": {},
   "outputs": [
    {
     "data": {
      "text/plain": [
       "Airport ID    0\n",
       "Name_ap       0\n",
       "City          0\n",
       "Country_ap    0\n",
       "IATA_ap       0\n",
       "ICAO_ap       0\n",
       "Lat_ap        0\n",
       "Long_ap       0\n",
       "Alt_ap        0\n",
       "TZone_ap      0\n",
       "dtype: int64"
      ]
     },
     "execution_count": 25,
     "metadata": {},
     "output_type": "execute_result"
    }
   ],
   "source": [
    "airports.isnull().sum()"
   ]
  },
  {
   "cell_type": "code",
   "execution_count": null,
   "id": "bda9e733",
   "metadata": {},
   "outputs": [],
   "source": []
  },
  {
   "cell_type": "markdown",
   "id": "08860274",
   "metadata": {},
   "source": [
    "### Passengers"
   ]
  },
  {
   "cell_type": "code",
   "execution_count": 26,
   "id": "5a7a88fc",
   "metadata": {},
   "outputs": [
    {
     "data": {
      "text/html": [
       "<div>\n",
       "<style scoped>\n",
       "    .dataframe tbody tr th:only-of-type {\n",
       "        vertical-align: middle;\n",
       "    }\n",
       "\n",
       "    .dataframe tbody tr th {\n",
       "        vertical-align: top;\n",
       "    }\n",
       "\n",
       "    .dataframe thead th {\n",
       "        text-align: right;\n",
       "    }\n",
       "</style>\n",
       "<table border=\"1\" class=\"dataframe\">\n",
       "  <thead>\n",
       "    <tr style=\"text-align: right;\">\n",
       "      <th></th>\n",
       "      <th>Sum_PASSENGERS</th>\n",
       "      <th>AIRLINE_ID</th>\n",
       "      <th>CARRIER_NAME</th>\n",
       "      <th>ORIGIN</th>\n",
       "      <th>ORIGIN_CITY_NAME</th>\n",
       "      <th>ORIGIN_STATE_ABR</th>\n",
       "      <th>ORIGIN_STATE_NM</th>\n",
       "      <th>ORIGIN_COUNTRY</th>\n",
       "      <th>ORIGIN_COUNTRY_NAME</th>\n",
       "      <th>DEST</th>\n",
       "      <th>DEST_CITY_NAME</th>\n",
       "      <th>DEST_STATE_ABR</th>\n",
       "      <th>DEST_STATE_NM</th>\n",
       "      <th>DEST_COUNTRY</th>\n",
       "      <th>DEST_COUNTRY_NAME</th>\n",
       "      <th>YEAR</th>\n",
       "      <th>MONTH</th>\n",
       "    </tr>\n",
       "  </thead>\n",
       "  <tbody>\n",
       "    <tr>\n",
       "      <th>6278815</th>\n",
       "      <td>5</td>\n",
       "      <td>22074.0</td>\n",
       "      <td>Avon Jet AG</td>\n",
       "      <td>MFE</td>\n",
       "      <td>Mission/McAllen/Edinburg, TX</td>\n",
       "      <td>TX</td>\n",
       "      <td>Texas</td>\n",
       "      <td>US</td>\n",
       "      <td>United States</td>\n",
       "      <td>VCE</td>\n",
       "      <td>Venice, Italy</td>\n",
       "      <td>NaN</td>\n",
       "      <td>NaN</td>\n",
       "      <td>IT</td>\n",
       "      <td>Italy</td>\n",
       "      <td>2020</td>\n",
       "      <td>3</td>\n",
       "    </tr>\n",
       "    <tr>\n",
       "      <th>6278816</th>\n",
       "      <td>2</td>\n",
       "      <td>22074.0</td>\n",
       "      <td>Avon Jet AG</td>\n",
       "      <td>PBI</td>\n",
       "      <td>West Palm Beach/Palm Beach, FL</td>\n",
       "      <td>FL</td>\n",
       "      <td>Florida</td>\n",
       "      <td>US</td>\n",
       "      <td>United States</td>\n",
       "      <td>FAB</td>\n",
       "      <td>Farnborough, United Kingdom</td>\n",
       "      <td>NaN</td>\n",
       "      <td>NaN</td>\n",
       "      <td>GB</td>\n",
       "      <td>United Kingdom</td>\n",
       "      <td>2020</td>\n",
       "      <td>3</td>\n",
       "    </tr>\n",
       "    <tr>\n",
       "      <th>6278817</th>\n",
       "      <td>6</td>\n",
       "      <td>22074.0</td>\n",
       "      <td>Avon Jet AG</td>\n",
       "      <td>TEB</td>\n",
       "      <td>Teterboro, NJ</td>\n",
       "      <td>NJ</td>\n",
       "      <td>New Jersey</td>\n",
       "      <td>US</td>\n",
       "      <td>United States</td>\n",
       "      <td>ATH</td>\n",
       "      <td>Athens, Greece</td>\n",
       "      <td>NaN</td>\n",
       "      <td>NaN</td>\n",
       "      <td>GR</td>\n",
       "      <td>Greece</td>\n",
       "      <td>2020</td>\n",
       "      <td>7</td>\n",
       "    </tr>\n",
       "    <tr>\n",
       "      <th>6278818</th>\n",
       "      <td>3</td>\n",
       "      <td>22074.0</td>\n",
       "      <td>Avon Jet AG</td>\n",
       "      <td>TEB</td>\n",
       "      <td>Teterboro, NJ</td>\n",
       "      <td>NJ</td>\n",
       "      <td>New Jersey</td>\n",
       "      <td>US</td>\n",
       "      <td>United States</td>\n",
       "      <td>FRA</td>\n",
       "      <td>Frankfurt, Germany</td>\n",
       "      <td>NaN</td>\n",
       "      <td>NaN</td>\n",
       "      <td>DE</td>\n",
       "      <td>Germany</td>\n",
       "      <td>2020</td>\n",
       "      <td>10</td>\n",
       "    </tr>\n",
       "    <tr>\n",
       "      <th>6278819</th>\n",
       "      <td>2</td>\n",
       "      <td>22074.0</td>\n",
       "      <td>Avon Jet AG</td>\n",
       "      <td>TEB</td>\n",
       "      <td>Teterboro, NJ</td>\n",
       "      <td>NJ</td>\n",
       "      <td>New Jersey</td>\n",
       "      <td>US</td>\n",
       "      <td>United States</td>\n",
       "      <td>KEF</td>\n",
       "      <td>Keflavik/Reykjavik, Iceland</td>\n",
       "      <td>NaN</td>\n",
       "      <td>NaN</td>\n",
       "      <td>IS</td>\n",
       "      <td>Iceland</td>\n",
       "      <td>2020</td>\n",
       "      <td>6</td>\n",
       "    </tr>\n",
       "  </tbody>\n",
       "</table>\n",
       "</div>"
      ],
      "text/plain": [
       "         Sum_PASSENGERS  AIRLINE_ID CARRIER_NAME ORIGIN  \\\n",
       "6278815               5     22074.0  Avon Jet AG    MFE   \n",
       "6278816               2     22074.0  Avon Jet AG    PBI   \n",
       "6278817               6     22074.0  Avon Jet AG    TEB   \n",
       "6278818               3     22074.0  Avon Jet AG    TEB   \n",
       "6278819               2     22074.0  Avon Jet AG    TEB   \n",
       "\n",
       "                       ORIGIN_CITY_NAME ORIGIN_STATE_ABR ORIGIN_STATE_NM  \\\n",
       "6278815    Mission/McAllen/Edinburg, TX               TX           Texas   \n",
       "6278816  West Palm Beach/Palm Beach, FL               FL         Florida   \n",
       "6278817                   Teterboro, NJ               NJ      New Jersey   \n",
       "6278818                   Teterboro, NJ               NJ      New Jersey   \n",
       "6278819                   Teterboro, NJ               NJ      New Jersey   \n",
       "\n",
       "        ORIGIN_COUNTRY ORIGIN_COUNTRY_NAME DEST               DEST_CITY_NAME  \\\n",
       "6278815             US       United States  VCE                Venice, Italy   \n",
       "6278816             US       United States  FAB  Farnborough, United Kingdom   \n",
       "6278817             US       United States  ATH               Athens, Greece   \n",
       "6278818             US       United States  FRA           Frankfurt, Germany   \n",
       "6278819             US       United States  KEF  Keflavik/Reykjavik, Iceland   \n",
       "\n",
       "        DEST_STATE_ABR DEST_STATE_NM DEST_COUNTRY DEST_COUNTRY_NAME  YEAR  \\\n",
       "6278815            NaN           NaN           IT             Italy  2020   \n",
       "6278816            NaN           NaN           GB    United Kingdom  2020   \n",
       "6278817            NaN           NaN           GR            Greece  2020   \n",
       "6278818            NaN           NaN           DE           Germany  2020   \n",
       "6278819            NaN           NaN           IS           Iceland  2020   \n",
       "\n",
       "         MONTH  \n",
       "6278815      3  \n",
       "6278816      3  \n",
       "6278817      7  \n",
       "6278818     10  \n",
       "6278819      6  "
      ]
     },
     "execution_count": 26,
     "metadata": {},
     "output_type": "execute_result"
    }
   ],
   "source": [
    "passengers = pd.read_csv('../Data/US Monthly Air Passengers.csv')\n",
    "passengers.tail(5)"
   ]
  },
  {
   "cell_type": "code",
   "execution_count": 27,
   "id": "7723670d",
   "metadata": {},
   "outputs": [
    {
     "data": {
      "text/plain": [
       "Index(['Sum_PASSENGERS', 'AIRLINE_ID', 'CARRIER_NAME', 'ORIGIN',\n",
       "       'ORIGIN_CITY_NAME', 'ORIGIN_STATE_ABR', 'ORIGIN_STATE_NM',\n",
       "       'ORIGIN_COUNTRY', 'ORIGIN_COUNTRY_NAME', 'DEST', 'DEST_CITY_NAME',\n",
       "       'DEST_STATE_ABR', 'DEST_STATE_NM', 'DEST_COUNTRY', 'DEST_COUNTRY_NAME',\n",
       "       'YEAR', 'MONTH'],\n",
       "      dtype='object')"
      ]
     },
     "execution_count": 27,
     "metadata": {},
     "output_type": "execute_result"
    }
   ],
   "source": [
    "passengers.columns"
   ]
  },
  {
   "cell_type": "code",
   "execution_count": 28,
   "id": "8930baba",
   "metadata": {},
   "outputs": [],
   "source": [
    "passengers = passengers.loc[:, ['YEAR', 'MONTH', 'Sum_PASSENGERS', 'AIRLINE_ID', 'CARRIER_NAME', 'ORIGIN',\n",
    "       'ORIGIN_CITY_NAME', 'ORIGIN_STATE_ABR', 'ORIGIN_STATE_NM',\n",
    "       'ORIGIN_COUNTRY', 'ORIGIN_COUNTRY_NAME', 'DEST', 'DEST_CITY_NAME',\n",
    "       'DEST_STATE_ABR', 'DEST_STATE_NM', 'DEST_COUNTRY', 'DEST_COUNTRY_NAME']]"
   ]
  },
  {
   "cell_type": "code",
   "execution_count": 99,
   "id": "4b1b4c68",
   "metadata": {},
   "outputs": [
    {
     "data": {
      "text/html": [
       "<div>\n",
       "<style scoped>\n",
       "    .dataframe tbody tr th:only-of-type {\n",
       "        vertical-align: middle;\n",
       "    }\n",
       "\n",
       "    .dataframe tbody tr th {\n",
       "        vertical-align: top;\n",
       "    }\n",
       "\n",
       "    .dataframe thead th {\n",
       "        text-align: right;\n",
       "    }\n",
       "</style>\n",
       "<table border=\"1\" class=\"dataframe\">\n",
       "  <thead>\n",
       "    <tr style=\"text-align: right;\">\n",
       "      <th></th>\n",
       "      <th>YEAR</th>\n",
       "      <th>MONTH</th>\n",
       "      <th>Sum_PASSENGERS</th>\n",
       "      <th>AIRLINE_ID</th>\n",
       "      <th>CARRIER_NAME</th>\n",
       "      <th>ORIGIN</th>\n",
       "      <th>ORIGIN_CITY_NAME</th>\n",
       "      <th>ORIGIN_STATE_ABR</th>\n",
       "      <th>ORIGIN_STATE_NM</th>\n",
       "      <th>ORIGIN_COUNTRY</th>\n",
       "      <th>ORIGIN_COUNTRY_NAME</th>\n",
       "      <th>DEST</th>\n",
       "      <th>DEST_CITY_NAME</th>\n",
       "      <th>DEST_STATE_ABR</th>\n",
       "      <th>DEST_STATE_NM</th>\n",
       "      <th>DEST_COUNTRY</th>\n",
       "      <th>DEST_COUNTRY_NAME</th>\n",
       "    </tr>\n",
       "  </thead>\n",
       "  <tbody>\n",
       "    <tr>\n",
       "      <th>6278557</th>\n",
       "      <td>2020</td>\n",
       "      <td>9</td>\n",
       "      <td>0</td>\n",
       "      <td>22036</td>\n",
       "      <td>Challenge Airlines (BE) S.A.</td>\n",
       "      <td>JFK</td>\n",
       "      <td>New York, NY</td>\n",
       "      <td>NY</td>\n",
       "      <td>New York</td>\n",
       "      <td>US</td>\n",
       "      <td>United States</td>\n",
       "      <td>IAH</td>\n",
       "      <td>Houston, TX</td>\n",
       "      <td>TX</td>\n",
       "      <td>Texas</td>\n",
       "      <td>US</td>\n",
       "      <td>United States</td>\n",
       "    </tr>\n",
       "    <tr>\n",
       "      <th>6278580</th>\n",
       "      <td>2020</td>\n",
       "      <td>6</td>\n",
       "      <td>1</td>\n",
       "      <td>22048</td>\n",
       "      <td>Concierge U Ltd. d/b/a Jet Concierge Club</td>\n",
       "      <td>BOS</td>\n",
       "      <td>Boston, MA</td>\n",
       "      <td>MA</td>\n",
       "      <td>Massachusetts</td>\n",
       "      <td>US</td>\n",
       "      <td>United States</td>\n",
       "      <td>FOK</td>\n",
       "      <td>Westhampton, NY</td>\n",
       "      <td>NY</td>\n",
       "      <td>New York</td>\n",
       "      <td>US</td>\n",
       "      <td>United States</td>\n",
       "    </tr>\n",
       "  </tbody>\n",
       "</table>\n",
       "</div>"
      ],
      "text/plain": [
       "         YEAR  MONTH  Sum_PASSENGERS AIRLINE_ID  \\\n",
       "6278557  2020      9               0      22036   \n",
       "6278580  2020      6               1      22048   \n",
       "\n",
       "                                      CARRIER_NAME ORIGIN ORIGIN_CITY_NAME  \\\n",
       "6278557               Challenge Airlines (BE) S.A.    JFK     New York, NY   \n",
       "6278580  Concierge U Ltd. d/b/a Jet Concierge Club    BOS       Boston, MA   \n",
       "\n",
       "        ORIGIN_STATE_ABR ORIGIN_STATE_NM ORIGIN_COUNTRY ORIGIN_COUNTRY_NAME  \\\n",
       "6278557               NY        New York             US       United States   \n",
       "6278580               MA   Massachusetts             US       United States   \n",
       "\n",
       "        DEST   DEST_CITY_NAME DEST_STATE_ABR DEST_STATE_NM DEST_COUNTRY  \\\n",
       "6278557  IAH      Houston, TX             TX         Texas           US   \n",
       "6278580  FOK  Westhampton, NY             NY      New York           US   \n",
       "\n",
       "        DEST_COUNTRY_NAME  \n",
       "6278557     United States  \n",
       "6278580     United States  "
      ]
     },
     "execution_count": 99,
     "metadata": {},
     "output_type": "execute_result"
    }
   ],
   "source": [
    "passengers.tail(2)"
   ]
  },
  {
   "cell_type": "code",
   "execution_count": 30,
   "id": "fc341a82",
   "metadata": {},
   "outputs": [
    {
     "data": {
      "text/html": [
       "<div>\n",
       "<style scoped>\n",
       "    .dataframe tbody tr th:only-of-type {\n",
       "        vertical-align: middle;\n",
       "    }\n",
       "\n",
       "    .dataframe tbody tr th {\n",
       "        vertical-align: top;\n",
       "    }\n",
       "\n",
       "    .dataframe thead th {\n",
       "        text-align: right;\n",
       "    }\n",
       "</style>\n",
       "<table border=\"1\" class=\"dataframe\">\n",
       "  <thead>\n",
       "    <tr style=\"text-align: right;\">\n",
       "      <th></th>\n",
       "      <th>YEAR</th>\n",
       "      <th>MONTH</th>\n",
       "      <th>Sum_PASSENGERS</th>\n",
       "      <th>AIRLINE_ID</th>\n",
       "      <th>CARRIER_NAME</th>\n",
       "      <th>ORIGIN</th>\n",
       "      <th>ORIGIN_CITY_NAME</th>\n",
       "      <th>ORIGIN_STATE_ABR</th>\n",
       "      <th>ORIGIN_STATE_NM</th>\n",
       "      <th>ORIGIN_COUNTRY</th>\n",
       "      <th>ORIGIN_COUNTRY_NAME</th>\n",
       "      <th>DEST</th>\n",
       "      <th>DEST_CITY_NAME</th>\n",
       "      <th>DEST_STATE_ABR</th>\n",
       "      <th>DEST_STATE_NM</th>\n",
       "      <th>DEST_COUNTRY</th>\n",
       "      <th>DEST_COUNTRY_NAME</th>\n",
       "    </tr>\n",
       "  </thead>\n",
       "  <tbody>\n",
       "    <tr>\n",
       "      <th>0</th>\n",
       "      <td>2015</td>\n",
       "      <td>3</td>\n",
       "      <td>0</td>\n",
       "      <td>NaN</td>\n",
       "      <td>NaN</td>\n",
       "      <td>AEX</td>\n",
       "      <td>Alexandria, LA</td>\n",
       "      <td>LA</td>\n",
       "      <td>Louisiana</td>\n",
       "      <td>US</td>\n",
       "      <td>United States</td>\n",
       "      <td>AEX</td>\n",
       "      <td>Alexandria, LA</td>\n",
       "      <td>LA</td>\n",
       "      <td>Louisiana</td>\n",
       "      <td>US</td>\n",
       "      <td>United States</td>\n",
       "    </tr>\n",
       "    <tr>\n",
       "      <th>1</th>\n",
       "      <td>2015</td>\n",
       "      <td>4</td>\n",
       "      <td>0</td>\n",
       "      <td>NaN</td>\n",
       "      <td>NaN</td>\n",
       "      <td>AEX</td>\n",
       "      <td>Alexandria, LA</td>\n",
       "      <td>LA</td>\n",
       "      <td>Louisiana</td>\n",
       "      <td>US</td>\n",
       "      <td>United States</td>\n",
       "      <td>AFW</td>\n",
       "      <td>Dallas/Fort Worth, TX</td>\n",
       "      <td>TX</td>\n",
       "      <td>Texas</td>\n",
       "      <td>US</td>\n",
       "      <td>United States</td>\n",
       "    </tr>\n",
       "    <tr>\n",
       "      <th>2</th>\n",
       "      <td>2015</td>\n",
       "      <td>3</td>\n",
       "      <td>0</td>\n",
       "      <td>NaN</td>\n",
       "      <td>NaN</td>\n",
       "      <td>AEX</td>\n",
       "      <td>Alexandria, LA</td>\n",
       "      <td>LA</td>\n",
       "      <td>Louisiana</td>\n",
       "      <td>US</td>\n",
       "      <td>United States</td>\n",
       "      <td>ATL</td>\n",
       "      <td>Atlanta, GA</td>\n",
       "      <td>GA</td>\n",
       "      <td>Georgia</td>\n",
       "      <td>US</td>\n",
       "      <td>United States</td>\n",
       "    </tr>\n",
       "  </tbody>\n",
       "</table>\n",
       "</div>"
      ],
      "text/plain": [
       "   YEAR  MONTH  Sum_PASSENGERS  AIRLINE_ID CARRIER_NAME ORIGIN  \\\n",
       "0  2015      3               0         NaN          NaN    AEX   \n",
       "1  2015      4               0         NaN          NaN    AEX   \n",
       "2  2015      3               0         NaN          NaN    AEX   \n",
       "\n",
       "  ORIGIN_CITY_NAME ORIGIN_STATE_ABR ORIGIN_STATE_NM ORIGIN_COUNTRY  \\\n",
       "0   Alexandria, LA               LA       Louisiana             US   \n",
       "1   Alexandria, LA               LA       Louisiana             US   \n",
       "2   Alexandria, LA               LA       Louisiana             US   \n",
       "\n",
       "  ORIGIN_COUNTRY_NAME DEST         DEST_CITY_NAME DEST_STATE_ABR  \\\n",
       "0       United States  AEX         Alexandria, LA             LA   \n",
       "1       United States  AFW  Dallas/Fort Worth, TX             TX   \n",
       "2       United States  ATL            Atlanta, GA             GA   \n",
       "\n",
       "  DEST_STATE_NM DEST_COUNTRY DEST_COUNTRY_NAME  \n",
       "0     Louisiana           US     United States  \n",
       "1         Texas           US     United States  \n",
       "2       Georgia           US     United States  "
      ]
     },
     "execution_count": 30,
     "metadata": {},
     "output_type": "execute_result"
    }
   ],
   "source": [
    "#limit origin and destination flights within the US\n",
    "passengers = passengers[(passengers['ORIGIN_COUNTRY']=='US') & (passengers['DEST_COUNTRY']=='US')]\n",
    "passengers.head(3)"
   ]
  },
  {
   "cell_type": "code",
   "execution_count": 31,
   "id": "59b28ece",
   "metadata": {},
   "outputs": [
    {
     "data": {
      "text/plain": [
       "array([nan, 'Reeve Aleutian Airways Inc.', 'Northwest Airlines Inc.',\n",
       "       'Southwest Airlines Co.', 'Air Canada',\n",
       "       'Compagnie Natl Air France', 'Finnair Oy', 'British Airways Plc',\n",
       "       'British West Indian Airways', 'China Airlines Ltd.',\n",
       "       'Japan Air Lines Co. Ltd.', 'Klm Royal Dutch Airlines',\n",
       "       'Polynesian Airlines Ltd.', 'Singapore Airlines Ltd.',\n",
       "       'Tap-Portuguese Airlines', 'Heavylift Cargo Airlines Lt',\n",
       "       'Saudi Arabian Airlines Corp', 'Air Sunshine Inc.',\n",
       "       'Trans-Air-Link Corporation', 'Aloha Airlines Inc.',\n",
       "       'Virgin Atlantic Airways', 'Horizon Air', 'Hawaiian Airlines Inc.',\n",
       "       'Continental Air Lines Inc.', 'Delta Air Lines Inc.',\n",
       "       'American Airlines Inc.', 'Turk Hava Yollari A.O.',\n",
       "       'Nippon Cargo Airlines', 'Bradley Air Services Ltd.',\n",
       "       'Air Transport International', 'Emery Worldwide Airlines',\n",
       "       'Cayman Airways Limited', 'United Parcel Service',\n",
       "       'Alaska Airlines Inc.', 'Air New Zealand', 'United Air Lines Inc.',\n",
       "       'USAir Shuttle', 'America West Airlines Inc.',\n",
       "       'Sierra Pacific Airlines', 'Atlas Air Inc.',\n",
       "       'Continental Micronesia', 'UFS Inc.',\n",
       "       'Air Wisconsin Airlines Corp', 'Evergreen International Inc.',\n",
       "       'Sky Service F.B.O.', 'Tower Air Inc.', 'Custom Air Transport',\n",
       "       'World Airways Inc.', 'Polar Air Cargo Airways',\n",
       "       'Sunworld International Airlines', 'Federal Express Corporation',\n",
       "       'Northern Air Cargo Inc.', 'Antonov Company',\n",
       "       'Antonov Design Bureau', 'TransMeridian Airlines',\n",
       "       'Florida West Airlines Inc.', 'Amerijet International',\n",
       "       'Gulf And Caribbean Cargo', 'Lynden Air Cargo Airlines',\n",
       "       'Mesaba Airlines', 'Kitty Hawk International', 'National Airlines',\n",
       "       'Asia Pacific', 'Lorair Ltd.', 'Jalways Co. Ltd.',\n",
       "       'Southern Air Inc.', 'Vanguard Airlines Inc.',\n",
       "       'Gemini Air Cargo Airways', 'Arrow Air Inc.', 'Sky Lease Cargo',\n",
       "       'Tradewinds Airlines', 'Ameristar Air Cargo',\n",
       "       'Chicago Express Airlines', 'Falcon Air Express', 'Champion Air',\n",
       "       'Jazz Aviation LP', 'Casino Express', 'XTRA Airways', 'Privatair',\n",
       "       'Trans World Airlines Inc.', 'Trans World Airways LLC',\n",
       "       'Polyot Airlines', 'Avia Leasing Company',\n",
       "       'Express One International Inc.', 'Village Aviation', 'Katmai Air',\n",
       "       'Peninsula Airways Inc.', 'Spernak Airways Inc.', 'Westjet',\n",
       "       'Swiss International Airlines', 'Trans States Airlines',\n",
       "       'Great Plains Airlines Inc.', 'Rio Grande Air',\n",
       "       'Pacific Island Aviation', 'Cape Air', 'Colgan Air',\n",
       "       'Bemidji Airlines', 'Big Sky Airlines Inc.', 'Ellis Air Taxi Inc.',\n",
       "       'Empire Airlines Inc.', 'Freedom Airlines d/b/a HP Expr',\n",
       "       'G5 Executive Ag', 'Grand Canyon Helicopters',\n",
       "       'Allegheny Airlines', 'Kenmore Air Harbor',\n",
       "       'New England Airlines Inc.', 'Northwest Seaplanes',\n",
       "       'Ozark Air Lines Inc.', 'Asiana Airlines Inc.', 'Air-Serve',\n",
       "       'Seaborne Aviation', 'Seaborne Virgin Islands, Inc.',\n",
       "       'Mountain Bird/Salmon Air', 'Samoa Aviation Inc.',\n",
       "       'Express.Net Airlines', 'Ward Air', 'Vintage Props & Jets Inc.',\n",
       "       'Aloha Island Air', 'Island Air Hawaii', 'Friday Harbor Seaplanes',\n",
       "       'West Isle Air', 'Air St. Thomas', 'Air Midwest Inc.',\n",
       "       'Air Georgian', 'Midway Airlines Inc.', 'Southeast Airlines',\n",
       "       'Pacific Wings Airlines', 'Kitty Hawk Aircargo',\n",
       "       'Nolinor Aviation', 'SkyWest Airlines Inc.', 'Pace Airlines',\n",
       "       'Centurion Cargo Inc.', 'Challenge Air Cargo Inc.',\n",
       "       'Caribbean Sun Airlines',\n",
       "       'Caribbean Sun Airlines, Inc. d/b/a World Atlantic Airlines',\n",
       "       'ATA Airlines d/b/a ATA', 'American Trans Air Inc.',\n",
       "       'Cargojet Airways Ltd.', 'Midwest Airline, Inc.',\n",
       "       'Midwest Express Airlines', 'Bellair Inc.', 'Olson Air Service',\n",
       "       'Smokey Bay Air Inc.', 'Frontier Flying Service',\n",
       "       'Bidzy Ta Hot Aana, Inc. d/b/a Tanana Air Service',\n",
       "       'Tanana Air Service', 'Warbelow', 'Yute Air Aka Flight Alaska',\n",
       "       'Arctic Circle Air Service', 'Cape Smythe Air Service',\n",
       "       'Corvus Airlines, Inc d/b/a Era Aviation d/b/a Ravn Alaska',\n",
       "       'Era Aviation', 'Inland Aviation Services',\n",
       "       'Arctic Transportation', 'Ryan Air f/k/a Arctic Transportation',\n",
       "       'Bering Air Inc.', 'Baker Aviation Inc.', 'Wright Air Service',\n",
       "       'Boston-Maine Airways', 'Hageland Aviation Service',\n",
       "       'Alaska Seaplane Service',\n",
       "       'Kalinin Aviation LLC d/b/a Alaska Seaplanes',\n",
       "       'Larrys Flying Service', 'L.A.B. Flying Service Inc.',\n",
       "       'SeaPort Airlines, Inc. d/b/a Wings of Alaska',\n",
       "       'Seaport Airlines, Inc.', 'Wings Of Alaska',\n",
       "       'Alaska Central Express', '40-Mile Air',\n",
       "       'Ryan International Airlines', 'Iliamna Air Taxi', 'Pro Air Inc.',\n",
       "       'Lan Ecuador', 'Promech', 'Primaris Airlines Inc.',\n",
       "       'Dynamic Aviation, Inc. d/b/a Beacon', 'Servant Air Inc.',\n",
       "       'Aerodynamics Inc.',\n",
       "       'Aerodynamics Inc. d/b/a SkyValue d/b/a SkyValue Airways',\n",
       "       'US Airways Inc.', 'Skyway Airlines', 'Astar Air Cargo Inc.',\n",
       "       'Astar USA, LLC', 'DHL Airways', 'Great Lakes Airlines',\n",
       "       'Great Lakes Aviation Ltd.', 'Triair Bermuda Flt Operations',\n",
       "       'Valley Air Express Inc.', 'Endeavor Air Inc.',\n",
       "       'Pinnacle Airlines Inc.', 'Atlantic Southeast Airlines',\n",
       "       'ExpressJet Airlines Inc.', 'ExpressJet Airlines LLC',\n",
       "       'Freedom Air', 'Allegiant Air', 'Kalitta Air LLC',\n",
       "       'Reliant Airlines', 'Kalitta Charters II', 'Mn Aviation, Inc.',\n",
       "       'Omni Air Express', 'Omni Air International LLC',\n",
       "       'Mesa Airlines Inc.', 'Zantop International',\n",
       "       'SkyLink Express Inc.', 'Victory Air Transport Inc.',\n",
       "       'Venture Travel LLC d/b/a Taquan Air Service',\n",
       "       'Pan American Airways Corp.', 'Flying Boat Inc.',\n",
       "       'Florida Coastal Airlines', 'PSA Airlines Inc.',\n",
       "       'American Eagle Airlines Inc.', 'Envoy Air', 'Planet Airways',\n",
       "       'Capital Cargo International', 'Gulfstream Int', 'Silver Airways',\n",
       "       'Miami Air International', 'Atlantic Coast Airlines',\n",
       "       'Independence Air', 'Murray Air',\n",
       "       'National Air Cargo Group Inc d/ba National Airlines',\n",
       "       'National Air Cargo Group, Inc. d/b/a Murray Air',\n",
       "       'BNJ Charter Company', 'NetJets Large Aircraft Company L.L.C.',\n",
       "       'Corporate Airlines', 'Regions Air, Inc.',\n",
       "       'Tatonduk Outfitters Limited d/b/a Everts Air Alaska and Everts Air Cargo',\n",
       "       'Tatonduk Outfitters Limited d/b/a Tatonduk Flying Service',\n",
       "       'JetBlue Airways', 'Arizona Express', 'Skagway Air Service',\n",
       "       'Executive Airlines', 'North American Airlines',\n",
       "       'Spirit Air Lines', 'Comair Inc.', 'Chautauqua Airlines Inc.',\n",
       "       'Sky King Inc.', 'Sun Country Airlines',\n",
       "       'Sun Country Airlines d/b/a MN Airlines', 'USA 3000 Airlines',\n",
       "       'Eagle Canyon Airlines d/b/a Scenic Airlines',\n",
       "       'Grand Canyon Airlines, Inc. d/b/a Grand Canyon Airlines d/b/a Scenic Airlines',\n",
       "       'Scenic Airlines Inc. d/b/a Scenic Airlines',\n",
       "       'Vieques Air Link Inc.', 'Piedmont Airlines',\n",
       "       'Volga-Dnepr Airlines', 'Frontier Airlines Inc.',\n",
       "       'AirTran Airways Corporation', 'Homer Air', 'Legend Airlines',\n",
       "       'Island Air Service', 'Commutair Aka Champlain Enterprises, Inc.',\n",
       "       'USA Jet Airlines Inc.', 'Shuttle America Corp.',\n",
       "       'Aero-Services-Corporate', 'Omega Air Holdings d/b/a Focus Air',\n",
       "       'Transmile Air Service', 'Republic Airline', 'Republic Airlines',\n",
       "       'ABX Air Inc', 'Airborne Express Inc.', 'Grant Aviation',\n",
       "       'GoJet Airlines LLC d/b/a United Express', 'MAXjet', 'PM Air, LLC',\n",
       "       'Harris Air Services',\n",
       "       'Aerounion Aerotransporte de Carga Union SA de CV',\n",
       "       'Cargo 360, Inc.', 'Tradewind Aviation',\n",
       "       'US Helicopter Corporation', 'Pacific Airways, Inc.', 'JetClub AG',\n",
       "       'Swift Air, LLC',\n",
       "       'Swift Air, LLC d/b/a Eastern Air Lines d/b/a Eastern',\n",
       "       'Compass Airlines', 'Virgin America', 'Skybus Airlines, Inc.',\n",
       "       'ACM AIR CHARTER GmbH',\n",
       "       'Inter Island Airways, d/b/a Inter Island Air',\n",
       "       'Lynx Aviation d/b/a Frontier Airlines', 'Porter Airlines, Inc.',\n",
       "       'Sunwing Airlines Inc.', 'Vision Airlines',\n",
       "       'Mokulele Flight Services, Inc.',\n",
       "       'Multi-Aero, Inc. d/b/a Air Choice One',\n",
       "       'Air Greco, Inc., d/b/a Wings Air', 'Comlux Malta, Ltd.',\n",
       "       'Aeroenlaces Nacionales, S.A. de C.V. d/b/a VivaAerobus',\n",
       "       'Avjet Corporation', 'Air Berlin PLC and CO', 'Air Excursions LLC',\n",
       "       'Prescott Support Company, Inc.', 'Acropolis Aviation Ltd.',\n",
       "       'Jet Aviation Business Jets AG', 'Chartright Air Inc.',\n",
       "       'London Air Services Limited', 'Albinati Aeronautics SA',\n",
       "       'Charter Air Transport, Inc.',\n",
       "       'Via Airlines d/b/a Charter Air Transport', 'Dynamic Airways, LLC',\n",
       "       'Eastern Airlines f/k/a Dynamic Airways, LLC',\n",
       "       'Island Airlines LLC', 'KaiserAir, Inc.', 'Alsek Air',\n",
       "       'International Jet Management GmbH', 'VistaJet Limited',\n",
       "       'Laudamotion GmbH', 'Star Marianas Air Inc.',\n",
       "       'Rhoades Aviation dba Transair', 'Norwegian Air Shuttle ASA',\n",
       "       'Reeve Air Alaska, LLC', 'Gainjet Aviation SA',\n",
       "       'Scott Air LLC dba Island Air Express',\n",
       "       'Ultimate JetCharters LLC dba Ultimate Air Shuttle',\n",
       "       'Boutique Air', 'Makani Kai Air Charters',\n",
       "       'City Wings Inc dba Seaflight',\n",
       "       'Air Charter, Inc d/b/a Air Flamenco',\n",
       "       'Southern Airways Express, dba Mokulele Airlines',\n",
       "       'Sun Air Express LLC dba Sun Air International', 'Western Global',\n",
       "       'Orange Air', 'Aloha Air Cargo', 'CFM Inc d/b/a Contour Airlines',\n",
       "       'CFM Inc d/b/a Contour Airlines d/b/a One Jet Shuttle',\n",
       "       'Corporate Flight Management Inc.',\n",
       "       'Corporate Flight Management Inc.d/b/a Crystal Luxury Air',\n",
       "       'Gem Air LLC', 'Songbird Airways Inc.', 'Blue Jet SP Z o o',\n",
       "       'Eastern Airlines Group Inc.',\n",
       "       'Jet Aviation Flight Services, Inc.',\n",
       "       'Menagerie Enterprises Inc d/b/a Monarch Air',\n",
       "       'Erickson Helicopters', 'Oceanair Linhas Aereas S A',\n",
       "       'Fast Colombia SAS d/b/a Viva Colombia',\n",
       "       'J&M Alaska Air Tours, Inc. d/b/a Alaska Air Transit',\n",
       "       'Elite Airways LLC', 'Delux Public Charter LLC',\n",
       "       'Tropic Ocean Airways LLC',\n",
       "       'Trans Northern Airways d/b/a Air Unlimited Charter Services',\n",
       "       'Cargologicair Limited',\n",
       "       'Paklook Air, Inc d/b/a/ Airlift Alaska d/b/a/ Yute Commuter Service',\n",
       "       'Public Charters, Inc. d/b/a North Country Sky d/b/a Regional Sky d/b/a Texas Sky',\n",
       "       'Polaris Aviation Solutions, LLC',\n",
       "       'Hillwood Airways, LLC  f/k/a   ATX Air Services, LLC',\n",
       "       'Key Lime Air Corporation', 'ADVANCED AIR, LLC',\n",
       "       'Maritime Helicopters, Inc.', 'Norwegian Air UK Limited',\n",
       "       'Primera Air Scandinavia',\n",
       "       'Nealco Air Charter Services, Inc.  d/b/a  Watermakers Air',\n",
       "       'Rectrix Aviation, Inc.', 'Scott Aviation, LLC  d/b/a  Silver Air',\n",
       "       'Laudamotion Executive', 'Challenge Airlines (BE) S.A.',\n",
       "       'Concierge U Ltd. d/b/a Jet Concierge Club'], dtype=object)"
      ]
     },
     "execution_count": 31,
     "metadata": {},
     "output_type": "execute_result"
    }
   ],
   "source": [
    "passengers.CARRIER_NAME.unique()"
   ]
  },
  {
   "cell_type": "code",
   "execution_count": 32,
   "id": "fb23d8bc",
   "metadata": {},
   "outputs": [
    {
     "data": {
      "text/plain": [
       "2000"
      ]
     },
     "execution_count": 32,
     "metadata": {},
     "output_type": "execute_result"
    }
   ],
   "source": [
    "passengers.YEAR.min()"
   ]
  },
  {
   "cell_type": "code",
   "execution_count": 33,
   "id": "456ed3c5",
   "metadata": {},
   "outputs": [
    {
     "data": {
      "text/plain": [
       "2020"
      ]
     },
     "execution_count": 33,
     "metadata": {},
     "output_type": "execute_result"
    }
   ],
   "source": [
    "passengers.YEAR.max()"
   ]
  },
  {
   "cell_type": "code",
   "execution_count": 34,
   "id": "cf733eba",
   "metadata": {},
   "outputs": [],
   "source": [
    "#passengers[(passengers['CARRIER_NAME'] == 'Southwest Airlines Co.')]"
   ]
  },
  {
   "cell_type": "code",
   "execution_count": 35,
   "id": "d8fcfe8c",
   "metadata": {},
   "outputs": [
    {
     "data": {
      "text/html": [
       "<div>\n",
       "<style scoped>\n",
       "    .dataframe tbody tr th:only-of-type {\n",
       "        vertical-align: middle;\n",
       "    }\n",
       "\n",
       "    .dataframe tbody tr th {\n",
       "        vertical-align: top;\n",
       "    }\n",
       "\n",
       "    .dataframe thead th {\n",
       "        text-align: right;\n",
       "    }\n",
       "</style>\n",
       "<table border=\"1\" class=\"dataframe\">\n",
       "  <thead>\n",
       "    <tr style=\"text-align: right;\">\n",
       "      <th></th>\n",
       "      <th>YEAR</th>\n",
       "      <th>MONTH</th>\n",
       "      <th>Sum_PASSENGERS</th>\n",
       "      <th>AIRLINE_ID</th>\n",
       "      <th>CARRIER_NAME</th>\n",
       "      <th>ORIGIN</th>\n",
       "      <th>ORIGIN_CITY_NAME</th>\n",
       "      <th>ORIGIN_STATE_ABR</th>\n",
       "      <th>ORIGIN_STATE_NM</th>\n",
       "      <th>ORIGIN_COUNTRY</th>\n",
       "      <th>ORIGIN_COUNTRY_NAME</th>\n",
       "      <th>DEST</th>\n",
       "      <th>DEST_CITY_NAME</th>\n",
       "      <th>DEST_STATE_ABR</th>\n",
       "      <th>DEST_STATE_NM</th>\n",
       "      <th>DEST_COUNTRY</th>\n",
       "      <th>DEST_COUNTRY_NAME</th>\n",
       "    </tr>\n",
       "  </thead>\n",
       "  <tbody>\n",
       "    <tr>\n",
       "      <th>6278580</th>\n",
       "      <td>2020</td>\n",
       "      <td>6</td>\n",
       "      <td>1</td>\n",
       "      <td>22048.0</td>\n",
       "      <td>Concierge U Ltd. d/b/a Jet Concierge Club</td>\n",
       "      <td>BOS</td>\n",
       "      <td>Boston, MA</td>\n",
       "      <td>MA</td>\n",
       "      <td>Massachusetts</td>\n",
       "      <td>US</td>\n",
       "      <td>United States</td>\n",
       "      <td>FOK</td>\n",
       "      <td>Westhampton, NY</td>\n",
       "      <td>NY</td>\n",
       "      <td>New York</td>\n",
       "      <td>US</td>\n",
       "      <td>United States</td>\n",
       "    </tr>\n",
       "  </tbody>\n",
       "</table>\n",
       "</div>"
      ],
      "text/plain": [
       "         YEAR  MONTH  Sum_PASSENGERS  AIRLINE_ID  \\\n",
       "6278580  2020      6               1     22048.0   \n",
       "\n",
       "                                      CARRIER_NAME ORIGIN ORIGIN_CITY_NAME  \\\n",
       "6278580  Concierge U Ltd. d/b/a Jet Concierge Club    BOS       Boston, MA   \n",
       "\n",
       "        ORIGIN_STATE_ABR ORIGIN_STATE_NM ORIGIN_COUNTRY ORIGIN_COUNTRY_NAME  \\\n",
       "6278580               MA   Massachusetts             US       United States   \n",
       "\n",
       "        DEST   DEST_CITY_NAME DEST_STATE_ABR DEST_STATE_NM DEST_COUNTRY  \\\n",
       "6278580  FOK  Westhampton, NY             NY      New York           US   \n",
       "\n",
       "        DEST_COUNTRY_NAME  \n",
       "6278580     United States  "
      ]
     },
     "execution_count": 35,
     "metadata": {},
     "output_type": "execute_result"
    }
   ],
   "source": [
    "passengers.tail(1)"
   ]
  },
  {
   "cell_type": "code",
   "execution_count": 36,
   "id": "da923706",
   "metadata": {},
   "outputs": [],
   "source": [
    "passengers['AIRLINE_ID'] = passengers['AIRLINE_ID'].fillna(0)"
   ]
  },
  {
   "cell_type": "code",
   "execution_count": 37,
   "id": "a2f82fb5",
   "metadata": {},
   "outputs": [
    {
     "data": {
      "text/html": [
       "<div>\n",
       "<style scoped>\n",
       "    .dataframe tbody tr th:only-of-type {\n",
       "        vertical-align: middle;\n",
       "    }\n",
       "\n",
       "    .dataframe tbody tr th {\n",
       "        vertical-align: top;\n",
       "    }\n",
       "\n",
       "    .dataframe thead th {\n",
       "        text-align: right;\n",
       "    }\n",
       "</style>\n",
       "<table border=\"1\" class=\"dataframe\">\n",
       "  <thead>\n",
       "    <tr style=\"text-align: right;\">\n",
       "      <th></th>\n",
       "      <th>YEAR</th>\n",
       "      <th>MONTH</th>\n",
       "      <th>Sum_PASSENGERS</th>\n",
       "      <th>AIRLINE_ID</th>\n",
       "      <th>CARRIER_NAME</th>\n",
       "      <th>ORIGIN</th>\n",
       "      <th>ORIGIN_CITY_NAME</th>\n",
       "      <th>ORIGIN_STATE_ABR</th>\n",
       "      <th>ORIGIN_STATE_NM</th>\n",
       "      <th>ORIGIN_COUNTRY</th>\n",
       "      <th>ORIGIN_COUNTRY_NAME</th>\n",
       "      <th>DEST</th>\n",
       "      <th>DEST_CITY_NAME</th>\n",
       "      <th>DEST_STATE_ABR</th>\n",
       "      <th>DEST_STATE_NM</th>\n",
       "      <th>DEST_COUNTRY</th>\n",
       "      <th>DEST_COUNTRY_NAME</th>\n",
       "    </tr>\n",
       "  </thead>\n",
       "  <tbody>\n",
       "    <tr>\n",
       "      <th>6278580</th>\n",
       "      <td>2020</td>\n",
       "      <td>6</td>\n",
       "      <td>1</td>\n",
       "      <td>22048</td>\n",
       "      <td>Concierge U Ltd. d/b/a Jet Concierge Club</td>\n",
       "      <td>BOS</td>\n",
       "      <td>Boston, MA</td>\n",
       "      <td>MA</td>\n",
       "      <td>Massachusetts</td>\n",
       "      <td>US</td>\n",
       "      <td>United States</td>\n",
       "      <td>FOK</td>\n",
       "      <td>Westhampton, NY</td>\n",
       "      <td>NY</td>\n",
       "      <td>New York</td>\n",
       "      <td>US</td>\n",
       "      <td>United States</td>\n",
       "    </tr>\n",
       "  </tbody>\n",
       "</table>\n",
       "</div>"
      ],
      "text/plain": [
       "         YEAR  MONTH  Sum_PASSENGERS AIRLINE_ID  \\\n",
       "6278580  2020      6               1      22048   \n",
       "\n",
       "                                      CARRIER_NAME ORIGIN ORIGIN_CITY_NAME  \\\n",
       "6278580  Concierge U Ltd. d/b/a Jet Concierge Club    BOS       Boston, MA   \n",
       "\n",
       "        ORIGIN_STATE_ABR ORIGIN_STATE_NM ORIGIN_COUNTRY ORIGIN_COUNTRY_NAME  \\\n",
       "6278580               MA   Massachusetts             US       United States   \n",
       "\n",
       "        DEST   DEST_CITY_NAME DEST_STATE_ABR DEST_STATE_NM DEST_COUNTRY  \\\n",
       "6278580  FOK  Westhampton, NY             NY      New York           US   \n",
       "\n",
       "        DEST_COUNTRY_NAME  \n",
       "6278580     United States  "
      ]
     },
     "execution_count": 37,
     "metadata": {},
     "output_type": "execute_result"
    }
   ],
   "source": [
    "passengers = passengers.astype({'AIRLINE_ID':'int'})\n",
    "passengers = passengers.astype({'AIRLINE_ID':'str'})\n",
    "passengers.tail(1)"
   ]
  },
  {
   "cell_type": "code",
   "execution_count": 38,
   "id": "d4be5261",
   "metadata": {},
   "outputs": [
    {
     "data": {
      "text/plain": [
       "YEAR                    int64\n",
       "MONTH                   int64\n",
       "Sum_PASSENGERS          int64\n",
       "AIRLINE_ID             object\n",
       "CARRIER_NAME           object\n",
       "ORIGIN                 object\n",
       "ORIGIN_CITY_NAME       object\n",
       "ORIGIN_STATE_ABR       object\n",
       "ORIGIN_STATE_NM        object\n",
       "ORIGIN_COUNTRY         object\n",
       "ORIGIN_COUNTRY_NAME    object\n",
       "DEST                   object\n",
       "DEST_CITY_NAME         object\n",
       "DEST_STATE_ABR         object\n",
       "DEST_STATE_NM          object\n",
       "DEST_COUNTRY           object\n",
       "DEST_COUNTRY_NAME      object\n",
       "dtype: object"
      ]
     },
     "execution_count": 38,
     "metadata": {},
     "output_type": "execute_result"
    }
   ],
   "source": [
    "passengers.dtypes"
   ]
  },
  {
   "cell_type": "markdown",
   "id": "8805706e",
   "metadata": {},
   "source": [
    "### -------------------------------------------------------------------------------------- end of passengers dataset formatting"
   ]
  },
  {
   "cell_type": "markdown",
   "id": "663c6056",
   "metadata": {},
   "source": [
    "### Delays - Airline Delay Cause"
   ]
  },
  {
   "cell_type": "code",
   "execution_count": 39,
   "id": "822ee273",
   "metadata": {
    "scrolled": true
   },
   "outputs": [
    {
     "data": {
      "text/html": [
       "<div>\n",
       "<style scoped>\n",
       "    .dataframe tbody tr th:only-of-type {\n",
       "        vertical-align: middle;\n",
       "    }\n",
       "\n",
       "    .dataframe tbody tr th {\n",
       "        vertical-align: top;\n",
       "    }\n",
       "\n",
       "    .dataframe thead th {\n",
       "        text-align: right;\n",
       "    }\n",
       "</style>\n",
       "<table border=\"1\" class=\"dataframe\">\n",
       "  <thead>\n",
       "    <tr style=\"text-align: right;\">\n",
       "      <th></th>\n",
       "      <th>year</th>\n",
       "      <th>month</th>\n",
       "      <th>carrier</th>\n",
       "      <th>carrier_name</th>\n",
       "      <th>airport</th>\n",
       "      <th>airport_name</th>\n",
       "      <th>arr_flights</th>\n",
       "      <th>arr_del15</th>\n",
       "      <th>carrier_ct</th>\n",
       "      <th>weather_ct</th>\n",
       "      <th>...</th>\n",
       "      <th>security_ct</th>\n",
       "      <th>late_aircraft_ct</th>\n",
       "      <th>arr_cancelled</th>\n",
       "      <th>arr_diverted</th>\n",
       "      <th>arr_delay</th>\n",
       "      <th>carrier_delay</th>\n",
       "      <th>weather_delay</th>\n",
       "      <th>nas_delay</th>\n",
       "      <th>security_delay</th>\n",
       "      <th>late_aircraft_delay</th>\n",
       "    </tr>\n",
       "  </thead>\n",
       "  <tbody>\n",
       "    <tr>\n",
       "      <th>0</th>\n",
       "      <td>2019</td>\n",
       "      <td>12</td>\n",
       "      <td>EV</td>\n",
       "      <td>ExpressJet Airlines LLC</td>\n",
       "      <td>BDL</td>\n",
       "      <td>Hartford, CT: Bradley International</td>\n",
       "      <td>14.0</td>\n",
       "      <td>4.0</td>\n",
       "      <td>2.00</td>\n",
       "      <td>0.00</td>\n",
       "      <td>...</td>\n",
       "      <td>0.0</td>\n",
       "      <td>2.00</td>\n",
       "      <td>0.0</td>\n",
       "      <td>0.0</td>\n",
       "      <td>114.0</td>\n",
       "      <td>61.0</td>\n",
       "      <td>0.0</td>\n",
       "      <td>0.0</td>\n",
       "      <td>0.0</td>\n",
       "      <td>53.0</td>\n",
       "    </tr>\n",
       "    <tr>\n",
       "      <th>1</th>\n",
       "      <td>2019</td>\n",
       "      <td>12</td>\n",
       "      <td>EV</td>\n",
       "      <td>ExpressJet Airlines LLC</td>\n",
       "      <td>BGR</td>\n",
       "      <td>Bangor, ME: Bangor International</td>\n",
       "      <td>34.0</td>\n",
       "      <td>16.0</td>\n",
       "      <td>4.12</td>\n",
       "      <td>0.00</td>\n",
       "      <td>...</td>\n",
       "      <td>0.0</td>\n",
       "      <td>7.98</td>\n",
       "      <td>2.0</td>\n",
       "      <td>0.0</td>\n",
       "      <td>1450.0</td>\n",
       "      <td>682.0</td>\n",
       "      <td>0.0</td>\n",
       "      <td>231.0</td>\n",
       "      <td>0.0</td>\n",
       "      <td>537.0</td>\n",
       "    </tr>\n",
       "    <tr>\n",
       "      <th>2</th>\n",
       "      <td>2019</td>\n",
       "      <td>12</td>\n",
       "      <td>EV</td>\n",
       "      <td>ExpressJet Airlines LLC</td>\n",
       "      <td>BHM</td>\n",
       "      <td>Birmingham, AL: Birmingham-Shuttlesworth Inter...</td>\n",
       "      <td>65.0</td>\n",
       "      <td>13.0</td>\n",
       "      <td>4.52</td>\n",
       "      <td>0.04</td>\n",
       "      <td>...</td>\n",
       "      <td>0.0</td>\n",
       "      <td>2.48</td>\n",
       "      <td>0.0</td>\n",
       "      <td>0.0</td>\n",
       "      <td>572.0</td>\n",
       "      <td>233.0</td>\n",
       "      <td>2.0</td>\n",
       "      <td>206.0</td>\n",
       "      <td>0.0</td>\n",
       "      <td>131.0</td>\n",
       "    </tr>\n",
       "  </tbody>\n",
       "</table>\n",
       "<p>3 rows × 21 columns</p>\n",
       "</div>"
      ],
      "text/plain": [
       "   year  month carrier             carrier_name airport  \\\n",
       "0  2019     12      EV  ExpressJet Airlines LLC     BDL   \n",
       "1  2019     12      EV  ExpressJet Airlines LLC     BGR   \n",
       "2  2019     12      EV  ExpressJet Airlines LLC     BHM   \n",
       "\n",
       "                                        airport_name  arr_flights  arr_del15  \\\n",
       "0                Hartford, CT: Bradley International         14.0        4.0   \n",
       "1                   Bangor, ME: Bangor International         34.0       16.0   \n",
       "2  Birmingham, AL: Birmingham-Shuttlesworth Inter...         65.0       13.0   \n",
       "\n",
       "   carrier_ct  weather_ct  ...  security_ct  late_aircraft_ct  arr_cancelled  \\\n",
       "0        2.00        0.00  ...          0.0              2.00            0.0   \n",
       "1        4.12        0.00  ...          0.0              7.98            2.0   \n",
       "2        4.52        0.04  ...          0.0              2.48            0.0   \n",
       "\n",
       "   arr_diverted  arr_delay  carrier_delay  weather_delay  nas_delay  \\\n",
       "0           0.0      114.0           61.0            0.0        0.0   \n",
       "1           0.0     1450.0          682.0            0.0      231.0   \n",
       "2           0.0      572.0          233.0            2.0      206.0   \n",
       "\n",
       "   security_delay  late_aircraft_delay  \n",
       "0             0.0                 53.0  \n",
       "1             0.0                537.0  \n",
       "2             0.0                131.0  \n",
       "\n",
       "[3 rows x 21 columns]"
      ]
     },
     "execution_count": 39,
     "metadata": {},
     "output_type": "execute_result"
    }
   ],
   "source": [
    "delays = pd.read_csv('../Data/Airline_Delay_Cause_2010_20.csv')\n",
    "delays.head(3)"
   ]
  },
  {
   "cell_type": "code",
   "execution_count": 40,
   "id": "dd7036e6",
   "metadata": {},
   "outputs": [
    {
     "data": {
      "text/plain": [
       "2010"
      ]
     },
     "execution_count": 40,
     "metadata": {},
     "output_type": "execute_result"
    }
   ],
   "source": [
    "delays.year.min()"
   ]
  },
  {
   "cell_type": "code",
   "execution_count": 41,
   "id": "bcf75694",
   "metadata": {},
   "outputs": [
    {
     "data": {
      "text/plain": [
       "2019"
      ]
     },
     "execution_count": 41,
     "metadata": {},
     "output_type": "execute_result"
    }
   ],
   "source": [
    "delays.year.max()"
   ]
  },
  {
   "cell_type": "code",
   "execution_count": 42,
   "id": "8d4e944f",
   "metadata": {},
   "outputs": [
    {
     "data": {
      "text/plain": [
       "Index(['year', 'month', 'carrier', 'carrier_name', 'airport', 'airport_name',\n",
       "       'arr_flights', 'arr_del15', 'carrier_ct', 'weather_ct', 'nas_ct',\n",
       "       'security_ct', 'late_aircraft_ct', 'arr_cancelled', 'arr_diverted',\n",
       "       'arr_delay', 'carrier_delay', 'weather_delay', 'nas_delay',\n",
       "       'security_delay', 'late_aircraft_delay'],\n",
       "      dtype='object')"
      ]
     },
     "execution_count": 42,
     "metadata": {},
     "output_type": "execute_result"
    }
   ],
   "source": [
    "delays.columns"
   ]
  },
  {
   "cell_type": "code",
   "execution_count": 43,
   "id": "7fdd4d6d",
   "metadata": {},
   "outputs": [
    {
     "data": {
      "text/html": [
       "<div>\n",
       "<style scoped>\n",
       "    .dataframe tbody tr th:only-of-type {\n",
       "        vertical-align: middle;\n",
       "    }\n",
       "\n",
       "    .dataframe tbody tr th {\n",
       "        vertical-align: top;\n",
       "    }\n",
       "\n",
       "    .dataframe thead th {\n",
       "        text-align: right;\n",
       "    }\n",
       "</style>\n",
       "<table border=\"1\" class=\"dataframe\">\n",
       "  <thead>\n",
       "    <tr style=\"text-align: right;\">\n",
       "      <th></th>\n",
       "      <th>year_del</th>\n",
       "      <th>month_del</th>\n",
       "      <th>al_iata_del</th>\n",
       "      <th>carrier_del</th>\n",
       "      <th>airport_code_del</th>\n",
       "      <th>airport_name_del</th>\n",
       "      <th>arr_flights</th>\n",
       "      <th>arr_del15</th>\n",
       "      <th>carrier_ct</th>\n",
       "      <th>weather_ct</th>\n",
       "      <th>...</th>\n",
       "      <th>security_ct</th>\n",
       "      <th>late_aircraft_ct</th>\n",
       "      <th>arr_cancelled</th>\n",
       "      <th>arr_diverted</th>\n",
       "      <th>arr_delay</th>\n",
       "      <th>carrier_delay</th>\n",
       "      <th>weather_delay</th>\n",
       "      <th>nas_delay</th>\n",
       "      <th>security_delay</th>\n",
       "      <th>late_aircraft_delay</th>\n",
       "    </tr>\n",
       "  </thead>\n",
       "  <tbody>\n",
       "    <tr>\n",
       "      <th>0</th>\n",
       "      <td>2019</td>\n",
       "      <td>12</td>\n",
       "      <td>EV</td>\n",
       "      <td>ExpressJet Airlines LLC</td>\n",
       "      <td>BDL</td>\n",
       "      <td>Hartford, CT: Bradley International</td>\n",
       "      <td>14.0</td>\n",
       "      <td>4.0</td>\n",
       "      <td>2.0</td>\n",
       "      <td>0.0</td>\n",
       "      <td>...</td>\n",
       "      <td>0.0</td>\n",
       "      <td>2.0</td>\n",
       "      <td>0.0</td>\n",
       "      <td>0.0</td>\n",
       "      <td>114.0</td>\n",
       "      <td>61.0</td>\n",
       "      <td>0.0</td>\n",
       "      <td>0.0</td>\n",
       "      <td>0.0</td>\n",
       "      <td>53.0</td>\n",
       "    </tr>\n",
       "  </tbody>\n",
       "</table>\n",
       "<p>1 rows × 21 columns</p>\n",
       "</div>"
      ],
      "text/plain": [
       "   year_del  month_del al_iata_del              carrier_del airport_code_del  \\\n",
       "0      2019         12          EV  ExpressJet Airlines LLC              BDL   \n",
       "\n",
       "                      airport_name_del  arr_flights  arr_del15  carrier_ct  \\\n",
       "0  Hartford, CT: Bradley International         14.0        4.0         2.0   \n",
       "\n",
       "   weather_ct  ...  security_ct  late_aircraft_ct  arr_cancelled  \\\n",
       "0         0.0  ...          0.0               2.0            0.0   \n",
       "\n",
       "   arr_diverted  arr_delay  carrier_delay  weather_delay  nas_delay  \\\n",
       "0           0.0      114.0           61.0            0.0        0.0   \n",
       "\n",
       "   security_delay  late_aircraft_delay  \n",
       "0             0.0                 53.0  \n",
       "\n",
       "[1 rows x 21 columns]"
      ]
     },
     "execution_count": 43,
     "metadata": {},
     "output_type": "execute_result"
    }
   ],
   "source": [
    "delays.rename(columns = {'year':'year_del', 'month':'month_del', 'carrier':'al_iata_del', 'carrier_name':'carrier_del','airport':'airport_code_del', 'airport_name':'airport_name_del'}, inplace=True)\n",
    "delays.head(1)"
   ]
  },
  {
   "cell_type": "code",
   "execution_count": 44,
   "id": "302de627",
   "metadata": {},
   "outputs": [],
   "source": [
    "#delays['new_carrier_name'] = delays['carrier_name']\n",
    "#delays.head(2)"
   ]
  },
  {
   "cell_type": "code",
   "execution_count": 45,
   "id": "dbd1c520",
   "metadata": {},
   "outputs": [],
   "source": [
    "#delays['new_carrier_name'] = delays['new_carrier_name'].str.replace('-',' ')\n",
    "#delays.head(2)"
   ]
  },
  {
   "cell_type": "code",
   "execution_count": 46,
   "id": "ccfe00cd",
   "metadata": {},
   "outputs": [],
   "source": [
    "#delays['new_carrier_name'] = delays['new_carrier_name'].str.extract(r'(\\w+\\s+\\w+)')\n",
    "#delays.head(5)"
   ]
  },
  {
   "cell_type": "code",
   "execution_count": 47,
   "id": "b4d00d78",
   "metadata": {},
   "outputs": [
    {
     "name": "stdout",
     "output_type": "stream",
     "text": [
      "['AirTran Airways Corporation', 'Alaska Airlines Inc.', 'Allegiant Air', 'American Airlines Inc.', 'American Eagle Airlines Inc.', 'Atlantic Southeast Airlines', 'Comair Inc.', 'Continental Air Lines Inc.', 'Delta Air Lines Inc.', 'Endeavor Air Inc.', 'Envoy Air', 'ExpressJet Airlines Inc.', 'ExpressJet Airlines LLC', 'Frontier Airlines Inc.', 'Hawaiian Airlines Inc.', 'JetBlue Airways', 'Mesa Airlines Inc.', 'PSA Airlines Inc.', 'Pinnacle Airlines Inc.', 'Republic Airline', 'SkyWest Airlines Inc.', 'Southwest Airlines Co.', 'Spirit Air Lines', 'US Airways Inc.', 'United Air Lines Inc.', 'Virgin America']\n"
     ]
    }
   ],
   "source": [
    "print(sorted(delays['carrier_del'].unique()))"
   ]
  },
  {
   "cell_type": "code",
   "execution_count": 48,
   "id": "56d68f64",
   "metadata": {},
   "outputs": [
    {
     "data": {
      "text/plain": [
       "Index(['year_del', 'month_del', 'al_iata_del', 'carrier_del',\n",
       "       'airport_code_del', 'airport_name_del', 'arr_flights', 'arr_del15',\n",
       "       'carrier_ct', 'weather_ct', 'nas_ct', 'security_ct', 'late_aircraft_ct',\n",
       "       'arr_cancelled', 'arr_diverted', 'arr_delay', 'carrier_delay',\n",
       "       'weather_delay', 'nas_delay', 'security_delay', 'late_aircraft_delay'],\n",
       "      dtype='object')"
      ]
     },
     "execution_count": 48,
     "metadata": {},
     "output_type": "execute_result"
    }
   ],
   "source": [
    "delays.columns"
   ]
  },
  {
   "cell_type": "markdown",
   "id": "54e14e35",
   "metadata": {},
   "source": [
    "### --------------------------------------------------------------------------------------------------- end delays"
   ]
  },
  {
   "cell_type": "markdown",
   "id": "c2738b07",
   "metadata": {},
   "source": [
    "### Airplanes"
   ]
  },
  {
   "cell_type": "code",
   "execution_count": 49,
   "id": "ea880ecb",
   "metadata": {},
   "outputs": [
    {
     "data": {
      "text/html": [
       "<div>\n",
       "<style scoped>\n",
       "    .dataframe tbody tr th:only-of-type {\n",
       "        vertical-align: middle;\n",
       "    }\n",
       "\n",
       "    .dataframe tbody tr th {\n",
       "        vertical-align: top;\n",
       "    }\n",
       "\n",
       "    .dataframe thead th {\n",
       "        text-align: right;\n",
       "    }\n",
       "</style>\n",
       "<table border=\"1\" class=\"dataframe\">\n",
       "  <thead>\n",
       "    <tr style=\"text-align: right;\">\n",
       "      <th></th>\n",
       "      <th>Name</th>\n",
       "      <th>IATA code</th>\n",
       "      <th>ICAO code</th>\n",
       "    </tr>\n",
       "  </thead>\n",
       "  <tbody>\n",
       "    <tr>\n",
       "      <th>0</th>\n",
       "      <td>Aerospatiale (Nord) 262</td>\n",
       "      <td>ND2</td>\n",
       "      <td>N262</td>\n",
       "    </tr>\n",
       "    <tr>\n",
       "      <th>1</th>\n",
       "      <td>Aerospatiale (Sud Aviation) Se.210 Caravelle</td>\n",
       "      <td>CRV</td>\n",
       "      <td>S210</td>\n",
       "    </tr>\n",
       "    <tr>\n",
       "      <th>2</th>\n",
       "      <td>Aerospatiale SN.601 Corvette</td>\n",
       "      <td>NDC</td>\n",
       "      <td>S601</td>\n",
       "    </tr>\n",
       "    <tr>\n",
       "      <th>3</th>\n",
       "      <td>Aerospatiale/Alenia ATR 42-300</td>\n",
       "      <td>AT4</td>\n",
       "      <td>AT43</td>\n",
       "    </tr>\n",
       "    <tr>\n",
       "      <th>4</th>\n",
       "      <td>Aerospatiale/Alenia ATR 42-500</td>\n",
       "      <td>AT5</td>\n",
       "      <td>AT45</td>\n",
       "    </tr>\n",
       "  </tbody>\n",
       "</table>\n",
       "</div>"
      ],
      "text/plain": [
       "                                           Name IATA code ICAO code\n",
       "0                       Aerospatiale (Nord) 262       ND2      N262\n",
       "1  Aerospatiale (Sud Aviation) Se.210 Caravelle       CRV      S210\n",
       "2                  Aerospatiale SN.601 Corvette       NDC      S601\n",
       "3                Aerospatiale/Alenia ATR 42-300       AT4      AT43\n",
       "4                Aerospatiale/Alenia ATR 42-500       AT5      AT45"
      ]
     },
     "execution_count": 49,
     "metadata": {},
     "output_type": "execute_result"
    }
   ],
   "source": [
    "airplanes = pd.read_csv('../Data/airplanes.csv')\n",
    "airplanes.head()"
   ]
  },
  {
   "cell_type": "code",
   "execution_count": 50,
   "id": "7752cbc4",
   "metadata": {},
   "outputs": [
    {
     "data": {
      "text/html": [
       "<div>\n",
       "<style scoped>\n",
       "    .dataframe tbody tr th:only-of-type {\n",
       "        vertical-align: middle;\n",
       "    }\n",
       "\n",
       "    .dataframe tbody tr th {\n",
       "        vertical-align: top;\n",
       "    }\n",
       "\n",
       "    .dataframe thead th {\n",
       "        text-align: right;\n",
       "    }\n",
       "</style>\n",
       "<table border=\"1\" class=\"dataframe\">\n",
       "  <thead>\n",
       "    <tr style=\"text-align: right;\">\n",
       "      <th></th>\n",
       "      <th>Plane</th>\n",
       "      <th>Plane_IATA</th>\n",
       "      <th>Plane_ICAO</th>\n",
       "    </tr>\n",
       "  </thead>\n",
       "  <tbody>\n",
       "    <tr>\n",
       "      <th>0</th>\n",
       "      <td>Aerospatiale (Nord) 262</td>\n",
       "      <td>ND2</td>\n",
       "      <td>N262</td>\n",
       "    </tr>\n",
       "    <tr>\n",
       "      <th>1</th>\n",
       "      <td>Aerospatiale (Sud Aviation) Se.210 Caravelle</td>\n",
       "      <td>CRV</td>\n",
       "      <td>S210</td>\n",
       "    </tr>\n",
       "    <tr>\n",
       "      <th>2</th>\n",
       "      <td>Aerospatiale SN.601 Corvette</td>\n",
       "      <td>NDC</td>\n",
       "      <td>S601</td>\n",
       "    </tr>\n",
       "    <tr>\n",
       "      <th>3</th>\n",
       "      <td>Aerospatiale/Alenia ATR 42-300</td>\n",
       "      <td>AT4</td>\n",
       "      <td>AT43</td>\n",
       "    </tr>\n",
       "    <tr>\n",
       "      <th>4</th>\n",
       "      <td>Aerospatiale/Alenia ATR 42-500</td>\n",
       "      <td>AT5</td>\n",
       "      <td>AT45</td>\n",
       "    </tr>\n",
       "  </tbody>\n",
       "</table>\n",
       "</div>"
      ],
      "text/plain": [
       "                                          Plane Plane_IATA Plane_ICAO\n",
       "0                       Aerospatiale (Nord) 262        ND2       N262\n",
       "1  Aerospatiale (Sud Aviation) Se.210 Caravelle        CRV       S210\n",
       "2                  Aerospatiale SN.601 Corvette        NDC       S601\n",
       "3                Aerospatiale/Alenia ATR 42-300        AT4       AT43\n",
       "4                Aerospatiale/Alenia ATR 42-500        AT5       AT45"
      ]
     },
     "execution_count": 50,
     "metadata": {},
     "output_type": "execute_result"
    }
   ],
   "source": [
    "airplanes.rename(columns = {'Name':'Plane', 'IATA code':'Plane_IATA','ICAO code':'Plane_ICAO'}, inplace=True)\n",
    "airplanes.head()"
   ]
  },
  {
   "cell_type": "code",
   "execution_count": 51,
   "id": "747980c7",
   "metadata": {},
   "outputs": [
    {
     "data": {
      "text/plain": [
       "Plane         0\n",
       "Plane_IATA    0\n",
       "Plane_ICAO    0\n",
       "dtype: int64"
      ]
     },
     "execution_count": 51,
     "metadata": {},
     "output_type": "execute_result"
    }
   ],
   "source": [
    "airplanes.isnull().sum()"
   ]
  },
  {
   "cell_type": "markdown",
   "id": "f445591f",
   "metadata": {},
   "source": [
    "### -------------------------------------------------------------------------------- end airplanes"
   ]
  },
  {
   "cell_type": "markdown",
   "id": "424a138e",
   "metadata": {},
   "source": [
    "### Routes (not helpful b/c of lack of records - use passengers data instead)"
   ]
  },
  {
   "cell_type": "code",
   "execution_count": 52,
   "id": "034de774",
   "metadata": {},
   "outputs": [
    {
     "data": {
      "text/html": [
       "<div>\n",
       "<style scoped>\n",
       "    .dataframe tbody tr th:only-of-type {\n",
       "        vertical-align: middle;\n",
       "    }\n",
       "\n",
       "    .dataframe tbody tr th {\n",
       "        vertical-align: top;\n",
       "    }\n",
       "\n",
       "    .dataframe thead th {\n",
       "        text-align: right;\n",
       "    }\n",
       "</style>\n",
       "<table border=\"1\" class=\"dataframe\">\n",
       "  <thead>\n",
       "    <tr style=\"text-align: right;\">\n",
       "      <th></th>\n",
       "      <th>Airline</th>\n",
       "      <th>Airline ID</th>\n",
       "      <th>Source airport</th>\n",
       "      <th>Source airport ID</th>\n",
       "      <th>Destination airport</th>\n",
       "      <th>Destination airport ID</th>\n",
       "      <th>Codeshare</th>\n",
       "      <th>Stops</th>\n",
       "      <th>Equipment</th>\n",
       "    </tr>\n",
       "  </thead>\n",
       "  <tbody>\n",
       "    <tr>\n",
       "      <th>0</th>\n",
       "      <td>2B</td>\n",
       "      <td>410</td>\n",
       "      <td>AER</td>\n",
       "      <td>2965</td>\n",
       "      <td>KZN</td>\n",
       "      <td>2990</td>\n",
       "      <td>NaN</td>\n",
       "      <td>0</td>\n",
       "      <td>CR2</td>\n",
       "    </tr>\n",
       "    <tr>\n",
       "      <th>1</th>\n",
       "      <td>2B</td>\n",
       "      <td>410</td>\n",
       "      <td>ASF</td>\n",
       "      <td>2966</td>\n",
       "      <td>KZN</td>\n",
       "      <td>2990</td>\n",
       "      <td>NaN</td>\n",
       "      <td>0</td>\n",
       "      <td>CR2</td>\n",
       "    </tr>\n",
       "    <tr>\n",
       "      <th>2</th>\n",
       "      <td>2B</td>\n",
       "      <td>410</td>\n",
       "      <td>ASF</td>\n",
       "      <td>2966</td>\n",
       "      <td>MRV</td>\n",
       "      <td>2962</td>\n",
       "      <td>NaN</td>\n",
       "      <td>0</td>\n",
       "      <td>CR2</td>\n",
       "    </tr>\n",
       "    <tr>\n",
       "      <th>3</th>\n",
       "      <td>2B</td>\n",
       "      <td>410</td>\n",
       "      <td>CEK</td>\n",
       "      <td>2968</td>\n",
       "      <td>KZN</td>\n",
       "      <td>2990</td>\n",
       "      <td>NaN</td>\n",
       "      <td>0</td>\n",
       "      <td>CR2</td>\n",
       "    </tr>\n",
       "    <tr>\n",
       "      <th>4</th>\n",
       "      <td>2B</td>\n",
       "      <td>410</td>\n",
       "      <td>CEK</td>\n",
       "      <td>2968</td>\n",
       "      <td>OVB</td>\n",
       "      <td>4078</td>\n",
       "      <td>NaN</td>\n",
       "      <td>0</td>\n",
       "      <td>CR2</td>\n",
       "    </tr>\n",
       "  </tbody>\n",
       "</table>\n",
       "</div>"
      ],
      "text/plain": [
       "  Airline Airline ID Source airport Source airport ID Destination airport  \\\n",
       "0      2B        410            AER              2965                 KZN   \n",
       "1      2B        410            ASF              2966                 KZN   \n",
       "2      2B        410            ASF              2966                 MRV   \n",
       "3      2B        410            CEK              2968                 KZN   \n",
       "4      2B        410            CEK              2968                 OVB   \n",
       "\n",
       "  Destination airport ID Codeshare  Stops Equipment  \n",
       "0                   2990       NaN      0       CR2  \n",
       "1                   2990       NaN      0       CR2  \n",
       "2                   2962       NaN      0       CR2  \n",
       "3                   2990       NaN      0       CR2  \n",
       "4                   4078       NaN      0       CR2  "
      ]
     },
     "execution_count": 52,
     "metadata": {},
     "output_type": "execute_result"
    }
   ],
   "source": [
    "routes = pd.read_csv('../Data/routes.csv')\n",
    "routes.head()"
   ]
  },
  {
   "cell_type": "code",
   "execution_count": 53,
   "id": "9110ca9c",
   "metadata": {},
   "outputs": [
    {
     "data": {
      "text/plain": [
       "(67663, 9)"
      ]
     },
     "execution_count": 53,
     "metadata": {},
     "output_type": "execute_result"
    }
   ],
   "source": [
    "routes.shape"
   ]
  },
  {
   "cell_type": "code",
   "execution_count": 54,
   "id": "3bab5516",
   "metadata": {},
   "outputs": [
    {
     "data": {
      "text/plain": [
       "Airline                       0\n",
       "Airline ID                    0\n",
       "Source airport                0\n",
       "Source airport ID             0\n",
       "Destination airport           0\n",
       "Destination airport ID        0\n",
       "Codeshare                 53066\n",
       "Stops                         0\n",
       "Equipment                    18\n",
       "dtype: int64"
      ]
     },
     "execution_count": 54,
     "metadata": {},
     "output_type": "execute_result"
    }
   ],
   "source": [
    "routes.isnull().sum()"
   ]
  },
  {
   "cell_type": "code",
   "execution_count": 55,
   "id": "c33d8d5d",
   "metadata": {},
   "outputs": [
    {
     "data": {
      "text/html": [
       "<div>\n",
       "<style scoped>\n",
       "    .dataframe tbody tr th:only-of-type {\n",
       "        vertical-align: middle;\n",
       "    }\n",
       "\n",
       "    .dataframe tbody tr th {\n",
       "        vertical-align: top;\n",
       "    }\n",
       "\n",
       "    .dataframe thead th {\n",
       "        text-align: right;\n",
       "    }\n",
       "</style>\n",
       "<table border=\"1\" class=\"dataframe\">\n",
       "  <thead>\n",
       "    <tr style=\"text-align: right;\">\n",
       "      <th></th>\n",
       "      <th>Airline</th>\n",
       "      <th>Airline ID</th>\n",
       "      <th>Source airport</th>\n",
       "      <th>Source airport ID</th>\n",
       "      <th>Destination airport</th>\n",
       "      <th>Destination airport ID</th>\n",
       "      <th>Stops</th>\n",
       "      <th>Equipment</th>\n",
       "    </tr>\n",
       "  </thead>\n",
       "  <tbody>\n",
       "    <tr>\n",
       "      <th>0</th>\n",
       "      <td>2B</td>\n",
       "      <td>410</td>\n",
       "      <td>AER</td>\n",
       "      <td>2965</td>\n",
       "      <td>KZN</td>\n",
       "      <td>2990</td>\n",
       "      <td>0</td>\n",
       "      <td>CR2</td>\n",
       "    </tr>\n",
       "  </tbody>\n",
       "</table>\n",
       "</div>"
      ],
      "text/plain": [
       "  Airline Airline ID Source airport Source airport ID Destination airport  \\\n",
       "0      2B        410            AER              2965                 KZN   \n",
       "\n",
       "  Destination airport ID  Stops Equipment  \n",
       "0                   2990      0       CR2  "
      ]
     },
     "execution_count": 55,
     "metadata": {},
     "output_type": "execute_result"
    }
   ],
   "source": [
    "routes.drop('Codeshare', axis=1, inplace=True)\n",
    "routes.head(1)"
   ]
  },
  {
   "cell_type": "code",
   "execution_count": 56,
   "id": "183cce45",
   "metadata": {},
   "outputs": [
    {
     "data": {
      "text/html": [
       "<div>\n",
       "<style scoped>\n",
       "    .dataframe tbody tr th:only-of-type {\n",
       "        vertical-align: middle;\n",
       "    }\n",
       "\n",
       "    .dataframe tbody tr th {\n",
       "        vertical-align: top;\n",
       "    }\n",
       "\n",
       "    .dataframe thead th {\n",
       "        text-align: right;\n",
       "    }\n",
       "</style>\n",
       "<table border=\"1\" class=\"dataframe\">\n",
       "  <thead>\n",
       "    <tr style=\"text-align: right;\">\n",
       "      <th></th>\n",
       "      <th>Airline_IATA_r</th>\n",
       "      <th>Airline_ID_r</th>\n",
       "      <th>Source_ap_r</th>\n",
       "      <th>Source_ap_ID_r</th>\n",
       "      <th>Dest_ap_r</th>\n",
       "      <th>Dest_ap_ID_r</th>\n",
       "      <th>Stops_r</th>\n",
       "      <th>Plane_IATA_r</th>\n",
       "    </tr>\n",
       "  </thead>\n",
       "  <tbody>\n",
       "    <tr>\n",
       "      <th>0</th>\n",
       "      <td>2B</td>\n",
       "      <td>410</td>\n",
       "      <td>AER</td>\n",
       "      <td>2965</td>\n",
       "      <td>KZN</td>\n",
       "      <td>2990</td>\n",
       "      <td>0</td>\n",
       "      <td>CR2</td>\n",
       "    </tr>\n",
       "  </tbody>\n",
       "</table>\n",
       "</div>"
      ],
      "text/plain": [
       "  Airline_IATA_r Airline_ID_r Source_ap_r Source_ap_ID_r Dest_ap_r  \\\n",
       "0             2B          410         AER           2965       KZN   \n",
       "\n",
       "  Dest_ap_ID_r  Stops_r Plane_IATA_r  \n",
       "0         2990        0          CR2  "
      ]
     },
     "execution_count": 56,
     "metadata": {},
     "output_type": "execute_result"
    }
   ],
   "source": [
    "routes.rename(columns = {'Airline':'Airline_IATA_r', 'Airline ID':'Airline_ID_r', 'Source airport': 'Source_ap_r', 'Source airport ID': 'Source_ap_ID_r', 'Destination airport': 'Dest_ap_r', 'Destination airport ID': 'Dest_ap_ID_r', 'Stops':'Stops_r','Equipment':'Plane_IATA_r'}, inplace=True)\n",
    "routes.head(1)"
   ]
  },
  {
   "cell_type": "markdown",
   "id": "f51f8206",
   "metadata": {},
   "source": [
    "### ------------------------------------------------------------------------------------------------------------------- end routes"
   ]
  },
  {
   "cell_type": "code",
   "execution_count": 57,
   "id": "3de52aa5",
   "metadata": {},
   "outputs": [],
   "source": [
    "### Finding Number of Carrier Delays by more than 15 minutes\n",
    "### Join Airlines with Delays"
   ]
  },
  {
   "cell_type": "code",
   "execution_count": 58,
   "id": "6e0cb906",
   "metadata": {},
   "outputs": [
    {
     "data": {
      "text/html": [
       "<div>\n",
       "<style scoped>\n",
       "    .dataframe tbody tr th:only-of-type {\n",
       "        vertical-align: middle;\n",
       "    }\n",
       "\n",
       "    .dataframe tbody tr th {\n",
       "        vertical-align: top;\n",
       "    }\n",
       "\n",
       "    .dataframe thead th {\n",
       "        text-align: right;\n",
       "    }\n",
       "</style>\n",
       "<table border=\"1\" class=\"dataframe\">\n",
       "  <thead>\n",
       "    <tr style=\"text-align: right;\">\n",
       "      <th></th>\n",
       "      <th>year_del</th>\n",
       "      <th>month_del</th>\n",
       "      <th>al_iata_del</th>\n",
       "      <th>carrier_del</th>\n",
       "      <th>airport_code_del</th>\n",
       "      <th>airport_name_del</th>\n",
       "      <th>arr_flights</th>\n",
       "      <th>arr_del15</th>\n",
       "      <th>carrier_ct</th>\n",
       "      <th>weather_ct</th>\n",
       "      <th>...</th>\n",
       "      <th>security_ct</th>\n",
       "      <th>late_aircraft_ct</th>\n",
       "      <th>arr_cancelled</th>\n",
       "      <th>arr_diverted</th>\n",
       "      <th>arr_delay</th>\n",
       "      <th>carrier_delay</th>\n",
       "      <th>weather_delay</th>\n",
       "      <th>nas_delay</th>\n",
       "      <th>security_delay</th>\n",
       "      <th>late_aircraft_delay</th>\n",
       "    </tr>\n",
       "  </thead>\n",
       "  <tbody>\n",
       "    <tr>\n",
       "      <th>0</th>\n",
       "      <td>2019</td>\n",
       "      <td>12</td>\n",
       "      <td>EV</td>\n",
       "      <td>ExpressJet Airlines LLC</td>\n",
       "      <td>BDL</td>\n",
       "      <td>Hartford, CT: Bradley International</td>\n",
       "      <td>14.0</td>\n",
       "      <td>4.0</td>\n",
       "      <td>2.00</td>\n",
       "      <td>0.0</td>\n",
       "      <td>...</td>\n",
       "      <td>0.0</td>\n",
       "      <td>2.00</td>\n",
       "      <td>0.0</td>\n",
       "      <td>0.0</td>\n",
       "      <td>114.0</td>\n",
       "      <td>61.0</td>\n",
       "      <td>0.0</td>\n",
       "      <td>0.0</td>\n",
       "      <td>0.0</td>\n",
       "      <td>53.0</td>\n",
       "    </tr>\n",
       "    <tr>\n",
       "      <th>1</th>\n",
       "      <td>2019</td>\n",
       "      <td>12</td>\n",
       "      <td>EV</td>\n",
       "      <td>ExpressJet Airlines LLC</td>\n",
       "      <td>BGR</td>\n",
       "      <td>Bangor, ME: Bangor International</td>\n",
       "      <td>34.0</td>\n",
       "      <td>16.0</td>\n",
       "      <td>4.12</td>\n",
       "      <td>0.0</td>\n",
       "      <td>...</td>\n",
       "      <td>0.0</td>\n",
       "      <td>7.98</td>\n",
       "      <td>2.0</td>\n",
       "      <td>0.0</td>\n",
       "      <td>1450.0</td>\n",
       "      <td>682.0</td>\n",
       "      <td>0.0</td>\n",
       "      <td>231.0</td>\n",
       "      <td>0.0</td>\n",
       "      <td>537.0</td>\n",
       "    </tr>\n",
       "  </tbody>\n",
       "</table>\n",
       "<p>2 rows × 21 columns</p>\n",
       "</div>"
      ],
      "text/plain": [
       "   year_del  month_del al_iata_del              carrier_del airport_code_del  \\\n",
       "0      2019         12          EV  ExpressJet Airlines LLC              BDL   \n",
       "1      2019         12          EV  ExpressJet Airlines LLC              BGR   \n",
       "\n",
       "                      airport_name_del  arr_flights  arr_del15  carrier_ct  \\\n",
       "0  Hartford, CT: Bradley International         14.0        4.0        2.00   \n",
       "1     Bangor, ME: Bangor International         34.0       16.0        4.12   \n",
       "\n",
       "   weather_ct  ...  security_ct  late_aircraft_ct  arr_cancelled  \\\n",
       "0         0.0  ...          0.0              2.00            0.0   \n",
       "1         0.0  ...          0.0              7.98            2.0   \n",
       "\n",
       "   arr_diverted  arr_delay  carrier_delay  weather_delay  nas_delay  \\\n",
       "0           0.0      114.0           61.0            0.0        0.0   \n",
       "1           0.0     1450.0          682.0            0.0      231.0   \n",
       "\n",
       "   security_delay  late_aircraft_delay  \n",
       "0             0.0                 53.0  \n",
       "1             0.0                537.0  \n",
       "\n",
       "[2 rows x 21 columns]"
      ]
     },
     "execution_count": 58,
     "metadata": {},
     "output_type": "execute_result"
    }
   ],
   "source": [
    "delays.head(2)"
   ]
  },
  {
   "cell_type": "code",
   "execution_count": 59,
   "id": "fbf878ed",
   "metadata": {},
   "outputs": [
    {
     "data": {
      "text/plain": [
       "array(['ExpressJet Airlines LLC', 'Frontier Airlines Inc.',\n",
       "       'Allegiant Air', 'Hawaiian Airlines Inc.', 'Envoy Air',\n",
       "       'Spirit Air Lines', 'Southwest Airlines Co.', 'Mesa Airlines Inc.',\n",
       "       'Republic Airline', 'PSA Airlines Inc.', 'SkyWest Airlines Inc.',\n",
       "       'United Air Lines Inc.', 'Endeavor Air Inc.',\n",
       "       'American Airlines Inc.', 'Alaska Airlines Inc.',\n",
       "       'JetBlue Airways', 'Delta Air Lines Inc.',\n",
       "       'ExpressJet Airlines Inc.', 'Virgin America', 'US Airways Inc.',\n",
       "       'AirTran Airways Corporation', 'American Eagle Airlines Inc.',\n",
       "       'Pinnacle Airlines Inc.', 'Atlantic Southeast Airlines',\n",
       "       'Continental Air Lines Inc.', 'Comair Inc.'], dtype=object)"
      ]
     },
     "execution_count": 59,
     "metadata": {},
     "output_type": "execute_result"
    }
   ],
   "source": [
    "delays.carrier_del.unique()"
   ]
  },
  {
   "cell_type": "code",
   "execution_count": 60,
   "id": "56a11341",
   "metadata": {},
   "outputs": [
    {
     "data": {
      "text/plain": [
       "Index(['year_del', 'month_del', 'al_iata_del', 'carrier_del',\n",
       "       'airport_code_del', 'airport_name_del', 'arr_flights', 'arr_del15',\n",
       "       'carrier_ct', 'weather_ct', 'nas_ct', 'security_ct', 'late_aircraft_ct',\n",
       "       'arr_cancelled', 'arr_diverted', 'arr_delay', 'carrier_delay',\n",
       "       'weather_delay', 'nas_delay', 'security_delay', 'late_aircraft_delay'],\n",
       "      dtype='object')"
      ]
     },
     "execution_count": 60,
     "metadata": {},
     "output_type": "execute_result"
    }
   ],
   "source": [
    "delays.columns"
   ]
  },
  {
   "cell_type": "code",
   "execution_count": 61,
   "id": "05a0bb47",
   "metadata": {},
   "outputs": [
    {
     "data": {
      "text/plain": [
       "array(['Unknown', 'Private flight', '1Time Airline', ...,\n",
       "       'Jetgo Australia', 'Air Carnival', 'Svyaz Rossiya'], dtype=object)"
      ]
     },
     "execution_count": 61,
     "metadata": {},
     "output_type": "execute_result"
    }
   ],
   "source": [
    "airlines.Name_al.unique()"
   ]
  },
  {
   "cell_type": "code",
   "execution_count": 62,
   "id": "ae2f0b1a",
   "metadata": {},
   "outputs": [
    {
     "data": {
      "text/html": [
       "<div>\n",
       "<style scoped>\n",
       "    .dataframe tbody tr th:only-of-type {\n",
       "        vertical-align: middle;\n",
       "    }\n",
       "\n",
       "    .dataframe tbody tr th {\n",
       "        vertical-align: top;\n",
       "    }\n",
       "\n",
       "    .dataframe thead th {\n",
       "        text-align: right;\n",
       "    }\n",
       "</style>\n",
       "<table border=\"1\" class=\"dataframe\">\n",
       "  <thead>\n",
       "    <tr style=\"text-align: right;\">\n",
       "      <th></th>\n",
       "      <th>AirLine_ID_al</th>\n",
       "      <th>Name_al</th>\n",
       "      <th>IATA_al</th>\n",
       "      <th>ICAO_al</th>\n",
       "      <th>Country_al</th>\n",
       "      <th>Active_al</th>\n",
       "    </tr>\n",
       "  </thead>\n",
       "  <tbody>\n",
       "    <tr>\n",
       "      <th>0</th>\n",
       "      <td>-1</td>\n",
       "      <td>Unknown</td>\n",
       "      <td>-</td>\n",
       "      <td>NaN</td>\n",
       "      <td>\\N</td>\n",
       "      <td>Y</td>\n",
       "    </tr>\n",
       "    <tr>\n",
       "      <th>1</th>\n",
       "      <td>1</td>\n",
       "      <td>Private flight</td>\n",
       "      <td>-</td>\n",
       "      <td>NaN</td>\n",
       "      <td>NaN</td>\n",
       "      <td>Y</td>\n",
       "    </tr>\n",
       "    <tr>\n",
       "      <th>3</th>\n",
       "      <td>3</td>\n",
       "      <td>1Time Airline</td>\n",
       "      <td>1T</td>\n",
       "      <td>RNX</td>\n",
       "      <td>South Africa</td>\n",
       "      <td>Y</td>\n",
       "    </tr>\n",
       "    <tr>\n",
       "      <th>10</th>\n",
       "      <td>10</td>\n",
       "      <td>40-Mile Air</td>\n",
       "      <td>Q5</td>\n",
       "      <td>MLA</td>\n",
       "      <td>United States</td>\n",
       "      <td>Y</td>\n",
       "    </tr>\n",
       "    <tr>\n",
       "      <th>13</th>\n",
       "      <td>13</td>\n",
       "      <td>Ansett Australia</td>\n",
       "      <td>AN</td>\n",
       "      <td>AAA</td>\n",
       "      <td>Australia</td>\n",
       "      <td>Y</td>\n",
       "    </tr>\n",
       "  </tbody>\n",
       "</table>\n",
       "</div>"
      ],
      "text/plain": [
       "    AirLine_ID_al           Name_al IATA_al ICAO_al     Country_al Active_al\n",
       "0              -1           Unknown       -     NaN             \\N         Y\n",
       "1               1    Private flight       -     NaN            NaN         Y\n",
       "3               3     1Time Airline      1T     RNX   South Africa         Y\n",
       "10             10       40-Mile Air      Q5     MLA  United States         Y\n",
       "13             13  Ansett Australia      AN     AAA      Australia         Y"
      ]
     },
     "execution_count": 62,
     "metadata": {},
     "output_type": "execute_result"
    }
   ],
   "source": [
    "airlines.head()"
   ]
  },
  {
   "cell_type": "code",
   "execution_count": 63,
   "id": "12db76ef",
   "metadata": {},
   "outputs": [
    {
     "data": {
      "text/plain": [
       "year_del                 0\n",
       "month_del                0\n",
       "al_iata_del              0\n",
       "carrier_del              0\n",
       "airport_code_del         0\n",
       "airport_name_del         0\n",
       "arr_flights            162\n",
       "arr_del15              195\n",
       "carrier_ct             162\n",
       "weather_ct             162\n",
       "nas_ct                 162\n",
       "security_ct            162\n",
       "late_aircraft_ct       162\n",
       "arr_cancelled          162\n",
       "arr_diverted           162\n",
       "arr_delay              162\n",
       "carrier_delay          162\n",
       "weather_delay          162\n",
       "nas_delay              162\n",
       "security_delay         162\n",
       "late_aircraft_delay    162\n",
       "dtype: int64"
      ]
     },
     "execution_count": 63,
     "metadata": {},
     "output_type": "execute_result"
    }
   ],
   "source": [
    "delays.isnull().sum()"
   ]
  },
  {
   "cell_type": "code",
   "execution_count": 64,
   "id": "9100b154",
   "metadata": {},
   "outputs": [
    {
     "data": {
      "text/plain": [
       "Index(['year_del', 'month_del', 'al_iata_del', 'carrier_del',\n",
       "       'airport_code_del', 'airport_name_del', 'arr_flights', 'arr_del15',\n",
       "       'carrier_ct', 'weather_ct', 'nas_ct', 'security_ct', 'late_aircraft_ct',\n",
       "       'arr_cancelled', 'arr_diverted', 'arr_delay', 'carrier_delay',\n",
       "       'weather_delay', 'nas_delay', 'security_delay', 'late_aircraft_delay'],\n",
       "      dtype='object')"
      ]
     },
     "execution_count": 64,
     "metadata": {},
     "output_type": "execute_result"
    }
   ],
   "source": [
    "delays.columns"
   ]
  },
  {
   "cell_type": "code",
   "execution_count": 65,
   "id": "ad37786a",
   "metadata": {},
   "outputs": [
    {
     "data": {
      "text/plain": [
       "Index(['AirLine_ID_al', 'Name_al', 'IATA_al', 'ICAO_al', 'Country_al',\n",
       "       'Active_al'],\n",
       "      dtype='object')"
      ]
     },
     "execution_count": 65,
     "metadata": {},
     "output_type": "execute_result"
    }
   ],
   "source": [
    "airlines.columns"
   ]
  },
  {
   "cell_type": "markdown",
   "id": "3d3dcdc8",
   "metadata": {},
   "source": [
    "### Merge Airline dataset with Delay dataset"
   ]
  },
  {
   "cell_type": "code",
   "execution_count": 66,
   "id": "74c8170c",
   "metadata": {},
   "outputs": [
    {
     "data": {
      "text/html": [
       "<div>\n",
       "<style scoped>\n",
       "    .dataframe tbody tr th:only-of-type {\n",
       "        vertical-align: middle;\n",
       "    }\n",
       "\n",
       "    .dataframe tbody tr th {\n",
       "        vertical-align: top;\n",
       "    }\n",
       "\n",
       "    .dataframe thead th {\n",
       "        text-align: right;\n",
       "    }\n",
       "</style>\n",
       "<table border=\"1\" class=\"dataframe\">\n",
       "  <thead>\n",
       "    <tr style=\"text-align: right;\">\n",
       "      <th></th>\n",
       "      <th>year_del</th>\n",
       "      <th>month_del</th>\n",
       "      <th>al_iata_del</th>\n",
       "      <th>carrier_del</th>\n",
       "      <th>airport_code_del</th>\n",
       "      <th>airport_name_del</th>\n",
       "      <th>arr_flights</th>\n",
       "      <th>arr_del15</th>\n",
       "      <th>carrier_ct</th>\n",
       "      <th>weather_ct</th>\n",
       "      <th>...</th>\n",
       "      <th>weather_delay</th>\n",
       "      <th>nas_delay</th>\n",
       "      <th>security_delay</th>\n",
       "      <th>late_aircraft_delay</th>\n",
       "      <th>AirLine_ID_al</th>\n",
       "      <th>Name_al</th>\n",
       "      <th>IATA_al</th>\n",
       "      <th>ICAO_al</th>\n",
       "      <th>Country_al</th>\n",
       "      <th>Active_al</th>\n",
       "    </tr>\n",
       "  </thead>\n",
       "  <tbody>\n",
       "    <tr>\n",
       "      <th>0</th>\n",
       "      <td>2019</td>\n",
       "      <td>12</td>\n",
       "      <td>EV</td>\n",
       "      <td>ExpressJet Airlines LLC</td>\n",
       "      <td>BDL</td>\n",
       "      <td>Hartford, CT: Bradley International</td>\n",
       "      <td>14.0</td>\n",
       "      <td>4.0</td>\n",
       "      <td>2.00</td>\n",
       "      <td>0.0</td>\n",
       "      <td>...</td>\n",
       "      <td>0.0</td>\n",
       "      <td>0.0</td>\n",
       "      <td>0.0</td>\n",
       "      <td>53.0</td>\n",
       "      <td>452</td>\n",
       "      <td>Atlantic Southeast Airlines</td>\n",
       "      <td>EV</td>\n",
       "      <td>ASQ</td>\n",
       "      <td>United States</td>\n",
       "      <td>Y</td>\n",
       "    </tr>\n",
       "    <tr>\n",
       "      <th>1</th>\n",
       "      <td>2019</td>\n",
       "      <td>12</td>\n",
       "      <td>EV</td>\n",
       "      <td>ExpressJet Airlines LLC</td>\n",
       "      <td>BGR</td>\n",
       "      <td>Bangor, ME: Bangor International</td>\n",
       "      <td>34.0</td>\n",
       "      <td>16.0</td>\n",
       "      <td>4.12</td>\n",
       "      <td>0.0</td>\n",
       "      <td>...</td>\n",
       "      <td>0.0</td>\n",
       "      <td>231.0</td>\n",
       "      <td>0.0</td>\n",
       "      <td>537.0</td>\n",
       "      <td>452</td>\n",
       "      <td>Atlantic Southeast Airlines</td>\n",
       "      <td>EV</td>\n",
       "      <td>ASQ</td>\n",
       "      <td>United States</td>\n",
       "      <td>Y</td>\n",
       "    </tr>\n",
       "  </tbody>\n",
       "</table>\n",
       "<p>2 rows × 27 columns</p>\n",
       "</div>"
      ],
      "text/plain": [
       "   year_del  month_del al_iata_del              carrier_del airport_code_del  \\\n",
       "0      2019         12          EV  ExpressJet Airlines LLC              BDL   \n",
       "1      2019         12          EV  ExpressJet Airlines LLC              BGR   \n",
       "\n",
       "                      airport_name_del  arr_flights  arr_del15  carrier_ct  \\\n",
       "0  Hartford, CT: Bradley International         14.0        4.0        2.00   \n",
       "1     Bangor, ME: Bangor International         34.0       16.0        4.12   \n",
       "\n",
       "   weather_ct  ...  weather_delay  nas_delay  security_delay  \\\n",
       "0         0.0  ...            0.0        0.0             0.0   \n",
       "1         0.0  ...            0.0      231.0             0.0   \n",
       "\n",
       "   late_aircraft_delay  AirLine_ID_al                      Name_al  IATA_al  \\\n",
       "0                 53.0            452  Atlantic Southeast Airlines       EV   \n",
       "1                537.0            452  Atlantic Southeast Airlines       EV   \n",
       "\n",
       "   ICAO_al     Country_al  Active_al  \n",
       "0      ASQ  United States          Y  \n",
       "1      ASQ  United States          Y  \n",
       "\n",
       "[2 rows x 27 columns]"
      ]
     },
     "execution_count": 66,
     "metadata": {},
     "output_type": "execute_result"
    }
   ],
   "source": [
    "#mergedStuff = pd.merge(df1, df2, on=['Name'], how='inner')\n",
    "delays_al = delays.merge(airlines, left_on='al_iata_del', right_on='IATA_al', how='left')\n",
    "delays_al.head(2)"
   ]
  },
  {
   "cell_type": "code",
   "execution_count": 67,
   "id": "09212af3",
   "metadata": {},
   "outputs": [
    {
     "data": {
      "text/plain": [
       "Index(['year_del', 'month_del', 'al_iata_del', 'carrier_del',\n",
       "       'airport_code_del', 'airport_name_del', 'arr_flights', 'arr_del15',\n",
       "       'carrier_ct', 'weather_ct', 'nas_ct', 'security_ct', 'late_aircraft_ct',\n",
       "       'arr_cancelled', 'arr_diverted', 'arr_delay', 'carrier_delay',\n",
       "       'weather_delay', 'nas_delay', 'security_delay', 'late_aircraft_delay',\n",
       "       'AirLine_ID_al', 'Name_al', 'IATA_al', 'ICAO_al', 'Country_al',\n",
       "       'Active_al'],\n",
       "      dtype='object')"
      ]
     },
     "execution_count": 67,
     "metadata": {},
     "output_type": "execute_result"
    }
   ],
   "source": [
    "delays_al.columns"
   ]
  },
  {
   "cell_type": "code",
   "execution_count": 68,
   "id": "6fba6794",
   "metadata": {},
   "outputs": [
    {
     "data": {
      "text/html": [
       "<div>\n",
       "<style scoped>\n",
       "    .dataframe tbody tr th:only-of-type {\n",
       "        vertical-align: middle;\n",
       "    }\n",
       "\n",
       "    .dataframe tbody tr th {\n",
       "        vertical-align: top;\n",
       "    }\n",
       "\n",
       "    .dataframe thead th {\n",
       "        text-align: right;\n",
       "    }\n",
       "</style>\n",
       "<table border=\"1\" class=\"dataframe\">\n",
       "  <thead>\n",
       "    <tr style=\"text-align: right;\">\n",
       "      <th></th>\n",
       "      <th>year_del</th>\n",
       "      <th>month_del</th>\n",
       "      <th>al_iata_del</th>\n",
       "      <th>carrier_del</th>\n",
       "      <th>airport_code_del</th>\n",
       "      <th>airport_name_del</th>\n",
       "      <th>AirLine_ID_al</th>\n",
       "      <th>Name_al</th>\n",
       "      <th>IATA_al</th>\n",
       "      <th>ICAO_al</th>\n",
       "      <th>...</th>\n",
       "      <th>security_ct</th>\n",
       "      <th>late_aircraft_ct</th>\n",
       "      <th>arr_cancelled</th>\n",
       "      <th>arr_diverted</th>\n",
       "      <th>arr_delay</th>\n",
       "      <th>carrier_delay</th>\n",
       "      <th>weather_delay</th>\n",
       "      <th>nas_delay</th>\n",
       "      <th>security_delay</th>\n",
       "      <th>late_aircraft_delay</th>\n",
       "    </tr>\n",
       "  </thead>\n",
       "  <tbody>\n",
       "    <tr>\n",
       "      <th>0</th>\n",
       "      <td>2019</td>\n",
       "      <td>12</td>\n",
       "      <td>EV</td>\n",
       "      <td>ExpressJet Airlines LLC</td>\n",
       "      <td>BDL</td>\n",
       "      <td>Hartford, CT: Bradley International</td>\n",
       "      <td>452</td>\n",
       "      <td>Atlantic Southeast Airlines</td>\n",
       "      <td>EV</td>\n",
       "      <td>ASQ</td>\n",
       "      <td>...</td>\n",
       "      <td>0.0</td>\n",
       "      <td>2.00</td>\n",
       "      <td>0.0</td>\n",
       "      <td>0.0</td>\n",
       "      <td>114.0</td>\n",
       "      <td>61.0</td>\n",
       "      <td>0.0</td>\n",
       "      <td>0.0</td>\n",
       "      <td>0.0</td>\n",
       "      <td>53.0</td>\n",
       "    </tr>\n",
       "    <tr>\n",
       "      <th>1</th>\n",
       "      <td>2019</td>\n",
       "      <td>12</td>\n",
       "      <td>EV</td>\n",
       "      <td>ExpressJet Airlines LLC</td>\n",
       "      <td>BGR</td>\n",
       "      <td>Bangor, ME: Bangor International</td>\n",
       "      <td>452</td>\n",
       "      <td>Atlantic Southeast Airlines</td>\n",
       "      <td>EV</td>\n",
       "      <td>ASQ</td>\n",
       "      <td>...</td>\n",
       "      <td>0.0</td>\n",
       "      <td>7.98</td>\n",
       "      <td>2.0</td>\n",
       "      <td>0.0</td>\n",
       "      <td>1450.0</td>\n",
       "      <td>682.0</td>\n",
       "      <td>0.0</td>\n",
       "      <td>231.0</td>\n",
       "      <td>0.0</td>\n",
       "      <td>537.0</td>\n",
       "    </tr>\n",
       "    <tr>\n",
       "      <th>2</th>\n",
       "      <td>2019</td>\n",
       "      <td>12</td>\n",
       "      <td>EV</td>\n",
       "      <td>ExpressJet Airlines LLC</td>\n",
       "      <td>BHM</td>\n",
       "      <td>Birmingham, AL: Birmingham-Shuttlesworth Inter...</td>\n",
       "      <td>452</td>\n",
       "      <td>Atlantic Southeast Airlines</td>\n",
       "      <td>EV</td>\n",
       "      <td>ASQ</td>\n",
       "      <td>...</td>\n",
       "      <td>0.0</td>\n",
       "      <td>2.48</td>\n",
       "      <td>0.0</td>\n",
       "      <td>0.0</td>\n",
       "      <td>572.0</td>\n",
       "      <td>233.0</td>\n",
       "      <td>2.0</td>\n",
       "      <td>206.0</td>\n",
       "      <td>0.0</td>\n",
       "      <td>131.0</td>\n",
       "    </tr>\n",
       "  </tbody>\n",
       "</table>\n",
       "<p>3 rows × 27 columns</p>\n",
       "</div>"
      ],
      "text/plain": [
       "   year_del  month_del al_iata_del              carrier_del airport_code_del  \\\n",
       "0      2019         12          EV  ExpressJet Airlines LLC              BDL   \n",
       "1      2019         12          EV  ExpressJet Airlines LLC              BGR   \n",
       "2      2019         12          EV  ExpressJet Airlines LLC              BHM   \n",
       "\n",
       "                                    airport_name_del  AirLine_ID_al  \\\n",
       "0                Hartford, CT: Bradley International            452   \n",
       "1                   Bangor, ME: Bangor International            452   \n",
       "2  Birmingham, AL: Birmingham-Shuttlesworth Inter...            452   \n",
       "\n",
       "                       Name_al IATA_al ICAO_al  ... security_ct  \\\n",
       "0  Atlantic Southeast Airlines      EV     ASQ  ...         0.0   \n",
       "1  Atlantic Southeast Airlines      EV     ASQ  ...         0.0   \n",
       "2  Atlantic Southeast Airlines      EV     ASQ  ...         0.0   \n",
       "\n",
       "  late_aircraft_ct  arr_cancelled  arr_diverted  arr_delay  carrier_delay  \\\n",
       "0             2.00            0.0           0.0      114.0           61.0   \n",
       "1             7.98            2.0           0.0     1450.0          682.0   \n",
       "2             2.48            0.0           0.0      572.0          233.0   \n",
       "\n",
       "   weather_delay  nas_delay  security_delay  late_aircraft_delay  \n",
       "0            0.0        0.0             0.0                 53.0  \n",
       "1            0.0      231.0             0.0                537.0  \n",
       "2            2.0      206.0             0.0                131.0  \n",
       "\n",
       "[3 rows x 27 columns]"
      ]
     },
     "execution_count": 68,
     "metadata": {},
     "output_type": "execute_result"
    }
   ],
   "source": [
    "delays_al = delays_al.loc[:, ['year_del', 'month_del', 'al_iata_del', 'carrier_del', 'airport_code_del', 'airport_name_del', 'AirLine_ID_al', 'Name_al', 'IATA_al', 'ICAO_al', 'Country_al', 'Active_al', 'arr_flights', 'arr_del15', 'carrier_ct', 'weather_ct',\n",
    "       'nas_ct', 'security_ct', 'late_aircraft_ct', 'arr_cancelled','arr_diverted', 'arr_delay', 'carrier_delay', 'weather_delay','nas_delay', 'security_delay', 'late_aircraft_delay']]\n",
    "delays_al.head(3)"
   ]
  },
  {
   "cell_type": "code",
   "execution_count": null,
   "id": "91d9a740",
   "metadata": {},
   "outputs": [],
   "source": []
  },
  {
   "cell_type": "code",
   "execution_count": 69,
   "id": "5e15103f",
   "metadata": {},
   "outputs": [],
   "source": [
    "#can also use iterrows\n",
    "#for x in airlines.itertuples():\n",
    "#    if x[2].find('ExpressJet') != -1:\n",
    "#        print(x)"
   ]
  },
  {
   "cell_type": "code",
   "execution_count": 70,
   "id": "6ed4ac9a",
   "metadata": {},
   "outputs": [],
   "source": [
    "#thinking about joining on airline name after filter but expressjet appears to be the only one with a history of changes in delays data\n",
    "#express = airlines[airlines['Name'].str.contains('ExpressJet')]\n",
    "#express.head()"
   ]
  },
  {
   "cell_type": "code",
   "execution_count": 71,
   "id": "4b069642",
   "metadata": {},
   "outputs": [
    {
     "data": {
      "text/plain": [
       "Index(['year_del', 'month_del', 'al_iata_del', 'carrier_del',\n",
       "       'airport_code_del', 'airport_name_del', 'AirLine_ID_al', 'Name_al',\n",
       "       'IATA_al', 'ICAO_al', 'Country_al', 'Active_al', 'arr_flights',\n",
       "       'arr_del15', 'carrier_ct', 'weather_ct', 'nas_ct', 'security_ct',\n",
       "       'late_aircraft_ct', 'arr_cancelled', 'arr_diverted', 'arr_delay',\n",
       "       'carrier_delay', 'weather_delay', 'nas_delay', 'security_delay',\n",
       "       'late_aircraft_delay'],\n",
       "      dtype='object')"
      ]
     },
     "execution_count": 71,
     "metadata": {},
     "output_type": "execute_result"
    }
   ],
   "source": [
    "delays_al.columns"
   ]
  },
  {
   "cell_type": "code",
   "execution_count": 72,
   "id": "417ea329",
   "metadata": {},
   "outputs": [
    {
     "data": {
      "text/html": [
       "<div>\n",
       "<style scoped>\n",
       "    .dataframe tbody tr th:only-of-type {\n",
       "        vertical-align: middle;\n",
       "    }\n",
       "\n",
       "    .dataframe tbody tr th {\n",
       "        vertical-align: top;\n",
       "    }\n",
       "\n",
       "    .dataframe thead th {\n",
       "        text-align: right;\n",
       "    }\n",
       "</style>\n",
       "<table border=\"1\" class=\"dataframe\">\n",
       "  <thead>\n",
       "    <tr style=\"text-align: right;\">\n",
       "      <th></th>\n",
       "      <th>carrier_del</th>\n",
       "      <th>sum_delays</th>\n",
       "    </tr>\n",
       "  </thead>\n",
       "  <tbody>\n",
       "    <tr>\n",
       "      <th>0</th>\n",
       "      <td>Southwest Airlines Co.</td>\n",
       "      <td>2375572.0</td>\n",
       "    </tr>\n",
       "    <tr>\n",
       "      <th>1</th>\n",
       "      <td>American Airlines Inc.</td>\n",
       "      <td>1385103.0</td>\n",
       "    </tr>\n",
       "  </tbody>\n",
       "</table>\n",
       "</div>"
      ],
      "text/plain": [
       "              carrier_del  sum_delays\n",
       "0  Southwest Airlines Co.   2375572.0\n",
       "1  American Airlines Inc.   1385103.0"
      ]
     },
     "execution_count": 72,
     "metadata": {},
     "output_type": "execute_result"
    }
   ],
   "source": [
    "delays_al_sum = delays_al.groupby(['carrier_del'])['arr_del15'].sum().sort_values(ascending=False).reset_index(name='sum_delays')\n",
    "delays_al_sum.head(2)"
   ]
  },
  {
   "cell_type": "code",
   "execution_count": 73,
   "id": "ea0486a1",
   "metadata": {},
   "outputs": [
    {
     "data": {
      "text/html": [
       "<div>\n",
       "<style scoped>\n",
       "    .dataframe tbody tr th:only-of-type {\n",
       "        vertical-align: middle;\n",
       "    }\n",
       "\n",
       "    .dataframe tbody tr th {\n",
       "        vertical-align: top;\n",
       "    }\n",
       "\n",
       "    .dataframe thead th {\n",
       "        text-align: right;\n",
       "    }\n",
       "</style>\n",
       "<table border=\"1\" class=\"dataframe\">\n",
       "  <thead>\n",
       "    <tr style=\"text-align: right;\">\n",
       "      <th></th>\n",
       "      <th>carrier_del</th>\n",
       "      <th>sum_arrivals</th>\n",
       "    </tr>\n",
       "  </thead>\n",
       "  <tbody>\n",
       "    <tr>\n",
       "      <th>0</th>\n",
       "      <td>Southwest Airlines Co.</td>\n",
       "      <td>12333317.0</td>\n",
       "    </tr>\n",
       "    <tr>\n",
       "      <th>1</th>\n",
       "      <td>Delta Air Lines Inc.</td>\n",
       "      <td>8410684.0</td>\n",
       "    </tr>\n",
       "  </tbody>\n",
       "</table>\n",
       "</div>"
      ],
      "text/plain": [
       "              carrier_del  sum_arrivals\n",
       "0  Southwest Airlines Co.    12333317.0\n",
       "1    Delta Air Lines Inc.     8410684.0"
      ]
     },
     "execution_count": 73,
     "metadata": {},
     "output_type": "execute_result"
    }
   ],
   "source": [
    "sum_arr_air = delays_al.groupby(['carrier_del'])['arr_flights'].sum().sort_values(ascending=False).reset_index(name='sum_arrivals')\n",
    "sum_arr_air.head(2)"
   ]
  },
  {
   "cell_type": "code",
   "execution_count": 74,
   "id": "93a496b6",
   "metadata": {},
   "outputs": [
    {
     "data": {
      "text/html": [
       "<div>\n",
       "<style scoped>\n",
       "    .dataframe tbody tr th:only-of-type {\n",
       "        vertical-align: middle;\n",
       "    }\n",
       "\n",
       "    .dataframe tbody tr th {\n",
       "        vertical-align: top;\n",
       "    }\n",
       "\n",
       "    .dataframe thead th {\n",
       "        text-align: right;\n",
       "    }\n",
       "</style>\n",
       "<table border=\"1\" class=\"dataframe\">\n",
       "  <thead>\n",
       "    <tr style=\"text-align: right;\">\n",
       "      <th></th>\n",
       "      <th>carrier_del</th>\n",
       "      <th>sum_delays</th>\n",
       "      <th>sum_arrivals</th>\n",
       "    </tr>\n",
       "  </thead>\n",
       "  <tbody>\n",
       "    <tr>\n",
       "      <th>0</th>\n",
       "      <td>Southwest Airlines Co.</td>\n",
       "      <td>2375572.0</td>\n",
       "      <td>12333317.0</td>\n",
       "    </tr>\n",
       "    <tr>\n",
       "      <th>1</th>\n",
       "      <td>American Airlines Inc.</td>\n",
       "      <td>1385103.0</td>\n",
       "      <td>7080371.0</td>\n",
       "    </tr>\n",
       "    <tr>\n",
       "      <th>2</th>\n",
       "      <td>Delta Air Lines Inc.</td>\n",
       "      <td>1230207.0</td>\n",
       "      <td>8410684.0</td>\n",
       "    </tr>\n",
       "    <tr>\n",
       "      <th>3</th>\n",
       "      <td>SkyWest Airlines Inc.</td>\n",
       "      <td>1186901.0</td>\n",
       "      <td>6555532.0</td>\n",
       "    </tr>\n",
       "    <tr>\n",
       "      <th>4</th>\n",
       "      <td>ExpressJet Airlines Inc.</td>\n",
       "      <td>975862.0</td>\n",
       "      <td>4616917.0</td>\n",
       "    </tr>\n",
       "  </tbody>\n",
       "</table>\n",
       "</div>"
      ],
      "text/plain": [
       "                carrier_del  sum_delays  sum_arrivals\n",
       "0    Southwest Airlines Co.   2375572.0    12333317.0\n",
       "1    American Airlines Inc.   1385103.0     7080371.0\n",
       "2      Delta Air Lines Inc.   1230207.0     8410684.0\n",
       "3     SkyWest Airlines Inc.   1186901.0     6555532.0\n",
       "4  ExpressJet Airlines Inc.    975862.0     4616917.0"
      ]
     },
     "execution_count": 74,
     "metadata": {},
     "output_type": "execute_result"
    }
   ],
   "source": [
    "delays_all_airlines = delays_al_sum.merge(sum_arr_air, left_on='carrier_del', right_on='carrier_del', how='left')\n",
    "delays_all_airlines.head()"
   ]
  },
  {
   "cell_type": "markdown",
   "id": "89dae15e",
   "metadata": {},
   "source": [
    "### -----------------------------------------------------------------------------"
   ]
  },
  {
   "cell_type": "markdown",
   "id": "fe8fb15c",
   "metadata": {},
   "source": [
    "### Top/Bottom AIRLINE Delay Percentage from 2010-2019"
   ]
  },
  {
   "cell_type": "code",
   "execution_count": 75,
   "id": "23bf4a88",
   "metadata": {},
   "outputs": [
    {
     "data": {
      "text/html": [
       "<div>\n",
       "<style scoped>\n",
       "    .dataframe tbody tr th:only-of-type {\n",
       "        vertical-align: middle;\n",
       "    }\n",
       "\n",
       "    .dataframe tbody tr th {\n",
       "        vertical-align: top;\n",
       "    }\n",
       "\n",
       "    .dataframe thead th {\n",
       "        text-align: right;\n",
       "    }\n",
       "</style>\n",
       "<table border=\"1\" class=\"dataframe\">\n",
       "  <thead>\n",
       "    <tr style=\"text-align: right;\">\n",
       "      <th></th>\n",
       "      <th>carrier_del</th>\n",
       "      <th>sum_delays</th>\n",
       "      <th>sum_arrivals</th>\n",
       "      <th>pct_delay</th>\n",
       "    </tr>\n",
       "  </thead>\n",
       "  <tbody>\n",
       "    <tr>\n",
       "      <th>20</th>\n",
       "      <td>Pinnacle Airlines Inc.</td>\n",
       "      <td>81394.0</td>\n",
       "      <td>438115.0</td>\n",
       "      <td>0.185782</td>\n",
       "    </tr>\n",
       "    <tr>\n",
       "      <th>17</th>\n",
       "      <td>Republic Airline</td>\n",
       "      <td>118606.0</td>\n",
       "      <td>645239.0</td>\n",
       "      <td>0.183817</td>\n",
       "    </tr>\n",
       "    <tr>\n",
       "      <th>3</th>\n",
       "      <td>SkyWest Airlines Inc.</td>\n",
       "      <td>1186901.0</td>\n",
       "      <td>6555532.0</td>\n",
       "      <td>0.181053</td>\n",
       "    </tr>\n",
       "    <tr>\n",
       "      <th>13</th>\n",
       "      <td>Mesa Airlines Inc.</td>\n",
       "      <td>182474.0</td>\n",
       "      <td>1049018.0</td>\n",
       "      <td>0.173947</td>\n",
       "    </tr>\n",
       "    <tr>\n",
       "      <th>19</th>\n",
       "      <td>Endeavor Air Inc.</td>\n",
       "      <td>105408.0</td>\n",
       "      <td>622999.0</td>\n",
       "      <td>0.169194</td>\n",
       "    </tr>\n",
       "    <tr>\n",
       "      <th>8</th>\n",
       "      <td>US Airways Inc.</td>\n",
       "      <td>370891.0</td>\n",
       "      <td>2246049.0</td>\n",
       "      <td>0.165130</td>\n",
       "    </tr>\n",
       "    <tr>\n",
       "      <th>15</th>\n",
       "      <td>AirTran Airways Corporation</td>\n",
       "      <td>148611.0</td>\n",
       "      <td>969156.0</td>\n",
       "      <td>0.153341</td>\n",
       "    </tr>\n",
       "    <tr>\n",
       "      <th>2</th>\n",
       "      <td>Delta Air Lines Inc.</td>\n",
       "      <td>1230207.0</td>\n",
       "      <td>8410684.0</td>\n",
       "      <td>0.146267</td>\n",
       "    </tr>\n",
       "    <tr>\n",
       "      <th>10</th>\n",
       "      <td>Alaska Airlines Inc.</td>\n",
       "      <td>250481.0</td>\n",
       "      <td>1788691.0</td>\n",
       "      <td>0.140036</td>\n",
       "    </tr>\n",
       "    <tr>\n",
       "      <th>22</th>\n",
       "      <td>Hawaiian Airlines Inc.</td>\n",
       "      <td>67564.0</td>\n",
       "      <td>756363.0</td>\n",
       "      <td>0.089327</td>\n",
       "    </tr>\n",
       "  </tbody>\n",
       "</table>\n",
       "</div>"
      ],
      "text/plain": [
       "                    carrier_del  sum_delays  sum_arrivals  pct_delay\n",
       "20       Pinnacle Airlines Inc.     81394.0      438115.0   0.185782\n",
       "17             Republic Airline    118606.0      645239.0   0.183817\n",
       "3         SkyWest Airlines Inc.   1186901.0     6555532.0   0.181053\n",
       "13           Mesa Airlines Inc.    182474.0     1049018.0   0.173947\n",
       "19            Endeavor Air Inc.    105408.0      622999.0   0.169194\n",
       "8               US Airways Inc.    370891.0     2246049.0   0.165130\n",
       "15  AirTran Airways Corporation    148611.0      969156.0   0.153341\n",
       "2          Delta Air Lines Inc.   1230207.0     8410684.0   0.146267\n",
       "10         Alaska Airlines Inc.    250481.0     1788691.0   0.140036\n",
       "22       Hawaiian Airlines Inc.     67564.0      756363.0   0.089327"
      ]
     },
     "execution_count": 75,
     "metadata": {},
     "output_type": "execute_result"
    }
   ],
   "source": [
    "delays_all_airlines['pct_delay'] = delays_all_airlines['sum_delays'] / delays_all_airlines['sum_arrivals']\n",
    "delays_all_airlines = delays_all_airlines.sort_values(by='pct_delay', ascending=False)\n",
    "delays_all_airlines.tail(10)"
   ]
  },
  {
   "cell_type": "code",
   "execution_count": 76,
   "id": "c327c7cd",
   "metadata": {},
   "outputs": [
    {
     "data": {
      "text/plain": [
       "2010"
      ]
     },
     "execution_count": 76,
     "metadata": {},
     "output_type": "execute_result"
    }
   ],
   "source": [
    "delays_al.year_del.min()"
   ]
  },
  {
   "cell_type": "code",
   "execution_count": 77,
   "id": "0a7b6354",
   "metadata": {},
   "outputs": [
    {
     "data": {
      "text/plain": [
       "2019"
      ]
     },
     "execution_count": 77,
     "metadata": {},
     "output_type": "execute_result"
    }
   ],
   "source": [
    "delays_al.year_del.max()"
   ]
  },
  {
   "cell_type": "markdown",
   "id": "29e41be9",
   "metadata": {},
   "source": [
    "# -----------------------------------------------------------"
   ]
  },
  {
   "cell_type": "markdown",
   "id": "30f5103b",
   "metadata": {},
   "source": [
    "### Average & Mean Delays for All AIRLINES"
   ]
  },
  {
   "cell_type": "code",
   "execution_count": 78,
   "id": "f44d0fbe",
   "metadata": {},
   "outputs": [
    {
     "data": {
      "text/plain": [
       "0.18561005370682257"
      ]
     },
     "execution_count": 78,
     "metadata": {},
     "output_type": "execute_result"
    }
   ],
   "source": [
    "#average\n",
    "delays_all_airlines.sum_delays.sum() / delays_all_airlines.sum_arrivals.sum()"
   ]
  },
  {
   "cell_type": "code",
   "execution_count": 79,
   "id": "6ea437b9",
   "metadata": {},
   "outputs": [
    {
     "data": {
      "text/plain": [
       "0.19093195931715773"
      ]
     },
     "execution_count": 79,
     "metadata": {},
     "output_type": "execute_result"
    }
   ],
   "source": [
    "#mean\n",
    "delays_all_airlines.pct_delay.mean()"
   ]
  },
  {
   "cell_type": "markdown",
   "id": "c7831c14",
   "metadata": {},
   "source": [
    "### --------------------------------------------------------------------------------"
   ]
  },
  {
   "cell_type": "code",
   "execution_count": null,
   "id": "898758c2",
   "metadata": {},
   "outputs": [],
   "source": []
  },
  {
   "cell_type": "code",
   "execution_count": 80,
   "id": "94a4ae85",
   "metadata": {},
   "outputs": [
    {
     "data": {
      "text/html": [
       "<div>\n",
       "<style scoped>\n",
       "    .dataframe tbody tr th:only-of-type {\n",
       "        vertical-align: middle;\n",
       "    }\n",
       "\n",
       "    .dataframe tbody tr th {\n",
       "        vertical-align: top;\n",
       "    }\n",
       "\n",
       "    .dataframe thead th {\n",
       "        text-align: right;\n",
       "    }\n",
       "</style>\n",
       "<table border=\"1\" class=\"dataframe\">\n",
       "  <thead>\n",
       "    <tr style=\"text-align: right;\">\n",
       "      <th></th>\n",
       "      <th>year_del</th>\n",
       "      <th>month_del</th>\n",
       "      <th>carrier_del</th>\n",
       "      <th>arr_flights</th>\n",
       "      <th>arr_del15</th>\n",
       "      <th>sum_delays</th>\n",
       "    </tr>\n",
       "  </thead>\n",
       "  <tbody>\n",
       "    <tr>\n",
       "      <th>0</th>\n",
       "      <td>2013</td>\n",
       "      <td>7</td>\n",
       "      <td>Delta Air Lines Inc.</td>\n",
       "      <td>18649.0</td>\n",
       "      <td>5268.0</td>\n",
       "      <td>5268.0</td>\n",
       "    </tr>\n",
       "    <tr>\n",
       "      <th>1</th>\n",
       "      <td>2013</td>\n",
       "      <td>6</td>\n",
       "      <td>Delta Air Lines Inc.</td>\n",
       "      <td>18144.0</td>\n",
       "      <td>4395.0</td>\n",
       "      <td>4395.0</td>\n",
       "    </tr>\n",
       "    <tr>\n",
       "      <th>2</th>\n",
       "      <td>2018</td>\n",
       "      <td>6</td>\n",
       "      <td>Delta Air Lines Inc.</td>\n",
       "      <td>21029.0</td>\n",
       "      <td>4176.0</td>\n",
       "      <td>4176.0</td>\n",
       "    </tr>\n",
       "    <tr>\n",
       "      <th>3</th>\n",
       "      <td>2014</td>\n",
       "      <td>1</td>\n",
       "      <td>Delta Air Lines Inc.</td>\n",
       "      <td>17071.0</td>\n",
       "      <td>4024.0</td>\n",
       "      <td>4024.0</td>\n",
       "    </tr>\n",
       "    <tr>\n",
       "      <th>4</th>\n",
       "      <td>2012</td>\n",
       "      <td>9</td>\n",
       "      <td>American Airlines Inc.</td>\n",
       "      <td>12360.0</td>\n",
       "      <td>3919.0</td>\n",
       "      <td>3919.0</td>\n",
       "    </tr>\n",
       "    <tr>\n",
       "      <th>5</th>\n",
       "      <td>2010</td>\n",
       "      <td>7</td>\n",
       "      <td>Delta Air Lines Inc.</td>\n",
       "      <td>14827.0</td>\n",
       "      <td>3904.0</td>\n",
       "      <td>3904.0</td>\n",
       "    </tr>\n",
       "    <tr>\n",
       "      <th>6</th>\n",
       "      <td>2018</td>\n",
       "      <td>11</td>\n",
       "      <td>Delta Air Lines Inc.</td>\n",
       "      <td>19820.0</td>\n",
       "      <td>3895.0</td>\n",
       "      <td>3895.0</td>\n",
       "    </tr>\n",
       "    <tr>\n",
       "      <th>7</th>\n",
       "      <td>2010</td>\n",
       "      <td>6</td>\n",
       "      <td>Delta Air Lines Inc.</td>\n",
       "      <td>14537.0</td>\n",
       "      <td>3835.0</td>\n",
       "      <td>3835.0</td>\n",
       "    </tr>\n",
       "    <tr>\n",
       "      <th>8</th>\n",
       "      <td>2014</td>\n",
       "      <td>6</td>\n",
       "      <td>American Airlines Inc.</td>\n",
       "      <td>13503.0</td>\n",
       "      <td>3818.0</td>\n",
       "      <td>3818.0</td>\n",
       "    </tr>\n",
       "    <tr>\n",
       "      <th>9</th>\n",
       "      <td>2019</td>\n",
       "      <td>5</td>\n",
       "      <td>American Airlines Inc.</td>\n",
       "      <td>13392.0</td>\n",
       "      <td>3714.0</td>\n",
       "      <td>3714.0</td>\n",
       "    </tr>\n",
       "  </tbody>\n",
       "</table>\n",
       "</div>"
      ],
      "text/plain": [
       "   year_del  month_del             carrier_del  arr_flights  arr_del15  \\\n",
       "0      2013          7    Delta Air Lines Inc.      18649.0     5268.0   \n",
       "1      2013          6    Delta Air Lines Inc.      18144.0     4395.0   \n",
       "2      2018          6    Delta Air Lines Inc.      21029.0     4176.0   \n",
       "3      2014          1    Delta Air Lines Inc.      17071.0     4024.0   \n",
       "4      2012          9  American Airlines Inc.      12360.0     3919.0   \n",
       "5      2010          7    Delta Air Lines Inc.      14827.0     3904.0   \n",
       "6      2018         11    Delta Air Lines Inc.      19820.0     3895.0   \n",
       "7      2010          6    Delta Air Lines Inc.      14537.0     3835.0   \n",
       "8      2014          6  American Airlines Inc.      13503.0     3818.0   \n",
       "9      2019          5  American Airlines Inc.      13392.0     3714.0   \n",
       "\n",
       "   sum_delays  \n",
       "0      5268.0  \n",
       "1      4395.0  \n",
       "2      4176.0  \n",
       "3      4024.0  \n",
       "4      3919.0  \n",
       "5      3904.0  \n",
       "6      3895.0  \n",
       "7      3835.0  \n",
       "8      3818.0  \n",
       "9      3714.0  "
      ]
     },
     "execution_count": 80,
     "metadata": {},
     "output_type": "execute_result"
    }
   ],
   "source": [
    "#finding month of most airline delays of 15 minutes or more\n",
    "delays_month = delays_al.groupby(['year_del', 'month_del', 'carrier_del','arr_flights', 'arr_del15'])['arr_del15'].sum().sort_values(ascending=False).reset_index(name='sum_delays')\n",
    "delays_month.head(10)"
   ]
  },
  {
   "cell_type": "code",
   "execution_count": null,
   "id": "9cb25851",
   "metadata": {},
   "outputs": [],
   "source": []
  },
  {
   "cell_type": "markdown",
   "id": "ae7b0e6f",
   "metadata": {},
   "source": [
    "### Merge Passengers with Routes --- Passengers have year & month data"
   ]
  },
  {
   "cell_type": "code",
   "execution_count": 81,
   "id": "4fcc63e4",
   "metadata": {},
   "outputs": [
    {
     "data": {
      "text/plain": [
       "Index(['Airline_IATA_r', 'Airline_ID_r', 'Source_ap_r', 'Source_ap_ID_r',\n",
       "       'Dest_ap_r', 'Dest_ap_ID_r', 'Stops_r', 'Plane_IATA_r'],\n",
       "      dtype='object')"
      ]
     },
     "execution_count": 81,
     "metadata": {},
     "output_type": "execute_result"
    }
   ],
   "source": [
    "routes.columns"
   ]
  },
  {
   "cell_type": "code",
   "execution_count": 82,
   "id": "53188c96",
   "metadata": {},
   "outputs": [
    {
     "data": {
      "text/plain": [
       "Airline_IATA_r    object\n",
       "Airline_ID_r      object\n",
       "Source_ap_r       object\n",
       "Source_ap_ID_r    object\n",
       "Dest_ap_r         object\n",
       "Dest_ap_ID_r      object\n",
       "Stops_r            int64\n",
       "Plane_IATA_r      object\n",
       "dtype: object"
      ]
     },
     "execution_count": 82,
     "metadata": {},
     "output_type": "execute_result"
    }
   ],
   "source": [
    "routes.dtypes"
   ]
  },
  {
   "cell_type": "code",
   "execution_count": 83,
   "id": "67729796",
   "metadata": {},
   "outputs": [
    {
     "data": {
      "text/plain": [
       "Index(['YEAR', 'MONTH', 'Sum_PASSENGERS', 'AIRLINE_ID', 'CARRIER_NAME',\n",
       "       'ORIGIN', 'ORIGIN_CITY_NAME', 'ORIGIN_STATE_ABR', 'ORIGIN_STATE_NM',\n",
       "       'ORIGIN_COUNTRY', 'ORIGIN_COUNTRY_NAME', 'DEST', 'DEST_CITY_NAME',\n",
       "       'DEST_STATE_ABR', 'DEST_STATE_NM', 'DEST_COUNTRY', 'DEST_COUNTRY_NAME'],\n",
       "      dtype='object')"
      ]
     },
     "execution_count": 83,
     "metadata": {},
     "output_type": "execute_result"
    }
   ],
   "source": [
    "passengers.columns"
   ]
  },
  {
   "cell_type": "code",
   "execution_count": 84,
   "id": "165bf23a",
   "metadata": {},
   "outputs": [
    {
     "data": {
      "text/plain": [
       "YEAR                    int64\n",
       "MONTH                   int64\n",
       "Sum_PASSENGERS          int64\n",
       "AIRLINE_ID             object\n",
       "CARRIER_NAME           object\n",
       "ORIGIN                 object\n",
       "ORIGIN_CITY_NAME       object\n",
       "ORIGIN_STATE_ABR       object\n",
       "ORIGIN_STATE_NM        object\n",
       "ORIGIN_COUNTRY         object\n",
       "ORIGIN_COUNTRY_NAME    object\n",
       "DEST                   object\n",
       "DEST_CITY_NAME         object\n",
       "DEST_STATE_ABR         object\n",
       "DEST_STATE_NM          object\n",
       "DEST_COUNTRY           object\n",
       "DEST_COUNTRY_NAME      object\n",
       "dtype: object"
      ]
     },
     "execution_count": 84,
     "metadata": {},
     "output_type": "execute_result"
    }
   ],
   "source": [
    "passengers.dtypes"
   ]
  },
  {
   "cell_type": "code",
   "execution_count": 98,
   "id": "9af4e19b",
   "metadata": {},
   "outputs": [
    {
     "data": {
      "text/html": [
       "<div>\n",
       "<style scoped>\n",
       "    .dataframe tbody tr th:only-of-type {\n",
       "        vertical-align: middle;\n",
       "    }\n",
       "\n",
       "    .dataframe tbody tr th {\n",
       "        vertical-align: top;\n",
       "    }\n",
       "\n",
       "    .dataframe thead th {\n",
       "        text-align: right;\n",
       "    }\n",
       "</style>\n",
       "<table border=\"1\" class=\"dataframe\">\n",
       "  <thead>\n",
       "    <tr style=\"text-align: right;\">\n",
       "      <th></th>\n",
       "      <th>Airline_IATA_r</th>\n",
       "      <th>Airline_ID_r</th>\n",
       "      <th>Source_ap_r</th>\n",
       "      <th>Source_ap_ID_r</th>\n",
       "      <th>Dest_ap_r</th>\n",
       "      <th>Dest_ap_ID_r</th>\n",
       "      <th>Stops_r</th>\n",
       "      <th>Plane_IATA_r</th>\n",
       "    </tr>\n",
       "  </thead>\n",
       "  <tbody>\n",
       "    <tr>\n",
       "      <th>67662</th>\n",
       "      <td>ZM</td>\n",
       "      <td>19016</td>\n",
       "      <td>OSS</td>\n",
       "      <td>2913</td>\n",
       "      <td>FRU</td>\n",
       "      <td>2912</td>\n",
       "      <td>0</td>\n",
       "      <td>734</td>\n",
       "    </tr>\n",
       "  </tbody>\n",
       "</table>\n",
       "</div>"
      ],
      "text/plain": [
       "      Airline_IATA_r Airline_ID_r Source_ap_r Source_ap_ID_r Dest_ap_r  \\\n",
       "67662             ZM        19016         OSS           2913       FRU   \n",
       "\n",
       "      Dest_ap_ID_r  Stops_r Plane_IATA_r  \n",
       "67662         2912        0          734  "
      ]
     },
     "execution_count": 98,
     "metadata": {},
     "output_type": "execute_result"
    }
   ],
   "source": [
    "# Joining routes doesn't help mainly because of lack of records, Airline ID is known (airline IATA would be nice),\n",
    "routes.tail(1)"
   ]
  },
  {
   "cell_type": "code",
   "execution_count": 86,
   "id": "e789b9c1",
   "metadata": {},
   "outputs": [
    {
     "data": {
      "text/html": [
       "<div>\n",
       "<style scoped>\n",
       "    .dataframe tbody tr th:only-of-type {\n",
       "        vertical-align: middle;\n",
       "    }\n",
       "\n",
       "    .dataframe tbody tr th {\n",
       "        vertical-align: top;\n",
       "    }\n",
       "\n",
       "    .dataframe thead th {\n",
       "        text-align: right;\n",
       "    }\n",
       "</style>\n",
       "<table border=\"1\" class=\"dataframe\">\n",
       "  <thead>\n",
       "    <tr style=\"text-align: right;\">\n",
       "      <th></th>\n",
       "      <th>YEAR</th>\n",
       "      <th>MONTH</th>\n",
       "      <th>Sum_PASSENGERS</th>\n",
       "      <th>AIRLINE_ID</th>\n",
       "      <th>CARRIER_NAME</th>\n",
       "      <th>ORIGIN</th>\n",
       "      <th>ORIGIN_CITY_NAME</th>\n",
       "      <th>ORIGIN_STATE_ABR</th>\n",
       "      <th>ORIGIN_STATE_NM</th>\n",
       "      <th>ORIGIN_COUNTRY</th>\n",
       "      <th>ORIGIN_COUNTRY_NAME</th>\n",
       "      <th>DEST</th>\n",
       "      <th>DEST_CITY_NAME</th>\n",
       "      <th>DEST_STATE_ABR</th>\n",
       "      <th>DEST_STATE_NM</th>\n",
       "      <th>DEST_COUNTRY</th>\n",
       "      <th>DEST_COUNTRY_NAME</th>\n",
       "    </tr>\n",
       "  </thead>\n",
       "  <tbody>\n",
       "    <tr>\n",
       "      <th>6278580</th>\n",
       "      <td>2020</td>\n",
       "      <td>6</td>\n",
       "      <td>1</td>\n",
       "      <td>22048</td>\n",
       "      <td>Concierge U Ltd. d/b/a Jet Concierge Club</td>\n",
       "      <td>BOS</td>\n",
       "      <td>Boston, MA</td>\n",
       "      <td>MA</td>\n",
       "      <td>Massachusetts</td>\n",
       "      <td>US</td>\n",
       "      <td>United States</td>\n",
       "      <td>FOK</td>\n",
       "      <td>Westhampton, NY</td>\n",
       "      <td>NY</td>\n",
       "      <td>New York</td>\n",
       "      <td>US</td>\n",
       "      <td>United States</td>\n",
       "    </tr>\n",
       "  </tbody>\n",
       "</table>\n",
       "</div>"
      ],
      "text/plain": [
       "         YEAR  MONTH  Sum_PASSENGERS AIRLINE_ID  \\\n",
       "6278580  2020      6               1      22048   \n",
       "\n",
       "                                      CARRIER_NAME ORIGIN ORIGIN_CITY_NAME  \\\n",
       "6278580  Concierge U Ltd. d/b/a Jet Concierge Club    BOS       Boston, MA   \n",
       "\n",
       "        ORIGIN_STATE_ABR ORIGIN_STATE_NM ORIGIN_COUNTRY ORIGIN_COUNTRY_NAME  \\\n",
       "6278580               MA   Massachusetts             US       United States   \n",
       "\n",
       "        DEST   DEST_CITY_NAME DEST_STATE_ABR DEST_STATE_NM DEST_COUNTRY  \\\n",
       "6278580  FOK  Westhampton, NY             NY      New York           US   \n",
       "\n",
       "        DEST_COUNTRY_NAME  \n",
       "6278580     United States  "
      ]
     },
     "execution_count": 86,
     "metadata": {},
     "output_type": "execute_result"
    }
   ],
   "source": [
    "passengers.tail(1)"
   ]
  },
  {
   "cell_type": "code",
   "execution_count": 94,
   "id": "36c2a106",
   "metadata": {},
   "outputs": [
    {
     "data": {
      "text/html": [
       "<div>\n",
       "<style scoped>\n",
       "    .dataframe tbody tr th:only-of-type {\n",
       "        vertical-align: middle;\n",
       "    }\n",
       "\n",
       "    .dataframe tbody tr th {\n",
       "        vertical-align: top;\n",
       "    }\n",
       "\n",
       "    .dataframe thead th {\n",
       "        text-align: right;\n",
       "    }\n",
       "</style>\n",
       "<table border=\"1\" class=\"dataframe\">\n",
       "  <thead>\n",
       "    <tr style=\"text-align: right;\">\n",
       "      <th></th>\n",
       "      <th>YEAR</th>\n",
       "      <th>MONTH</th>\n",
       "      <th>Sum_PASSENGERS</th>\n",
       "      <th>AIRLINE_ID</th>\n",
       "      <th>CARRIER_NAME</th>\n",
       "      <th>ORIGIN</th>\n",
       "      <th>ORIGIN_CITY_NAME</th>\n",
       "      <th>ORIGIN_STATE_ABR</th>\n",
       "      <th>ORIGIN_STATE_NM</th>\n",
       "      <th>ORIGIN_COUNTRY</th>\n",
       "      <th>...</th>\n",
       "      <th>DEST_COUNTRY</th>\n",
       "      <th>DEST_COUNTRY_NAME</th>\n",
       "      <th>Airline_IATA_r</th>\n",
       "      <th>Airline_ID_r</th>\n",
       "      <th>Source_ap_r</th>\n",
       "      <th>Source_ap_ID_r</th>\n",
       "      <th>Dest_ap_r</th>\n",
       "      <th>Dest_ap_ID_r</th>\n",
       "      <th>Stops_r</th>\n",
       "      <th>Plane_IATA_r</th>\n",
       "    </tr>\n",
       "  </thead>\n",
       "  <tbody>\n",
       "    <tr>\n",
       "      <th>0</th>\n",
       "      <td>2015</td>\n",
       "      <td>3</td>\n",
       "      <td>0</td>\n",
       "      <td>0</td>\n",
       "      <td>NaN</td>\n",
       "      <td>AEX</td>\n",
       "      <td>Alexandria, LA</td>\n",
       "      <td>LA</td>\n",
       "      <td>Louisiana</td>\n",
       "      <td>US</td>\n",
       "      <td>...</td>\n",
       "      <td>US</td>\n",
       "      <td>United States</td>\n",
       "      <td>NaN</td>\n",
       "      <td>NaN</td>\n",
       "      <td>NaN</td>\n",
       "      <td>NaN</td>\n",
       "      <td>NaN</td>\n",
       "      <td>NaN</td>\n",
       "      <td>NaN</td>\n",
       "      <td>NaN</td>\n",
       "    </tr>\n",
       "    <tr>\n",
       "      <th>1</th>\n",
       "      <td>2015</td>\n",
       "      <td>4</td>\n",
       "      <td>0</td>\n",
       "      <td>0</td>\n",
       "      <td>NaN</td>\n",
       "      <td>AEX</td>\n",
       "      <td>Alexandria, LA</td>\n",
       "      <td>LA</td>\n",
       "      <td>Louisiana</td>\n",
       "      <td>US</td>\n",
       "      <td>...</td>\n",
       "      <td>US</td>\n",
       "      <td>United States</td>\n",
       "      <td>NaN</td>\n",
       "      <td>NaN</td>\n",
       "      <td>NaN</td>\n",
       "      <td>NaN</td>\n",
       "      <td>NaN</td>\n",
       "      <td>NaN</td>\n",
       "      <td>NaN</td>\n",
       "      <td>NaN</td>\n",
       "    </tr>\n",
       "  </tbody>\n",
       "</table>\n",
       "<p>2 rows × 25 columns</p>\n",
       "</div>"
      ],
      "text/plain": [
       "   YEAR  MONTH  Sum_PASSENGERS AIRLINE_ID CARRIER_NAME ORIGIN  \\\n",
       "0  2015      3               0          0          NaN    AEX   \n",
       "1  2015      4               0          0          NaN    AEX   \n",
       "\n",
       "  ORIGIN_CITY_NAME ORIGIN_STATE_ABR ORIGIN_STATE_NM ORIGIN_COUNTRY  ...  \\\n",
       "0   Alexandria, LA               LA       Louisiana             US  ...   \n",
       "1   Alexandria, LA               LA       Louisiana             US  ...   \n",
       "\n",
       "  DEST_COUNTRY DEST_COUNTRY_NAME Airline_IATA_r Airline_ID_r Source_ap_r  \\\n",
       "0           US     United States            NaN          NaN         NaN   \n",
       "1           US     United States            NaN          NaN         NaN   \n",
       "\n",
       "  Source_ap_ID_r Dest_ap_r Dest_ap_ID_r Stops_r Plane_IATA_r  \n",
       "0            NaN       NaN          NaN     NaN          NaN  \n",
       "1            NaN       NaN          NaN     NaN          NaN  \n",
       "\n",
       "[2 rows x 25 columns]"
      ]
     },
     "execution_count": 94,
     "metadata": {},
     "output_type": "execute_result"
    }
   ],
   "source": [
    "pass_routes = passengers.merge(routes, left_on=['AIRLINE_ID', 'ORIGIN', 'DEST'], right_on=['Airline_ID_r', 'Source_ap_r', 'Dest_ap_r'],  how='left')\n",
    "pass_routes.head(2)"
   ]
  },
  {
   "cell_type": "code",
   "execution_count": 91,
   "id": "aba489ba",
   "metadata": {},
   "outputs": [
    {
     "data": {
      "text/plain": [
       "(4892512, 17)"
      ]
     },
     "execution_count": 91,
     "metadata": {},
     "output_type": "execute_result"
    }
   ],
   "source": [
    "passengers.shape"
   ]
  },
  {
   "cell_type": "code",
   "execution_count": 92,
   "id": "3ccd79dc",
   "metadata": {},
   "outputs": [
    {
     "data": {
      "text/plain": [
       "(67663, 8)"
      ]
     },
     "execution_count": 92,
     "metadata": {},
     "output_type": "execute_result"
    }
   ],
   "source": [
    "routes.shape"
   ]
  },
  {
   "cell_type": "code",
   "execution_count": 93,
   "id": "5d573400",
   "metadata": {},
   "outputs": [
    {
     "data": {
      "text/plain": [
       "(4892512, 25)"
      ]
     },
     "execution_count": 93,
     "metadata": {},
     "output_type": "execute_result"
    }
   ],
   "source": [
    "pass_routes.shape"
   ]
  },
  {
   "cell_type": "code",
   "execution_count": null,
   "id": "4247a51e",
   "metadata": {},
   "outputs": [],
   "source": []
  },
  {
   "cell_type": "code",
   "execution_count": null,
   "id": "5760c3fb",
   "metadata": {},
   "outputs": [],
   "source": []
  }
 ],
 "metadata": {
  "kernelspec": {
   "display_name": "Python 3 (ipykernel)",
   "language": "python",
   "name": "python3"
  },
  "language_info": {
   "codemirror_mode": {
    "name": "ipython",
    "version": 3
   },
   "file_extension": ".py",
   "mimetype": "text/x-python",
   "name": "python",
   "nbconvert_exporter": "python",
   "pygments_lexer": "ipython3",
   "version": "3.9.7"
  }
 },
 "nbformat": 4,
 "nbformat_minor": 5
}
