{
 "cells": [
  {
   "cell_type": "code",
   "execution_count": 1,
   "id": "80657fb1",
   "metadata": {},
   "outputs": [
    {
     "name": "stdout",
     "output_type": "stream",
     "text": [
      "Requirement already satisfied: plotly in c:\\users\\scott\\anaconda3\\lib\\site-packages (5.8.2)\n",
      "Requirement already satisfied: tenacity>=6.2.0 in c:\\users\\scott\\anaconda3\\lib\\site-packages (from plotly) (8.0.1)\n"
     ]
    }
   ],
   "source": [
    "import pandas as pd\n",
    "!pip install plotly\n",
    "import plotly.graph_objects as go\n",
    "import matplotlib.pyplot as plt\n",
    "import seaborn as sns\n",
    "#!pip install tabulate\n",
    "#from tabulate import tabulate\n",
    "#pip install wordcloud\n",
    "#from os import path\n",
    "#from PIL import Image\n",
    "#from wordcloud import WordCloud, STOPWORDS, ImageColorGenerator\n",
    "%matplotlib inline"
   ]
  },
  {
   "cell_type": "markdown",
   "id": "b4d06604",
   "metadata": {},
   "source": [
    "### Airline CSV"
   ]
  },
  {
   "cell_type": "code",
   "execution_count": 2,
   "id": "0b31dec6",
   "metadata": {},
   "outputs": [
    {
     "data": {
      "text/html": [
       "<div>\n",
       "<style scoped>\n",
       "    .dataframe tbody tr th:only-of-type {\n",
       "        vertical-align: middle;\n",
       "    }\n",
       "\n",
       "    .dataframe tbody tr th {\n",
       "        vertical-align: top;\n",
       "    }\n",
       "\n",
       "    .dataframe thead th {\n",
       "        text-align: right;\n",
       "    }\n",
       "</style>\n",
       "<table border=\"1\" class=\"dataframe\">\n",
       "  <thead>\n",
       "    <tr style=\"text-align: right;\">\n",
       "      <th></th>\n",
       "      <th>Airline ID</th>\n",
       "      <th>Name</th>\n",
       "      <th>Alias</th>\n",
       "      <th>IATA</th>\n",
       "      <th>ICAO</th>\n",
       "      <th>Callsign</th>\n",
       "      <th>Country</th>\n",
       "      <th>Active</th>\n",
       "    </tr>\n",
       "  </thead>\n",
       "  <tbody>\n",
       "    <tr>\n",
       "      <th>6157</th>\n",
       "      <td>21248</td>\n",
       "      <td>GX Airlines</td>\n",
       "      <td>NaN</td>\n",
       "      <td>NaN</td>\n",
       "      <td>CBG</td>\n",
       "      <td>SPRAY</td>\n",
       "      <td>China</td>\n",
       "      <td>Y</td>\n",
       "    </tr>\n",
       "    <tr>\n",
       "      <th>6158</th>\n",
       "      <td>21251</td>\n",
       "      <td>Lynx Aviation (L3/SSX)</td>\n",
       "      <td>NaN</td>\n",
       "      <td>NaN</td>\n",
       "      <td>SSX</td>\n",
       "      <td>Shasta</td>\n",
       "      <td>United States</td>\n",
       "      <td>N</td>\n",
       "    </tr>\n",
       "    <tr>\n",
       "      <th>6159</th>\n",
       "      <td>21268</td>\n",
       "      <td>Jetgo Australia</td>\n",
       "      <td>NaN</td>\n",
       "      <td>JG</td>\n",
       "      <td>\\N</td>\n",
       "      <td>NaN</td>\n",
       "      <td>Australia</td>\n",
       "      <td>Y</td>\n",
       "    </tr>\n",
       "    <tr>\n",
       "      <th>6160</th>\n",
       "      <td>21270</td>\n",
       "      <td>Air Carnival</td>\n",
       "      <td>NaN</td>\n",
       "      <td>2S</td>\n",
       "      <td>\\N</td>\n",
       "      <td>NaN</td>\n",
       "      <td>India</td>\n",
       "      <td>Y</td>\n",
       "    </tr>\n",
       "    <tr>\n",
       "      <th>6161</th>\n",
       "      <td>21317</td>\n",
       "      <td>Svyaz Rossiya</td>\n",
       "      <td>Russian Commuter</td>\n",
       "      <td>7R</td>\n",
       "      <td>SJM</td>\n",
       "      <td>RussianConnecty</td>\n",
       "      <td>Russia</td>\n",
       "      <td>Y</td>\n",
       "    </tr>\n",
       "  </tbody>\n",
       "</table>\n",
       "</div>"
      ],
      "text/plain": [
       "      Airline ID                    Name              Alias IATA ICAO  \\\n",
       "6157       21248             GX Airlines                NaN  NaN  CBG   \n",
       "6158       21251  Lynx Aviation (L3/SSX)                NaN  NaN  SSX   \n",
       "6159       21268         Jetgo Australia                NaN   JG   \\N   \n",
       "6160       21270            Air Carnival                NaN   2S   \\N   \n",
       "6161       21317           Svyaz Rossiya  Russian Commuter    7R  SJM   \n",
       "\n",
       "             Callsign        Country Active  \n",
       "6157            SPRAY          China      Y  \n",
       "6158           Shasta  United States      N  \n",
       "6159              NaN      Australia      Y  \n",
       "6160              NaN          India      Y  \n",
       "6161  RussianConnecty         Russia      Y  "
      ]
     },
     "execution_count": 2,
     "metadata": {},
     "output_type": "execute_result"
    }
   ],
   "source": [
    "airlines = pd.read_csv('../Data/airlines.csv')\n",
    "airlines.tail()"
   ]
  },
  {
   "cell_type": "code",
   "execution_count": 3,
   "id": "2d681edd",
   "metadata": {},
   "outputs": [
    {
     "data": {
      "text/plain": [
       "Index(['Airline ID', 'Name', 'Alias', 'IATA', 'ICAO', 'Callsign', 'Country',\n",
       "       'Active'],\n",
       "      dtype='object')"
      ]
     },
     "execution_count": 3,
     "metadata": {},
     "output_type": "execute_result"
    }
   ],
   "source": [
    "airlines.columns"
   ]
  },
  {
   "cell_type": "code",
   "execution_count": 4,
   "id": "7eea0c96",
   "metadata": {},
   "outputs": [
    {
     "data": {
      "text/plain": [
       "(6162, 8)"
      ]
     },
     "execution_count": 4,
     "metadata": {},
     "output_type": "execute_result"
    }
   ],
   "source": [
    "#how many rows?\n",
    "airlines.shape"
   ]
  },
  {
   "cell_type": "code",
   "execution_count": 5,
   "id": "483e0f52",
   "metadata": {},
   "outputs": [
    {
     "data": {
      "text/plain": [
       "Airline ID       0\n",
       "Name             0\n",
       "Alias          506\n",
       "IATA          4627\n",
       "ICAO            87\n",
       "Callsign       808\n",
       "Country         15\n",
       "Active           0\n",
       "dtype: int64"
      ]
     },
     "execution_count": 5,
     "metadata": {},
     "output_type": "execute_result"
    }
   ],
   "source": [
    "airlines.isnull().sum()"
   ]
  },
  {
   "cell_type": "code",
   "execution_count": 6,
   "id": "c352035f",
   "metadata": {},
   "outputs": [],
   "source": [
    "#drop Alias column\n",
    "airlines.drop('Alias', axis=1, inplace=True)\n",
    "airlines.drop('Callsign', axis=1, inplace=True)\n",
    "#airlines.head()"
   ]
  },
  {
   "cell_type": "code",
   "execution_count": 7,
   "id": "77c845d8",
   "metadata": {},
   "outputs": [
    {
     "data": {
      "text/html": [
       "<div>\n",
       "<style scoped>\n",
       "    .dataframe tbody tr th:only-of-type {\n",
       "        vertical-align: middle;\n",
       "    }\n",
       "\n",
       "    .dataframe tbody tr th {\n",
       "        vertical-align: top;\n",
       "    }\n",
       "\n",
       "    .dataframe thead th {\n",
       "        text-align: right;\n",
       "    }\n",
       "</style>\n",
       "<table border=\"1\" class=\"dataframe\">\n",
       "  <thead>\n",
       "    <tr style=\"text-align: right;\">\n",
       "      <th></th>\n",
       "      <th>Airline ID</th>\n",
       "      <th>Name</th>\n",
       "      <th>IATA</th>\n",
       "      <th>ICAO</th>\n",
       "      <th>Country</th>\n",
       "      <th>Active</th>\n",
       "    </tr>\n",
       "  </thead>\n",
       "  <tbody>\n",
       "    <tr>\n",
       "      <th>6154</th>\n",
       "      <td>21179</td>\n",
       "      <td>Thai Vietjet Air</td>\n",
       "      <td>NaN</td>\n",
       "      <td>TVJ</td>\n",
       "      <td>Thailand</td>\n",
       "      <td>Y</td>\n",
       "    </tr>\n",
       "    <tr>\n",
       "      <th>6157</th>\n",
       "      <td>21248</td>\n",
       "      <td>GX Airlines</td>\n",
       "      <td>NaN</td>\n",
       "      <td>CBG</td>\n",
       "      <td>China</td>\n",
       "      <td>Y</td>\n",
       "    </tr>\n",
       "    <tr>\n",
       "      <th>6159</th>\n",
       "      <td>21268</td>\n",
       "      <td>Jetgo Australia</td>\n",
       "      <td>JG</td>\n",
       "      <td>\\N</td>\n",
       "      <td>Australia</td>\n",
       "      <td>Y</td>\n",
       "    </tr>\n",
       "    <tr>\n",
       "      <th>6160</th>\n",
       "      <td>21270</td>\n",
       "      <td>Air Carnival</td>\n",
       "      <td>2S</td>\n",
       "      <td>\\N</td>\n",
       "      <td>India</td>\n",
       "      <td>Y</td>\n",
       "    </tr>\n",
       "    <tr>\n",
       "      <th>6161</th>\n",
       "      <td>21317</td>\n",
       "      <td>Svyaz Rossiya</td>\n",
       "      <td>7R</td>\n",
       "      <td>SJM</td>\n",
       "      <td>Russia</td>\n",
       "      <td>Y</td>\n",
       "    </tr>\n",
       "  </tbody>\n",
       "</table>\n",
       "</div>"
      ],
      "text/plain": [
       "      Airline ID              Name IATA ICAO    Country Active\n",
       "6154       21179  Thai Vietjet Air  NaN  TVJ   Thailand      Y\n",
       "6157       21248       GX Airlines  NaN  CBG      China      Y\n",
       "6159       21268   Jetgo Australia   JG   \\N  Australia      Y\n",
       "6160       21270      Air Carnival   2S   \\N      India      Y\n",
       "6161       21317     Svyaz Rossiya   7R  SJM     Russia      Y"
      ]
     },
     "execution_count": 7,
     "metadata": {},
     "output_type": "execute_result"
    }
   ],
   "source": [
    "#subset for active airlines\n",
    "airlines = airlines[airlines['Active']=='Y']\n",
    "airlines.tail()"
   ]
  },
  {
   "cell_type": "code",
   "execution_count": 8,
   "id": "799cd2d8",
   "metadata": {},
   "outputs": [
    {
     "data": {
      "text/html": [
       "<div>\n",
       "<style scoped>\n",
       "    .dataframe tbody tr th:only-of-type {\n",
       "        vertical-align: middle;\n",
       "    }\n",
       "\n",
       "    .dataframe tbody tr th {\n",
       "        vertical-align: top;\n",
       "    }\n",
       "\n",
       "    .dataframe thead th {\n",
       "        text-align: right;\n",
       "    }\n",
       "</style>\n",
       "<table border=\"1\" class=\"dataframe\">\n",
       "  <thead>\n",
       "    <tr style=\"text-align: right;\">\n",
       "      <th></th>\n",
       "      <th>AirLine_ID_al</th>\n",
       "      <th>Name_al</th>\n",
       "      <th>IATA_al</th>\n",
       "      <th>ICAO_al</th>\n",
       "      <th>Country_al</th>\n",
       "      <th>Active_al</th>\n",
       "    </tr>\n",
       "  </thead>\n",
       "  <tbody>\n",
       "    <tr>\n",
       "      <th>0</th>\n",
       "      <td>-1</td>\n",
       "      <td>Unknown</td>\n",
       "      <td>-</td>\n",
       "      <td>NaN</td>\n",
       "      <td>\\N</td>\n",
       "      <td>Y</td>\n",
       "    </tr>\n",
       "    <tr>\n",
       "      <th>1</th>\n",
       "      <td>1</td>\n",
       "      <td>Private flight</td>\n",
       "      <td>-</td>\n",
       "      <td>NaN</td>\n",
       "      <td>NaN</td>\n",
       "      <td>Y</td>\n",
       "    </tr>\n",
       "  </tbody>\n",
       "</table>\n",
       "</div>"
      ],
      "text/plain": [
       "   AirLine_ID_al         Name_al IATA_al ICAO_al Country_al Active_al\n",
       "0             -1         Unknown       -     NaN         \\N         Y\n",
       "1              1  Private flight       -     NaN        NaN         Y"
      ]
     },
     "execution_count": 8,
     "metadata": {},
     "output_type": "execute_result"
    }
   ],
   "source": [
    "airlines.rename(columns = {'Airline ID':'AirLine_ID_al','Name':'Name_al', 'IATA':'IATA_al', 'ICAO':'ICAO_al','Country':'Country_al', 'Active':'Active_al'}, inplace=True)\n",
    "airlines.head(2)\n",
    "#unknown and private, etc., will drop out when joined with delays"
   ]
  },
  {
   "cell_type": "code",
   "execution_count": null,
   "id": "99b6d12a",
   "metadata": {},
   "outputs": [],
   "source": []
  },
  {
   "cell_type": "code",
   "execution_count": 9,
   "id": "4732c3ab",
   "metadata": {},
   "outputs": [
    {
     "data": {
      "text/plain": [
       "(1255, 6)"
      ]
     },
     "execution_count": 9,
     "metadata": {},
     "output_type": "execute_result"
    }
   ],
   "source": [
    "airlines.shape"
   ]
  },
  {
   "cell_type": "code",
   "execution_count": 10,
   "id": "08bbfa4e",
   "metadata": {},
   "outputs": [
    {
     "data": {
      "text/plain": [
       "AirLine_ID_al      0\n",
       "Name_al            0\n",
       "IATA_al          240\n",
       "ICAO_al           29\n",
       "Country_al         2\n",
       "Active_al          0\n",
       "dtype: int64"
      ]
     },
     "execution_count": 10,
     "metadata": {},
     "output_type": "execute_result"
    }
   ],
   "source": [
    "airlines.isnull().sum()"
   ]
  },
  {
   "cell_type": "code",
   "execution_count": 11,
   "id": "1d4faee0",
   "metadata": {},
   "outputs": [
    {
     "data": {
      "text/plain": [
       "array(['Unknown', 'Private flight', '1Time Airline', ...,\n",
       "       'Jetgo Australia', 'Air Carnival', 'Svyaz Rossiya'], dtype=object)"
      ]
     },
     "execution_count": 11,
     "metadata": {},
     "output_type": "execute_result"
    }
   ],
   "source": [
    "airlines.Name_al.unique()"
   ]
  },
  {
   "cell_type": "code",
   "execution_count": 12,
   "id": "caf5ff85",
   "metadata": {},
   "outputs": [],
   "source": [
    "#print(tabulate(airlines, headers='keys', tablefmt='pretty'))"
   ]
  },
  {
   "cell_type": "code",
   "execution_count": 13,
   "id": "57490f29",
   "metadata": {},
   "outputs": [],
   "source": [
    "#pd.set_option('display.max_rows', None)\n",
    "#pd.set_option('display.max_columns', None)\n",
    "#pd.set_option('display.width', None)\n",
    "#pd.set_option('display.max_colwidth', -1)"
   ]
  },
  {
   "cell_type": "code",
   "execution_count": 14,
   "id": "29946bcd",
   "metadata": {},
   "outputs": [],
   "source": [
    "#airlines['newname'] = airlines['Name']\n",
    "#airlines.head(10)"
   ]
  },
  {
   "cell_type": "code",
   "execution_count": 15,
   "id": "c789969e",
   "metadata": {},
   "outputs": [],
   "source": [
    "#airlines['newname'] = airlines['newname'].str.replace('-',' ')\n",
    "#airlines.head()"
   ]
  },
  {
   "cell_type": "code",
   "execution_count": 16,
   "id": "0bd65e34",
   "metadata": {},
   "outputs": [],
   "source": [
    "#airlines['newname'] = airlines['newname'].str.extract(r'(\\w+\\s+\\w+)')\n",
    "#airlines.head()"
   ]
  },
  {
   "cell_type": "code",
   "execution_count": 17,
   "id": "bebcfcdc",
   "metadata": {},
   "outputs": [
    {
     "data": {
      "text/plain": [
       "Thomas Cook Airlines    2\n",
       "Comair                  2\n",
       "Air Salone              2\n",
       "Tyrolean Airways        2\n",
       "Jet Airways             2\n",
       "                       ..\n",
       "KD Avia                 1\n",
       "Juneyao Airlines        1\n",
       "Jetstar Airways         1\n",
       "Jetflite                1\n",
       "Svyaz Rossiya           1\n",
       "Name: Name_al, Length: 1249, dtype: int64"
      ]
     },
     "execution_count": 17,
     "metadata": {},
     "output_type": "execute_result"
    }
   ],
   "source": [
    "airlines.Name_al.value_counts()"
   ]
  },
  {
   "cell_type": "code",
   "execution_count": null,
   "id": "5d7883ba",
   "metadata": {},
   "outputs": [],
   "source": []
  },
  {
   "cell_type": "markdown",
   "id": "64cdb106",
   "metadata": {},
   "source": [
    "### FAA Regions"
   ]
  },
  {
   "cell_type": "code",
   "execution_count": 18,
   "id": "469a4295",
   "metadata": {},
   "outputs": [
    {
     "data": {
      "text/html": [
       "<div>\n",
       "<style scoped>\n",
       "    .dataframe tbody tr th:only-of-type {\n",
       "        vertical-align: middle;\n",
       "    }\n",
       "\n",
       "    .dataframe tbody tr th {\n",
       "        vertical-align: top;\n",
       "    }\n",
       "\n",
       "    .dataframe thead th {\n",
       "        text-align: right;\n",
       "    }\n",
       "</style>\n",
       "<table border=\"1\" class=\"dataframe\">\n",
       "  <thead>\n",
       "    <tr style=\"text-align: right;\">\n",
       "      <th></th>\n",
       "      <th>FID</th>\n",
       "      <th>REGION</th>\n",
       "      <th>CNT_REGION</th>\n",
       "      <th>Shape_Leng</th>\n",
       "      <th>Shape_Area</th>\n",
       "    </tr>\n",
       "  </thead>\n",
       "  <tbody>\n",
       "    <tr>\n",
       "      <th>0</th>\n",
       "      <td>1</td>\n",
       "      <td>New England Region</td>\n",
       "      <td>6</td>\n",
       "      <td>152.233742</td>\n",
       "      <td>19.099946</td>\n",
       "    </tr>\n",
       "    <tr>\n",
       "      <th>1</th>\n",
       "      <td>2</td>\n",
       "      <td>Central Region</td>\n",
       "      <td>4</td>\n",
       "      <td>51.318016</td>\n",
       "      <td>78.091215</td>\n",
       "    </tr>\n",
       "    <tr>\n",
       "      <th>2</th>\n",
       "      <td>3</td>\n",
       "      <td>Southern Region</td>\n",
       "      <td>8</td>\n",
       "      <td>471.324583</td>\n",
       "      <td>94.856190</td>\n",
       "    </tr>\n",
       "    <tr>\n",
       "      <th>3</th>\n",
       "      <td>4</td>\n",
       "      <td>Western Pacific Region</td>\n",
       "      <td>4</td>\n",
       "      <td>94.202014</td>\n",
       "      <td>101.933953</td>\n",
       "    </tr>\n",
       "    <tr>\n",
       "      <th>4</th>\n",
       "      <td>5</td>\n",
       "      <td>Southwest Region</td>\n",
       "      <td>5</td>\n",
       "      <td>428.811114</td>\n",
       "      <td>138.650729</td>\n",
       "    </tr>\n",
       "    <tr>\n",
       "      <th>5</th>\n",
       "      <td>6</td>\n",
       "      <td>Great Lakes Region</td>\n",
       "      <td>8</td>\n",
       "      <td>189.109110</td>\n",
       "      <td>139.986989</td>\n",
       "    </tr>\n",
       "    <tr>\n",
       "      <th>6</th>\n",
       "      <td>7</td>\n",
       "      <td>Eastern Region</td>\n",
       "      <td>8</td>\n",
       "      <td>308.913778</td>\n",
       "      <td>48.682795</td>\n",
       "    </tr>\n",
       "    <tr>\n",
       "      <th>7</th>\n",
       "      <td>8</td>\n",
       "      <td>Northwest Mountain Region</td>\n",
       "      <td>7</td>\n",
       "      <td>151.363696</td>\n",
       "      <td>197.475811</td>\n",
       "    </tr>\n",
       "    <tr>\n",
       "      <th>8</th>\n",
       "      <td>9</td>\n",
       "      <td>Alaska Region</td>\n",
       "      <td>1</td>\n",
       "      <td>1033.192985</td>\n",
       "      <td>278.612678</td>\n",
       "    </tr>\n",
       "  </tbody>\n",
       "</table>\n",
       "</div>"
      ],
      "text/plain": [
       "   FID                     REGION  CNT_REGION   Shape_Leng  Shape_Area\n",
       "0    1         New England Region           6   152.233742   19.099946\n",
       "1    2             Central Region           4    51.318016   78.091215\n",
       "2    3            Southern Region           8   471.324583   94.856190\n",
       "3    4     Western Pacific Region           4    94.202014  101.933953\n",
       "4    5           Southwest Region           5   428.811114  138.650729\n",
       "5    6         Great Lakes Region           8   189.109110  139.986989\n",
       "6    7             Eastern Region           8   308.913778   48.682795\n",
       "7    8  Northwest Mountain Region           7   151.363696  197.475811\n",
       "8    9              Alaska Region           1  1033.192985  278.612678"
      ]
     },
     "execution_count": 18,
     "metadata": {},
     "output_type": "execute_result"
    }
   ],
   "source": [
    "FAA_Regions = pd.read_csv('../Data/Federal_Aviation_Administration_FAA_Regions.csv')\n",
    "FAA_Regions.head(11)"
   ]
  },
  {
   "cell_type": "code",
   "execution_count": 19,
   "id": "baf51aae",
   "metadata": {},
   "outputs": [
    {
     "data": {
      "text/plain": [
       "Index(['FID', 'REGION', 'CNT_REGION', 'Shape_Leng', 'Shape_Area'], dtype='object')"
      ]
     },
     "execution_count": 19,
     "metadata": {},
     "output_type": "execute_result"
    }
   ],
   "source": [
    "FAA_Regions.columns"
   ]
  },
  {
   "cell_type": "markdown",
   "id": "319b4943",
   "metadata": {},
   "source": [
    "### Airports"
   ]
  },
  {
   "cell_type": "code",
   "execution_count": null,
   "id": "6d909b59",
   "metadata": {},
   "outputs": [],
   "source": []
  },
  {
   "cell_type": "code",
   "execution_count": 20,
   "id": "8030f190",
   "metadata": {},
   "outputs": [
    {
     "data": {
      "text/html": [
       "<div>\n",
       "<style scoped>\n",
       "    .dataframe tbody tr th:only-of-type {\n",
       "        vertical-align: middle;\n",
       "    }\n",
       "\n",
       "    .dataframe tbody tr th {\n",
       "        vertical-align: top;\n",
       "    }\n",
       "\n",
       "    .dataframe thead th {\n",
       "        text-align: right;\n",
       "    }\n",
       "</style>\n",
       "<table border=\"1\" class=\"dataframe\">\n",
       "  <thead>\n",
       "    <tr style=\"text-align: right;\">\n",
       "      <th></th>\n",
       "      <th>Airport ID</th>\n",
       "      <th>Name</th>\n",
       "      <th>City</th>\n",
       "      <th>Country</th>\n",
       "      <th>IATA</th>\n",
       "      <th>ICAO</th>\n",
       "      <th>Latitude</th>\n",
       "      <th>Longitude</th>\n",
       "      <th>Altitude</th>\n",
       "      <th>Timezone</th>\n",
       "      <th>DST</th>\n",
       "      <th>Tz database time zone</th>\n",
       "      <th>Type</th>\n",
       "      <th>Source</th>\n",
       "    </tr>\n",
       "  </thead>\n",
       "  <tbody>\n",
       "    <tr>\n",
       "      <th>0</th>\n",
       "      <td>1</td>\n",
       "      <td>Goroka Airport</td>\n",
       "      <td>Goroka</td>\n",
       "      <td>Papua New Guinea</td>\n",
       "      <td>GKA</td>\n",
       "      <td>AYGA</td>\n",
       "      <td>-6.081690</td>\n",
       "      <td>145.391998</td>\n",
       "      <td>5282</td>\n",
       "      <td>10</td>\n",
       "      <td>U</td>\n",
       "      <td>Pacific/Port_Moresby</td>\n",
       "      <td>airport</td>\n",
       "      <td>OurAirports</td>\n",
       "    </tr>\n",
       "    <tr>\n",
       "      <th>1</th>\n",
       "      <td>2</td>\n",
       "      <td>Madang Airport</td>\n",
       "      <td>Madang</td>\n",
       "      <td>Papua New Guinea</td>\n",
       "      <td>MAG</td>\n",
       "      <td>AYMD</td>\n",
       "      <td>-5.207080</td>\n",
       "      <td>145.789001</td>\n",
       "      <td>20</td>\n",
       "      <td>10</td>\n",
       "      <td>U</td>\n",
       "      <td>Pacific/Port_Moresby</td>\n",
       "      <td>airport</td>\n",
       "      <td>OurAirports</td>\n",
       "    </tr>\n",
       "    <tr>\n",
       "      <th>2</th>\n",
       "      <td>3</td>\n",
       "      <td>Mount Hagen Kagamuga Airport</td>\n",
       "      <td>Mount Hagen</td>\n",
       "      <td>Papua New Guinea</td>\n",
       "      <td>HGU</td>\n",
       "      <td>AYMH</td>\n",
       "      <td>-5.826790</td>\n",
       "      <td>144.296005</td>\n",
       "      <td>5388</td>\n",
       "      <td>10</td>\n",
       "      <td>U</td>\n",
       "      <td>Pacific/Port_Moresby</td>\n",
       "      <td>airport</td>\n",
       "      <td>OurAirports</td>\n",
       "    </tr>\n",
       "    <tr>\n",
       "      <th>3</th>\n",
       "      <td>4</td>\n",
       "      <td>Nadzab Airport</td>\n",
       "      <td>Nadzab</td>\n",
       "      <td>Papua New Guinea</td>\n",
       "      <td>LAE</td>\n",
       "      <td>AYNZ</td>\n",
       "      <td>-6.569803</td>\n",
       "      <td>146.725977</td>\n",
       "      <td>239</td>\n",
       "      <td>10</td>\n",
       "      <td>U</td>\n",
       "      <td>Pacific/Port_Moresby</td>\n",
       "      <td>airport</td>\n",
       "      <td>OurAirports</td>\n",
       "    </tr>\n",
       "    <tr>\n",
       "      <th>4</th>\n",
       "      <td>5</td>\n",
       "      <td>Port Moresby Jacksons International Airport</td>\n",
       "      <td>Port Moresby</td>\n",
       "      <td>Papua New Guinea</td>\n",
       "      <td>POM</td>\n",
       "      <td>AYPY</td>\n",
       "      <td>-9.443380</td>\n",
       "      <td>147.220001</td>\n",
       "      <td>146</td>\n",
       "      <td>10</td>\n",
       "      <td>U</td>\n",
       "      <td>Pacific/Port_Moresby</td>\n",
       "      <td>airport</td>\n",
       "      <td>OurAirports</td>\n",
       "    </tr>\n",
       "  </tbody>\n",
       "</table>\n",
       "</div>"
      ],
      "text/plain": [
       "   Airport ID                                         Name          City  \\\n",
       "0           1                               Goroka Airport        Goroka   \n",
       "1           2                               Madang Airport        Madang   \n",
       "2           3                 Mount Hagen Kagamuga Airport   Mount Hagen   \n",
       "3           4                               Nadzab Airport        Nadzab   \n",
       "4           5  Port Moresby Jacksons International Airport  Port Moresby   \n",
       "\n",
       "            Country IATA  ICAO  Latitude   Longitude  Altitude Timezone DST  \\\n",
       "0  Papua New Guinea  GKA  AYGA -6.081690  145.391998      5282       10   U   \n",
       "1  Papua New Guinea  MAG  AYMD -5.207080  145.789001        20       10   U   \n",
       "2  Papua New Guinea  HGU  AYMH -5.826790  144.296005      5388       10   U   \n",
       "3  Papua New Guinea  LAE  AYNZ -6.569803  146.725977       239       10   U   \n",
       "4  Papua New Guinea  POM  AYPY -9.443380  147.220001       146       10   U   \n",
       "\n",
       "  Tz database time zone     Type       Source  \n",
       "0  Pacific/Port_Moresby  airport  OurAirports  \n",
       "1  Pacific/Port_Moresby  airport  OurAirports  \n",
       "2  Pacific/Port_Moresby  airport  OurAirports  \n",
       "3  Pacific/Port_Moresby  airport  OurAirports  \n",
       "4  Pacific/Port_Moresby  airport  OurAirports  "
      ]
     },
     "execution_count": 20,
     "metadata": {},
     "output_type": "execute_result"
    }
   ],
   "source": [
    "airports = pd.read_csv('../Data/Airports.csv')\n",
    "airports.head()"
   ]
  },
  {
   "cell_type": "code",
   "execution_count": 21,
   "id": "aa8d3abf",
   "metadata": {},
   "outputs": [
    {
     "data": {
      "text/html": [
       "<div>\n",
       "<style scoped>\n",
       "    .dataframe tbody tr th:only-of-type {\n",
       "        vertical-align: middle;\n",
       "    }\n",
       "\n",
       "    .dataframe tbody tr th {\n",
       "        vertical-align: top;\n",
       "    }\n",
       "\n",
       "    .dataframe thead th {\n",
       "        text-align: right;\n",
       "    }\n",
       "</style>\n",
       "<table border=\"1\" class=\"dataframe\">\n",
       "  <thead>\n",
       "    <tr style=\"text-align: right;\">\n",
       "      <th></th>\n",
       "      <th>Airport ID</th>\n",
       "      <th>Name</th>\n",
       "      <th>City</th>\n",
       "      <th>Country</th>\n",
       "      <th>IATA</th>\n",
       "      <th>ICAO</th>\n",
       "      <th>Latitude</th>\n",
       "      <th>Longitude</th>\n",
       "      <th>Altitude</th>\n",
       "      <th>Timezone</th>\n",
       "      <th>DST</th>\n",
       "      <th>Tz database time zone</th>\n",
       "      <th>Type</th>\n",
       "      <th>Source</th>\n",
       "    </tr>\n",
       "  </thead>\n",
       "  <tbody>\n",
       "    <tr>\n",
       "      <th>3490</th>\n",
       "      <td>3690</td>\n",
       "      <td>Nashville International Airport</td>\n",
       "      <td>Nashville</td>\n",
       "      <td>United States</td>\n",
       "      <td>BNA</td>\n",
       "      <td>KBNA</td>\n",
       "      <td>36.1245</td>\n",
       "      <td>-86.6782</td>\n",
       "      <td>599</td>\n",
       "      <td>-6</td>\n",
       "      <td>A</td>\n",
       "      <td>America/Chicago</td>\n",
       "      <td>airport</td>\n",
       "      <td>OurAirports</td>\n",
       "    </tr>\n",
       "  </tbody>\n",
       "</table>\n",
       "</div>"
      ],
      "text/plain": [
       "      Airport ID                             Name       City        Country  \\\n",
       "3490        3690  Nashville International Airport  Nashville  United States   \n",
       "\n",
       "     IATA  ICAO  Latitude  Longitude  Altitude Timezone DST  \\\n",
       "3490  BNA  KBNA   36.1245   -86.6782       599       -6   A   \n",
       "\n",
       "     Tz database time zone     Type       Source  \n",
       "3490       America/Chicago  airport  OurAirports  "
      ]
     },
     "execution_count": 21,
     "metadata": {},
     "output_type": "execute_result"
    }
   ],
   "source": [
    "bna = airports[airports['IATA'] == 'BNA']\n",
    "bna.head()"
   ]
  },
  {
   "cell_type": "code",
   "execution_count": 22,
   "id": "f194201b",
   "metadata": {},
   "outputs": [
    {
     "data": {
      "text/plain": [
       "(7698, 14)"
      ]
     },
     "execution_count": 22,
     "metadata": {},
     "output_type": "execute_result"
    }
   ],
   "source": [
    "airports.shape"
   ]
  },
  {
   "cell_type": "code",
   "execution_count": null,
   "id": "8fee639f",
   "metadata": {},
   "outputs": [],
   "source": []
  },
  {
   "cell_type": "code",
   "execution_count": 23,
   "id": "2d6ec935",
   "metadata": {},
   "outputs": [
    {
     "data": {
      "text/plain": [
       "Index(['Airport ID', 'Name', 'City', 'Country', 'IATA', 'ICAO', 'Latitude',\n",
       "       'Longitude', 'Altitude', 'Timezone', 'DST', 'Tz database time zone',\n",
       "       'Type', 'Source'],\n",
       "      dtype='object')"
      ]
     },
     "execution_count": 23,
     "metadata": {},
     "output_type": "execute_result"
    }
   ],
   "source": [
    "airports.columns"
   ]
  },
  {
   "cell_type": "code",
   "execution_count": 24,
   "id": "12d21316",
   "metadata": {},
   "outputs": [
    {
     "data": {
      "text/html": [
       "<div>\n",
       "<style scoped>\n",
       "    .dataframe tbody tr th:only-of-type {\n",
       "        vertical-align: middle;\n",
       "    }\n",
       "\n",
       "    .dataframe tbody tr th {\n",
       "        vertical-align: top;\n",
       "    }\n",
       "\n",
       "    .dataframe thead th {\n",
       "        text-align: right;\n",
       "    }\n",
       "</style>\n",
       "<table border=\"1\" class=\"dataframe\">\n",
       "  <thead>\n",
       "    <tr style=\"text-align: right;\">\n",
       "      <th></th>\n",
       "      <th>Airport ID</th>\n",
       "      <th>Name</th>\n",
       "      <th>City</th>\n",
       "      <th>Country</th>\n",
       "      <th>IATA</th>\n",
       "      <th>ICAO</th>\n",
       "      <th>Latitude</th>\n",
       "      <th>Longitude</th>\n",
       "      <th>Altitude</th>\n",
       "      <th>Timezone</th>\n",
       "    </tr>\n",
       "  </thead>\n",
       "  <tbody>\n",
       "    <tr>\n",
       "      <th>0</th>\n",
       "      <td>1</td>\n",
       "      <td>Goroka Airport</td>\n",
       "      <td>Goroka</td>\n",
       "      <td>Papua New Guinea</td>\n",
       "      <td>GKA</td>\n",
       "      <td>AYGA</td>\n",
       "      <td>-6.08169</td>\n",
       "      <td>145.391998</td>\n",
       "      <td>5282</td>\n",
       "      <td>10</td>\n",
       "    </tr>\n",
       "    <tr>\n",
       "      <th>1</th>\n",
       "      <td>2</td>\n",
       "      <td>Madang Airport</td>\n",
       "      <td>Madang</td>\n",
       "      <td>Papua New Guinea</td>\n",
       "      <td>MAG</td>\n",
       "      <td>AYMD</td>\n",
       "      <td>-5.20708</td>\n",
       "      <td>145.789001</td>\n",
       "      <td>20</td>\n",
       "      <td>10</td>\n",
       "    </tr>\n",
       "  </tbody>\n",
       "</table>\n",
       "</div>"
      ],
      "text/plain": [
       "   Airport ID            Name    City           Country IATA  ICAO  Latitude  \\\n",
       "0           1  Goroka Airport  Goroka  Papua New Guinea  GKA  AYGA  -6.08169   \n",
       "1           2  Madang Airport  Madang  Papua New Guinea  MAG  AYMD  -5.20708   \n",
       "\n",
       "    Longitude  Altitude Timezone  \n",
       "0  145.391998      5282       10  \n",
       "1  145.789001        20       10  "
      ]
     },
     "execution_count": 24,
     "metadata": {},
     "output_type": "execute_result"
    }
   ],
   "source": [
    "airports.drop(['DST', 'Tz database time zone', 'Type', 'Source'], axis=1, inplace=True)\n",
    "airports.head(2)"
   ]
  },
  {
   "cell_type": "code",
   "execution_count": 25,
   "id": "4a9ac407",
   "metadata": {},
   "outputs": [
    {
     "data": {
      "text/html": [
       "<div>\n",
       "<style scoped>\n",
       "    .dataframe tbody tr th:only-of-type {\n",
       "        vertical-align: middle;\n",
       "    }\n",
       "\n",
       "    .dataframe tbody tr th {\n",
       "        vertical-align: top;\n",
       "    }\n",
       "\n",
       "    .dataframe thead th {\n",
       "        text-align: right;\n",
       "    }\n",
       "</style>\n",
       "<table border=\"1\" class=\"dataframe\">\n",
       "  <thead>\n",
       "    <tr style=\"text-align: right;\">\n",
       "      <th></th>\n",
       "      <th>Airport ID</th>\n",
       "      <th>Name_ap</th>\n",
       "      <th>City</th>\n",
       "      <th>Country_ap</th>\n",
       "      <th>IATA_ap</th>\n",
       "      <th>ICAO_ap</th>\n",
       "      <th>Lat_ap</th>\n",
       "      <th>Long_ap</th>\n",
       "      <th>Alt_ap</th>\n",
       "      <th>TZone_ap</th>\n",
       "    </tr>\n",
       "  </thead>\n",
       "  <tbody>\n",
       "    <tr>\n",
       "      <th>0</th>\n",
       "      <td>1</td>\n",
       "      <td>Goroka Airport</td>\n",
       "      <td>Goroka</td>\n",
       "      <td>Papua New Guinea</td>\n",
       "      <td>GKA</td>\n",
       "      <td>AYGA</td>\n",
       "      <td>-6.08169</td>\n",
       "      <td>145.391998</td>\n",
       "      <td>5282</td>\n",
       "      <td>10</td>\n",
       "    </tr>\n",
       "    <tr>\n",
       "      <th>1</th>\n",
       "      <td>2</td>\n",
       "      <td>Madang Airport</td>\n",
       "      <td>Madang</td>\n",
       "      <td>Papua New Guinea</td>\n",
       "      <td>MAG</td>\n",
       "      <td>AYMD</td>\n",
       "      <td>-5.20708</td>\n",
       "      <td>145.789001</td>\n",
       "      <td>20</td>\n",
       "      <td>10</td>\n",
       "    </tr>\n",
       "  </tbody>\n",
       "</table>\n",
       "</div>"
      ],
      "text/plain": [
       "   Airport ID         Name_ap    City        Country_ap IATA_ap ICAO_ap  \\\n",
       "0           1  Goroka Airport  Goroka  Papua New Guinea     GKA    AYGA   \n",
       "1           2  Madang Airport  Madang  Papua New Guinea     MAG    AYMD   \n",
       "\n",
       "    Lat_ap     Long_ap  Alt_ap TZone_ap  \n",
       "0 -6.08169  145.391998    5282       10  \n",
       "1 -5.20708  145.789001      20       10  "
      ]
     },
     "execution_count": 25,
     "metadata": {},
     "output_type": "execute_result"
    }
   ],
   "source": [
    "airports.rename(columns = {'Name':'Name_ap', 'Country':'Country_ap','IATA':'IATA_ap', 'ICAO':'ICAO_ap', 'Latitude':'Lat_ap', 'Longitude':'Long_ap', 'Altitude':'Alt_ap', 'Timezone':'TZone_ap'}, inplace=True)\n",
    "airports.head(2)"
   ]
  },
  {
   "cell_type": "code",
   "execution_count": null,
   "id": "01cd71ba",
   "metadata": {},
   "outputs": [],
   "source": []
  },
  {
   "cell_type": "code",
   "execution_count": 26,
   "id": "b640e58e",
   "metadata": {},
   "outputs": [],
   "source": [
    "#airports['Country_ap'].unique()"
   ]
  },
  {
   "cell_type": "code",
   "execution_count": 27,
   "id": "0c6ad1b7",
   "metadata": {},
   "outputs": [
    {
     "data": {
      "text/html": [
       "<div>\n",
       "<style scoped>\n",
       "    .dataframe tbody tr th:only-of-type {\n",
       "        vertical-align: middle;\n",
       "    }\n",
       "\n",
       "    .dataframe tbody tr th {\n",
       "        vertical-align: top;\n",
       "    }\n",
       "\n",
       "    .dataframe thead th {\n",
       "        text-align: right;\n",
       "    }\n",
       "</style>\n",
       "<table border=\"1\" class=\"dataframe\">\n",
       "  <thead>\n",
       "    <tr style=\"text-align: right;\">\n",
       "      <th></th>\n",
       "      <th>Airport ID</th>\n",
       "      <th>Name_ap</th>\n",
       "      <th>City</th>\n",
       "      <th>Country_ap</th>\n",
       "      <th>IATA_ap</th>\n",
       "      <th>ICAO_ap</th>\n",
       "      <th>Lat_ap</th>\n",
       "      <th>Long_ap</th>\n",
       "      <th>Alt_ap</th>\n",
       "      <th>TZone_ap</th>\n",
       "    </tr>\n",
       "  </thead>\n",
       "  <tbody>\n",
       "    <tr>\n",
       "      <th>3212</th>\n",
       "      <td>3411</td>\n",
       "      <td>Barter Island LRRS Airport</td>\n",
       "      <td>Barter Island</td>\n",
       "      <td>United States</td>\n",
       "      <td>BTI</td>\n",
       "      <td>PABA</td>\n",
       "      <td>70.134003</td>\n",
       "      <td>-143.582001</td>\n",
       "      <td>2</td>\n",
       "      <td>-9</td>\n",
       "    </tr>\n",
       "    <tr>\n",
       "      <th>3213</th>\n",
       "      <td>3412</td>\n",
       "      <td>Wainwright Air Station</td>\n",
       "      <td>Fort Wainwright</td>\n",
       "      <td>United States</td>\n",
       "      <td>\\N</td>\n",
       "      <td>PAWT</td>\n",
       "      <td>70.613403</td>\n",
       "      <td>-159.860001</td>\n",
       "      <td>35</td>\n",
       "      <td>-9</td>\n",
       "    </tr>\n",
       "    <tr>\n",
       "      <th>3214</th>\n",
       "      <td>3413</td>\n",
       "      <td>Cape Lisburne LRRS Airport</td>\n",
       "      <td>Cape Lisburne</td>\n",
       "      <td>United States</td>\n",
       "      <td>LUR</td>\n",
       "      <td>PALU</td>\n",
       "      <td>68.875099</td>\n",
       "      <td>-166.110001</td>\n",
       "      <td>16</td>\n",
       "      <td>-9</td>\n",
       "    </tr>\n",
       "    <tr>\n",
       "      <th>3215</th>\n",
       "      <td>3414</td>\n",
       "      <td>Point Lay LRRS Airport</td>\n",
       "      <td>Point Lay</td>\n",
       "      <td>United States</td>\n",
       "      <td>PIZ</td>\n",
       "      <td>PPIZ</td>\n",
       "      <td>69.732903</td>\n",
       "      <td>-163.005005</td>\n",
       "      <td>22</td>\n",
       "      <td>-9</td>\n",
       "    </tr>\n",
       "    <tr>\n",
       "      <th>3216</th>\n",
       "      <td>3415</td>\n",
       "      <td>Hilo International Airport</td>\n",
       "      <td>Hilo</td>\n",
       "      <td>United States</td>\n",
       "      <td>ITO</td>\n",
       "      <td>PHTO</td>\n",
       "      <td>19.721399</td>\n",
       "      <td>-155.048004</td>\n",
       "      <td>38</td>\n",
       "      <td>-10</td>\n",
       "    </tr>\n",
       "  </tbody>\n",
       "</table>\n",
       "</div>"
      ],
      "text/plain": [
       "      Airport ID                     Name_ap             City     Country_ap  \\\n",
       "3212        3411  Barter Island LRRS Airport    Barter Island  United States   \n",
       "3213        3412      Wainwright Air Station  Fort Wainwright  United States   \n",
       "3214        3413  Cape Lisburne LRRS Airport    Cape Lisburne  United States   \n",
       "3215        3414      Point Lay LRRS Airport        Point Lay  United States   \n",
       "3216        3415  Hilo International Airport             Hilo  United States   \n",
       "\n",
       "     IATA_ap ICAO_ap     Lat_ap     Long_ap  Alt_ap TZone_ap  \n",
       "3212     BTI    PABA  70.134003 -143.582001       2       -9  \n",
       "3213      \\N    PAWT  70.613403 -159.860001      35       -9  \n",
       "3214     LUR    PALU  68.875099 -166.110001      16       -9  \n",
       "3215     PIZ    PPIZ  69.732903 -163.005005      22       -9  \n",
       "3216     ITO    PHTO  19.721399 -155.048004      38      -10  "
      ]
     },
     "execution_count": 27,
     "metadata": {},
     "output_type": "execute_result"
    }
   ],
   "source": [
    "#subset to United States\n",
    "airports = airports[airports['Country_ap']=='United States']\n",
    "airports.head()"
   ]
  },
  {
   "cell_type": "code",
   "execution_count": 28,
   "id": "53a44124",
   "metadata": {},
   "outputs": [
    {
     "data": {
      "text/plain": [
       "Airport ID    0\n",
       "Name_ap       0\n",
       "City          0\n",
       "Country_ap    0\n",
       "IATA_ap       0\n",
       "ICAO_ap       0\n",
       "Lat_ap        0\n",
       "Long_ap       0\n",
       "Alt_ap        0\n",
       "TZone_ap      0\n",
       "dtype: int64"
      ]
     },
     "execution_count": 28,
     "metadata": {},
     "output_type": "execute_result"
    }
   ],
   "source": [
    "airports.isnull().sum()"
   ]
  },
  {
   "cell_type": "code",
   "execution_count": null,
   "id": "bda9e733",
   "metadata": {},
   "outputs": [],
   "source": []
  },
  {
   "cell_type": "markdown",
   "id": "08860274",
   "metadata": {},
   "source": [
    "### Passengers"
   ]
  },
  {
   "cell_type": "code",
   "execution_count": 29,
   "id": "5a7a88fc",
   "metadata": {},
   "outputs": [
    {
     "data": {
      "text/html": [
       "<div>\n",
       "<style scoped>\n",
       "    .dataframe tbody tr th:only-of-type {\n",
       "        vertical-align: middle;\n",
       "    }\n",
       "\n",
       "    .dataframe tbody tr th {\n",
       "        vertical-align: top;\n",
       "    }\n",
       "\n",
       "    .dataframe thead th {\n",
       "        text-align: right;\n",
       "    }\n",
       "</style>\n",
       "<table border=\"1\" class=\"dataframe\">\n",
       "  <thead>\n",
       "    <tr style=\"text-align: right;\">\n",
       "      <th></th>\n",
       "      <th>Sum_PASSENGERS</th>\n",
       "      <th>AIRLINE_ID</th>\n",
       "      <th>CARRIER_NAME</th>\n",
       "      <th>ORIGIN</th>\n",
       "      <th>ORIGIN_CITY_NAME</th>\n",
       "      <th>ORIGIN_STATE_ABR</th>\n",
       "      <th>ORIGIN_STATE_NM</th>\n",
       "      <th>ORIGIN_COUNTRY</th>\n",
       "      <th>ORIGIN_COUNTRY_NAME</th>\n",
       "      <th>DEST</th>\n",
       "      <th>DEST_CITY_NAME</th>\n",
       "      <th>DEST_STATE_ABR</th>\n",
       "      <th>DEST_STATE_NM</th>\n",
       "      <th>DEST_COUNTRY</th>\n",
       "      <th>DEST_COUNTRY_NAME</th>\n",
       "      <th>YEAR</th>\n",
       "      <th>MONTH</th>\n",
       "    </tr>\n",
       "  </thead>\n",
       "  <tbody>\n",
       "    <tr>\n",
       "      <th>6278815</th>\n",
       "      <td>5</td>\n",
       "      <td>22074.0</td>\n",
       "      <td>Avon Jet AG</td>\n",
       "      <td>MFE</td>\n",
       "      <td>Mission/McAllen/Edinburg, TX</td>\n",
       "      <td>TX</td>\n",
       "      <td>Texas</td>\n",
       "      <td>US</td>\n",
       "      <td>United States</td>\n",
       "      <td>VCE</td>\n",
       "      <td>Venice, Italy</td>\n",
       "      <td>NaN</td>\n",
       "      <td>NaN</td>\n",
       "      <td>IT</td>\n",
       "      <td>Italy</td>\n",
       "      <td>2020</td>\n",
       "      <td>3</td>\n",
       "    </tr>\n",
       "    <tr>\n",
       "      <th>6278816</th>\n",
       "      <td>2</td>\n",
       "      <td>22074.0</td>\n",
       "      <td>Avon Jet AG</td>\n",
       "      <td>PBI</td>\n",
       "      <td>West Palm Beach/Palm Beach, FL</td>\n",
       "      <td>FL</td>\n",
       "      <td>Florida</td>\n",
       "      <td>US</td>\n",
       "      <td>United States</td>\n",
       "      <td>FAB</td>\n",
       "      <td>Farnborough, United Kingdom</td>\n",
       "      <td>NaN</td>\n",
       "      <td>NaN</td>\n",
       "      <td>GB</td>\n",
       "      <td>United Kingdom</td>\n",
       "      <td>2020</td>\n",
       "      <td>3</td>\n",
       "    </tr>\n",
       "    <tr>\n",
       "      <th>6278817</th>\n",
       "      <td>6</td>\n",
       "      <td>22074.0</td>\n",
       "      <td>Avon Jet AG</td>\n",
       "      <td>TEB</td>\n",
       "      <td>Teterboro, NJ</td>\n",
       "      <td>NJ</td>\n",
       "      <td>New Jersey</td>\n",
       "      <td>US</td>\n",
       "      <td>United States</td>\n",
       "      <td>ATH</td>\n",
       "      <td>Athens, Greece</td>\n",
       "      <td>NaN</td>\n",
       "      <td>NaN</td>\n",
       "      <td>GR</td>\n",
       "      <td>Greece</td>\n",
       "      <td>2020</td>\n",
       "      <td>7</td>\n",
       "    </tr>\n",
       "    <tr>\n",
       "      <th>6278818</th>\n",
       "      <td>3</td>\n",
       "      <td>22074.0</td>\n",
       "      <td>Avon Jet AG</td>\n",
       "      <td>TEB</td>\n",
       "      <td>Teterboro, NJ</td>\n",
       "      <td>NJ</td>\n",
       "      <td>New Jersey</td>\n",
       "      <td>US</td>\n",
       "      <td>United States</td>\n",
       "      <td>FRA</td>\n",
       "      <td>Frankfurt, Germany</td>\n",
       "      <td>NaN</td>\n",
       "      <td>NaN</td>\n",
       "      <td>DE</td>\n",
       "      <td>Germany</td>\n",
       "      <td>2020</td>\n",
       "      <td>10</td>\n",
       "    </tr>\n",
       "    <tr>\n",
       "      <th>6278819</th>\n",
       "      <td>2</td>\n",
       "      <td>22074.0</td>\n",
       "      <td>Avon Jet AG</td>\n",
       "      <td>TEB</td>\n",
       "      <td>Teterboro, NJ</td>\n",
       "      <td>NJ</td>\n",
       "      <td>New Jersey</td>\n",
       "      <td>US</td>\n",
       "      <td>United States</td>\n",
       "      <td>KEF</td>\n",
       "      <td>Keflavik/Reykjavik, Iceland</td>\n",
       "      <td>NaN</td>\n",
       "      <td>NaN</td>\n",
       "      <td>IS</td>\n",
       "      <td>Iceland</td>\n",
       "      <td>2020</td>\n",
       "      <td>6</td>\n",
       "    </tr>\n",
       "  </tbody>\n",
       "</table>\n",
       "</div>"
      ],
      "text/plain": [
       "         Sum_PASSENGERS  AIRLINE_ID CARRIER_NAME ORIGIN  \\\n",
       "6278815               5     22074.0  Avon Jet AG    MFE   \n",
       "6278816               2     22074.0  Avon Jet AG    PBI   \n",
       "6278817               6     22074.0  Avon Jet AG    TEB   \n",
       "6278818               3     22074.0  Avon Jet AG    TEB   \n",
       "6278819               2     22074.0  Avon Jet AG    TEB   \n",
       "\n",
       "                       ORIGIN_CITY_NAME ORIGIN_STATE_ABR ORIGIN_STATE_NM  \\\n",
       "6278815    Mission/McAllen/Edinburg, TX               TX           Texas   \n",
       "6278816  West Palm Beach/Palm Beach, FL               FL         Florida   \n",
       "6278817                   Teterboro, NJ               NJ      New Jersey   \n",
       "6278818                   Teterboro, NJ               NJ      New Jersey   \n",
       "6278819                   Teterboro, NJ               NJ      New Jersey   \n",
       "\n",
       "        ORIGIN_COUNTRY ORIGIN_COUNTRY_NAME DEST               DEST_CITY_NAME  \\\n",
       "6278815             US       United States  VCE                Venice, Italy   \n",
       "6278816             US       United States  FAB  Farnborough, United Kingdom   \n",
       "6278817             US       United States  ATH               Athens, Greece   \n",
       "6278818             US       United States  FRA           Frankfurt, Germany   \n",
       "6278819             US       United States  KEF  Keflavik/Reykjavik, Iceland   \n",
       "\n",
       "        DEST_STATE_ABR DEST_STATE_NM DEST_COUNTRY DEST_COUNTRY_NAME  YEAR  \\\n",
       "6278815            NaN           NaN           IT             Italy  2020   \n",
       "6278816            NaN           NaN           GB    United Kingdom  2020   \n",
       "6278817            NaN           NaN           GR            Greece  2020   \n",
       "6278818            NaN           NaN           DE           Germany  2020   \n",
       "6278819            NaN           NaN           IS           Iceland  2020   \n",
       "\n",
       "         MONTH  \n",
       "6278815      3  \n",
       "6278816      3  \n",
       "6278817      7  \n",
       "6278818     10  \n",
       "6278819      6  "
      ]
     },
     "execution_count": 29,
     "metadata": {},
     "output_type": "execute_result"
    }
   ],
   "source": [
    "passengers = pd.read_csv('../Data/US Monthly Air Passengers.csv')\n",
    "passengers.tail(5)"
   ]
  },
  {
   "cell_type": "code",
   "execution_count": 30,
   "id": "7723670d",
   "metadata": {},
   "outputs": [
    {
     "data": {
      "text/plain": [
       "Index(['Sum_PASSENGERS', 'AIRLINE_ID', 'CARRIER_NAME', 'ORIGIN',\n",
       "       'ORIGIN_CITY_NAME', 'ORIGIN_STATE_ABR', 'ORIGIN_STATE_NM',\n",
       "       'ORIGIN_COUNTRY', 'ORIGIN_COUNTRY_NAME', 'DEST', 'DEST_CITY_NAME',\n",
       "       'DEST_STATE_ABR', 'DEST_STATE_NM', 'DEST_COUNTRY', 'DEST_COUNTRY_NAME',\n",
       "       'YEAR', 'MONTH'],\n",
       "      dtype='object')"
      ]
     },
     "execution_count": 30,
     "metadata": {},
     "output_type": "execute_result"
    }
   ],
   "source": [
    "passengers.columns"
   ]
  },
  {
   "cell_type": "code",
   "execution_count": 31,
   "id": "8930baba",
   "metadata": {},
   "outputs": [],
   "source": [
    "passengers = passengers.loc[:, ['YEAR', 'MONTH', 'Sum_PASSENGERS', 'AIRLINE_ID', 'CARRIER_NAME', 'ORIGIN',\n",
    "       'ORIGIN_CITY_NAME', 'ORIGIN_STATE_ABR', 'ORIGIN_STATE_NM',\n",
    "       'ORIGIN_COUNTRY', 'ORIGIN_COUNTRY_NAME', 'DEST', 'DEST_CITY_NAME',\n",
    "       'DEST_STATE_ABR', 'DEST_STATE_NM', 'DEST_COUNTRY', 'DEST_COUNTRY_NAME']]"
   ]
  },
  {
   "cell_type": "code",
   "execution_count": 32,
   "id": "4b1b4c68",
   "metadata": {},
   "outputs": [
    {
     "data": {
      "text/html": [
       "<div>\n",
       "<style scoped>\n",
       "    .dataframe tbody tr th:only-of-type {\n",
       "        vertical-align: middle;\n",
       "    }\n",
       "\n",
       "    .dataframe tbody tr th {\n",
       "        vertical-align: top;\n",
       "    }\n",
       "\n",
       "    .dataframe thead th {\n",
       "        text-align: right;\n",
       "    }\n",
       "</style>\n",
       "<table border=\"1\" class=\"dataframe\">\n",
       "  <thead>\n",
       "    <tr style=\"text-align: right;\">\n",
       "      <th></th>\n",
       "      <th>YEAR</th>\n",
       "      <th>MONTH</th>\n",
       "      <th>Sum_PASSENGERS</th>\n",
       "      <th>AIRLINE_ID</th>\n",
       "      <th>CARRIER_NAME</th>\n",
       "      <th>ORIGIN</th>\n",
       "      <th>ORIGIN_CITY_NAME</th>\n",
       "      <th>ORIGIN_STATE_ABR</th>\n",
       "      <th>ORIGIN_STATE_NM</th>\n",
       "      <th>ORIGIN_COUNTRY</th>\n",
       "      <th>ORIGIN_COUNTRY_NAME</th>\n",
       "      <th>DEST</th>\n",
       "      <th>DEST_CITY_NAME</th>\n",
       "      <th>DEST_STATE_ABR</th>\n",
       "      <th>DEST_STATE_NM</th>\n",
       "      <th>DEST_COUNTRY</th>\n",
       "      <th>DEST_COUNTRY_NAME</th>\n",
       "    </tr>\n",
       "  </thead>\n",
       "  <tbody>\n",
       "    <tr>\n",
       "      <th>6278818</th>\n",
       "      <td>2020</td>\n",
       "      <td>10</td>\n",
       "      <td>3</td>\n",
       "      <td>22074.0</td>\n",
       "      <td>Avon Jet AG</td>\n",
       "      <td>TEB</td>\n",
       "      <td>Teterboro, NJ</td>\n",
       "      <td>NJ</td>\n",
       "      <td>New Jersey</td>\n",
       "      <td>US</td>\n",
       "      <td>United States</td>\n",
       "      <td>FRA</td>\n",
       "      <td>Frankfurt, Germany</td>\n",
       "      <td>NaN</td>\n",
       "      <td>NaN</td>\n",
       "      <td>DE</td>\n",
       "      <td>Germany</td>\n",
       "    </tr>\n",
       "    <tr>\n",
       "      <th>6278819</th>\n",
       "      <td>2020</td>\n",
       "      <td>6</td>\n",
       "      <td>2</td>\n",
       "      <td>22074.0</td>\n",
       "      <td>Avon Jet AG</td>\n",
       "      <td>TEB</td>\n",
       "      <td>Teterboro, NJ</td>\n",
       "      <td>NJ</td>\n",
       "      <td>New Jersey</td>\n",
       "      <td>US</td>\n",
       "      <td>United States</td>\n",
       "      <td>KEF</td>\n",
       "      <td>Keflavik/Reykjavik, Iceland</td>\n",
       "      <td>NaN</td>\n",
       "      <td>NaN</td>\n",
       "      <td>IS</td>\n",
       "      <td>Iceland</td>\n",
       "    </tr>\n",
       "  </tbody>\n",
       "</table>\n",
       "</div>"
      ],
      "text/plain": [
       "         YEAR  MONTH  Sum_PASSENGERS  AIRLINE_ID CARRIER_NAME ORIGIN  \\\n",
       "6278818  2020     10               3     22074.0  Avon Jet AG    TEB   \n",
       "6278819  2020      6               2     22074.0  Avon Jet AG    TEB   \n",
       "\n",
       "        ORIGIN_CITY_NAME ORIGIN_STATE_ABR ORIGIN_STATE_NM ORIGIN_COUNTRY  \\\n",
       "6278818    Teterboro, NJ               NJ      New Jersey             US   \n",
       "6278819    Teterboro, NJ               NJ      New Jersey             US   \n",
       "\n",
       "        ORIGIN_COUNTRY_NAME DEST               DEST_CITY_NAME DEST_STATE_ABR  \\\n",
       "6278818       United States  FRA           Frankfurt, Germany            NaN   \n",
       "6278819       United States  KEF  Keflavik/Reykjavik, Iceland            NaN   \n",
       "\n",
       "        DEST_STATE_NM DEST_COUNTRY DEST_COUNTRY_NAME  \n",
       "6278818           NaN           DE           Germany  \n",
       "6278819           NaN           IS           Iceland  "
      ]
     },
     "execution_count": 32,
     "metadata": {},
     "output_type": "execute_result"
    }
   ],
   "source": [
    "passengers.tail(2)"
   ]
  },
  {
   "cell_type": "code",
   "execution_count": 33,
   "id": "fc341a82",
   "metadata": {},
   "outputs": [
    {
     "data": {
      "text/html": [
       "<div>\n",
       "<style scoped>\n",
       "    .dataframe tbody tr th:only-of-type {\n",
       "        vertical-align: middle;\n",
       "    }\n",
       "\n",
       "    .dataframe tbody tr th {\n",
       "        vertical-align: top;\n",
       "    }\n",
       "\n",
       "    .dataframe thead th {\n",
       "        text-align: right;\n",
       "    }\n",
       "</style>\n",
       "<table border=\"1\" class=\"dataframe\">\n",
       "  <thead>\n",
       "    <tr style=\"text-align: right;\">\n",
       "      <th></th>\n",
       "      <th>YEAR</th>\n",
       "      <th>MONTH</th>\n",
       "      <th>Sum_PASSENGERS</th>\n",
       "      <th>AIRLINE_ID</th>\n",
       "      <th>CARRIER_NAME</th>\n",
       "      <th>ORIGIN</th>\n",
       "      <th>ORIGIN_CITY_NAME</th>\n",
       "      <th>ORIGIN_STATE_ABR</th>\n",
       "      <th>ORIGIN_STATE_NM</th>\n",
       "      <th>ORIGIN_COUNTRY</th>\n",
       "      <th>ORIGIN_COUNTRY_NAME</th>\n",
       "      <th>DEST</th>\n",
       "      <th>DEST_CITY_NAME</th>\n",
       "      <th>DEST_STATE_ABR</th>\n",
       "      <th>DEST_STATE_NM</th>\n",
       "      <th>DEST_COUNTRY</th>\n",
       "      <th>DEST_COUNTRY_NAME</th>\n",
       "    </tr>\n",
       "  </thead>\n",
       "  <tbody>\n",
       "    <tr>\n",
       "      <th>0</th>\n",
       "      <td>2015</td>\n",
       "      <td>3</td>\n",
       "      <td>0</td>\n",
       "      <td>NaN</td>\n",
       "      <td>NaN</td>\n",
       "      <td>AEX</td>\n",
       "      <td>Alexandria, LA</td>\n",
       "      <td>LA</td>\n",
       "      <td>Louisiana</td>\n",
       "      <td>US</td>\n",
       "      <td>United States</td>\n",
       "      <td>AEX</td>\n",
       "      <td>Alexandria, LA</td>\n",
       "      <td>LA</td>\n",
       "      <td>Louisiana</td>\n",
       "      <td>US</td>\n",
       "      <td>United States</td>\n",
       "    </tr>\n",
       "    <tr>\n",
       "      <th>1</th>\n",
       "      <td>2015</td>\n",
       "      <td>4</td>\n",
       "      <td>0</td>\n",
       "      <td>NaN</td>\n",
       "      <td>NaN</td>\n",
       "      <td>AEX</td>\n",
       "      <td>Alexandria, LA</td>\n",
       "      <td>LA</td>\n",
       "      <td>Louisiana</td>\n",
       "      <td>US</td>\n",
       "      <td>United States</td>\n",
       "      <td>AFW</td>\n",
       "      <td>Dallas/Fort Worth, TX</td>\n",
       "      <td>TX</td>\n",
       "      <td>Texas</td>\n",
       "      <td>US</td>\n",
       "      <td>United States</td>\n",
       "    </tr>\n",
       "    <tr>\n",
       "      <th>2</th>\n",
       "      <td>2015</td>\n",
       "      <td>3</td>\n",
       "      <td>0</td>\n",
       "      <td>NaN</td>\n",
       "      <td>NaN</td>\n",
       "      <td>AEX</td>\n",
       "      <td>Alexandria, LA</td>\n",
       "      <td>LA</td>\n",
       "      <td>Louisiana</td>\n",
       "      <td>US</td>\n",
       "      <td>United States</td>\n",
       "      <td>ATL</td>\n",
       "      <td>Atlanta, GA</td>\n",
       "      <td>GA</td>\n",
       "      <td>Georgia</td>\n",
       "      <td>US</td>\n",
       "      <td>United States</td>\n",
       "    </tr>\n",
       "  </tbody>\n",
       "</table>\n",
       "</div>"
      ],
      "text/plain": [
       "   YEAR  MONTH  Sum_PASSENGERS  AIRLINE_ID CARRIER_NAME ORIGIN  \\\n",
       "0  2015      3               0         NaN          NaN    AEX   \n",
       "1  2015      4               0         NaN          NaN    AEX   \n",
       "2  2015      3               0         NaN          NaN    AEX   \n",
       "\n",
       "  ORIGIN_CITY_NAME ORIGIN_STATE_ABR ORIGIN_STATE_NM ORIGIN_COUNTRY  \\\n",
       "0   Alexandria, LA               LA       Louisiana             US   \n",
       "1   Alexandria, LA               LA       Louisiana             US   \n",
       "2   Alexandria, LA               LA       Louisiana             US   \n",
       "\n",
       "  ORIGIN_COUNTRY_NAME DEST         DEST_CITY_NAME DEST_STATE_ABR  \\\n",
       "0       United States  AEX         Alexandria, LA             LA   \n",
       "1       United States  AFW  Dallas/Fort Worth, TX             TX   \n",
       "2       United States  ATL            Atlanta, GA             GA   \n",
       "\n",
       "  DEST_STATE_NM DEST_COUNTRY DEST_COUNTRY_NAME  \n",
       "0     Louisiana           US     United States  \n",
       "1         Texas           US     United States  \n",
       "2       Georgia           US     United States  "
      ]
     },
     "execution_count": 33,
     "metadata": {},
     "output_type": "execute_result"
    }
   ],
   "source": [
    "#limit origin and destination flights within the US\n",
    "passengers = passengers[(passengers['ORIGIN_COUNTRY']=='US') & (passengers['DEST_COUNTRY']=='US')]\n",
    "passengers.head(3)"
   ]
  },
  {
   "cell_type": "code",
   "execution_count": 34,
   "id": "59b28ece",
   "metadata": {},
   "outputs": [
    {
     "data": {
      "text/plain": [
       "array([nan, 'Reeve Aleutian Airways Inc.', 'Northwest Airlines Inc.',\n",
       "       'Southwest Airlines Co.', 'Air Canada',\n",
       "       'Compagnie Natl Air France', 'Finnair Oy', 'British Airways Plc',\n",
       "       'British West Indian Airways', 'China Airlines Ltd.',\n",
       "       'Japan Air Lines Co. Ltd.', 'Klm Royal Dutch Airlines',\n",
       "       'Polynesian Airlines Ltd.', 'Singapore Airlines Ltd.',\n",
       "       'Tap-Portuguese Airlines', 'Heavylift Cargo Airlines Lt',\n",
       "       'Saudi Arabian Airlines Corp', 'Air Sunshine Inc.',\n",
       "       'Trans-Air-Link Corporation', 'Aloha Airlines Inc.',\n",
       "       'Virgin Atlantic Airways', 'Horizon Air', 'Hawaiian Airlines Inc.',\n",
       "       'Continental Air Lines Inc.', 'Delta Air Lines Inc.',\n",
       "       'American Airlines Inc.', 'Turk Hava Yollari A.O.',\n",
       "       'Nippon Cargo Airlines', 'Bradley Air Services Ltd.',\n",
       "       'Air Transport International', 'Emery Worldwide Airlines',\n",
       "       'Cayman Airways Limited', 'United Parcel Service',\n",
       "       'Alaska Airlines Inc.', 'Air New Zealand', 'United Air Lines Inc.',\n",
       "       'USAir Shuttle', 'America West Airlines Inc.',\n",
       "       'Sierra Pacific Airlines', 'Atlas Air Inc.',\n",
       "       'Continental Micronesia', 'UFS Inc.',\n",
       "       'Air Wisconsin Airlines Corp', 'Evergreen International Inc.',\n",
       "       'Sky Service F.B.O.', 'Tower Air Inc.', 'Custom Air Transport',\n",
       "       'World Airways Inc.', 'Polar Air Cargo Airways',\n",
       "       'Sunworld International Airlines', 'Federal Express Corporation',\n",
       "       'Northern Air Cargo Inc.', 'Antonov Company',\n",
       "       'Antonov Design Bureau', 'TransMeridian Airlines',\n",
       "       'Florida West Airlines Inc.', 'Amerijet International',\n",
       "       'Gulf And Caribbean Cargo', 'Lynden Air Cargo Airlines',\n",
       "       'Mesaba Airlines', 'Kitty Hawk International', 'National Airlines',\n",
       "       'Asia Pacific', 'Lorair Ltd.', 'Jalways Co. Ltd.',\n",
       "       'Southern Air Inc.', 'Vanguard Airlines Inc.',\n",
       "       'Gemini Air Cargo Airways', 'Arrow Air Inc.', 'Sky Lease Cargo',\n",
       "       'Tradewinds Airlines', 'Ameristar Air Cargo',\n",
       "       'Chicago Express Airlines', 'Falcon Air Express', 'Champion Air',\n",
       "       'Jazz Aviation LP', 'Casino Express', 'XTRA Airways', 'Privatair',\n",
       "       'Trans World Airlines Inc.', 'Trans World Airways LLC',\n",
       "       'Polyot Airlines', 'Avia Leasing Company',\n",
       "       'Express One International Inc.', 'Village Aviation', 'Katmai Air',\n",
       "       'Peninsula Airways Inc.', 'Spernak Airways Inc.', 'Westjet',\n",
       "       'Swiss International Airlines', 'Trans States Airlines',\n",
       "       'Great Plains Airlines Inc.', 'Rio Grande Air',\n",
       "       'Pacific Island Aviation', 'Cape Air', 'Colgan Air',\n",
       "       'Bemidji Airlines', 'Big Sky Airlines Inc.', 'Ellis Air Taxi Inc.',\n",
       "       'Empire Airlines Inc.', 'Freedom Airlines d/b/a HP Expr',\n",
       "       'G5 Executive Ag', 'Grand Canyon Helicopters',\n",
       "       'Allegheny Airlines', 'Kenmore Air Harbor',\n",
       "       'New England Airlines Inc.', 'Northwest Seaplanes',\n",
       "       'Ozark Air Lines Inc.', 'Asiana Airlines Inc.', 'Air-Serve',\n",
       "       'Seaborne Aviation', 'Seaborne Virgin Islands, Inc.',\n",
       "       'Mountain Bird/Salmon Air', 'Samoa Aviation Inc.',\n",
       "       'Express.Net Airlines', 'Ward Air', 'Vintage Props & Jets Inc.',\n",
       "       'Aloha Island Air', 'Island Air Hawaii', 'Friday Harbor Seaplanes',\n",
       "       'West Isle Air', 'Air St. Thomas', 'Air Midwest Inc.',\n",
       "       'Air Georgian', 'Midway Airlines Inc.', 'Southeast Airlines',\n",
       "       'Pacific Wings Airlines', 'Kitty Hawk Aircargo',\n",
       "       'Nolinor Aviation', 'SkyWest Airlines Inc.', 'Pace Airlines',\n",
       "       'Centurion Cargo Inc.', 'Challenge Air Cargo Inc.',\n",
       "       'Caribbean Sun Airlines',\n",
       "       'Caribbean Sun Airlines, Inc. d/b/a World Atlantic Airlines',\n",
       "       'ATA Airlines d/b/a ATA', 'American Trans Air Inc.',\n",
       "       'Cargojet Airways Ltd.', 'Midwest Airline, Inc.',\n",
       "       'Midwest Express Airlines', 'Bellair Inc.', 'Olson Air Service',\n",
       "       'Smokey Bay Air Inc.', 'Frontier Flying Service',\n",
       "       'Bidzy Ta Hot Aana, Inc. d/b/a Tanana Air Service',\n",
       "       'Tanana Air Service', 'Warbelow', 'Yute Air Aka Flight Alaska',\n",
       "       'Arctic Circle Air Service', 'Cape Smythe Air Service',\n",
       "       'Corvus Airlines, Inc d/b/a Era Aviation d/b/a Ravn Alaska',\n",
       "       'Era Aviation', 'Inland Aviation Services',\n",
       "       'Arctic Transportation', 'Ryan Air f/k/a Arctic Transportation',\n",
       "       'Bering Air Inc.', 'Baker Aviation Inc.', 'Wright Air Service',\n",
       "       'Boston-Maine Airways', 'Hageland Aviation Service',\n",
       "       'Alaska Seaplane Service',\n",
       "       'Kalinin Aviation LLC d/b/a Alaska Seaplanes',\n",
       "       'Larrys Flying Service', 'L.A.B. Flying Service Inc.',\n",
       "       'SeaPort Airlines, Inc. d/b/a Wings of Alaska',\n",
       "       'Seaport Airlines, Inc.', 'Wings Of Alaska',\n",
       "       'Alaska Central Express', '40-Mile Air',\n",
       "       'Ryan International Airlines', 'Iliamna Air Taxi', 'Pro Air Inc.',\n",
       "       'Lan Ecuador', 'Promech', 'Primaris Airlines Inc.',\n",
       "       'Dynamic Aviation, Inc. d/b/a Beacon', 'Servant Air Inc.',\n",
       "       'Aerodynamics Inc.',\n",
       "       'Aerodynamics Inc. d/b/a SkyValue d/b/a SkyValue Airways',\n",
       "       'US Airways Inc.', 'Skyway Airlines', 'Astar Air Cargo Inc.',\n",
       "       'Astar USA, LLC', 'DHL Airways', 'Great Lakes Airlines',\n",
       "       'Great Lakes Aviation Ltd.', 'Triair Bermuda Flt Operations',\n",
       "       'Valley Air Express Inc.', 'Endeavor Air Inc.',\n",
       "       'Pinnacle Airlines Inc.', 'Atlantic Southeast Airlines',\n",
       "       'ExpressJet Airlines Inc.', 'ExpressJet Airlines LLC',\n",
       "       'Freedom Air', 'Allegiant Air', 'Kalitta Air LLC',\n",
       "       'Reliant Airlines', 'Kalitta Charters II', 'Mn Aviation, Inc.',\n",
       "       'Omni Air Express', 'Omni Air International LLC',\n",
       "       'Mesa Airlines Inc.', 'Zantop International',\n",
       "       'SkyLink Express Inc.', 'Victory Air Transport Inc.',\n",
       "       'Venture Travel LLC d/b/a Taquan Air Service',\n",
       "       'Pan American Airways Corp.', 'Flying Boat Inc.',\n",
       "       'Florida Coastal Airlines', 'PSA Airlines Inc.',\n",
       "       'American Eagle Airlines Inc.', 'Envoy Air', 'Planet Airways',\n",
       "       'Capital Cargo International', 'Gulfstream Int', 'Silver Airways',\n",
       "       'Miami Air International', 'Atlantic Coast Airlines',\n",
       "       'Independence Air', 'Murray Air',\n",
       "       'National Air Cargo Group Inc d/ba National Airlines',\n",
       "       'National Air Cargo Group, Inc. d/b/a Murray Air',\n",
       "       'BNJ Charter Company', 'NetJets Large Aircraft Company L.L.C.',\n",
       "       'Corporate Airlines', 'Regions Air, Inc.',\n",
       "       'Tatonduk Outfitters Limited d/b/a Everts Air Alaska and Everts Air Cargo',\n",
       "       'Tatonduk Outfitters Limited d/b/a Tatonduk Flying Service',\n",
       "       'JetBlue Airways', 'Arizona Express', 'Skagway Air Service',\n",
       "       'Executive Airlines', 'North American Airlines',\n",
       "       'Spirit Air Lines', 'Comair Inc.', 'Chautauqua Airlines Inc.',\n",
       "       'Sky King Inc.', 'Sun Country Airlines',\n",
       "       'Sun Country Airlines d/b/a MN Airlines', 'USA 3000 Airlines',\n",
       "       'Eagle Canyon Airlines d/b/a Scenic Airlines',\n",
       "       'Grand Canyon Airlines, Inc. d/b/a Grand Canyon Airlines d/b/a Scenic Airlines',\n",
       "       'Scenic Airlines Inc. d/b/a Scenic Airlines',\n",
       "       'Vieques Air Link Inc.', 'Piedmont Airlines',\n",
       "       'Volga-Dnepr Airlines', 'Frontier Airlines Inc.',\n",
       "       'AirTran Airways Corporation', 'Homer Air', 'Legend Airlines',\n",
       "       'Island Air Service', 'Commutair Aka Champlain Enterprises, Inc.',\n",
       "       'USA Jet Airlines Inc.', 'Shuttle America Corp.',\n",
       "       'Aero-Services-Corporate', 'Omega Air Holdings d/b/a Focus Air',\n",
       "       'Transmile Air Service', 'Republic Airline', 'Republic Airlines',\n",
       "       'ABX Air Inc', 'Airborne Express Inc.', 'Grant Aviation',\n",
       "       'GoJet Airlines LLC d/b/a United Express', 'MAXjet', 'PM Air, LLC',\n",
       "       'Harris Air Services',\n",
       "       'Aerounion Aerotransporte de Carga Union SA de CV',\n",
       "       'Cargo 360, Inc.', 'Tradewind Aviation',\n",
       "       'US Helicopter Corporation', 'Pacific Airways, Inc.', 'JetClub AG',\n",
       "       'Swift Air, LLC',\n",
       "       'Swift Air, LLC d/b/a Eastern Air Lines d/b/a Eastern',\n",
       "       'Compass Airlines', 'Virgin America', 'Skybus Airlines, Inc.',\n",
       "       'ACM AIR CHARTER GmbH',\n",
       "       'Inter Island Airways, d/b/a Inter Island Air',\n",
       "       'Lynx Aviation d/b/a Frontier Airlines', 'Porter Airlines, Inc.',\n",
       "       'Sunwing Airlines Inc.', 'Vision Airlines',\n",
       "       'Mokulele Flight Services, Inc.',\n",
       "       'Multi-Aero, Inc. d/b/a Air Choice One',\n",
       "       'Air Greco, Inc., d/b/a Wings Air', 'Comlux Malta, Ltd.',\n",
       "       'Aeroenlaces Nacionales, S.A. de C.V. d/b/a VivaAerobus',\n",
       "       'Avjet Corporation', 'Air Berlin PLC and CO', 'Air Excursions LLC',\n",
       "       'Prescott Support Company, Inc.', 'Acropolis Aviation Ltd.',\n",
       "       'Jet Aviation Business Jets AG', 'Chartright Air Inc.',\n",
       "       'London Air Services Limited', 'Albinati Aeronautics SA',\n",
       "       'Charter Air Transport, Inc.',\n",
       "       'Via Airlines d/b/a Charter Air Transport', 'Dynamic Airways, LLC',\n",
       "       'Eastern Airlines f/k/a Dynamic Airways, LLC',\n",
       "       'Island Airlines LLC', 'KaiserAir, Inc.', 'Alsek Air',\n",
       "       'International Jet Management GmbH', 'VistaJet Limited',\n",
       "       'Laudamotion GmbH', 'Star Marianas Air Inc.',\n",
       "       'Rhoades Aviation dba Transair', 'Norwegian Air Shuttle ASA',\n",
       "       'Reeve Air Alaska, LLC', 'Gainjet Aviation SA',\n",
       "       'Scott Air LLC dba Island Air Express',\n",
       "       'Ultimate JetCharters LLC dba Ultimate Air Shuttle',\n",
       "       'Boutique Air', 'Makani Kai Air Charters',\n",
       "       'City Wings Inc dba Seaflight',\n",
       "       'Air Charter, Inc d/b/a Air Flamenco',\n",
       "       'Southern Airways Express, dba Mokulele Airlines',\n",
       "       'Sun Air Express LLC dba Sun Air International', 'Western Global',\n",
       "       'Orange Air', 'Aloha Air Cargo', 'CFM Inc d/b/a Contour Airlines',\n",
       "       'CFM Inc d/b/a Contour Airlines d/b/a One Jet Shuttle',\n",
       "       'Corporate Flight Management Inc.',\n",
       "       'Corporate Flight Management Inc.d/b/a Crystal Luxury Air',\n",
       "       'Gem Air LLC', 'Songbird Airways Inc.', 'Blue Jet SP Z o o',\n",
       "       'Eastern Airlines Group Inc.',\n",
       "       'Jet Aviation Flight Services, Inc.',\n",
       "       'Menagerie Enterprises Inc d/b/a Monarch Air',\n",
       "       'Erickson Helicopters', 'Oceanair Linhas Aereas S A',\n",
       "       'Fast Colombia SAS d/b/a Viva Colombia',\n",
       "       'J&M Alaska Air Tours, Inc. d/b/a Alaska Air Transit',\n",
       "       'Elite Airways LLC', 'Delux Public Charter LLC',\n",
       "       'Tropic Ocean Airways LLC',\n",
       "       'Trans Northern Airways d/b/a Air Unlimited Charter Services',\n",
       "       'Cargologicair Limited',\n",
       "       'Paklook Air, Inc d/b/a/ Airlift Alaska d/b/a/ Yute Commuter Service',\n",
       "       'Public Charters, Inc. d/b/a North Country Sky d/b/a Regional Sky d/b/a Texas Sky',\n",
       "       'Polaris Aviation Solutions, LLC',\n",
       "       'Hillwood Airways, LLC  f/k/a   ATX Air Services, LLC',\n",
       "       'Key Lime Air Corporation', 'ADVANCED AIR, LLC',\n",
       "       'Maritime Helicopters, Inc.', 'Norwegian Air UK Limited',\n",
       "       'Primera Air Scandinavia',\n",
       "       'Nealco Air Charter Services, Inc.  d/b/a  Watermakers Air',\n",
       "       'Rectrix Aviation, Inc.', 'Scott Aviation, LLC  d/b/a  Silver Air',\n",
       "       'Laudamotion Executive', 'Challenge Airlines (BE) S.A.',\n",
       "       'Concierge U Ltd. d/b/a Jet Concierge Club'], dtype=object)"
      ]
     },
     "execution_count": 34,
     "metadata": {},
     "output_type": "execute_result"
    }
   ],
   "source": [
    "passengers.CARRIER_NAME.unique()"
   ]
  },
  {
   "cell_type": "code",
   "execution_count": 35,
   "id": "fb23d8bc",
   "metadata": {},
   "outputs": [
    {
     "data": {
      "text/plain": [
       "2000"
      ]
     },
     "execution_count": 35,
     "metadata": {},
     "output_type": "execute_result"
    }
   ],
   "source": [
    "passengers.YEAR.min()"
   ]
  },
  {
   "cell_type": "code",
   "execution_count": 36,
   "id": "456ed3c5",
   "metadata": {},
   "outputs": [
    {
     "data": {
      "text/plain": [
       "2020"
      ]
     },
     "execution_count": 36,
     "metadata": {},
     "output_type": "execute_result"
    }
   ],
   "source": [
    "passengers.YEAR.max()"
   ]
  },
  {
   "cell_type": "code",
   "execution_count": 37,
   "id": "cf733eba",
   "metadata": {},
   "outputs": [],
   "source": [
    "#passengers[(passengers['CARRIER_NAME'] == 'Southwest Airlines Co.')]"
   ]
  },
  {
   "cell_type": "code",
   "execution_count": 38,
   "id": "d8fcfe8c",
   "metadata": {},
   "outputs": [
    {
     "data": {
      "text/html": [
       "<div>\n",
       "<style scoped>\n",
       "    .dataframe tbody tr th:only-of-type {\n",
       "        vertical-align: middle;\n",
       "    }\n",
       "\n",
       "    .dataframe tbody tr th {\n",
       "        vertical-align: top;\n",
       "    }\n",
       "\n",
       "    .dataframe thead th {\n",
       "        text-align: right;\n",
       "    }\n",
       "</style>\n",
       "<table border=\"1\" class=\"dataframe\">\n",
       "  <thead>\n",
       "    <tr style=\"text-align: right;\">\n",
       "      <th></th>\n",
       "      <th>YEAR</th>\n",
       "      <th>MONTH</th>\n",
       "      <th>Sum_PASSENGERS</th>\n",
       "      <th>AIRLINE_ID</th>\n",
       "      <th>CARRIER_NAME</th>\n",
       "      <th>ORIGIN</th>\n",
       "      <th>ORIGIN_CITY_NAME</th>\n",
       "      <th>ORIGIN_STATE_ABR</th>\n",
       "      <th>ORIGIN_STATE_NM</th>\n",
       "      <th>ORIGIN_COUNTRY</th>\n",
       "      <th>ORIGIN_COUNTRY_NAME</th>\n",
       "      <th>DEST</th>\n",
       "      <th>DEST_CITY_NAME</th>\n",
       "      <th>DEST_STATE_ABR</th>\n",
       "      <th>DEST_STATE_NM</th>\n",
       "      <th>DEST_COUNTRY</th>\n",
       "      <th>DEST_COUNTRY_NAME</th>\n",
       "    </tr>\n",
       "  </thead>\n",
       "  <tbody>\n",
       "    <tr>\n",
       "      <th>6278580</th>\n",
       "      <td>2020</td>\n",
       "      <td>6</td>\n",
       "      <td>1</td>\n",
       "      <td>22048.0</td>\n",
       "      <td>Concierge U Ltd. d/b/a Jet Concierge Club</td>\n",
       "      <td>BOS</td>\n",
       "      <td>Boston, MA</td>\n",
       "      <td>MA</td>\n",
       "      <td>Massachusetts</td>\n",
       "      <td>US</td>\n",
       "      <td>United States</td>\n",
       "      <td>FOK</td>\n",
       "      <td>Westhampton, NY</td>\n",
       "      <td>NY</td>\n",
       "      <td>New York</td>\n",
       "      <td>US</td>\n",
       "      <td>United States</td>\n",
       "    </tr>\n",
       "  </tbody>\n",
       "</table>\n",
       "</div>"
      ],
      "text/plain": [
       "         YEAR  MONTH  Sum_PASSENGERS  AIRLINE_ID  \\\n",
       "6278580  2020      6               1     22048.0   \n",
       "\n",
       "                                      CARRIER_NAME ORIGIN ORIGIN_CITY_NAME  \\\n",
       "6278580  Concierge U Ltd. d/b/a Jet Concierge Club    BOS       Boston, MA   \n",
       "\n",
       "        ORIGIN_STATE_ABR ORIGIN_STATE_NM ORIGIN_COUNTRY ORIGIN_COUNTRY_NAME  \\\n",
       "6278580               MA   Massachusetts             US       United States   \n",
       "\n",
       "        DEST   DEST_CITY_NAME DEST_STATE_ABR DEST_STATE_NM DEST_COUNTRY  \\\n",
       "6278580  FOK  Westhampton, NY             NY      New York           US   \n",
       "\n",
       "        DEST_COUNTRY_NAME  \n",
       "6278580     United States  "
      ]
     },
     "execution_count": 38,
     "metadata": {},
     "output_type": "execute_result"
    }
   ],
   "source": [
    "passengers.tail(1)"
   ]
  },
  {
   "cell_type": "code",
   "execution_count": 39,
   "id": "da923706",
   "metadata": {},
   "outputs": [],
   "source": [
    "passengers['AIRLINE_ID'] = passengers['AIRLINE_ID'].fillna(0)"
   ]
  },
  {
   "cell_type": "code",
   "execution_count": 40,
   "id": "a2f82fb5",
   "metadata": {},
   "outputs": [
    {
     "data": {
      "text/html": [
       "<div>\n",
       "<style scoped>\n",
       "    .dataframe tbody tr th:only-of-type {\n",
       "        vertical-align: middle;\n",
       "    }\n",
       "\n",
       "    .dataframe tbody tr th {\n",
       "        vertical-align: top;\n",
       "    }\n",
       "\n",
       "    .dataframe thead th {\n",
       "        text-align: right;\n",
       "    }\n",
       "</style>\n",
       "<table border=\"1\" class=\"dataframe\">\n",
       "  <thead>\n",
       "    <tr style=\"text-align: right;\">\n",
       "      <th></th>\n",
       "      <th>YEAR</th>\n",
       "      <th>MONTH</th>\n",
       "      <th>Sum_PASSENGERS</th>\n",
       "      <th>AIRLINE_ID</th>\n",
       "      <th>CARRIER_NAME</th>\n",
       "      <th>ORIGIN</th>\n",
       "      <th>ORIGIN_CITY_NAME</th>\n",
       "      <th>ORIGIN_STATE_ABR</th>\n",
       "      <th>ORIGIN_STATE_NM</th>\n",
       "      <th>ORIGIN_COUNTRY</th>\n",
       "      <th>ORIGIN_COUNTRY_NAME</th>\n",
       "      <th>DEST</th>\n",
       "      <th>DEST_CITY_NAME</th>\n",
       "      <th>DEST_STATE_ABR</th>\n",
       "      <th>DEST_STATE_NM</th>\n",
       "      <th>DEST_COUNTRY</th>\n",
       "      <th>DEST_COUNTRY_NAME</th>\n",
       "    </tr>\n",
       "  </thead>\n",
       "  <tbody>\n",
       "    <tr>\n",
       "      <th>6278580</th>\n",
       "      <td>2020</td>\n",
       "      <td>6</td>\n",
       "      <td>1</td>\n",
       "      <td>22048</td>\n",
       "      <td>Concierge U Ltd. d/b/a Jet Concierge Club</td>\n",
       "      <td>BOS</td>\n",
       "      <td>Boston, MA</td>\n",
       "      <td>MA</td>\n",
       "      <td>Massachusetts</td>\n",
       "      <td>US</td>\n",
       "      <td>United States</td>\n",
       "      <td>FOK</td>\n",
       "      <td>Westhampton, NY</td>\n",
       "      <td>NY</td>\n",
       "      <td>New York</td>\n",
       "      <td>US</td>\n",
       "      <td>United States</td>\n",
       "    </tr>\n",
       "  </tbody>\n",
       "</table>\n",
       "</div>"
      ],
      "text/plain": [
       "         YEAR  MONTH  Sum_PASSENGERS AIRLINE_ID  \\\n",
       "6278580  2020      6               1      22048   \n",
       "\n",
       "                                      CARRIER_NAME ORIGIN ORIGIN_CITY_NAME  \\\n",
       "6278580  Concierge U Ltd. d/b/a Jet Concierge Club    BOS       Boston, MA   \n",
       "\n",
       "        ORIGIN_STATE_ABR ORIGIN_STATE_NM ORIGIN_COUNTRY ORIGIN_COUNTRY_NAME  \\\n",
       "6278580               MA   Massachusetts             US       United States   \n",
       "\n",
       "        DEST   DEST_CITY_NAME DEST_STATE_ABR DEST_STATE_NM DEST_COUNTRY  \\\n",
       "6278580  FOK  Westhampton, NY             NY      New York           US   \n",
       "\n",
       "        DEST_COUNTRY_NAME  \n",
       "6278580     United States  "
      ]
     },
     "execution_count": 40,
     "metadata": {},
     "output_type": "execute_result"
    }
   ],
   "source": [
    "passengers = passengers.astype({'AIRLINE_ID':'int'})\n",
    "passengers = passengers.astype({'AIRLINE_ID':'str'})\n",
    "passengers.tail(1)"
   ]
  },
  {
   "cell_type": "code",
   "execution_count": 41,
   "id": "d4be5261",
   "metadata": {},
   "outputs": [
    {
     "data": {
      "text/plain": [
       "YEAR                    int64\n",
       "MONTH                   int64\n",
       "Sum_PASSENGERS          int64\n",
       "AIRLINE_ID             object\n",
       "CARRIER_NAME           object\n",
       "ORIGIN                 object\n",
       "ORIGIN_CITY_NAME       object\n",
       "ORIGIN_STATE_ABR       object\n",
       "ORIGIN_STATE_NM        object\n",
       "ORIGIN_COUNTRY         object\n",
       "ORIGIN_COUNTRY_NAME    object\n",
       "DEST                   object\n",
       "DEST_CITY_NAME         object\n",
       "DEST_STATE_ABR         object\n",
       "DEST_STATE_NM          object\n",
       "DEST_COUNTRY           object\n",
       "DEST_COUNTRY_NAME      object\n",
       "dtype: object"
      ]
     },
     "execution_count": 41,
     "metadata": {},
     "output_type": "execute_result"
    }
   ],
   "source": [
    "passengers.dtypes"
   ]
  },
  {
   "cell_type": "markdown",
   "id": "8805706e",
   "metadata": {},
   "source": [
    "### -------------------------------------------------------------------------------------- end of passengers dataset formatting"
   ]
  },
  {
   "cell_type": "markdown",
   "id": "663c6056",
   "metadata": {},
   "source": [
    "### Delays - Airline Delay Cause"
   ]
  },
  {
   "cell_type": "code",
   "execution_count": 42,
   "id": "822ee273",
   "metadata": {
    "scrolled": true
   },
   "outputs": [
    {
     "data": {
      "text/html": [
       "<div>\n",
       "<style scoped>\n",
       "    .dataframe tbody tr th:only-of-type {\n",
       "        vertical-align: middle;\n",
       "    }\n",
       "\n",
       "    .dataframe tbody tr th {\n",
       "        vertical-align: top;\n",
       "    }\n",
       "\n",
       "    .dataframe thead th {\n",
       "        text-align: right;\n",
       "    }\n",
       "</style>\n",
       "<table border=\"1\" class=\"dataframe\">\n",
       "  <thead>\n",
       "    <tr style=\"text-align: right;\">\n",
       "      <th></th>\n",
       "      <th>year</th>\n",
       "      <th>month</th>\n",
       "      <th>carrier</th>\n",
       "      <th>carrier_name</th>\n",
       "      <th>airport</th>\n",
       "      <th>airport_name</th>\n",
       "      <th>arr_flights</th>\n",
       "      <th>arr_del15</th>\n",
       "      <th>carrier_ct</th>\n",
       "      <th>weather_ct</th>\n",
       "      <th>...</th>\n",
       "      <th>security_ct</th>\n",
       "      <th>late_aircraft_ct</th>\n",
       "      <th>arr_cancelled</th>\n",
       "      <th>arr_diverted</th>\n",
       "      <th>arr_delay</th>\n",
       "      <th>carrier_delay</th>\n",
       "      <th>weather_delay</th>\n",
       "      <th>nas_delay</th>\n",
       "      <th>security_delay</th>\n",
       "      <th>late_aircraft_delay</th>\n",
       "    </tr>\n",
       "  </thead>\n",
       "  <tbody>\n",
       "    <tr>\n",
       "      <th>0</th>\n",
       "      <td>2019</td>\n",
       "      <td>12</td>\n",
       "      <td>EV</td>\n",
       "      <td>ExpressJet Airlines LLC</td>\n",
       "      <td>BDL</td>\n",
       "      <td>Hartford, CT: Bradley International</td>\n",
       "      <td>14.0</td>\n",
       "      <td>4.0</td>\n",
       "      <td>2.00</td>\n",
       "      <td>0.00</td>\n",
       "      <td>...</td>\n",
       "      <td>0.0</td>\n",
       "      <td>2.00</td>\n",
       "      <td>0.0</td>\n",
       "      <td>0.0</td>\n",
       "      <td>114.0</td>\n",
       "      <td>61.0</td>\n",
       "      <td>0.0</td>\n",
       "      <td>0.0</td>\n",
       "      <td>0.0</td>\n",
       "      <td>53.0</td>\n",
       "    </tr>\n",
       "    <tr>\n",
       "      <th>1</th>\n",
       "      <td>2019</td>\n",
       "      <td>12</td>\n",
       "      <td>EV</td>\n",
       "      <td>ExpressJet Airlines LLC</td>\n",
       "      <td>BGR</td>\n",
       "      <td>Bangor, ME: Bangor International</td>\n",
       "      <td>34.0</td>\n",
       "      <td>16.0</td>\n",
       "      <td>4.12</td>\n",
       "      <td>0.00</td>\n",
       "      <td>...</td>\n",
       "      <td>0.0</td>\n",
       "      <td>7.98</td>\n",
       "      <td>2.0</td>\n",
       "      <td>0.0</td>\n",
       "      <td>1450.0</td>\n",
       "      <td>682.0</td>\n",
       "      <td>0.0</td>\n",
       "      <td>231.0</td>\n",
       "      <td>0.0</td>\n",
       "      <td>537.0</td>\n",
       "    </tr>\n",
       "    <tr>\n",
       "      <th>2</th>\n",
       "      <td>2019</td>\n",
       "      <td>12</td>\n",
       "      <td>EV</td>\n",
       "      <td>ExpressJet Airlines LLC</td>\n",
       "      <td>BHM</td>\n",
       "      <td>Birmingham, AL: Birmingham-Shuttlesworth Inter...</td>\n",
       "      <td>65.0</td>\n",
       "      <td>13.0</td>\n",
       "      <td>4.52</td>\n",
       "      <td>0.04</td>\n",
       "      <td>...</td>\n",
       "      <td>0.0</td>\n",
       "      <td>2.48</td>\n",
       "      <td>0.0</td>\n",
       "      <td>0.0</td>\n",
       "      <td>572.0</td>\n",
       "      <td>233.0</td>\n",
       "      <td>2.0</td>\n",
       "      <td>206.0</td>\n",
       "      <td>0.0</td>\n",
       "      <td>131.0</td>\n",
       "    </tr>\n",
       "  </tbody>\n",
       "</table>\n",
       "<p>3 rows × 21 columns</p>\n",
       "</div>"
      ],
      "text/plain": [
       "   year  month carrier             carrier_name airport  \\\n",
       "0  2019     12      EV  ExpressJet Airlines LLC     BDL   \n",
       "1  2019     12      EV  ExpressJet Airlines LLC     BGR   \n",
       "2  2019     12      EV  ExpressJet Airlines LLC     BHM   \n",
       "\n",
       "                                        airport_name  arr_flights  arr_del15  \\\n",
       "0                Hartford, CT: Bradley International         14.0        4.0   \n",
       "1                   Bangor, ME: Bangor International         34.0       16.0   \n",
       "2  Birmingham, AL: Birmingham-Shuttlesworth Inter...         65.0       13.0   \n",
       "\n",
       "   carrier_ct  weather_ct  ...  security_ct  late_aircraft_ct  arr_cancelled  \\\n",
       "0        2.00        0.00  ...          0.0              2.00            0.0   \n",
       "1        4.12        0.00  ...          0.0              7.98            2.0   \n",
       "2        4.52        0.04  ...          0.0              2.48            0.0   \n",
       "\n",
       "   arr_diverted  arr_delay  carrier_delay  weather_delay  nas_delay  \\\n",
       "0           0.0      114.0           61.0            0.0        0.0   \n",
       "1           0.0     1450.0          682.0            0.0      231.0   \n",
       "2           0.0      572.0          233.0            2.0      206.0   \n",
       "\n",
       "   security_delay  late_aircraft_delay  \n",
       "0             0.0                 53.0  \n",
       "1             0.0                537.0  \n",
       "2             0.0                131.0  \n",
       "\n",
       "[3 rows x 21 columns]"
      ]
     },
     "execution_count": 42,
     "metadata": {},
     "output_type": "execute_result"
    }
   ],
   "source": [
    "delays = pd.read_csv('../Data/Airline_Delay_Cause_2010_20.csv')\n",
    "delays.head(3)"
   ]
  },
  {
   "cell_type": "code",
   "execution_count": 43,
   "id": "dd7036e6",
   "metadata": {},
   "outputs": [
    {
     "data": {
      "text/plain": [
       "2010"
      ]
     },
     "execution_count": 43,
     "metadata": {},
     "output_type": "execute_result"
    }
   ],
   "source": [
    "delays.year.min()"
   ]
  },
  {
   "cell_type": "code",
   "execution_count": 44,
   "id": "bcf75694",
   "metadata": {},
   "outputs": [
    {
     "data": {
      "text/plain": [
       "2019"
      ]
     },
     "execution_count": 44,
     "metadata": {},
     "output_type": "execute_result"
    }
   ],
   "source": [
    "delays.year.max()"
   ]
  },
  {
   "cell_type": "code",
   "execution_count": 45,
   "id": "8d4e944f",
   "metadata": {},
   "outputs": [
    {
     "data": {
      "text/plain": [
       "Index(['year', 'month', 'carrier', 'carrier_name', 'airport', 'airport_name',\n",
       "       'arr_flights', 'arr_del15', 'carrier_ct', 'weather_ct', 'nas_ct',\n",
       "       'security_ct', 'late_aircraft_ct', 'arr_cancelled', 'arr_diverted',\n",
       "       'arr_delay', 'carrier_delay', 'weather_delay', 'nas_delay',\n",
       "       'security_delay', 'late_aircraft_delay'],\n",
       "      dtype='object')"
      ]
     },
     "execution_count": 45,
     "metadata": {},
     "output_type": "execute_result"
    }
   ],
   "source": [
    "delays.columns"
   ]
  },
  {
   "cell_type": "code",
   "execution_count": 46,
   "id": "7fdd4d6d",
   "metadata": {},
   "outputs": [
    {
     "data": {
      "text/html": [
       "<div>\n",
       "<style scoped>\n",
       "    .dataframe tbody tr th:only-of-type {\n",
       "        vertical-align: middle;\n",
       "    }\n",
       "\n",
       "    .dataframe tbody tr th {\n",
       "        vertical-align: top;\n",
       "    }\n",
       "\n",
       "    .dataframe thead th {\n",
       "        text-align: right;\n",
       "    }\n",
       "</style>\n",
       "<table border=\"1\" class=\"dataframe\">\n",
       "  <thead>\n",
       "    <tr style=\"text-align: right;\">\n",
       "      <th></th>\n",
       "      <th>year_del</th>\n",
       "      <th>month_del</th>\n",
       "      <th>al_iata_del</th>\n",
       "      <th>carrier_del</th>\n",
       "      <th>airport_code_del</th>\n",
       "      <th>airport_name_del</th>\n",
       "      <th>arr_flights</th>\n",
       "      <th>arr_del15</th>\n",
       "      <th>carrier_ct</th>\n",
       "      <th>weather_ct</th>\n",
       "      <th>...</th>\n",
       "      <th>security_ct</th>\n",
       "      <th>late_aircraft_ct</th>\n",
       "      <th>arr_cancelled</th>\n",
       "      <th>arr_diverted</th>\n",
       "      <th>arr_delay</th>\n",
       "      <th>carrier_delay</th>\n",
       "      <th>weather_delay</th>\n",
       "      <th>nas_delay</th>\n",
       "      <th>security_delay</th>\n",
       "      <th>late_aircraft_delay</th>\n",
       "    </tr>\n",
       "  </thead>\n",
       "  <tbody>\n",
       "    <tr>\n",
       "      <th>0</th>\n",
       "      <td>2019</td>\n",
       "      <td>12</td>\n",
       "      <td>EV</td>\n",
       "      <td>ExpressJet Airlines LLC</td>\n",
       "      <td>BDL</td>\n",
       "      <td>Hartford, CT: Bradley International</td>\n",
       "      <td>14.0</td>\n",
       "      <td>4.0</td>\n",
       "      <td>2.0</td>\n",
       "      <td>0.0</td>\n",
       "      <td>...</td>\n",
       "      <td>0.0</td>\n",
       "      <td>2.0</td>\n",
       "      <td>0.0</td>\n",
       "      <td>0.0</td>\n",
       "      <td>114.0</td>\n",
       "      <td>61.0</td>\n",
       "      <td>0.0</td>\n",
       "      <td>0.0</td>\n",
       "      <td>0.0</td>\n",
       "      <td>53.0</td>\n",
       "    </tr>\n",
       "  </tbody>\n",
       "</table>\n",
       "<p>1 rows × 21 columns</p>\n",
       "</div>"
      ],
      "text/plain": [
       "   year_del  month_del al_iata_del              carrier_del airport_code_del  \\\n",
       "0      2019         12          EV  ExpressJet Airlines LLC              BDL   \n",
       "\n",
       "                      airport_name_del  arr_flights  arr_del15  carrier_ct  \\\n",
       "0  Hartford, CT: Bradley International         14.0        4.0         2.0   \n",
       "\n",
       "   weather_ct  ...  security_ct  late_aircraft_ct  arr_cancelled  \\\n",
       "0         0.0  ...          0.0               2.0            0.0   \n",
       "\n",
       "   arr_diverted  arr_delay  carrier_delay  weather_delay  nas_delay  \\\n",
       "0           0.0      114.0           61.0            0.0        0.0   \n",
       "\n",
       "   security_delay  late_aircraft_delay  \n",
       "0             0.0                 53.0  \n",
       "\n",
       "[1 rows x 21 columns]"
      ]
     },
     "execution_count": 46,
     "metadata": {},
     "output_type": "execute_result"
    }
   ],
   "source": [
    "delays.rename(columns = {'year':'year_del', 'month':'month_del', 'carrier':'al_iata_del', 'carrier_name':'carrier_del','airport':'airport_code_del', 'airport_name':'airport_name_del'}, inplace=True)\n",
    "delays.head(1)"
   ]
  },
  {
   "cell_type": "code",
   "execution_count": 47,
   "id": "44f4345f",
   "metadata": {},
   "outputs": [
    {
     "data": {
      "text/html": [
       "<div>\n",
       "<style scoped>\n",
       "    .dataframe tbody tr th:only-of-type {\n",
       "        vertical-align: middle;\n",
       "    }\n",
       "\n",
       "    .dataframe tbody tr th {\n",
       "        vertical-align: top;\n",
       "    }\n",
       "\n",
       "    .dataframe thead th {\n",
       "        text-align: right;\n",
       "    }\n",
       "</style>\n",
       "<table border=\"1\" class=\"dataframe\">\n",
       "  <thead>\n",
       "    <tr style=\"text-align: right;\">\n",
       "      <th></th>\n",
       "      <th>year_del</th>\n",
       "      <th>month_del</th>\n",
       "      <th>al_iata_del</th>\n",
       "      <th>carrier_del</th>\n",
       "      <th>airport_code_del</th>\n",
       "      <th>airport_name_del</th>\n",
       "      <th>arr_flights</th>\n",
       "      <th>arr_del15</th>\n",
       "      <th>carrier_ct</th>\n",
       "      <th>weather_ct</th>\n",
       "      <th>...</th>\n",
       "      <th>security_ct</th>\n",
       "      <th>late_aircraft_ct</th>\n",
       "      <th>arr_cancelled</th>\n",
       "      <th>arr_diverted</th>\n",
       "      <th>arr_delay</th>\n",
       "      <th>carrier_delay</th>\n",
       "      <th>weather_delay</th>\n",
       "      <th>nas_delay</th>\n",
       "      <th>security_delay</th>\n",
       "      <th>late_aircraft_delay</th>\n",
       "    </tr>\n",
       "  </thead>\n",
       "  <tbody>\n",
       "    <tr>\n",
       "      <th>16277</th>\n",
       "      <td>2019</td>\n",
       "      <td>3</td>\n",
       "      <td>EV</td>\n",
       "      <td>ExpressJet Airlines Inc.</td>\n",
       "      <td>ABE</td>\n",
       "      <td>Allentown/Bethlehem/Easton, PA: Lehigh Valley ...</td>\n",
       "      <td>49.0</td>\n",
       "      <td>18.0</td>\n",
       "      <td>6.02</td>\n",
       "      <td>0.0</td>\n",
       "      <td>...</td>\n",
       "      <td>0.0</td>\n",
       "      <td>7.7</td>\n",
       "      <td>1.0</td>\n",
       "      <td>2.0</td>\n",
       "      <td>1328.0</td>\n",
       "      <td>578.0</td>\n",
       "      <td>0.0</td>\n",
       "      <td>265.0</td>\n",
       "      <td>0.0</td>\n",
       "      <td>485.0</td>\n",
       "    </tr>\n",
       "  </tbody>\n",
       "</table>\n",
       "<p>1 rows × 21 columns</p>\n",
       "</div>"
      ],
      "text/plain": [
       "       year_del  month_del al_iata_del               carrier_del  \\\n",
       "16277      2019          3          EV  ExpressJet Airlines Inc.   \n",
       "\n",
       "      airport_code_del                                   airport_name_del  \\\n",
       "16277              ABE  Allentown/Bethlehem/Easton, PA: Lehigh Valley ...   \n",
       "\n",
       "       arr_flights  arr_del15  carrier_ct  weather_ct  ...  security_ct  \\\n",
       "16277         49.0       18.0        6.02         0.0  ...          0.0   \n",
       "\n",
       "       late_aircraft_ct  arr_cancelled  arr_diverted  arr_delay  \\\n",
       "16277               7.7            1.0           2.0     1328.0   \n",
       "\n",
       "       carrier_delay  weather_delay  nas_delay  security_delay  \\\n",
       "16277          578.0            0.0      265.0             0.0   \n",
       "\n",
       "       late_aircraft_delay  \n",
       "16277                485.0  \n",
       "\n",
       "[1 rows x 21 columns]"
      ]
     },
     "execution_count": 47,
     "metadata": {},
     "output_type": "execute_result"
    }
   ],
   "source": [
    "inc = delays[delays['carrier_del'] == 'ExpressJet Airlines Inc.']\n",
    "inc.head(1)"
   ]
  },
  {
   "cell_type": "code",
   "execution_count": 48,
   "id": "e7a2a128",
   "metadata": {},
   "outputs": [
    {
     "data": {
      "text/html": [
       "<div>\n",
       "<style scoped>\n",
       "    .dataframe tbody tr th:only-of-type {\n",
       "        vertical-align: middle;\n",
       "    }\n",
       "\n",
       "    .dataframe tbody tr th {\n",
       "        vertical-align: top;\n",
       "    }\n",
       "\n",
       "    .dataframe thead th {\n",
       "        text-align: right;\n",
       "    }\n",
       "</style>\n",
       "<table border=\"1\" class=\"dataframe\">\n",
       "  <thead>\n",
       "    <tr style=\"text-align: right;\">\n",
       "      <th></th>\n",
       "      <th>year_del</th>\n",
       "      <th>month_del</th>\n",
       "      <th>al_iata_del</th>\n",
       "      <th>carrier_del</th>\n",
       "      <th>airport_code_del</th>\n",
       "      <th>airport_name_del</th>\n",
       "      <th>arr_flights</th>\n",
       "      <th>arr_del15</th>\n",
       "      <th>carrier_ct</th>\n",
       "      <th>weather_ct</th>\n",
       "      <th>...</th>\n",
       "      <th>security_ct</th>\n",
       "      <th>late_aircraft_ct</th>\n",
       "      <th>arr_cancelled</th>\n",
       "      <th>arr_diverted</th>\n",
       "      <th>arr_delay</th>\n",
       "      <th>carrier_delay</th>\n",
       "      <th>weather_delay</th>\n",
       "      <th>nas_delay</th>\n",
       "      <th>security_delay</th>\n",
       "      <th>late_aircraft_delay</th>\n",
       "    </tr>\n",
       "  </thead>\n",
       "  <tbody>\n",
       "    <tr>\n",
       "      <th>0</th>\n",
       "      <td>2019</td>\n",
       "      <td>12</td>\n",
       "      <td>EV</td>\n",
       "      <td>ExpressJet Airlines LLC</td>\n",
       "      <td>BDL</td>\n",
       "      <td>Hartford, CT: Bradley International</td>\n",
       "      <td>14.0</td>\n",
       "      <td>4.0</td>\n",
       "      <td>2.0</td>\n",
       "      <td>0.0</td>\n",
       "      <td>...</td>\n",
       "      <td>0.0</td>\n",
       "      <td>2.0</td>\n",
       "      <td>0.0</td>\n",
       "      <td>0.0</td>\n",
       "      <td>114.0</td>\n",
       "      <td>61.0</td>\n",
       "      <td>0.0</td>\n",
       "      <td>0.0</td>\n",
       "      <td>0.0</td>\n",
       "      <td>53.0</td>\n",
       "    </tr>\n",
       "  </tbody>\n",
       "</table>\n",
       "<p>1 rows × 21 columns</p>\n",
       "</div>"
      ],
      "text/plain": [
       "   year_del  month_del al_iata_del              carrier_del airport_code_del  \\\n",
       "0      2019         12          EV  ExpressJet Airlines LLC              BDL   \n",
       "\n",
       "                      airport_name_del  arr_flights  arr_del15  carrier_ct  \\\n",
       "0  Hartford, CT: Bradley International         14.0        4.0         2.0   \n",
       "\n",
       "   weather_ct  ...  security_ct  late_aircraft_ct  arr_cancelled  \\\n",
       "0         0.0  ...          0.0               2.0            0.0   \n",
       "\n",
       "   arr_diverted  arr_delay  carrier_delay  weather_delay  nas_delay  \\\n",
       "0           0.0      114.0           61.0            0.0        0.0   \n",
       "\n",
       "   security_delay  late_aircraft_delay  \n",
       "0             0.0                 53.0  \n",
       "\n",
       "[1 rows x 21 columns]"
      ]
     },
     "execution_count": 48,
     "metadata": {},
     "output_type": "execute_result"
    }
   ],
   "source": [
    "llc = delays[delays['carrier_del'] == 'ExpressJet Airlines LLC']\n",
    "llc.head(1)"
   ]
  },
  {
   "cell_type": "code",
   "execution_count": 49,
   "id": "302de627",
   "metadata": {},
   "outputs": [],
   "source": [
    "#delays['new_carrier_name'] = delays['carrier_name']\n",
    "#delays.head(2)"
   ]
  },
  {
   "cell_type": "code",
   "execution_count": 50,
   "id": "dbd1c520",
   "metadata": {},
   "outputs": [],
   "source": [
    "#delays['new_carrier_name'] = delays['new_carrier_name'].str.replace('-',' ')\n",
    "#delays.head(2)"
   ]
  },
  {
   "cell_type": "code",
   "execution_count": 51,
   "id": "ccfe00cd",
   "metadata": {},
   "outputs": [],
   "source": [
    "#delays['new_carrier_name'] = delays['new_carrier_name'].str.extract(r'(\\w+\\s+\\w+)')\n",
    "#delays.head(5)"
   ]
  },
  {
   "cell_type": "code",
   "execution_count": 52,
   "id": "b4d00d78",
   "metadata": {},
   "outputs": [
    {
     "name": "stdout",
     "output_type": "stream",
     "text": [
      "['AirTran Airways Corporation', 'Alaska Airlines Inc.', 'Allegiant Air', 'American Airlines Inc.', 'American Eagle Airlines Inc.', 'Atlantic Southeast Airlines', 'Comair Inc.', 'Continental Air Lines Inc.', 'Delta Air Lines Inc.', 'Endeavor Air Inc.', 'Envoy Air', 'ExpressJet Airlines Inc.', 'ExpressJet Airlines LLC', 'Frontier Airlines Inc.', 'Hawaiian Airlines Inc.', 'JetBlue Airways', 'Mesa Airlines Inc.', 'PSA Airlines Inc.', 'Pinnacle Airlines Inc.', 'Republic Airline', 'SkyWest Airlines Inc.', 'Southwest Airlines Co.', 'Spirit Air Lines', 'US Airways Inc.', 'United Air Lines Inc.', 'Virgin America']\n"
     ]
    }
   ],
   "source": [
    "print(sorted(delays['carrier_del'].unique()))"
   ]
  },
  {
   "cell_type": "code",
   "execution_count": 53,
   "id": "f45ee9fc",
   "metadata": {},
   "outputs": [],
   "source": [
    "delays.loc[delays[\"carrier_del\"] == \"ExpressJet Airlines LLC\", \"carrier_del\"] = 'ExpressJet Airlines Inc.'"
   ]
  },
  {
   "cell_type": "code",
   "execution_count": 54,
   "id": "b5195e55",
   "metadata": {},
   "outputs": [
    {
     "data": {
      "text/html": [
       "<div>\n",
       "<style scoped>\n",
       "    .dataframe tbody tr th:only-of-type {\n",
       "        vertical-align: middle;\n",
       "    }\n",
       "\n",
       "    .dataframe tbody tr th {\n",
       "        vertical-align: top;\n",
       "    }\n",
       "\n",
       "    .dataframe thead th {\n",
       "        text-align: right;\n",
       "    }\n",
       "</style>\n",
       "<table border=\"1\" class=\"dataframe\">\n",
       "  <thead>\n",
       "    <tr style=\"text-align: right;\">\n",
       "      <th></th>\n",
       "      <th>year_del</th>\n",
       "      <th>month_del</th>\n",
       "      <th>al_iata_del</th>\n",
       "      <th>carrier_del</th>\n",
       "      <th>airport_code_del</th>\n",
       "      <th>airport_name_del</th>\n",
       "      <th>arr_flights</th>\n",
       "      <th>arr_del15</th>\n",
       "      <th>carrier_ct</th>\n",
       "      <th>weather_ct</th>\n",
       "      <th>...</th>\n",
       "      <th>security_ct</th>\n",
       "      <th>late_aircraft_ct</th>\n",
       "      <th>arr_cancelled</th>\n",
       "      <th>arr_diverted</th>\n",
       "      <th>arr_delay</th>\n",
       "      <th>carrier_delay</th>\n",
       "      <th>weather_delay</th>\n",
       "      <th>nas_delay</th>\n",
       "      <th>security_delay</th>\n",
       "      <th>late_aircraft_delay</th>\n",
       "    </tr>\n",
       "  </thead>\n",
       "  <tbody>\n",
       "  </tbody>\n",
       "</table>\n",
       "<p>0 rows × 21 columns</p>\n",
       "</div>"
      ],
      "text/plain": [
       "Empty DataFrame\n",
       "Columns: [year_del, month_del, al_iata_del, carrier_del, airport_code_del, airport_name_del, arr_flights, arr_del15, carrier_ct, weather_ct, nas_ct, security_ct, late_aircraft_ct, arr_cancelled, arr_diverted, arr_delay, carrier_delay, weather_delay, nas_delay, security_delay, late_aircraft_delay]\n",
       "Index: []\n",
       "\n",
       "[0 rows x 21 columns]"
      ]
     },
     "execution_count": 54,
     "metadata": {},
     "output_type": "execute_result"
    }
   ],
   "source": [
    "llc = delays[delays['carrier_del'] == 'ExpressJet Airlines LLC']\n",
    "llc.head(1)"
   ]
  },
  {
   "cell_type": "code",
   "execution_count": 55,
   "id": "83958c03",
   "metadata": {},
   "outputs": [
    {
     "data": {
      "text/html": [
       "<div>\n",
       "<style scoped>\n",
       "    .dataframe tbody tr th:only-of-type {\n",
       "        vertical-align: middle;\n",
       "    }\n",
       "\n",
       "    .dataframe tbody tr th {\n",
       "        vertical-align: top;\n",
       "    }\n",
       "\n",
       "    .dataframe thead th {\n",
       "        text-align: right;\n",
       "    }\n",
       "</style>\n",
       "<table border=\"1\" class=\"dataframe\">\n",
       "  <thead>\n",
       "    <tr style=\"text-align: right;\">\n",
       "      <th></th>\n",
       "      <th>year_del</th>\n",
       "      <th>month_del</th>\n",
       "      <th>al_iata_del</th>\n",
       "      <th>carrier_del</th>\n",
       "      <th>airport_code_del</th>\n",
       "      <th>airport_name_del</th>\n",
       "      <th>arr_flights</th>\n",
       "      <th>arr_del15</th>\n",
       "      <th>carrier_ct</th>\n",
       "      <th>weather_ct</th>\n",
       "      <th>...</th>\n",
       "      <th>security_ct</th>\n",
       "      <th>late_aircraft_ct</th>\n",
       "      <th>arr_cancelled</th>\n",
       "      <th>arr_diverted</th>\n",
       "      <th>arr_delay</th>\n",
       "      <th>carrier_delay</th>\n",
       "      <th>weather_delay</th>\n",
       "      <th>nas_delay</th>\n",
       "      <th>security_delay</th>\n",
       "      <th>late_aircraft_delay</th>\n",
       "    </tr>\n",
       "  </thead>\n",
       "  <tbody>\n",
       "    <tr>\n",
       "      <th>0</th>\n",
       "      <td>2019</td>\n",
       "      <td>12</td>\n",
       "      <td>EV</td>\n",
       "      <td>ExpressJet Airlines Inc.</td>\n",
       "      <td>BDL</td>\n",
       "      <td>Hartford, CT: Bradley International</td>\n",
       "      <td>14.0</td>\n",
       "      <td>4.0</td>\n",
       "      <td>2.00</td>\n",
       "      <td>0.00</td>\n",
       "      <td>...</td>\n",
       "      <td>0.0</td>\n",
       "      <td>2.00</td>\n",
       "      <td>0.0</td>\n",
       "      <td>0.0</td>\n",
       "      <td>114.0</td>\n",
       "      <td>61.0</td>\n",
       "      <td>0.0</td>\n",
       "      <td>0.0</td>\n",
       "      <td>0.0</td>\n",
       "      <td>53.0</td>\n",
       "    </tr>\n",
       "    <tr>\n",
       "      <th>1</th>\n",
       "      <td>2019</td>\n",
       "      <td>12</td>\n",
       "      <td>EV</td>\n",
       "      <td>ExpressJet Airlines Inc.</td>\n",
       "      <td>BGR</td>\n",
       "      <td>Bangor, ME: Bangor International</td>\n",
       "      <td>34.0</td>\n",
       "      <td>16.0</td>\n",
       "      <td>4.12</td>\n",
       "      <td>0.00</td>\n",
       "      <td>...</td>\n",
       "      <td>0.0</td>\n",
       "      <td>7.98</td>\n",
       "      <td>2.0</td>\n",
       "      <td>0.0</td>\n",
       "      <td>1450.0</td>\n",
       "      <td>682.0</td>\n",
       "      <td>0.0</td>\n",
       "      <td>231.0</td>\n",
       "      <td>0.0</td>\n",
       "      <td>537.0</td>\n",
       "    </tr>\n",
       "    <tr>\n",
       "      <th>2</th>\n",
       "      <td>2019</td>\n",
       "      <td>12</td>\n",
       "      <td>EV</td>\n",
       "      <td>ExpressJet Airlines Inc.</td>\n",
       "      <td>BHM</td>\n",
       "      <td>Birmingham, AL: Birmingham-Shuttlesworth Inter...</td>\n",
       "      <td>65.0</td>\n",
       "      <td>13.0</td>\n",
       "      <td>4.52</td>\n",
       "      <td>0.04</td>\n",
       "      <td>...</td>\n",
       "      <td>0.0</td>\n",
       "      <td>2.48</td>\n",
       "      <td>0.0</td>\n",
       "      <td>0.0</td>\n",
       "      <td>572.0</td>\n",
       "      <td>233.0</td>\n",
       "      <td>2.0</td>\n",
       "      <td>206.0</td>\n",
       "      <td>0.0</td>\n",
       "      <td>131.0</td>\n",
       "    </tr>\n",
       "    <tr>\n",
       "      <th>3</th>\n",
       "      <td>2019</td>\n",
       "      <td>12</td>\n",
       "      <td>EV</td>\n",
       "      <td>ExpressJet Airlines Inc.</td>\n",
       "      <td>BNA</td>\n",
       "      <td>Nashville, TN: Nashville International</td>\n",
       "      <td>120.0</td>\n",
       "      <td>41.0</td>\n",
       "      <td>11.01</td>\n",
       "      <td>0.74</td>\n",
       "      <td>...</td>\n",
       "      <td>0.0</td>\n",
       "      <td>15.25</td>\n",
       "      <td>6.0</td>\n",
       "      <td>0.0</td>\n",
       "      <td>2638.0</td>\n",
       "      <td>670.0</td>\n",
       "      <td>164.0</td>\n",
       "      <td>685.0</td>\n",
       "      <td>0.0</td>\n",
       "      <td>1119.0</td>\n",
       "    </tr>\n",
       "    <tr>\n",
       "      <th>4</th>\n",
       "      <td>2019</td>\n",
       "      <td>12</td>\n",
       "      <td>EV</td>\n",
       "      <td>ExpressJet Airlines Inc.</td>\n",
       "      <td>BRO</td>\n",
       "      <td>Brownsville, TX: Brownsville South Padre Islan...</td>\n",
       "      <td>96.0</td>\n",
       "      <td>17.0</td>\n",
       "      <td>8.01</td>\n",
       "      <td>0.00</td>\n",
       "      <td>...</td>\n",
       "      <td>0.0</td>\n",
       "      <td>4.33</td>\n",
       "      <td>1.0</td>\n",
       "      <td>0.0</td>\n",
       "      <td>1037.0</td>\n",
       "      <td>578.0</td>\n",
       "      <td>0.0</td>\n",
       "      <td>139.0</td>\n",
       "      <td>0.0</td>\n",
       "      <td>320.0</td>\n",
       "    </tr>\n",
       "  </tbody>\n",
       "</table>\n",
       "<p>5 rows × 21 columns</p>\n",
       "</div>"
      ],
      "text/plain": [
       "   year_del  month_del al_iata_del               carrier_del airport_code_del  \\\n",
       "0      2019         12          EV  ExpressJet Airlines Inc.              BDL   \n",
       "1      2019         12          EV  ExpressJet Airlines Inc.              BGR   \n",
       "2      2019         12          EV  ExpressJet Airlines Inc.              BHM   \n",
       "3      2019         12          EV  ExpressJet Airlines Inc.              BNA   \n",
       "4      2019         12          EV  ExpressJet Airlines Inc.              BRO   \n",
       "\n",
       "                                    airport_name_del  arr_flights  arr_del15  \\\n",
       "0                Hartford, CT: Bradley International         14.0        4.0   \n",
       "1                   Bangor, ME: Bangor International         34.0       16.0   \n",
       "2  Birmingham, AL: Birmingham-Shuttlesworth Inter...         65.0       13.0   \n",
       "3             Nashville, TN: Nashville International        120.0       41.0   \n",
       "4  Brownsville, TX: Brownsville South Padre Islan...         96.0       17.0   \n",
       "\n",
       "   carrier_ct  weather_ct  ...  security_ct  late_aircraft_ct  arr_cancelled  \\\n",
       "0        2.00        0.00  ...          0.0              2.00            0.0   \n",
       "1        4.12        0.00  ...          0.0              7.98            2.0   \n",
       "2        4.52        0.04  ...          0.0              2.48            0.0   \n",
       "3       11.01        0.74  ...          0.0             15.25            6.0   \n",
       "4        8.01        0.00  ...          0.0              4.33            1.0   \n",
       "\n",
       "   arr_diverted  arr_delay  carrier_delay  weather_delay  nas_delay  \\\n",
       "0           0.0      114.0           61.0            0.0        0.0   \n",
       "1           0.0     1450.0          682.0            0.0      231.0   \n",
       "2           0.0      572.0          233.0            2.0      206.0   \n",
       "3           0.0     2638.0          670.0          164.0      685.0   \n",
       "4           0.0     1037.0          578.0            0.0      139.0   \n",
       "\n",
       "   security_delay  late_aircraft_delay  \n",
       "0             0.0                 53.0  \n",
       "1             0.0                537.0  \n",
       "2             0.0                131.0  \n",
       "3             0.0               1119.0  \n",
       "4             0.0                320.0  \n",
       "\n",
       "[5 rows x 21 columns]"
      ]
     },
     "execution_count": 55,
     "metadata": {},
     "output_type": "execute_result"
    }
   ],
   "source": [
    "inc = delays[delays['carrier_del'] == 'ExpressJet Airlines Inc.']\n",
    "inc.head()"
   ]
  },
  {
   "cell_type": "code",
   "execution_count": 56,
   "id": "56d68f64",
   "metadata": {},
   "outputs": [
    {
     "data": {
      "text/plain": [
       "Index(['year_del', 'month_del', 'al_iata_del', 'carrier_del',\n",
       "       'airport_code_del', 'airport_name_del', 'arr_flights', 'arr_del15',\n",
       "       'carrier_ct', 'weather_ct', 'nas_ct', 'security_ct', 'late_aircraft_ct',\n",
       "       'arr_cancelled', 'arr_diverted', 'arr_delay', 'carrier_delay',\n",
       "       'weather_delay', 'nas_delay', 'security_delay', 'late_aircraft_delay'],\n",
       "      dtype='object')"
      ]
     },
     "execution_count": 56,
     "metadata": {},
     "output_type": "execute_result"
    }
   ],
   "source": [
    "delays.columns"
   ]
  },
  {
   "cell_type": "code",
   "execution_count": 57,
   "id": "9d2d4c05",
   "metadata": {},
   "outputs": [
    {
     "data": {
      "text/html": [
       "<div>\n",
       "<style scoped>\n",
       "    .dataframe tbody tr th:only-of-type {\n",
       "        vertical-align: middle;\n",
       "    }\n",
       "\n",
       "    .dataframe tbody tr th {\n",
       "        vertical-align: top;\n",
       "    }\n",
       "\n",
       "    .dataframe thead th {\n",
       "        text-align: right;\n",
       "    }\n",
       "</style>\n",
       "<table border=\"1\" class=\"dataframe\">\n",
       "  <thead>\n",
       "    <tr style=\"text-align: right;\">\n",
       "      <th></th>\n",
       "      <th>Airline_Carrier</th>\n",
       "      <th>num_monthly_dest_served</th>\n",
       "    </tr>\n",
       "  </thead>\n",
       "  <tbody>\n",
       "    <tr>\n",
       "      <th>0</th>\n",
       "      <td>SkyWest Airlines Inc.</td>\n",
       "      <td>21695</td>\n",
       "    </tr>\n",
       "    <tr>\n",
       "      <th>1</th>\n",
       "      <td>ExpressJet Airlines Inc.</td>\n",
       "      <td>16711</td>\n",
       "    </tr>\n",
       "    <tr>\n",
       "      <th>2</th>\n",
       "      <td>Delta Air Lines Inc.</td>\n",
       "      <td>16299</td>\n",
       "    </tr>\n",
       "    <tr>\n",
       "      <th>3</th>\n",
       "      <td>American Airlines Inc.</td>\n",
       "      <td>10499</td>\n",
       "    </tr>\n",
       "    <tr>\n",
       "      <th>4</th>\n",
       "      <td>United Air Lines Inc.</td>\n",
       "      <td>10188</td>\n",
       "    </tr>\n",
       "    <tr>\n",
       "      <th>5</th>\n",
       "      <td>Southwest Airlines Co.</td>\n",
       "      <td>9822</td>\n",
       "    </tr>\n",
       "    <tr>\n",
       "      <th>6</th>\n",
       "      <td>Frontier Airlines Inc.</td>\n",
       "      <td>7264</td>\n",
       "    </tr>\n",
       "    <tr>\n",
       "      <th>7</th>\n",
       "      <td>Alaska Airlines Inc.</td>\n",
       "      <td>7210</td>\n",
       "    </tr>\n",
       "    <tr>\n",
       "      <th>8</th>\n",
       "      <td>JetBlue Airways</td>\n",
       "      <td>6971</td>\n",
       "    </tr>\n",
       "    <tr>\n",
       "      <th>9</th>\n",
       "      <td>American Eagle Airlines Inc.</td>\n",
       "      <td>6707</td>\n",
       "    </tr>\n",
       "  </tbody>\n",
       "</table>\n",
       "</div>"
      ],
      "text/plain": [
       "                Airline_Carrier  num_monthly_dest_served\n",
       "0         SkyWest Airlines Inc.                    21695\n",
       "1      ExpressJet Airlines Inc.                    16711\n",
       "2          Delta Air Lines Inc.                    16299\n",
       "3        American Airlines Inc.                    10499\n",
       "4         United Air Lines Inc.                    10188\n",
       "5        Southwest Airlines Co.                     9822\n",
       "6        Frontier Airlines Inc.                     7264\n",
       "7          Alaska Airlines Inc.                     7210\n",
       "8               JetBlue Airways                     6971\n",
       "9  American Eagle Airlines Inc.                     6707"
      ]
     },
     "execution_count": 57,
     "metadata": {},
     "output_type": "execute_result"
    }
   ],
   "source": [
    "most_arrivals = delays.carrier_del.value_counts().sort_values(ascending=False).rename_axis('Airline_Carrier').reset_index(name='num_monthly_dest_served')\n",
    "most_arr_top10 = most_arrivals.nlargest(n=10, columns=['num_monthly_dest_served'])\n",
    "most_arr_top10.head(10)"
   ]
  },
  {
   "cell_type": "code",
   "execution_count": 58,
   "id": "c81fc2ab",
   "metadata": {},
   "outputs": [
    {
     "name": "stderr",
     "output_type": "stream",
     "text": [
      "findfont: Font family ['Times New Roman Bold'] not found. Falling back to DejaVu Sans.\n"
     ]
    },
    {
     "data": {
      "image/png": "[encoded data removed]",
      "text/plain": [
       "<Figure size 432x288 with 1 Axes>"
      ]
     },
     "metadata": {},
     "output_type": "display_data"
    }
   ],
   "source": [
    "plt.figure(facecolor='white')\n",
    "plt.barh(most_arr_top10['Airline_Carrier'], most_arr_top10['num_monthly_dest_served'],color='lightseagreen')\n",
    "plt.gca().invert_yaxis()\n",
    "plt.ylabel('Airlines', fontsize=10, color='black', rotation=90, labelpad=15)\n",
    "plt.title('Monthly Destinations by Carrier \\n (United States, 2010-19)', fontsize=12, fontname=\"Times New Roman Bold\", color='black', pad=20)\n",
    "plt.tick_params(axis='x', colors='black')\n",
    "plt.tick_params(axis='y', colors='black')\n",
    "plt.xlabel('Total Number Flight Destinations, 2010-19', fontsize=11, color='black', rotation=0, labelpad=15)\n",
    "#plt.axvline(x=67521, color='r', linestyle='-', label=' U.S. Census \\n National Household \\n Median Income')\n",
    "#plt.legend(loc = 'upper right')\n",
    "plt.savefig('Top10_al_most_dest', dpi=200, transparent=True, bbox_inches='tight')\n",
    "plt.show()"
   ]
  },
  {
   "cell_type": "code",
   "execution_count": null,
   "id": "92ecaaa9",
   "metadata": {},
   "outputs": [],
   "source": []
  },
  {
   "cell_type": "markdown",
   "id": "4ac891e9",
   "metadata": {},
   "source": [
    "### Relative proportion of Destination Airports served by each airline on a monthly basis from 2010-2019"
   ]
  },
  {
   "cell_type": "code",
   "execution_count": 59,
   "id": "6ceb65a4",
   "metadata": {},
   "outputs": [
    {
     "name": "stdout",
     "output_type": "stream",
     "text": [
      "There are 3356688 words in the combination of all cells in column carrier_del.\n"
     ]
    }
   ],
   "source": [
    "text = \" \".join(review for review in delays.carrier_del.astype(str))\n",
    "print (\"There are {} words in the combination of all cells in column carrier_del.\".format(len(text)))"
   ]
  },
  {
   "cell_type": "code",
   "execution_count": 60,
   "id": "64f511ed",
   "metadata": {},
   "outputs": [
    {
     "ename": "NameError",
     "evalue": "name 'STOPWORDS' is not defined",
     "output_type": "error",
     "traceback": [
      "\u001b[1;31m---------------------------------------------------------------------------\u001b[0m",
      "\u001b[1;31mNameError\u001b[0m                                 Traceback (most recent call last)",
      "\u001b[1;32m~\\AppData\\Local\\Temp/ipykernel_61708/1506861297.py\u001b[0m in \u001b[0;36m<module>\u001b[1;34m\u001b[0m\n\u001b[1;32m----> 1\u001b[1;33m \u001b[0mstopwords\u001b[0m \u001b[1;33m=\u001b[0m \u001b[0mset\u001b[0m\u001b[1;33m(\u001b[0m\u001b[0mSTOPWORDS\u001b[0m\u001b[1;33m)\u001b[0m\u001b[1;33m\u001b[0m\u001b[1;33m\u001b[0m\u001b[0m\n\u001b[0m",
      "\u001b[1;31mNameError\u001b[0m: name 'STOPWORDS' is not defined"
     ]
    }
   ],
   "source": [
    "stopwords = set(STOPWORDS)"
   ]
  },
  {
   "cell_type": "code",
   "execution_count": 61,
   "id": "b2139753",
   "metadata": {},
   "outputs": [
    {
     "ename": "NameError",
     "evalue": "name 'stopwords' is not defined",
     "output_type": "error",
     "traceback": [
      "\u001b[1;31m---------------------------------------------------------------------------\u001b[0m",
      "\u001b[1;31mNameError\u001b[0m                                 Traceback (most recent call last)",
      "\u001b[1;32m~\\AppData\\Local\\Temp/ipykernel_61708/1924585505.py\u001b[0m in \u001b[0;36m<module>\u001b[1;34m\u001b[0m\n\u001b[1;32m----> 1\u001b[1;33m \u001b[0mstopwords\u001b[0m\u001b[1;33m.\u001b[0m\u001b[0mupdate\u001b[0m\u001b[1;33m(\u001b[0m\u001b[1;33m[\u001b[0m\u001b[1;34m\"Airline\"\u001b[0m\u001b[1;33m,\u001b[0m \u001b[1;34m\"Airlines\"\u001b[0m\u001b[1;33m,\u001b[0m \u001b[1;34m\"Airways\"\u001b[0m\u001b[1;33m,\u001b[0m \u001b[1;34m\"Aviation\"\u001b[0m\u001b[1;33m,\u001b[0m \u001b[1;34m\"Air\"\u001b[0m\u001b[1;33m,\u001b[0m \u001b[1;34m\"Lines\"\u001b[0m\u001b[1;33m,\u001b[0m \u001b[1;34m\"Inc\"\u001b[0m\u001b[1;33m,\u001b[0m \u001b[1;34m\"International\"\u001b[0m\u001b[1;33m,\u001b[0m \u001b[1;34m\"LLC\"\u001b[0m\u001b[1;33m,\u001b[0m \u001b[1;34m\"PSA\"\u001b[0m\u001b[1;33m]\u001b[0m\u001b[1;33m)\u001b[0m\u001b[1;33m\u001b[0m\u001b[1;33m\u001b[0m\u001b[0m\n\u001b[0m",
      "\u001b[1;31mNameError\u001b[0m: name 'stopwords' is not defined"
     ]
    }
   ],
   "source": [
    "stopwords.update([\"Airline\", \"Airlines\", \"Airways\", \"Aviation\", \"Air\", \"Lines\", \"Inc\", \"International\", \"LLC\", \"PSA\"])"
   ]
  },
  {
   "cell_type": "code",
   "execution_count": 62,
   "id": "c94e7272",
   "metadata": {},
   "outputs": [
    {
     "ename": "NameError",
     "evalue": "name 'WordCloud' is not defined",
     "output_type": "error",
     "traceback": [
      "\u001b[1;31m---------------------------------------------------------------------------\u001b[0m",
      "\u001b[1;31mNameError\u001b[0m                                 Traceback (most recent call last)",
      "\u001b[1;32m~\\AppData\\Local\\Temp/ipykernel_61708/1254285631.py\u001b[0m in \u001b[0;36m<module>\u001b[1;34m\u001b[0m\n\u001b[1;32m----> 1\u001b[1;33m \u001b[0mwordcloud\u001b[0m \u001b[1;33m=\u001b[0m \u001b[0mWordCloud\u001b[0m\u001b[1;33m(\u001b[0m\u001b[0mstopwords\u001b[0m\u001b[1;33m=\u001b[0m\u001b[0mstopwords\u001b[0m\u001b[1;33m,\u001b[0m \u001b[0mbackground_color\u001b[0m\u001b[1;33m=\u001b[0m\u001b[1;34m\"white\"\u001b[0m\u001b[1;33m,\u001b[0m \u001b[0mwidth\u001b[0m\u001b[1;33m=\u001b[0m\u001b[1;36m800\u001b[0m\u001b[1;33m,\u001b[0m \u001b[0mheight\u001b[0m\u001b[1;33m=\u001b[0m\u001b[1;36m400\u001b[0m\u001b[1;33m)\u001b[0m\u001b[1;33m.\u001b[0m\u001b[0mgenerate\u001b[0m\u001b[1;33m(\u001b[0m\u001b[0mtext\u001b[0m\u001b[1;33m)\u001b[0m\u001b[1;33m\u001b[0m\u001b[1;33m\u001b[0m\u001b[0m\n\u001b[0m",
      "\u001b[1;31mNameError\u001b[0m: name 'WordCloud' is not defined"
     ]
    }
   ],
   "source": [
    "wordcloud = WordCloud(stopwords=stopwords, background_color=\"white\", width=800, height=400).generate(text)"
   ]
  },
  {
   "cell_type": "code",
   "execution_count": 63,
   "id": "e1c70e9d",
   "metadata": {},
   "outputs": [
    {
     "ename": "NameError",
     "evalue": "name 'wordcloud' is not defined",
     "output_type": "error",
     "traceback": [
      "\u001b[1;31m---------------------------------------------------------------------------\u001b[0m",
      "\u001b[1;31mNameError\u001b[0m                                 Traceback (most recent call last)",
      "\u001b[1;32m~\\AppData\\Local\\Temp/ipykernel_61708/3687660693.py\u001b[0m in \u001b[0;36m<module>\u001b[1;34m\u001b[0m\n\u001b[0;32m      2\u001b[0m \u001b[0mplt\u001b[0m\u001b[1;33m.\u001b[0m\u001b[0mfigure\u001b[0m\u001b[1;33m(\u001b[0m \u001b[0mfigsize\u001b[0m\u001b[1;33m=\u001b[0m\u001b[1;33m(\u001b[0m\u001b[1;36m40\u001b[0m\u001b[1;33m,\u001b[0m\u001b[1;36m20\u001b[0m\u001b[1;33m)\u001b[0m\u001b[1;33m)\u001b[0m\u001b[1;33m\u001b[0m\u001b[1;33m\u001b[0m\u001b[0m\n\u001b[0;32m      3\u001b[0m \u001b[0mplt\u001b[0m\u001b[1;33m.\u001b[0m\u001b[0mtight_layout\u001b[0m\u001b[1;33m(\u001b[0m\u001b[0mpad\u001b[0m\u001b[1;33m=\u001b[0m\u001b[1;36m0\u001b[0m\u001b[1;33m)\u001b[0m\u001b[1;33m\u001b[0m\u001b[1;33m\u001b[0m\u001b[0m\n\u001b[1;32m----> 4\u001b[1;33m \u001b[0mplt\u001b[0m\u001b[1;33m.\u001b[0m\u001b[0mimshow\u001b[0m\u001b[1;33m(\u001b[0m\u001b[0mwordcloud\u001b[0m\u001b[1;33m,\u001b[0m \u001b[0minterpolation\u001b[0m\u001b[1;33m=\u001b[0m\u001b[1;34m'bilinear'\u001b[0m\u001b[1;33m)\u001b[0m\u001b[1;33m\u001b[0m\u001b[1;33m\u001b[0m\u001b[0m\n\u001b[0m\u001b[0;32m      5\u001b[0m \u001b[0mplt\u001b[0m\u001b[1;33m.\u001b[0m\u001b[0mshow\u001b[0m\u001b[1;33m(\u001b[0m\u001b[1;33m)\u001b[0m\u001b[1;33m\u001b[0m\u001b[1;33m\u001b[0m\u001b[0m\n",
      "\u001b[1;31mNameError\u001b[0m: name 'wordcloud' is not defined"
     ]
    },
    {
     "data": {
      "image/png": "[encoded data removed]",
      "text/plain": [
       "<Figure size 432x288 with 1 Axes>"
      ]
     },
     "metadata": {
      "needs_background": "light"
     },
     "output_type": "display_data"
    },
    {
     "data": {
      "text/plain": [
       "<Figure size 2880x1440 with 0 Axes>"
      ]
     },
     "metadata": {},
     "output_type": "display_data"
    }
   ],
   "source": [
    "plt.axis(\"off\")\n",
    "plt.figure( figsize=(40,20))\n",
    "plt.tight_layout(pad=0)\n",
    "plt.imshow(wordcloud, interpolation='bilinear')\n",
    "plt.show()"
   ]
  },
  {
   "cell_type": "code",
   "execution_count": null,
   "id": "04db3e2c",
   "metadata": {},
   "outputs": [],
   "source": []
  },
  {
   "cell_type": "code",
   "execution_count": 64,
   "id": "973a6376",
   "metadata": {},
   "outputs": [
    {
     "data": {
      "text/plain": [
       "Index(['year_del', 'month_del', 'al_iata_del', 'carrier_del',\n",
       "       'airport_code_del', 'airport_name_del', 'arr_flights', 'arr_del15',\n",
       "       'carrier_ct', 'weather_ct', 'nas_ct', 'security_ct', 'late_aircraft_ct',\n",
       "       'arr_cancelled', 'arr_diverted', 'arr_delay', 'carrier_delay',\n",
       "       'weather_delay', 'nas_delay', 'security_delay', 'late_aircraft_delay'],\n",
       "      dtype='object')"
      ]
     },
     "execution_count": 64,
     "metadata": {},
     "output_type": "execute_result"
    }
   ],
   "source": [
    "delays.columns"
   ]
  },
  {
   "cell_type": "code",
   "execution_count": 65,
   "id": "ec8611ee",
   "metadata": {},
   "outputs": [
    {
     "data": {
      "text/html": [
       "<div>\n",
       "<style scoped>\n",
       "    .dataframe tbody tr th:only-of-type {\n",
       "        vertical-align: middle;\n",
       "    }\n",
       "\n",
       "    .dataframe tbody tr th {\n",
       "        vertical-align: top;\n",
       "    }\n",
       "\n",
       "    .dataframe thead th {\n",
       "        text-align: right;\n",
       "    }\n",
       "</style>\n",
       "<table border=\"1\" class=\"dataframe\">\n",
       "  <thead>\n",
       "    <tr style=\"text-align: right;\">\n",
       "      <th></th>\n",
       "      <th>ap_iata</th>\n",
       "      <th>all_delays</th>\n",
       "    </tr>\n",
       "  </thead>\n",
       "  <tbody>\n",
       "    <tr>\n",
       "      <th>264</th>\n",
       "      <td>ORD</td>\n",
       "      <td>622421.0</td>\n",
       "    </tr>\n",
       "    <tr>\n",
       "      <th>21</th>\n",
       "      <td>ATL</td>\n",
       "      <td>609302.0</td>\n",
       "    </tr>\n",
       "    <tr>\n",
       "      <th>97</th>\n",
       "      <td>DFW</td>\n",
       "      <td>459139.0</td>\n",
       "    </tr>\n",
       "    <tr>\n",
       "      <th>201</th>\n",
       "      <td>LAX</td>\n",
       "      <td>431393.0</td>\n",
       "    </tr>\n",
       "    <tr>\n",
       "      <th>328</th>\n",
       "      <td>SFO</td>\n",
       "      <td>424768.0</td>\n",
       "    </tr>\n",
       "    <tr>\n",
       "      <th>96</th>\n",
       "      <td>DEN</td>\n",
       "      <td>407534.0</td>\n",
       "    </tr>\n",
       "    <tr>\n",
       "      <th>121</th>\n",
       "      <td>EWR</td>\n",
       "      <td>318372.0</td>\n",
       "    </tr>\n",
       "    <tr>\n",
       "      <th>173</th>\n",
       "      <td>IAH</td>\n",
       "      <td>296267.0</td>\n",
       "    </tr>\n",
       "    <tr>\n",
       "      <th>210</th>\n",
       "      <td>LGA</td>\n",
       "      <td>272552.0</td>\n",
       "    </tr>\n",
       "    <tr>\n",
       "      <th>281</th>\n",
       "      <td>PHX</td>\n",
       "      <td>269958.0</td>\n",
       "    </tr>\n",
       "    <tr>\n",
       "      <th>199</th>\n",
       "      <td>LAS</td>\n",
       "      <td>265377.0</td>\n",
       "    </tr>\n",
       "    <tr>\n",
       "      <th>46</th>\n",
       "      <td>BOS</td>\n",
       "      <td>259828.0</td>\n",
       "    </tr>\n",
       "    <tr>\n",
       "      <th>225</th>\n",
       "      <td>MCO</td>\n",
       "      <td>240860.0</td>\n",
       "    </tr>\n",
       "    <tr>\n",
       "      <th>76</th>\n",
       "      <td>CLT</td>\n",
       "      <td>228809.0</td>\n",
       "    </tr>\n",
       "    <tr>\n",
       "      <th>191</th>\n",
       "      <td>JFK</td>\n",
       "      <td>227954.0</td>\n",
       "    </tr>\n",
       "    <tr>\n",
       "      <th>105</th>\n",
       "      <td>DTW</td>\n",
       "      <td>203241.0</td>\n",
       "    </tr>\n",
       "    <tr>\n",
       "      <th>326</th>\n",
       "      <td>SEA</td>\n",
       "      <td>200041.0</td>\n",
       "    </tr>\n",
       "    <tr>\n",
       "      <th>249</th>\n",
       "      <td>MSP</td>\n",
       "      <td>199394.0</td>\n",
       "    </tr>\n",
       "    <tr>\n",
       "      <th>58</th>\n",
       "      <td>BWI</td>\n",
       "      <td>172564.0</td>\n",
       "    </tr>\n",
       "    <tr>\n",
       "      <th>280</th>\n",
       "      <td>PHL</td>\n",
       "      <td>170149.0</td>\n",
       "    </tr>\n",
       "    <tr>\n",
       "      <th>129</th>\n",
       "      <td>FLL</td>\n",
       "      <td>162884.0</td>\n",
       "    </tr>\n",
       "    <tr>\n",
       "      <th>95</th>\n",
       "      <td>DCA</td>\n",
       "      <td>159878.0</td>\n",
       "    </tr>\n",
       "    <tr>\n",
       "      <th>337</th>\n",
       "      <td>SLC</td>\n",
       "      <td>150786.0</td>\n",
       "    </tr>\n",
       "    <tr>\n",
       "      <th>227</th>\n",
       "      <td>MDW</td>\n",
       "      <td>150335.0</td>\n",
       "    </tr>\n",
       "    <tr>\n",
       "      <th>316</th>\n",
       "      <td>SAN</td>\n",
       "      <td>146239.0</td>\n",
       "    </tr>\n",
       "    <tr>\n",
       "      <th>235</th>\n",
       "      <td>MIA</td>\n",
       "      <td>143266.0</td>\n",
       "    </tr>\n",
       "    <tr>\n",
       "      <th>360</th>\n",
       "      <td>TPA</td>\n",
       "      <td>130306.0</td>\n",
       "    </tr>\n",
       "    <tr>\n",
       "      <th>44</th>\n",
       "      <td>BNA</td>\n",
       "      <td>110373.0</td>\n",
       "    </tr>\n",
       "    <tr>\n",
       "      <th>171</th>\n",
       "      <td>IAD</td>\n",
       "      <td>108627.0</td>\n",
       "    </tr>\n",
       "    <tr>\n",
       "      <th>347</th>\n",
       "      <td>STL</td>\n",
       "      <td>106502.0</td>\n",
       "    </tr>\n",
       "  </tbody>\n",
       "</table>\n",
       "</div>"
      ],
      "text/plain": [
       "    ap_iata  all_delays\n",
       "264     ORD    622421.0\n",
       "21      ATL    609302.0\n",
       "97      DFW    459139.0\n",
       "201     LAX    431393.0\n",
       "328     SFO    424768.0\n",
       "96      DEN    407534.0\n",
       "121     EWR    318372.0\n",
       "173     IAH    296267.0\n",
       "210     LGA    272552.0\n",
       "281     PHX    269958.0\n",
       "199     LAS    265377.0\n",
       "46      BOS    259828.0\n",
       "225     MCO    240860.0\n",
       "76      CLT    228809.0\n",
       "191     JFK    227954.0\n",
       "105     DTW    203241.0\n",
       "326     SEA    200041.0\n",
       "249     MSP    199394.0\n",
       "58      BWI    172564.0\n",
       "280     PHL    170149.0\n",
       "129     FLL    162884.0\n",
       "95      DCA    159878.0\n",
       "337     SLC    150786.0\n",
       "227     MDW    150335.0\n",
       "316     SAN    146239.0\n",
       "235     MIA    143266.0\n",
       "360     TPA    130306.0\n",
       "44      BNA    110373.0\n",
       "171     IAD    108627.0\n",
       "347     STL    106502.0"
      ]
     },
     "execution_count": 65,
     "metadata": {},
     "output_type": "execute_result"
    }
   ],
   "source": [
    "#find sum of all delays for each airport for entire dataset\n",
    "ap15_all_years = delays.groupby(['airport_code_del'])['arr_del15'].sum().rename_axis('ap_iata').reset_index(name='all_delays').sort_values(by='all_delays', ascending=False)\n",
    "ap15_all_years.head(30)"
   ]
  },
  {
   "cell_type": "code",
   "execution_count": 66,
   "id": "159865ec",
   "metadata": {},
   "outputs": [
    {
     "data": {
      "text/plain": [
       "Index(['Airport ID', 'Name_ap', 'City', 'Country_ap', 'IATA_ap', 'ICAO_ap',\n",
       "       'Lat_ap', 'Long_ap', 'Alt_ap', 'TZone_ap'],\n",
       "      dtype='object')"
      ]
     },
     "execution_count": 66,
     "metadata": {},
     "output_type": "execute_result"
    }
   ],
   "source": [
    "airports.columns"
   ]
  },
  {
   "cell_type": "code",
   "execution_count": 67,
   "id": "5c251299",
   "metadata": {},
   "outputs": [
    {
     "data": {
      "text/plain": [
       "Index(['ap_iata', 'all_delays'], dtype='object')"
      ]
     },
     "execution_count": 67,
     "metadata": {},
     "output_type": "execute_result"
    }
   ],
   "source": [
    "ap15_all_years.columns"
   ]
  },
  {
   "cell_type": "code",
   "execution_count": 68,
   "id": "64160d88",
   "metadata": {},
   "outputs": [
    {
     "data": {
      "text/html": [
       "<div>\n",
       "<style scoped>\n",
       "    .dataframe tbody tr th:only-of-type {\n",
       "        vertical-align: middle;\n",
       "    }\n",
       "\n",
       "    .dataframe tbody tr th {\n",
       "        vertical-align: top;\n",
       "    }\n",
       "\n",
       "    .dataframe thead th {\n",
       "        text-align: right;\n",
       "    }\n",
       "</style>\n",
       "<table border=\"1\" class=\"dataframe\">\n",
       "  <thead>\n",
       "    <tr style=\"text-align: right;\">\n",
       "      <th></th>\n",
       "      <th>ap_iata</th>\n",
       "      <th>all_delays</th>\n",
       "      <th>Airport ID</th>\n",
       "      <th>Name_ap</th>\n",
       "      <th>City</th>\n",
       "      <th>Country_ap</th>\n",
       "      <th>IATA_ap</th>\n",
       "      <th>ICAO_ap</th>\n",
       "      <th>Lat_ap</th>\n",
       "      <th>Long_ap</th>\n",
       "      <th>Alt_ap</th>\n",
       "      <th>TZone_ap</th>\n",
       "    </tr>\n",
       "  </thead>\n",
       "  <tbody>\n",
       "    <tr>\n",
       "      <th>0</th>\n",
       "      <td>ORD</td>\n",
       "      <td>622421.0</td>\n",
       "      <td>3830.0</td>\n",
       "      <td>Chicago O'Hare International Airport</td>\n",
       "      <td>Chicago</td>\n",
       "      <td>United States</td>\n",
       "      <td>ORD</td>\n",
       "      <td>KORD</td>\n",
       "      <td>41.9786</td>\n",
       "      <td>-87.9048</td>\n",
       "      <td>672.0</td>\n",
       "      <td>-6</td>\n",
       "    </tr>\n",
       "  </tbody>\n",
       "</table>\n",
       "</div>"
      ],
      "text/plain": [
       "  ap_iata  all_delays  Airport ID                               Name_ap  \\\n",
       "0     ORD    622421.0      3830.0  Chicago O'Hare International Airport   \n",
       "\n",
       "      City     Country_ap IATA_ap ICAO_ap   Lat_ap  Long_ap  Alt_ap TZone_ap  \n",
       "0  Chicago  United States     ORD    KORD  41.9786 -87.9048   672.0       -6  "
      ]
     },
     "execution_count": 68,
     "metadata": {},
     "output_type": "execute_result"
    }
   ],
   "source": [
    "ap15_all_years = ap15_all_years.merge(airports, left_on='ap_iata', right_on='IATA_ap', how='left')\n",
    "ap15_all_years.head(1)"
   ]
  },
  {
   "cell_type": "code",
   "execution_count": 69,
   "id": "2804bfca",
   "metadata": {},
   "outputs": [
    {
     "data": {
      "text/plain": [
       "Index(['ap_iata', 'all_delays', 'Airport ID', 'Name_ap', 'City', 'Country_ap',\n",
       "       'IATA_ap', 'ICAO_ap', 'Lat_ap', 'Long_ap', 'Alt_ap', 'TZone_ap'],\n",
       "      dtype='object')"
      ]
     },
     "execution_count": 69,
     "metadata": {},
     "output_type": "execute_result"
    }
   ],
   "source": [
    "ap15_all_years.columns"
   ]
  },
  {
   "cell_type": "code",
   "execution_count": 70,
   "id": "df666278",
   "metadata": {},
   "outputs": [
    {
     "data": {
      "text/html": [
       "<div>\n",
       "<style scoped>\n",
       "    .dataframe tbody tr th:only-of-type {\n",
       "        vertical-align: middle;\n",
       "    }\n",
       "\n",
       "    .dataframe tbody tr th {\n",
       "        vertical-align: top;\n",
       "    }\n",
       "\n",
       "    .dataframe thead th {\n",
       "        text-align: right;\n",
       "    }\n",
       "</style>\n",
       "<table border=\"1\" class=\"dataframe\">\n",
       "  <thead>\n",
       "    <tr style=\"text-align: right;\">\n",
       "      <th></th>\n",
       "      <th>ap_iata</th>\n",
       "      <th>all_delays</th>\n",
       "      <th>Airport ID</th>\n",
       "      <th>Name_ap</th>\n",
       "      <th>City</th>\n",
       "      <th>IATA_ap</th>\n",
       "      <th>Lat_ap</th>\n",
       "      <th>Long_ap</th>\n",
       "    </tr>\n",
       "  </thead>\n",
       "  <tbody>\n",
       "    <tr>\n",
       "      <th>0</th>\n",
       "      <td>ORD</td>\n",
       "      <td>622421.0</td>\n",
       "      <td>3830.0</td>\n",
       "      <td>Chicago O'Hare International Airport</td>\n",
       "      <td>Chicago</td>\n",
       "      <td>ORD</td>\n",
       "      <td>41.9786</td>\n",
       "      <td>-87.9048</td>\n",
       "    </tr>\n",
       "  </tbody>\n",
       "</table>\n",
       "</div>"
      ],
      "text/plain": [
       "  ap_iata  all_delays  Airport ID                               Name_ap  \\\n",
       "0     ORD    622421.0      3830.0  Chicago O'Hare International Airport   \n",
       "\n",
       "      City IATA_ap   Lat_ap  Long_ap  \n",
       "0  Chicago     ORD  41.9786 -87.9048  "
      ]
     },
     "execution_count": 70,
     "metadata": {},
     "output_type": "execute_result"
    }
   ],
   "source": [
    "ap15_all_years.drop(['Country_ap', 'ICAO_ap', 'Alt_ap', 'TZone_ap'], axis=1, inplace=True)\n",
    "ap15_all_years.head(1)"
   ]
  },
  {
   "cell_type": "code",
   "execution_count": 71,
   "id": "4def242a",
   "metadata": {},
   "outputs": [
    {
     "data": {
      "text/plain": [
       "622421.0"
      ]
     },
     "execution_count": 71,
     "metadata": {},
     "output_type": "execute_result"
    }
   ],
   "source": [
    "ap15_all_years['all_delays'].max()"
   ]
  },
  {
   "cell_type": "code",
   "execution_count": 72,
   "id": "fcd18925",
   "metadata": {},
   "outputs": [
    {
     "data": {
      "text/plain": [
       "0.0"
      ]
     },
     "execution_count": 72,
     "metadata": {},
     "output_type": "execute_result"
    }
   ],
   "source": [
    "ap15_all_years['all_delays'].min()"
   ]
  },
  {
   "cell_type": "code",
   "execution_count": 73,
   "id": "6516bb2b",
   "metadata": {},
   "outputs": [
    {
     "data": {
      "text/plain": [
       "30152.815584415584"
      ]
     },
     "execution_count": 73,
     "metadata": {},
     "output_type": "execute_result"
    }
   ],
   "source": [
    "ap15_all_years['all_delays'].mean()"
   ]
  },
  {
   "cell_type": "code",
   "execution_count": 74,
   "id": "48024fdd",
   "metadata": {},
   "outputs": [
    {
     "data": {
      "text/plain": [
       "ap_iata        0\n",
       "all_delays     0\n",
       "Airport ID    12\n",
       "Name_ap       12\n",
       "City          12\n",
       "IATA_ap       12\n",
       "Lat_ap        12\n",
       "Long_ap       12\n",
       "dtype: int64"
      ]
     },
     "execution_count": 74,
     "metadata": {},
     "output_type": "execute_result"
    }
   ],
   "source": [
    "ap15_all_years.isna().sum()"
   ]
  },
  {
   "cell_type": "code",
   "execution_count": 75,
   "id": "694d1d94",
   "metadata": {},
   "outputs": [
    {
     "data": {
      "text/plain": [
       "ap_iata       0\n",
       "all_delays    0\n",
       "Airport ID    0\n",
       "Name_ap       0\n",
       "City          0\n",
       "IATA_ap       0\n",
       "Lat_ap        0\n",
       "Long_ap       0\n",
       "dtype: int64"
      ]
     },
     "execution_count": 75,
     "metadata": {},
     "output_type": "execute_result"
    }
   ],
   "source": [
    "#drop all na values\n",
    "ap15_all_years.dropna(subset=['Lat_ap', 'Long_ap'], inplace=True)\n",
    "ap15_all_years.isna().sum()\n"
   ]
  },
  {
   "cell_type": "code",
   "execution_count": 76,
   "id": "b662609b",
   "metadata": {},
   "outputs": [
    {
     "data": {
      "text/html": [
       "<div>\n",
       "<style scoped>\n",
       "    .dataframe tbody tr th:only-of-type {\n",
       "        vertical-align: middle;\n",
       "    }\n",
       "\n",
       "    .dataframe tbody tr th {\n",
       "        vertical-align: top;\n",
       "    }\n",
       "\n",
       "    .dataframe thead th {\n",
       "        text-align: right;\n",
       "    }\n",
       "</style>\n",
       "<table border=\"1\" class=\"dataframe\">\n",
       "  <thead>\n",
       "    <tr style=\"text-align: right;\">\n",
       "      <th></th>\n",
       "      <th>ap_iata</th>\n",
       "      <th>all_delays</th>\n",
       "      <th>Airport ID</th>\n",
       "      <th>Name_ap</th>\n",
       "      <th>City</th>\n",
       "      <th>IATA_ap</th>\n",
       "      <th>Lat_ap</th>\n",
       "      <th>Long_ap</th>\n",
       "    </tr>\n",
       "  </thead>\n",
       "  <tbody>\n",
       "    <tr>\n",
       "      <th>0</th>\n",
       "      <td>ORD</td>\n",
       "      <td>622421.0</td>\n",
       "      <td>3830.0</td>\n",
       "      <td>Chicago O'Hare International Airport</td>\n",
       "      <td>Chicago</td>\n",
       "      <td>ORD</td>\n",
       "      <td>41.978600</td>\n",
       "      <td>-87.904800</td>\n",
       "    </tr>\n",
       "    <tr>\n",
       "      <th>1</th>\n",
       "      <td>ATL</td>\n",
       "      <td>609302.0</td>\n",
       "      <td>3682.0</td>\n",
       "      <td>Hartsfield Jackson Atlanta International Airport</td>\n",
       "      <td>Atlanta</td>\n",
       "      <td>ATL</td>\n",
       "      <td>33.636700</td>\n",
       "      <td>-84.428101</td>\n",
       "    </tr>\n",
       "    <tr>\n",
       "      <th>2</th>\n",
       "      <td>DFW</td>\n",
       "      <td>459139.0</td>\n",
       "      <td>3670.0</td>\n",
       "      <td>Dallas Fort Worth International Airport</td>\n",
       "      <td>Dallas-Fort Worth</td>\n",
       "      <td>DFW</td>\n",
       "      <td>32.896801</td>\n",
       "      <td>-97.038002</td>\n",
       "    </tr>\n",
       "    <tr>\n",
       "      <th>3</th>\n",
       "      <td>LAX</td>\n",
       "      <td>431393.0</td>\n",
       "      <td>3484.0</td>\n",
       "      <td>Los Angeles International Airport</td>\n",
       "      <td>Los Angeles</td>\n",
       "      <td>LAX</td>\n",
       "      <td>33.942501</td>\n",
       "      <td>-118.407997</td>\n",
       "    </tr>\n",
       "    <tr>\n",
       "      <th>4</th>\n",
       "      <td>SFO</td>\n",
       "      <td>424768.0</td>\n",
       "      <td>3469.0</td>\n",
       "      <td>San Francisco International Airport</td>\n",
       "      <td>San Francisco</td>\n",
       "      <td>SFO</td>\n",
       "      <td>37.618999</td>\n",
       "      <td>-122.375000</td>\n",
       "    </tr>\n",
       "    <tr>\n",
       "      <th>5</th>\n",
       "      <td>DEN</td>\n",
       "      <td>407534.0</td>\n",
       "      <td>3751.0</td>\n",
       "      <td>Denver International Airport</td>\n",
       "      <td>Denver</td>\n",
       "      <td>DEN</td>\n",
       "      <td>39.861698</td>\n",
       "      <td>-104.672997</td>\n",
       "    </tr>\n",
       "    <tr>\n",
       "      <th>6</th>\n",
       "      <td>EWR</td>\n",
       "      <td>318372.0</td>\n",
       "      <td>3494.0</td>\n",
       "      <td>Newark Liberty International Airport</td>\n",
       "      <td>Newark</td>\n",
       "      <td>EWR</td>\n",
       "      <td>40.692501</td>\n",
       "      <td>-74.168701</td>\n",
       "    </tr>\n",
       "    <tr>\n",
       "      <th>7</th>\n",
       "      <td>IAH</td>\n",
       "      <td>296267.0</td>\n",
       "      <td>3550.0</td>\n",
       "      <td>George Bush Intercontinental Houston Airport</td>\n",
       "      <td>Houston</td>\n",
       "      <td>IAH</td>\n",
       "      <td>29.984400</td>\n",
       "      <td>-95.341400</td>\n",
       "    </tr>\n",
       "    <tr>\n",
       "      <th>8</th>\n",
       "      <td>LGA</td>\n",
       "      <td>272552.0</td>\n",
       "      <td>3697.0</td>\n",
       "      <td>La Guardia Airport</td>\n",
       "      <td>New York</td>\n",
       "      <td>LGA</td>\n",
       "      <td>40.777199</td>\n",
       "      <td>-73.872597</td>\n",
       "    </tr>\n",
       "    <tr>\n",
       "      <th>9</th>\n",
       "      <td>PHX</td>\n",
       "      <td>269958.0</td>\n",
       "      <td>3462.0</td>\n",
       "      <td>Phoenix Sky Harbor International Airport</td>\n",
       "      <td>Phoenix</td>\n",
       "      <td>PHX</td>\n",
       "      <td>33.434299</td>\n",
       "      <td>-112.012001</td>\n",
       "    </tr>\n",
       "  </tbody>\n",
       "</table>\n",
       "</div>"
      ],
      "text/plain": [
       "  ap_iata  all_delays  Airport ID  \\\n",
       "0     ORD    622421.0      3830.0   \n",
       "1     ATL    609302.0      3682.0   \n",
       "2     DFW    459139.0      3670.0   \n",
       "3     LAX    431393.0      3484.0   \n",
       "4     SFO    424768.0      3469.0   \n",
       "5     DEN    407534.0      3751.0   \n",
       "6     EWR    318372.0      3494.0   \n",
       "7     IAH    296267.0      3550.0   \n",
       "8     LGA    272552.0      3697.0   \n",
       "9     PHX    269958.0      3462.0   \n",
       "\n",
       "                                            Name_ap               City  \\\n",
       "0              Chicago O'Hare International Airport            Chicago   \n",
       "1  Hartsfield Jackson Atlanta International Airport            Atlanta   \n",
       "2           Dallas Fort Worth International Airport  Dallas-Fort Worth   \n",
       "3                 Los Angeles International Airport        Los Angeles   \n",
       "4               San Francisco International Airport      San Francisco   \n",
       "5                      Denver International Airport             Denver   \n",
       "6              Newark Liberty International Airport             Newark   \n",
       "7      George Bush Intercontinental Houston Airport            Houston   \n",
       "8                                La Guardia Airport           New York   \n",
       "9          Phoenix Sky Harbor International Airport            Phoenix   \n",
       "\n",
       "  IATA_ap     Lat_ap     Long_ap  \n",
       "0     ORD  41.978600  -87.904800  \n",
       "1     ATL  33.636700  -84.428101  \n",
       "2     DFW  32.896801  -97.038002  \n",
       "3     LAX  33.942501 -118.407997  \n",
       "4     SFO  37.618999 -122.375000  \n",
       "5     DEN  39.861698 -104.672997  \n",
       "6     EWR  40.692501  -74.168701  \n",
       "7     IAH  29.984400  -95.341400  \n",
       "8     LGA  40.777199  -73.872597  \n",
       "9     PHX  33.434299 -112.012001  "
      ]
     },
     "execution_count": 76,
     "metadata": {},
     "output_type": "execute_result"
    }
   ],
   "source": [
    "#sorted all_delays into descending order\n",
    "ap15_all_years.head(10)"
   ]
  },
  {
   "cell_type": "code",
   "execution_count": 77,
   "id": "2a1b116b",
   "metadata": {},
   "outputs": [],
   "source": [
    "#create groups or stages from 0 (min) to 622421 delays\n",
    "stages = [\"600000+\", \"450001-600000\", \"350001-450000\", \"250001-350000\", \"150001-250000\", \"100001-150000\",\n",
    "         \"100001-150000\", \"50001-100000\", \"0-50000\"]"
   ]
  },
  {
   "cell_type": "code",
   "execution_count": 92,
   "id": "d8cf2cad",
   "metadata": {},
   "outputs": [
    {
     "data": {
      "text/plain": [
       "[(0, 2),\n",
       " (2, 3),\n",
       " (3, 6),\n",
       " (6, 12),\n",
       " (12, 24),\n",
       " (24, 32),\n",
       " (32, 52),\n",
       " (52, 77),\n",
       " (77, 379)]"
      ]
     },
     "execution_count": 92,
     "metadata": {},
     "output_type": "execute_result"
    }
   ],
   "source": [
    "# Create tuples of row indexes for the above ranges\n",
    "tuple1 = (0, ap15_all_years[ap15_all_years.all_delays > 600000].index[-1]+1)\n",
    "tuple2 = (tuple1[1], ap15_all_years[(ap15_all_years.all_delays > 450001) & (ap15_all_years.all_delays <=600000)].index[-1]+1)\n",
    "tuple3 = (tuple2[1], ap15_all_years[(ap15_all_years.all_delays > 350001) & (ap15_all_years.all_delays <=450000)].index[-1]+1)\n",
    "tuple4 = (tuple3[1], ap15_all_years[(ap15_all_years.all_delays > 250001) & (ap15_all_years.all_delays <=350000)].index[-1]+1)\n",
    "tuple5 = (tuple4[1], ap15_all_years[(ap15_all_years.all_delays > 150001) & (ap15_all_years.all_delays <=250000)].index[-1]+1)\n",
    "tuple6 = (tuple5[1], ap15_all_years[(ap15_all_years.all_delays > 100001) & (ap15_all_years.all_delays <=150000)].index[-1]+1)\n",
    "tuple7 = (tuple6[1], ap15_all_years[(ap15_all_years.all_delays > 51001)  & (ap15_all_years.all_delays <=100000)].index[-1]+1)\n",
    "tuple8 = (tuple7[1], ap15_all_years[(ap15_all_years.all_delays > 25001)  & (ap15_all_years.all_delays <=50000)].index[-1]+1)\n",
    "tuple9 = (tuple8[1], ap15_all_years[(ap15_all_years.all_delays > 0)      & (ap15_all_years.all_delays <=25000)].index[-1]+1)\n",
    "\n",
    "limits = [tuple1, tuple2, tuple3, tuple4, tuple5, tuple6, tuple7, tuple8, tuple9]\n",
    "limits"
   ]
  },
  {
   "cell_type": "code",
   "execution_count": 167,
   "id": "865cfc53",
   "metadata": {},
   "outputs": [],
   "source": [
    "colors = [\"#318CE7\",\"#00CED1\",\"#87CEEB\",\"#C4C3D0\",\"#97FFFF\", \"#E7FEFF\", \"#CCCCFF\", \"#F8F8FF\", \"#8DEEEE\"]\n"
   ]
  },
  {
   "cell_type": "code",
   "execution_count": 168,
   "id": "78ba2d75",
   "metadata": {},
   "outputs": [],
   "source": [
    "fig = go.Figure()\n",
    "stage_counter = 0\n",
    "for i in range(len(limits)):\n",
    "    lim = limits[i]\n",
    "    df_sub = ap15_all_years[lim[0]:lim[1]]\n",
    "    fig.add_trace(go.Scattergeo(\n",
    "        locationmode = 'USA-states',\n",
    "        lon = df_sub['Long_ap'],\n",
    "        lat = df_sub['Lat_ap'],\n",
    "        text = df_sub['Name_ap'],\n",
    "        marker = dict(\n",
    "            size = df_sub['all_delays']*0.002,\n",
    "            color = colors[i],\n",
    "            line_color='rgb(40,40,40)',\n",
    "            line_width=0.5,\n",
    "            sizemode = 'area'\n",
    "        ),\n",
    "        name = '{}'.format(stages[stage_counter])))\n",
    "    stage_counter = stage_counter+1\n"
   ]
  },
  {
   "cell_type": "code",
   "execution_count": 169,
   "id": "e02e077d",
   "metadata": {},
   "outputs": [
    {
     "data": {
      "application/vnd.plotly.v1+json": {
       "config": {
        "plotlyServerURL": "https://plot.ly"
       },
       "data": [
        {
         "lat": [
          41.9786,
          33.6367
         ],
         "locationmode": "USA-states",
         "lon": [
          -87.9048,
          -84.428101
         ],
         "marker": {
          "color": "#318CE7",
          "line": {
           "color": "rgb(40,40,40)",
           "width": 0.5
          },
          "size": [
           1244.842,
           1218.604
          ],
          "sizemode": "area"
         },
         "name": "600000+",
         "text": [
          "Chicago O'Hare International Airport",
          "Hartsfield Jackson Atlanta International Airport"
         ],
         "type": "scattergeo"
        },
        {
         "lat": [
          32.896801
         ],
         "locationmode": "USA-states",
         "lon": [
          -97.038002
         ],
         "marker": {
          "color": "#00CED1",
          "line": {
           "color": "rgb(40,40,40)",
           "width": 0.5
          },
          "size": [
           918.278
          ],
          "sizemode": "area"
         },
         "name": "450001-600000",
         "text": [
          "Dallas Fort Worth International Airport"
         ],
         "type": "scattergeo"
        },
        {
         "lat": [
          33.94250107,
          37.61899948120117,
          39.861698150635
         ],
         "locationmode": "USA-states",
         "lon": [
          -118.4079971,
          -122.375,
          -104.672996521
         ],
         "marker": {
          "color": "#87CEEB",
          "line": {
           "color": "rgb(40,40,40)",
           "width": 0.5
          },
          "size": [
           862.7860000000001,
           849.5360000000001,
           815.068
          ],
          "sizemode": "area"
         },
         "name": "350001-450000",
         "text": [
          "Los Angeles International Airport",
          "San Francisco International Airport",
          "Denver International Airport"
         ],
         "type": "scattergeo"
        },
        {
         "lat": [
          40.69250106811523,
          29.98439979553223,
          40.77719879,
          33.43429946899414,
          36.08010101,
          42.36429977
         ],
         "locationmode": "USA-states",
         "lon": [
          -74.168701171875,
          -95.34140014648438,
          -73.87259674,
          -112.01200103759766,
          -115.1520004,
          -71.00520325
         ],
         "marker": {
          "color": "#C4C3D0",
          "line": {
           "color": "rgb(40,40,40)",
           "width": 0.5
          },
          "size": [
           636.744,
           592.534,
           545.104,
           539.916,
           530.754,
           519.6560000000001
          ],
          "sizemode": "area"
         },
         "name": "250001-350000",
         "text": [
          "Newark Liberty International Airport",
          "George Bush Intercontinental Houston Airport",
          "La Guardia Airport",
          "Phoenix Sky Harbor International Airport",
          "McCarran International Airport",
          "General Edward Lawrence Logan International Airport"
         ],
         "type": "scattergeo"
        },
        {
         "lat": [
          28.429399490356445,
          35.2140007019043,
          40.63980103,
          42.212398529052734,
          47.449001,
          44.882,
          39.1754,
          39.87189865112305,
          26.072599,
          38.8521,
          40.78839874267578,
          41.785999
         ],
         "locationmode": "USA-states",
         "lon": [
          -81.30899810791016,
          -80.94309997558594,
          -73.77890015,
          -83.35340118408203,
          -122.308998,
          -93.221802,
          -76.668297,
          -75.24109649658203,
          -80.152702,
          -77.037697,
          -111.97799682617188,
          -87.752403
         ],
         "marker": {
          "color": "#97FFFF",
          "line": {
           "color": "rgb(40,40,40)",
           "width": 0.5
          },
          "size": [
           481.72,
           457.618,
           455.908,
           406.482,
           400.082,
           398.788,
           345.128,
           340.298,
           325.76800000000003,
           319.75600000000003,
           301.572,
           300.67
          ],
          "sizemode": "area"
         },
         "name": "150001-250000",
         "text": [
          "Orlando International Airport",
          "Charlotte Douglas International Airport",
          "John F Kennedy International Airport",
          "Detroit Metropolitan Wayne County Airport",
          "Seattle Tacoma International Airport",
          "Minneapolis-St Paul International/Wold-Chamberlain Airport",
          "Baltimore/Washington International Thurgood Marshall Airport",
          "Philadelphia International Airport",
          "Fort Lauderdale Hollywood International Airport",
          "Ronald Reagan Washington National Airport",
          "Salt Lake City International Airport",
          "Chicago Midway International Airport"
         ],
         "type": "scattergeo"
        },
        {
         "lat": [
          32.7336006165,
          25.79319953918457,
          27.975500106811523,
          36.1245002746582,
          38.94449997,
          38.748697,
          29.64539909,
          32.847099
         ],
         "locationmode": "USA-states",
         "lon": [
          -117.190002441,
          -80.29060363769531,
          -82.533203125,
          -86.6781997680664,
          -77.45580292,
          -90.370003,
          -95.27890015,
          -96.851799
         ],
         "marker": {
          "color": "#E7FEFF",
          "line": {
           "color": "rgb(40,40,40)",
           "width": 0.5
          },
          "size": [
           292.478,
           286.532,
           260.612,
           220.746,
           217.254,
           213.004,
           212.852,
           211.046
          ],
          "sizemode": "area"
         },
         "name": "100001-150000",
         "text": [
          "San Diego International Airport",
          "Miami International Airport",
          "Tampa International Airport",
          "Nashville International Airport",
          "Washington Dulles International Airport",
          "St Louis Lambert International Airport",
          "William P Hobby Airport",
          "Dallas Love Field"
         ],
         "type": "scattergeo"
        },
        {
         "lat": [
          30.194499969482425,
          45.58869934,
          39.2976,
          35.87760162353516,
          37.721298,
          41.4117012024,
          29.99340057373047,
          38.69540023803711,
          37.362598,
          29.533700942993164,
          42.94720077514648,
          21.32062,
          39.7173,
          40.49150085,
          33.67570114,
          39.998001,
          39.0488014221,
          26.53619956970215,
          26.68320083618164,
          35.04240036010742
         ],
         "locationmode": "USA-states",
         "lon": [
          -97.6698989868164,
          -122.5979996,
          -94.713898,
          -78.7874984741211,
          -122.221001,
          -81.8498001099,
          -90.25800323486328,
          -121.59100341796876,
          -121.929001,
          -98.46980285644533,
          -87.89659881591797,
          -157.924228,
          -86.294403,
          -80.23290253,
          -117.8679962,
          -82.891899,
          -84.6678009033,
          -81.75520324707031,
          -80.09559631347656,
          -89.97669982910156
         ],
         "marker": {
          "color": "#CCCCFF",
          "line": {
           "color": "rgb(40,40,40)",
           "width": 0.5
          },
          "size": [
           191.202,
           185.446,
           183.394,
           174.38400000000001,
           173.142,
           167.46200000000002,
           166.046,
           161.69,
           153.546,
           145.326,
           131.62,
           131.43,
           128.252,
           127.272,
           124.498,
           120.70400000000001,
           113.792,
           106.52,
           105.822,
           101.884
          ],
          "sizemode": "area"
         },
         "name": "100001-150000",
         "text": [
          "Austin Bergstrom International Airport",
          "Portland International Airport",
          "Kansas City International Airport",
          "Raleigh Durham International Airport",
          "Metropolitan Oakland International Airport",
          "Cleveland Hopkins International Airport",
          "Louis Armstrong New Orleans International Airport",
          "Sacramento International Airport",
          "Norman Y. Mineta San Jose International Airport",
          "San Antonio International Airport",
          "General Mitchell International Airport",
          "Daniel K Inouye International Airport",
          "Indianapolis International Airport",
          "Pittsburgh International Airport",
          "John Wayne Airport-Orange County Airport",
          "John Glenn Columbus International Airport",
          "Cincinnati Northern Kentucky International Airport",
          "Southwest Florida International Airport",
          "Palm Beach International Airport",
          "Memphis International Airport"
         ],
         "type": "scattergeo"
        },
        {
         "lat": [
          35.040199,
          30.49410057067871,
          41.9388999939,
          35.39310073852539,
          42.94049835,
          41.3032,
          34.200698852539055,
          34.05599975585937,
          37.50519943237305,
          36.19839859008789,
          32.116100311279304,
          31.80719948,
          33.56290054,
          39.49909973144531,
          38.1744,
          36.89459991455078,
          32.89860153,
          41.732601,
          34.729400634799994,
          61.17440032958984,
          20.8986,
          43.5644,
          42.88079834,
          35.81100082,
          41.53400039672852
         ],
         "locationmode": "USA-states",
         "lon": [
          -106.609001,
          -81.68789672851562,
          -72.68319702149999,
          -97.60070037841795,
          -78.73220062,
          -95.894096,
          -118.35900115966795,
          -117.60099792480467,
          -77.3197021484375,
          -95.88809967041016,
          -110.94100189208984,
          -106.37799840000002,
          -86.75350189,
          -119.76799774169922,
          -85.736,
          -76.20120239257812,
          -80.04049683,
          -71.42040300000001,
          -92.2242965698,
          -149.99600219726562,
          -156.429993,
          -116.223,
          -85.52279663,
          -83.99400329999999,
          -93.66310119628906
         ],
         "marker": {
          "color": "#F8F8FF",
          "line": {
           "color": "rgb(40,40,40)",
           "width": 0.5
          },
          "size": [
           101.036,
           96.86,
           92.56,
           88.536,
           86.868,
           84.944,
           83.504,
           80.694,
           76.316,
           74.902,
           73.59,
           71.44,
           65.984,
           64.732,
           64.446,
           61.188,
           60.776,
           59.76,
           57.128,
           53.660000000000004,
           53.39,
           51.14,
           50.618,
           50.120000000000005,
           49.61
          ],
          "sizemode": "area"
         },
         "name": "50001-100000",
         "text": [
          "Albuquerque International Sunport",
          "Jacksonville International Airport",
          "Bradley International Airport",
          "Will Rogers World Airport",
          "Buffalo Niagara International Airport",
          "Eppley Airfield",
          "Bob Hope Airport",
          "Ontario International Airport",
          "Richmond International Airport",
          "Tulsa International Airport",
          "Tucson International Airport",
          "El Paso International Airport",
          "Birmingham-Shuttlesworth International Airport",
          "Reno Tahoe International Airport",
          "Louisville International Standiford Field",
          "Norfolk International Airport",
          "Charleston Air Force Base-International Airport",
          "Theodore Francis Green State Airport",
          "Bill & Hillary Clinton National Airport/Adams Field",
          "Ted Stevens Anchorage International Airport",
          "Kahului Airport",
          "Boise Air Terminal/Gowen Field",
          "Gerald R. Ford International Airport",
          "McGhee Tyson Airport",
          "Des Moines International Airport"
         ],
         "type": "scattergeo"
        },
        {
         "lat": [
          36.281898,
          38.805801,
          39.90240097045898,
          33.81769943,
          43.118900299072266,
          32.12760162,
          37.649899,
          42.74829864501953,
          43.13990020751953,
          41.06700134277344,
          33.829700469970696,
          34.895698547399995,
          36.097801208496094,
          36.77619934082031,
          47.61989974975586,
          43.11119842529297,
          42.932598,
          30.473400115967003,
          31.9424991607666,
          30.533199,
          32.3111991882,
          34.42620087,
          43.64619827,
          40.91609954833984,
          38.0364990234375,
          41.88470077514648,
          34.637199401855,
          33.93880081176758,
          37.24570084,
          33.663601,
          43.5820007324,
          19.738783,
          21.97599983215332,
          40.79520035,
          30.4832,
          27.77039909362793,
          44.4719009399,
          35.219398,
          32.446602,
          39.22320175,
          30.691200256348,
          40.97850037,
          35.03530120849609,
          46.92070007324219,
          41.70869827270508,
          41.44850158691406,
          35.43619918823242,
          44.48509979248047,
          33.6796989441,
          40.1935005188,
          30.357106,
          30.20529938,
          44.12459945678711,
          40.664199829100006,
          35.2368011475,
          30.40730094909668,
          36.58700180053711,
          30.396499633789062,
          27.39539909362793,
          26.17580032,
          26.22850036621093,
          44.0452995300293,
          42.37419891357422,
          42.96540069580078,
          38.37310028076172,
          45.77750015,
          44.2580986023,
          43.6072998046875,
          32.30059814,
          38.0369987488,
          34.27059936523437,
          44.74140167236328,
          33.36989974975586,
          31.067199707,
          40.978101,
          40.652099609375,
          31.32740020751953,
          40.47710037,
          39.1223983765,
          38.13859939575195,
          46.77270126342773,
          35.43360138,
          44.2541008,
          29.6900997162,
          40.85100173950195,
          58.35499954223633,
          28.7775993347168,
          32.51089859008789,
          46.26470184326172,
          34.9911994934082,
          37.3255,
          64.81510162,
          45.80770111083984,
          42.77870178222656,
          19.721399307250977,
          37.13190079,
          40.03919983,
          37.1515007019,
          46.91630173,
          40.27669906616211,
          36.475201,
          41.3385009766,
          27.543800354003903,
          25.90679931640625,
          43.90829849243164,
          46.8420982361,
          43.532901763916016,
          24.556100845336918,
          32.4113006592,
          39.64260101,
          39.45759963989258,
          44.7775993347,
          42.234901428222656,
          39.84410095,
          29.179899,
          48.2593994140625,
          34.8292007446,
          35.33660125732422,
          43.514599,
          41.50410079956055,
          48.31050109863281,
          55.35559845,
          39.14099884033203,
          40.50899887,
          27.91020012,
          37.036389,
          32.65660095,
          30.58860016,
          38.5097999573,
          35.617099761999995,
          44.80739974975586,
          33.30780029,
          32.516300201416016,
          28.10280036926269,
          43.879002,
          30.12610054016113,
          32.35409927368164,
          31.3213005065918,
          26.92020035,
          47.48199844,
          38.81809997558594,
          31.61129951477051,
          42.908001,
          42.1599006652832,
          35.0730018616,
          31.35770034790039,
          47.949299,
          48.177898407,
          40.48120117,
          33.12829971,
          35.13850021,
          34.5676994324,
          44.3488998413,
          46.6068000793457,
          57.04710006713867,
          40.8493003845,
          43.41709899902344,
          41.5942,
          31.535499572753903,
          46.3535995483,
          30.78249931335449,
          33.30160140991211,
          33.45370101928711,
          31.2588005065918,
          37.62580109,
          33.450298309299995,
          43.50439835,
          39.79539871,
          41.78020096,
          33.9888,
          47.16839981079102,
          41.58679962,
          37.06079864501953,
          32.33259963989258,
          44.86579895019531,
          42.0831270134,
          43.16949844,
          42.40259933,
          29.9507999420166,
          44.520198822,
          56.48429871,
          42.4818,
          48.79280090332031,
          56.80170059,
          42.40200043,
          71.285402,
          64.51219940185547,
          40.27590179,
          42.26729965209961,
          37.151798248291016,
          34.89889908,
          38.53390121,
          32.6875,
          40.96749877929688,
          42.55709838867188,
          41.25310135,
          60.77980042,
          42.20869827,
          42.9098014831543,
          60.49179839999999,
          38.50899887,
          59.503299713100006,
          45.57089996,
          66.88469696,
          32.38399887084961,
          36.532082,
          42.49100112915039,
          70.19470215,
          31.467100143432614,
          37.70100021362305,
          37.9275016785,
          40.82490158081055,
          38.84220123,
          41.31209945678711,
          46.92969894,
          42.156101,
          45.63119888305664,
          46.25080108642578,
          44.6509017944336,
          57.75,
          45.7226982117,
          45.44910049438477,
          47.50939941,
          37.326698303222656,
          46.7974014282,
          45.07809829999999,
          46.39830017,
          45.8184013367,
          48.11420059,
          47.38660049,
          32.2243995667,
          48.566200256347656,
          37.8582992554,
          35.387798,
          38.289100646972656,
          45.95479965209961,
          46.3745002746582,
          43.1072998046875,
          39.2966003418,
          39.813801,
          38.5452,
          41.3931007385,
          37.62409973,
          37.894199371338,
          39.94269943,
          43.99190139770508,
          38.36669922,
          39.67869949,
          41.26369858,
          38.79100036621094,
          32.834201812699995,
          37.22529983520508,
          35.65879822,
          38.2638015747,
          47.90629959,
          35.6352005,
          45.54660034179688,
          42.19540023803711,
          38.75500107,
          36.161201477051,
          30.212099,
          44.68840027,
          37.04420089999999,
          29.3742008209,
          41.12620163,
          41.87400055,
          40.219200134277,
          41.15570068,
          40.4408989,
          34.65449905,
          38.9509010315,
          29.9592,
          51.87799835205078,
          44.6819000244,
          43.0778999329,
          44.38270187,
          58.42530060000001,
          59.04470062,
          44.91400146,
          41.66930008,
          34.18539810180664,
          58.67679977,
          39.707901,
          37.74010086,
          41.195899963379,
          34.200801849365,
          30.626800537100006,
          37.9538002,
          34.680999755859,
          47.20769882,
          41.26070023,
          40.7187004089,
          40.451804,
          32.692798614501946,
          29.6072998047,
          34.26810073852539
         ],
         "locationmode": "USA-states",
         "lon": [
          -94.306801,
          -104.700996,
          -84.21939849853516,
          -118.1520004,
          -77.67240142822266,
          -81.20210266,
          -97.433098,
          -73.80169677734375,
          -89.3375015258789,
          -73.70760345458984,
          -116.50700378417967,
          -82.2189025879,
          -79.93730163574219,
          -119.71800231933594,
          -117.53399658203124,
          -76.1063003540039,
          -71.435699,
          -87.18659973144501,
          -102.2020034790039,
          -91.149597,
          -90.0758972168,
          -119.8399963,
          -70.30930328,
          -81.44219970703125,
          -84.60590362548828,
          -91.71080017089844,
          -86.775100708008,
          -81.11949920654297,
          -93.38860321,
          -101.822998,
          -96.741897583,
          -156.045603,
          -159.33900451660156,
          -73.10019684,
          -86.525398,
          -97.5011978149414,
          -73.15329742429998,
          -101.706001,
          -93.8256,
          -106.8690033,
          -88.242797851562,
          -85.19509888,
          -85.20379638671875,
          -96.81580352783205,
          -86.31729888916016,
          -90.50749969482422,
          -82.54180145263672,
          -88.12960052490234,
          -78.9282989502,
          -76.7633972168,
          -85.79541400000001,
          -91.98760223,
          -123.21199798583984,
          -89.6932983398,
          -120.641998291,
          -89.07009887695312,
          -121.84300231933594,
          -84.35030364990234,
          -82.55439758300781,
          -98.23860168,
          -97.65440368652344,
          -103.05699920654295,
          -122.8730010986328,
          -83.74359893798828,
          -81.59320068359375,
          -111.1529999,
          -88.51909637450001,
          -110.73799896240234,
          -86.39399719,
          -87.53240203860001,
          -77.90260314941406,
          -85.58219909667969,
          -81.9645004272461,
          -97.8289031982,
          -124.109,
          -75.44080352783203,
          -92.54979705810548,
          -88.91590118,
          -108.527000427,
          -78.4529037475586,
          -100.74600219726562,
          -119.0569992,
          -121.1500015,
          -82.27179718020001,
          -96.75920104980467,
          -134.57600402832028,
          -81.23750305175781,
          -92.0376968383789,
          -119.11900329589844,
          -78.88030242919922,
          -79.975403,
          -147.85600280000003,
          -108.54299926757812,
          -84.58740234375,
          -155.04800415039062,
          -76.49299622,
          -88.27809906,
          -107.753997803,
          -114.0910034,
          -74.8134994506836,
          -82.40740100000001,
          -75.72339630130001,
          -99.46160125732422,
          -97.4259033203125,
          -92.5,
          -92.1936035156,
          -84.07959747314453,
          -81.75959777832031,
          -99.6819000244,
          -106.9179993,
          -74.57720184326172,
          -89.6668014526,
          -85.5521011352539,
          -89.67790222,
          -81.058098,
          -101.27999877929688,
          -77.61209869380002,
          -94.36740112304688,
          -112.070999,
          -74.10479736328125,
          -114.25599670410156,
          -131.7140045,
          -96.6707992553711,
          -122.2929993,
          -82.68740082,
          -113.510306,
          -114.6060028,
          -96.36380005,
          -107.893997192,
          -106.088996887,
          -68.82810211181639,
          -111.6549988,
          -84.93890380859375,
          -80.64530181884766,
          -91.256699,
          -93.22329711914062,
          -95.40239715576172,
          -85.44960021972656,
          -81.99050140000001,
          -111.3710022,
          -92.21959686279295,
          -97.23049926757812,
          -106.463997,
          -76.8916015625,
          -77.04290008539998,
          -100.49600219726562,
          -97.176102,
          -103.641998291,
          -107.2180023,
          -117.2799988,
          -111.6709976,
          -98.4166030884,
          -105.539001465,
          -111.98300170898438,
          -135.36199951171878,
          -77.84870147710002,
          -124.24600219726562,
          -109.065001,
          -84.19450378417969,
          -87.39540100100001,
          -83.27670288085938,
          -104.53099822998048,
          -93.99099731445312,
          -81.46649932861328,
          -120.9540024,
          -88.59140014649999,
          -114.2959976,
          -121.8580017,
          -124.2369995,
          -98.491898,
          -88.48909759521484,
          -83.80780029,
          -88.7738037109375,
          -88.75189971923828,
          -91.48429870605467,
          -80.1738667488,
          -86.23819733,
          -96.38439941,
          -94.02069854736328,
          -109.024002075,
          -132.36999509999998,
          -114.487999,
          -122.53800201416016,
          -132.9450073,
          -90.70950317,
          -156.766008,
          -165.44500732421875,
          -79.40480042,
          -71.87570190429688,
          -94.49829864501952,
          -120.4570007,
          -106.9329987,
          -103.2170029,
          -98.30960083007812,
          -92.40029907226562,
          -70.06020355,
          -161.8379974,
          -75.97979736,
          -112.59600067138672,
          -145.4779968,
          -122.8130035,
          -139.660003662,
          -84.79669952,
          -162.598999,
          -94.71150207519533,
          -93.200544,
          -76.4583969116211,
          -148.46499630000002,
          -89.33709716796875,
          -113.0989990234375,
          -100.723999023,
          -115.79199981689452,
          -99.27320099,
          -105.6750030517578,
          -98.67819977,
          -121.733002,
          -89.46749877929688,
          -84.47239685058594,
          -73.46810150146484,
          -152.4940033,
          -87.0936965942,
          -98.42179870605467,
          -94.93370056,
          -79.20040130615234,
          -102.802001953,
          -83.56030273,
          -94.13809967,
          -88.11450195309999,
          -98.90879822,
          -92.83899689,
          -80.6975021362,
          -93.4030990600586,
          -80.3994979858,
          -80.709099,
          -104.49700164794922,
          -112.49700164794922,
          -117.01499938964844,
          -78.94619750976562,
          -80.2281036377,
          -82.927803,
          -89.835197,
          -70.6143035889,
          -118.83799740000002,
          -121.2379989624,
          -91.19460297,
          -76.02169799804688,
          -82.55799866,
          -75.60649872,
          -72.88680267,
          -97.6521987915039,
          -115.57900238,
          -89.57080078125,
          -117.8300018,
          -78.8964004517,
          -122.2819977,
          -77.38529968,
          -94.05989837646484,
          -89.09719848632812,
          -109.7549973,
          -97.08570098877,
          -85.6828,
          -111.1179962,
          -100.9599991,
          -100.927001953,
          -100.6839981,
          -103.5960007,
          -111.72299957275,
          -104.8119965,
          -109.5100021,
          -112.4199982,
          -95.6635971069,
          -81.339798,
          -176.64599609375,
          -75.46549987790002,
          -70.8233032227,
          -100.2860031,
          -135.7070007,
          -158.50500490000002,
          -97.15470123,
          -70.28040314,
          -79.7238998413086,
          -156.6490021,
          -77.72949982,
          -87.16680145,
          -112.0120010376,
          -119.20700073241998,
          -88.06809997559998,
          -107.9079971,
          -90.346702575684,
          -119.3199997,
          -80.67910004,
          -114.03099823,
          -105.011,
          -83.64920043945312,
          -95.1587982178,
          -88.7698974609375
         ],
         "marker": {
          "color": "#8DEEEE",
          "line": {
           "color": "rgb(40,40,40)",
           "width": 0.5
          },
          "size": [
           46.546,
           45.35,
           44.118,
           43.734,
           42.322,
           41.384,
           41.194,
           41.186,
           41.18,
           39.766,
           39.386,
           39.378,
           38.766,
           38.592,
           37.980000000000004,
           36.896,
           36.552,
           33.698,
           32.84,
           31.61,
           31.394000000000002,
           30.206,
           29.812,
           29.662,
           28.734,
           28.042,
           27.556,
           27.46,
           27.148,
           26.472,
           26.376,
           26.292,
           25.014,
           24.726,
           24.36,
           23.984,
           23.768,
           23.650000000000002,
           23.51,
           22.924,
           21.830000000000002,
           21.324,
           21.014,
           20.892,
           20.382,
           20.124,
           19.794,
           19.636,
           19.6,
           18.748,
           18.518,
           18.388,
           17.32,
           16.724,
           16.62,
           16.506,
           16.47,
           16.39,
           16.124,
           15.792,
           15.416,
           15.112,
           15.07,
           14.842,
           14.664,
           14.208,
           14.194,
           13.976,
           13.84,
           13.768,
           13.524000000000001,
           13.166,
           12.614,
           12.404,
           12.172,
           12.104000000000001,
           12.084,
           12.022,
           11.85,
           11.584,
           11.458,
           11.332,
           11.328,
           11.31,
           11.194,
           10.978,
           10.786,
           10.614,
           10.588000000000001,
           10.38,
           10.184000000000001,
           10.040000000000001,
           9.996,
           9.984,
           9.822000000000001,
           9.644,
           9.306000000000001,
           9.290000000000001,
           9.028,
           8.944,
           8.91,
           8.858,
           8.768,
           8.636000000000001,
           8.35,
           8.342,
           8.268,
           7.978,
           7.882000000000001,
           7.8500000000000005,
           7.8180000000000005,
           7.7540000000000004,
           7.18,
           7.158,
           7.112,
           7.008,
           6.946,
           6.766,
           6.766,
           6.68,
           6.606,
           6.37,
           6.306,
           6.272,
           6.228,
           6.206,
           5.986,
           5.986,
           5.934,
           5.8740000000000006,
           5.8020000000000005,
           5.634,
           5.484,
           5.468,
           5.432,
           5.402,
           5.348,
           5.168,
           4.994,
           4.8500000000000005,
           4.798,
           4.694,
           4.604,
           4.44,
           4.404,
           4.368,
           4.322,
           4.08,
           4.05,
           4.032,
           4.0120000000000005,
           3.982,
           3.8160000000000003,
           3.794,
           3.7600000000000002,
           3.75,
           3.746,
           3.694,
           3.62,
           3.616,
           3.56,
           3.5580000000000003,
           3.5340000000000003,
           3.512,
           3.468,
           3.444,
           3.352,
           3.332,
           3.286,
           3.232,
           3.152,
           3.126,
           3.116,
           3.078,
           2.99,
           2.9,
           2.802,
           2.684,
           2.634,
           2.578,
           2.4,
           2.398,
           2.396,
           2.37,
           2.336,
           2.322,
           2.2920000000000003,
           2.2840000000000003,
           2.2720000000000002,
           2.2680000000000002,
           2.266,
           2.178,
           2.158,
           2.114,
           2.108,
           2.09,
           2.054,
           2.008,
           2,
           1.98,
           1.958,
           1.924,
           1.9100000000000001,
           1.9080000000000001,
           1.856,
           1.852,
           1.804,
           1.804,
           1.7,
           1.694,
           1.6460000000000001,
           1.558,
           1.516,
           1.514,
           1.504,
           1.494,
           1.444,
           1.334,
           1.288,
           1.226,
           1.22,
           1.194,
           1.178,
           1.176,
           1.166,
           1.162,
           1.1320000000000001,
           1.102,
           1.09,
           1.082,
           1.068,
           1.058,
           1.03,
           0.978,
           0.924,
           0.914,
           0.872,
           0.858,
           0.84,
           0.838,
           0.834,
           0.812,
           0.796,
           0.778,
           0.766,
           0.76,
           0.76,
           0.752,
           0.73,
           0.716,
           0.6960000000000001,
           0.676,
           0.666,
           0.618,
           0.53,
           0.528,
           0.504,
           0.492,
           0.47400000000000003,
           0.462,
           0.456,
           0.418,
           0.41600000000000004,
           0.406,
           0.402,
           0.396,
           0.388,
           0.384,
           0.366,
           0.358,
           0.328,
           0.28800000000000003,
           0.268,
           0.234,
           0.232,
           0.232,
           0.21,
           0.192,
           0.182,
           0.18,
           0.17200000000000001,
           0.13,
           0.13,
           0.112,
           0.092,
           0.088,
           0.07,
           0.042,
           0.036000000000000004,
           0.014,
           0.004,
           0,
           0,
           0,
           0,
           0
          ],
          "sizemode": "area"
         },
         "name": "0-50000",
         "text": [
          "Northwest Arkansas Regional Airport",
          "City of Colorado Springs Municipal Airport",
          "James M Cox Dayton International Airport",
          "Long Beach /Daugherty Field/ Airport",
          "Greater Rochester International Airport",
          "Savannah Hilton Head International Airport",
          "Wichita Eisenhower National Airport",
          "Albany International Airport",
          "Dane County Regional Truax Field",
          "Westchester County Airport",
          "Palm Springs International Airport",
          "Greenville Spartanburg International Airport",
          "Piedmont Triad International Airport",
          "Fresno Yosemite International Airport",
          "Spokane International Airport",
          "Syracuse Hancock International Airport",
          "Manchester-Boston Regional Airport",
          "Pensacola Regional Airport",
          "Midland International Airport",
          "Baton Rouge Metropolitan Airport",
          "Jackson-Medgar Wiley Evers International Airport",
          "Santa Barbara Municipal Airport",
          "Portland International Jetport Airport",
          "Akron Canton Regional Airport",
          "Blue Grass Airport",
          "The Eastern Iowa Airport",
          "Huntsville International Carl T Jones Field",
          "Columbia Metropolitan Airport",
          "Springfield Branson National Airport",
          "Lubbock Preston Smith International Airport",
          "Joe Foss Field Airport",
          "Ellison Onizuka Kona International At Keahole Airport",
          "Lihue Airport",
          "Long Island Mac Arthur Airport",
          "Destin-Ft Walton Beach Airport",
          "Corpus Christi International Airport",
          "Burlington International Airport",
          "Rick Husband Amarillo International Airport",
          "Shreveport Regional Airport",
          "Aspen-Pitkin Co/Sardy Field",
          "Mobile Regional Airport",
          "Fort Wayne International Airport",
          "Lovell Field",
          "Hector International Airport",
          "South Bend Regional Airport",
          "Quad City International Airport",
          "Asheville Regional Airport",
          "Austin Straubel International Airport",
          "Myrtle Beach International Airport",
          "Harrisburg International Airport",
          "Northwest Florida Beaches International Airport",
          "Lafayette Regional Airport",
          "Mahlon Sweet Field",
          "General Wayne A. Downing Peoria International Airport",
          "San Luis County Regional Airport",
          "Gulfport Biloxi International Airport",
          "Monterey Peninsula Airport",
          "Tallahassee Regional Airport",
          "Sarasota Bradenton International Airport",
          "Mc Allen Miller International Airport",
          "Valley International Airport",
          "Rapid City Regional Airport",
          "Rogue Valley International Medford Airport",
          "Bishop International Airport",
          "Yeager Airport",
          "Gallatin Field",
          "Appleton International Airport",
          "Jackson Hole Airport",
          "Montgomery Regional (Dannelly Field) Airport",
          "Evansville Regional Airport",
          "Wilmington International Airport",
          "Cherry Capital Airport",
          "Augusta Regional At Bush Field",
          "Robert Gray  Army Air Field Airport",
          "California Redwood Coast-Humboldt County Airport",
          "Lehigh Valley International Airport",
          "Alexandria International Airport",
          "Central Illinois Regional Airport at Bloomington-Normal",
          "Grand Junction Regional Airport",
          "Charlottesville Albemarle Airport",
          "Bismarck Municipal Airport",
          "Meadows Field",
          "Roberts Field",
          "Gainesville Regional Airport",
          "Lincoln Airport",
          "Juneau International Airport",
          "Orlando Sanford International Airport",
          "Monroe Regional Airport",
          "Tri Cities Airport",
          "Fayetteville Regional Grannis Field",
          "Roanoke–Blacksburg Regional Airport",
          "Fairbanks International Airport",
          "Billings Logan International Airport",
          "Capital City Airport",
          "Hilo International Airport",
          "Newport News Williamsburg International Airport",
          "University of Illinois Willard Airport",
          "Durango La Plata County Airport",
          "Missoula International Airport",
          "Trenton Mercer Airport",
          "Tri-Cities Regional TN/VA Airport",
          "Wilkes Barre Scranton International Airport",
          "Laredo International Airport",
          "Brownsville South Padre Island International Airport",
          "Rochester International Airport",
          "Duluth International Airport",
          "MBS International Airport",
          "Key West International Airport",
          "Abilene Regional Airport",
          "Eagle County Regional Airport",
          "Atlantic City International Airport",
          "Central Wisconsin Airport",
          "Kalamazoo Battle Creek International Airport",
          "Abraham Lincoln Capital Airport",
          "Daytona Beach International Airport",
          "Minot International Airport",
          "Albert J Ellis Airport",
          "Fort Smith Regional Airport",
          "Idaho Falls Regional Airport",
          "Stewart International Airport",
          "Glacier Park International Airport",
          "Ketchikan International Airport",
          "Manhattan Regional Airport",
          "Redding Municipal Airport",
          "St Petersburg Clearwater International Airport",
          "St George Municipal Airport",
          "Yuma MCAS/Yuma International Airport",
          "Easterwood Field",
          "Montrose Regional Airport",
          "Santa Fe Municipal Airport",
          "Bangor International Airport",
          "Phoenix-Mesa-Gateway Airport",
          "Columbus Metropolitan Airport",
          "Melbourne International Airport",
          "La Crosse Municipal Airport",
          "Lake Charles Regional Airport",
          "Tyler Pounds Regional Airport",
          "Dothan Regional Airport",
          "Charlotte County Airport",
          "Great Falls International Airport",
          "Columbia Regional Airport",
          "Waco Regional Airport",
          "Casper-Natrona County International Airport",
          "Elmira Corning Regional Airport",
          "Coastal Carolina Regional Airport",
          "San Angelo Regional Mathis Field",
          "Grand Forks International Airport",
          "Sloulin Field International Airport",
          "Yampa Valley Airport",
          "Mc Clellan-Palomar Airport",
          "Flagstaff Pulliam Airport",
          "Lawton Fort Sill Regional Airport",
          "Gillette Campbell County Airport",
          "Helena Regional Airport",
          "Sitka Rocky Gutierrez Airport",
          "University Park Airport",
          "Southwest Oregon Regional Airport",
          "Southwest Wyoming Regional Airport",
          "Southwest Georgia Regional Airport",
          "Sawyer International Airport",
          "Valdosta Regional Airport",
          "Roswell International Air Center Airport",
          "Texarkana Regional Webb Field",
          "Brunswick Golden Isles Airport",
          "Modesto City Co-Harry Sham Field",
          "Golden Triangle Regional Airport",
          "Friedman Memorial Airport",
          "Chico Municipal Airport",
          "Jack Mc Namara Field Airport",
          "Sheppard Air Force Base-Wichita Falls Municipal Airport",
          "Houghton County Memorial Airport",
          "Toledo Express Airport",
          "Barkley Regional Airport",
          "Key Field",
          "Chippewa Valley Regional Airport",
          "Erie International Tom Ridge Field",
          "Muskegon County Airport",
          "Sioux Gateway Col. Bud Day Field",
          "Southeast Texas Regional Airport",
          "Yellowstone Regional Airport",
          "Wrangell Airport",
          "Joslin Field Magic Valley Regional Airport",
          "Bellingham International Airport",
          "Petersburg James A Johnson Airport",
          "Dubuque Regional Airport",
          "Wiley Post Will Rogers Memorial Airport",
          "Nome Airport",
          "Arnold Palmer Regional Airport",
          "Worcester Regional Airport",
          "Joplin Regional Airport",
          "Santa Maria Pub/Capt G Allan Hancock Field",
          "Gunnison Crested Butte Regional Airport",
          "Lea County Regional Airport",
          "Central Nebraska Regional Airport",
          "Waterloo Regional Airport",
          "Nantucket Memorial Airport",
          "Bethel Airport",
          "Greater Binghamton/Edwin A Link field",
          "Pocatello Regional Airport",
          "Merle K (Mudhole) Smith Airport",
          "Charles M. Schulz Sonoma County Airport",
          "Yakutat Airport",
          "Pellston Regional Airport of Emmet County Airport",
          "Ralph Wien Memorial Airport",
          "East Texas Regional Airport",
          "Branson Airport",
          "Ithaca Tompkins Regional Airport",
          "Deadhorse Airport",
          "Hattiesburg Laurel Regional Airport",
          "Cedar City Regional Airport",
          "Garden City Regional Airport",
          "Elko Regional Airport",
          "Hays Regional Airport",
          "Laramie Regional Airport",
          "Jamestown Regional Airport",
          "Crater Lake-Klamath Regional Airport",
          "Rhinelander Oneida County Airport",
          "Chippewa County International Airport",
          "Plattsburgh International Airport",
          "Kodiak Airport",
          "Delta County Airport",
          "Aberdeen Regional Airport",
          "Bemidji Regional Airport",
          "Lynchburg Regional Preston Glenn Field",
          "Dickinson Theodore Roosevelt Regional Airport",
          "Alpena County Regional Airport",
          "Brainerd Lakes Regional Airport",
          "Ford Airport",
          "Devils Lake Regional Airport",
          "Range Regional Airport",
          "Hilton Head Airport",
          "Falls International Airport",
          "Greenbrier Valley Airport",
          "Concord-Padgett Regional Airport",
          "Pueblo Memorial Airport",
          "Bert Mooney Airport",
          "Lewiston Nez Perce County Airport",
          "Niagara Falls International Airport",
          "North Central West Virginia Airport",
          "Rickenbacker International Airport",
          "Scott AFB/Midamerica Airport",
          "Martha's Vineyard Airport",
          "Mammoth Yosemite Airport",
          "Stockton Metropolitan Airport",
          "Quincy Regional Baldwin Field",
          "Watertown International Airport",
          "Tri-State/Milton J. Ferguson Field",
          "New Castle Airport",
          "Tweed New Haven Airport",
          "Salina Municipal Airport",
          "Imperial County Airport",
          "Cape Girardeau Regional Airport",
          "Inyokern Airport",
          "Shenandoah Valley Regional Airport",
          "Snohomish County (Paine Field) Airport",
          "Pitt Greenville Airport",
          "St Cloud Regional Airport",
          "Chicago Rockford International Airport",
          "Canyonlands Field",
          "Stillwater Regional Airport",
          "Panama City-Bay Co International Airport",
          "Yellowstone Airport",
          "Liberal Mid-America Regional Airport",
          "Del Rio International Airport",
          "North Platte Regional Airport Lee Bird Field",
          "Western Neb. Rgnl/William B. Heilig Airport",
          "Provo Municipal Airport",
          "Cheyenne Regional Jerry Olson Field",
          "Vernal Regional Airport",
          "Ernest A. Love Field",
          "Topeka Regional Airport - Forbes Field",
          "Northeast Florida Regional Airport",
          "Adak Airport",
          "Ogdensburg International Airport",
          "Portsmouth International at Pease Airport",
          "Pierre Regional Airport",
          "Gustavus Airport",
          "Dillingham Airport",
          "Watertown Regional Airport",
          "Barnstable Municipal Boardman Polando Field",
          "Florence Regional Airport",
          "King Salmon Airport",
          "Hagerstown Regional Richard A Henson Field",
          "Owensboro Daviess County Airport",
          "Ogden Hinckley Airport",
          "Oxnard Airport",
          "Mobile Downtown Airport",
          "Telluride Regional Airport",
          "Tunica Municipal Airport",
          "Grant County International Airport",
          "Youngstown Warren Regional Airport",
          "Wendover Airport",
          "Northern Colorado Regional Airport",
          "Middle Georgia Regional Airport",
          "Ellington Airport",
          "Tupelo Regional Airport"
         ],
         "type": "scattergeo"
        }
       ],
       "layout": {
        "geo": {
         "landcolor": "rgb(217, 217, 217)",
         "projection": {
          "type": "albers usa"
         },
         "scope": "usa"
        },
        "legend": {
         "title": {
          "text": "Number of Delays, 2010-19"
         }
        },
        "showlegend": true,
        "template": {
         "data": {
          "bar": [
           {
            "error_x": {
             "color": "#2a3f5f"
            },
            "error_y": {
             "color": "#2a3f5f"
            },
            "marker": {
             "line": {
              "color": "#E5ECF6",
              "width": 0.5
             },
             "pattern": {
              "fillmode": "overlay",
              "size": 10,
              "solidity": 0.2
             }
            },
            "type": "bar"
           }
          ],
          "barpolar": [
           {
            "marker": {
             "line": {
              "color": "#E5ECF6",
              "width": 0.5
             },
             "pattern": {
              "fillmode": "overlay",
              "size": 10,
              "solidity": 0.2
             }
            },
            "type": "barpolar"
           }
          ],
          "carpet": [
           {
            "aaxis": {
             "endlinecolor": "#2a3f5f",
             "gridcolor": "white",
             "linecolor": "white",
             "minorgridcolor": "white",
             "startlinecolor": "#2a3f5f"
            },
            "baxis": {
             "endlinecolor": "#2a3f5f",
             "gridcolor": "white",
             "linecolor": "white",
             "minorgridcolor": "white",
             "startlinecolor": "#2a3f5f"
            },
            "type": "carpet"
           }
          ],
          "choropleth": [
           {
            "colorbar": {
             "outlinewidth": 0,
             "ticks": ""
            },
            "type": "choropleth"
           }
          ],
          "contour": [
           {
            "colorbar": {
             "outlinewidth": 0,
             "ticks": ""
            },
            "colorscale": [
             [
              0,
              "#0d0887"
             ],
             [
              0.1111111111111111,
              "#46039f"
             ],
             [
              0.2222222222222222,
              "#7201a8"
             ],
             [
              0.3333333333333333,
              "#9c179e"
             ],
             [
              0.4444444444444444,
              "#bd3786"
             ],
             [
              0.5555555555555556,
              "#d8576b"
             ],
             [
              0.6666666666666666,
              "#ed7953"
             ],
             [
              0.7777777777777778,
              "#fb9f3a"
             ],
             [
              0.8888888888888888,
              "#fdca26"
             ],
             [
              1,
              "#f0f921"
             ]
            ],
            "type": "contour"
           }
          ],
          "contourcarpet": [
           {
            "colorbar": {
             "outlinewidth": 0,
             "ticks": ""
            },
            "type": "contourcarpet"
           }
          ],
          "heatmap": [
           {
            "colorbar": {
             "outlinewidth": 0,
             "ticks": ""
            },
            "colorscale": [
             [
              0,
              "#0d0887"
             ],
             [
              0.1111111111111111,
              "#46039f"
             ],
             [
              0.2222222222222222,
              "#7201a8"
             ],
             [
              0.3333333333333333,
              "#9c179e"
             ],
             [
              0.4444444444444444,
              "#bd3786"
             ],
             [
              0.5555555555555556,
              "#d8576b"
             ],
             [
              0.6666666666666666,
              "#ed7953"
             ],
             [
              0.7777777777777778,
              "#fb9f3a"
             ],
             [
              0.8888888888888888,
              "#fdca26"
             ],
             [
              1,
              "#f0f921"
             ]
            ],
            "type": "heatmap"
           }
          ],
          "heatmapgl": [
           {
            "colorbar": {
             "outlinewidth": 0,
             "ticks": ""
            },
            "colorscale": [
             [
              0,
              "#0d0887"
             ],
             [
              0.1111111111111111,
              "#46039f"
             ],
             [
              0.2222222222222222,
              "#7201a8"
             ],
             [
              0.3333333333333333,
              "#9c179e"
             ],
             [
              0.4444444444444444,
              "#bd3786"
             ],
             [
              0.5555555555555556,
              "#d8576b"
             ],
             [
              0.6666666666666666,
              "#ed7953"
             ],
             [
              0.7777777777777778,
              "#fb9f3a"
             ],
             [
              0.8888888888888888,
              "#fdca26"
             ],
             [
              1,
              "#f0f921"
             ]
            ],
            "type": "heatmapgl"
           }
          ],
          "histogram": [
           {
            "marker": {
             "pattern": {
              "fillmode": "overlay",
              "size": 10,
              "solidity": 0.2
             }
            },
            "type": "histogram"
           }
          ],
          "histogram2d": [
           {
            "colorbar": {
             "outlinewidth": 0,
             "ticks": ""
            },
            "colorscale": [
             [
              0,
              "#0d0887"
             ],
             [
              0.1111111111111111,
              "#46039f"
             ],
             [
              0.2222222222222222,
              "#7201a8"
             ],
             [
              0.3333333333333333,
              "#9c179e"
             ],
             [
              0.4444444444444444,
              "#bd3786"
             ],
             [
              0.5555555555555556,
              "#d8576b"
             ],
             [
              0.6666666666666666,
              "#ed7953"
             ],
             [
              0.7777777777777778,
              "#fb9f3a"
             ],
             [
              0.8888888888888888,
              "#fdca26"
             ],
             [
              1,
              "#f0f921"
             ]
            ],
            "type": "histogram2d"
           }
          ],
          "histogram2dcontour": [
           {
            "colorbar": {
             "outlinewidth": 0,
             "ticks": ""
            },
            "colorscale": [
             [
              0,
              "#0d0887"
             ],
             [
              0.1111111111111111,
              "#46039f"
             ],
             [
              0.2222222222222222,
              "#7201a8"
             ],
             [
              0.3333333333333333,
              "#9c179e"
             ],
             [
              0.4444444444444444,
              "#bd3786"
             ],
             [
              0.5555555555555556,
              "#d8576b"
             ],
             [
              0.6666666666666666,
              "#ed7953"
             ],
             [
              0.7777777777777778,
              "#fb9f3a"
             ],
             [
              0.8888888888888888,
              "#fdca26"
             ],
             [
              1,
              "#f0f921"
             ]
            ],
            "type": "histogram2dcontour"
           }
          ],
          "mesh3d": [
           {
            "colorbar": {
             "outlinewidth": 0,
             "ticks": ""
            },
            "type": "mesh3d"
           }
          ],
          "parcoords": [
           {
            "line": {
             "colorbar": {
              "outlinewidth": 0,
              "ticks": ""
             }
            },
            "type": "parcoords"
           }
          ],
          "pie": [
           {
            "automargin": true,
            "type": "pie"
           }
          ],
          "scatter": [
           {
            "fillpattern": {
             "fillmode": "overlay",
             "size": 10,
             "solidity": 0.2
            },
            "type": "scatter"
           }
          ],
          "scatter3d": [
           {
            "line": {
             "colorbar": {
              "outlinewidth": 0,
              "ticks": ""
             }
            },
            "marker": {
             "colorbar": {
              "outlinewidth": 0,
              "ticks": ""
             }
            },
            "type": "scatter3d"
           }
          ],
          "scattercarpet": [
           {
            "marker": {
             "colorbar": {
              "outlinewidth": 0,
              "ticks": ""
             }
            },
            "type": "scattercarpet"
           }
          ],
          "scattergeo": [
           {
            "marker": {
             "colorbar": {
              "outlinewidth": 0,
              "ticks": ""
             }
            },
            "type": "scattergeo"
           }
          ],
          "scattergl": [
           {
            "marker": {
             "colorbar": {
              "outlinewidth": 0,
              "ticks": ""
             }
            },
            "type": "scattergl"
           }
          ],
          "scattermapbox": [
           {
            "marker": {
             "colorbar": {
              "outlinewidth": 0,
              "ticks": ""
             }
            },
            "type": "scattermapbox"
           }
          ],
          "scatterpolar": [
           {
            "marker": {
             "colorbar": {
              "outlinewidth": 0,
              "ticks": ""
             }
            },
            "type": "scatterpolar"
           }
          ],
          "scatterpolargl": [
           {
            "marker": {
             "colorbar": {
              "outlinewidth": 0,
              "ticks": ""
             }
            },
            "type": "scatterpolargl"
           }
          ],
          "scatterternary": [
           {
            "marker": {
             "colorbar": {
              "outlinewidth": 0,
              "ticks": ""
             }
            },
            "type": "scatterternary"
           }
          ],
          "surface": [
           {
            "colorbar": {
             "outlinewidth": 0,
             "ticks": ""
            },
            "colorscale": [
             [
              0,
              "#0d0887"
             ],
             [
              0.1111111111111111,
              "#46039f"
             ],
             [
              0.2222222222222222,
              "#7201a8"
             ],
             [
              0.3333333333333333,
              "#9c179e"
             ],
             [
              0.4444444444444444,
              "#bd3786"
             ],
             [
              0.5555555555555556,
              "#d8576b"
             ],
             [
              0.6666666666666666,
              "#ed7953"
             ],
             [
              0.7777777777777778,
              "#fb9f3a"
             ],
             [
              0.8888888888888888,
              "#fdca26"
             ],
             [
              1,
              "#f0f921"
             ]
            ],
            "type": "surface"
           }
          ],
          "table": [
           {
            "cells": {
             "fill": {
              "color": "#EBF0F8"
             },
             "line": {
              "color": "white"
             }
            },
            "header": {
             "fill": {
              "color": "#C8D4E3"
             },
             "line": {
              "color": "white"
             }
            },
            "type": "table"
           }
          ]
         },
         "layout": {
          "annotationdefaults": {
           "arrowcolor": "#2a3f5f",
           "arrowhead": 0,
           "arrowwidth": 1
          },
          "autotypenumbers": "strict",
          "coloraxis": {
           "colorbar": {
            "outlinewidth": 0,
            "ticks": ""
           }
          },
          "colorscale": {
           "diverging": [
            [
             0,
             "#8e0152"
            ],
            [
             0.1,
             "#c51b7d"
            ],
            [
             0.2,
             "#de77ae"
            ],
            [
             0.3,
             "#f1b6da"
            ],
            [
             0.4,
             "#fde0ef"
            ],
            [
             0.5,
             "#f7f7f7"
            ],
            [
             0.6,
             "#e6f5d0"
            ],
            [
             0.7,
             "#b8e186"
            ],
            [
             0.8,
             "#7fbc41"
            ],
            [
             0.9,
             "#4d9221"
            ],
            [
             1,
             "#276419"
            ]
           ],
           "sequential": [
            [
             0,
             "#0d0887"
            ],
            [
             0.1111111111111111,
             "#46039f"
            ],
            [
             0.2222222222222222,
             "#7201a8"
            ],
            [
             0.3333333333333333,
             "#9c179e"
            ],
            [
             0.4444444444444444,
             "#bd3786"
            ],
            [
             0.5555555555555556,
             "#d8576b"
            ],
            [
             0.6666666666666666,
             "#ed7953"
            ],
            [
             0.7777777777777778,
             "#fb9f3a"
            ],
            [
             0.8888888888888888,
             "#fdca26"
            ],
            [
             1,
             "#f0f921"
            ]
           ],
           "sequentialminus": [
            [
             0,
             "#0d0887"
            ],
            [
             0.1111111111111111,
             "#46039f"
            ],
            [
             0.2222222222222222,
             "#7201a8"
            ],
            [
             0.3333333333333333,
             "#9c179e"
            ],
            [
             0.4444444444444444,
             "#bd3786"
            ],
            [
             0.5555555555555556,
             "#d8576b"
            ],
            [
             0.6666666666666666,
             "#ed7953"
            ],
            [
             0.7777777777777778,
             "#fb9f3a"
            ],
            [
             0.8888888888888888,
             "#fdca26"
            ],
            [
             1,
             "#f0f921"
            ]
           ]
          },
          "colorway": [
           "#636efa",
           "#EF553B",
           "#00cc96",
           "#ab63fa",
           "#FFA15A",
           "#19d3f3",
           "#FF6692",
           "#B6E880",
           "#FF97FF",
           "#FECB52"
          ],
          "font": {
           "color": "#2a3f5f"
          },
          "geo": {
           "bgcolor": "white",
           "lakecolor": "white",
           "landcolor": "#E5ECF6",
           "showlakes": true,
           "showland": true,
           "subunitcolor": "white"
          },
          "hoverlabel": {
           "align": "left"
          },
          "hovermode": "closest",
          "mapbox": {
           "style": "light"
          },
          "paper_bgcolor": "white",
          "plot_bgcolor": "#E5ECF6",
          "polar": {
           "angularaxis": {
            "gridcolor": "white",
            "linecolor": "white",
            "ticks": ""
           },
           "bgcolor": "#E5ECF6",
           "radialaxis": {
            "gridcolor": "white",
            "linecolor": "white",
            "ticks": ""
           }
          },
          "scene": {
           "xaxis": {
            "backgroundcolor": "#E5ECF6",
            "gridcolor": "white",
            "gridwidth": 2,
            "linecolor": "white",
            "showbackground": true,
            "ticks": "",
            "zerolinecolor": "white"
           },
           "yaxis": {
            "backgroundcolor": "#E5ECF6",
            "gridcolor": "white",
            "gridwidth": 2,
            "linecolor": "white",
            "showbackground": true,
            "ticks": "",
            "zerolinecolor": "white"
           },
           "zaxis": {
            "backgroundcolor": "#E5ECF6",
            "gridcolor": "white",
            "gridwidth": 2,
            "linecolor": "white",
            "showbackground": true,
            "ticks": "",
            "zerolinecolor": "white"
           }
          },
          "shapedefaults": {
           "line": {
            "color": "#2a3f5f"
           }
          },
          "ternary": {
           "aaxis": {
            "gridcolor": "white",
            "linecolor": "white",
            "ticks": ""
           },
           "baxis": {
            "gridcolor": "white",
            "linecolor": "white",
            "ticks": ""
           },
           "bgcolor": "#E5ECF6",
           "caxis": {
            "gridcolor": "white",
            "linecolor": "white",
            "ticks": ""
           }
          },
          "title": {
           "x": 0.05
          },
          "xaxis": {
           "automargin": true,
           "gridcolor": "white",
           "linecolor": "white",
           "ticks": "",
           "title": {
            "standoff": 15
           },
           "zerolinecolor": "white",
           "zerolinewidth": 2
          },
          "yaxis": {
           "automargin": true,
           "gridcolor": "white",
           "linecolor": "white",
           "ticks": "",
           "title": {
            "standoff": 15
           },
           "zerolinecolor": "white",
           "zerolinewidth": 2
          }
         }
        },
        "title": {
         "text": "Airports with Most Delays, 2010-19",
         "x": 0.5
        }
       }
      },
      "text/html": [
       "<div>                            <div id=\"2a4e2c4e-ba85-4eb5-9f6e-122c44c0a899\" class=\"plotly-graph-div\" style=\"height:525px; width:100%;\"></div>            <script type=\"text/javascript\">                require([\"plotly\"], function(Plotly) {                    window.PLOTLYENV=window.PLOTLYENV || {};                                    if (document.getElementById(\"2a4e2c4e-ba85-4eb5-9f6e-122c44c0a899\")) {                    Plotly.newPlot(                        \"2a4e2c4e-ba85-4eb5-9f6e-122c44c0a899\",                        [{\"lat\":[41.9786,33.6367],\"locationmode\":\"USA-states\",\"lon\":[-87.9048,-84.428101],\"marker\":{\"color\":\"#318CE7\",\"line\":{\"color\":\"rgb(40,40,40)\",\"width\":0.5},\"size\":[1244.842,1218.604],\"sizemode\":\"area\"},\"name\":\"600000+\",\"text\":[\"Chicago O'Hare International Airport\",\"Hartsfield Jackson Atlanta International Airport\"],\"type\":\"scattergeo\"},{\"lat\":[32.896801],\"locationmode\":\"USA-states\",\"lon\":[-97.038002],\"marker\":{\"color\":\"#00CED1\",\"line\":{\"color\":\"rgb(40,40,40)\",\"width\":0.5},\"size\":[918.278],\"sizemode\":\"area\"},\"name\":\"450001-600000\",\"text\":[\"Dallas Fort Worth International Airport\"],\"type\":\"scattergeo\"},{\"lat\":[33.94250107,37.61899948120117,39.861698150635],\"locationmode\":\"USA-states\",\"lon\":[-118.4079971,-122.375,-104.672996521],\"marker\":{\"color\":\"#87CEEB\",\"line\":{\"color\":\"rgb(40,40,40)\",\"width\":0.5},\"size\":[862.7860000000001,849.5360000000001,815.068],\"sizemode\":\"area\"},\"name\":\"350001-450000\",\"text\":[\"Los Angeles International Airport\",\"San Francisco International Airport\",\"Denver International Airport\"],\"type\":\"scattergeo\"},{\"lat\":[40.69250106811523,29.98439979553223,40.77719879,33.43429946899414,36.08010101,42.36429977],\"locationmode\":\"USA-states\",\"lon\":[-74.168701171875,-95.34140014648438,-73.87259674,-112.01200103759766,-115.1520004,-71.00520325],\"marker\":{\"color\":\"#C4C3D0\",\"line\":{\"color\":\"rgb(40,40,40)\",\"width\":0.5},\"size\":[636.744,592.534,545.104,539.916,530.754,519.6560000000001],\"sizemode\":\"area\"},\"name\":\"250001-350000\",\"text\":[\"Newark Liberty International Airport\",\"George Bush Intercontinental Houston Airport\",\"La Guardia Airport\",\"Phoenix Sky Harbor International Airport\",\"McCarran International Airport\",\"General Edward Lawrence Logan International Airport\"],\"type\":\"scattergeo\"},{\"lat\":[28.429399490356445,35.2140007019043,40.63980103,42.212398529052734,47.449001,44.882,39.1754,39.87189865112305,26.072599,38.8521,40.78839874267578,41.785999],\"locationmode\":\"USA-states\",\"lon\":[-81.30899810791016,-80.94309997558594,-73.77890015,-83.35340118408203,-122.308998,-93.221802,-76.668297,-75.24109649658203,-80.152702,-77.037697,-111.97799682617188,-87.752403],\"marker\":{\"color\":\"#97FFFF\",\"line\":{\"color\":\"rgb(40,40,40)\",\"width\":0.5},\"size\":[481.72,457.618,455.908,406.482,400.082,398.788,345.128,340.298,325.76800000000003,319.75600000000003,301.572,300.67],\"sizemode\":\"area\"},\"name\":\"150001-250000\",\"text\":[\"Orlando International Airport\",\"Charlotte Douglas International Airport\",\"John F Kennedy International Airport\",\"Detroit Metropolitan Wayne County Airport\",\"Seattle Tacoma International Airport\",\"Minneapolis-St Paul International/Wold-Chamberlain Airport\",\"Baltimore/Washington International Thurgood Marshall Airport\",\"Philadelphia International Airport\",\"Fort Lauderdale Hollywood International Airport\",\"Ronald Reagan Washington National Airport\",\"Salt Lake City International Airport\",\"Chicago Midway International Airport\"],\"type\":\"scattergeo\"},{\"lat\":[32.7336006165,25.79319953918457,27.975500106811523,36.1245002746582,38.94449997,38.748697,29.64539909,32.847099],\"locationmode\":\"USA-states\",\"lon\":[-117.190002441,-80.29060363769531,-82.533203125,-86.6781997680664,-77.45580292,-90.370003,-95.27890015,-96.851799],\"marker\":{\"color\":\"#E7FEFF\",\"line\":{\"color\":\"rgb(40,40,40)\",\"width\":0.5},\"size\":[292.478,286.532,260.612,220.746,217.254,213.004,212.852,211.046],\"sizemode\":\"area\"},\"name\":\"100001-150000\",\"text\":[\"San Diego International Airport\",\"Miami International Airport\",\"Tampa International Airport\",\"Nashville International Airport\",\"Washington Dulles International Airport\",\"St Louis Lambert International Airport\",\"William P Hobby Airport\",\"Dallas Love Field\"],\"type\":\"scattergeo\"},{\"lat\":[30.194499969482425,45.58869934,39.2976,35.87760162353516,37.721298,41.4117012024,29.99340057373047,38.69540023803711,37.362598,29.533700942993164,42.94720077514648,21.32062,39.7173,40.49150085,33.67570114,39.998001,39.0488014221,26.53619956970215,26.68320083618164,35.04240036010742],\"locationmode\":\"USA-states\",\"lon\":[-97.6698989868164,-122.5979996,-94.713898,-78.7874984741211,-122.221001,-81.8498001099,-90.25800323486328,-121.59100341796876,-121.929001,-98.46980285644533,-87.89659881591797,-157.924228,-86.294403,-80.23290253,-117.8679962,-82.891899,-84.6678009033,-81.75520324707031,-80.09559631347656,-89.97669982910156],\"marker\":{\"color\":\"#CCCCFF\",\"line\":{\"color\":\"rgb(40,40,40)\",\"width\":0.5},\"size\":[191.202,185.446,183.394,174.38400000000001,173.142,167.46200000000002,166.046,161.69,153.546,145.326,131.62,131.43,128.252,127.272,124.498,120.70400000000001,113.792,106.52,105.822,101.884],\"sizemode\":\"area\"},\"name\":\"100001-150000\",\"text\":[\"Austin Bergstrom International Airport\",\"Portland International Airport\",\"Kansas City International Airport\",\"Raleigh Durham International Airport\",\"Metropolitan Oakland International Airport\",\"Cleveland Hopkins International Airport\",\"Louis Armstrong New Orleans International Airport\",\"Sacramento International Airport\",\"Norman Y. Mineta San Jose International Airport\",\"San Antonio International Airport\",\"General Mitchell International Airport\",\"Daniel K Inouye International Airport\",\"Indianapolis International Airport\",\"Pittsburgh International Airport\",\"John Wayne Airport-Orange County Airport\",\"John Glenn Columbus International Airport\",\"Cincinnati Northern Kentucky International Airport\",\"Southwest Florida International Airport\",\"Palm Beach International Airport\",\"Memphis International Airport\"],\"type\":\"scattergeo\"},{\"lat\":[35.040199,30.49410057067871,41.9388999939,35.39310073852539,42.94049835,41.3032,34.200698852539055,34.05599975585937,37.50519943237305,36.19839859008789,32.116100311279304,31.80719948,33.56290054,39.49909973144531,38.1744,36.89459991455078,32.89860153,41.732601,34.729400634799994,61.17440032958984,20.8986,43.5644,42.88079834,35.81100082,41.53400039672852],\"locationmode\":\"USA-states\",\"lon\":[-106.609001,-81.68789672851562,-72.68319702149999,-97.60070037841795,-78.73220062,-95.894096,-118.35900115966795,-117.60099792480467,-77.3197021484375,-95.88809967041016,-110.94100189208984,-106.37799840000002,-86.75350189,-119.76799774169922,-85.736,-76.20120239257812,-80.04049683,-71.42040300000001,-92.2242965698,-149.99600219726562,-156.429993,-116.223,-85.52279663,-83.99400329999999,-93.66310119628906],\"marker\":{\"color\":\"#F8F8FF\",\"line\":{\"color\":\"rgb(40,40,40)\",\"width\":0.5},\"size\":[101.036,96.86,92.56,88.536,86.868,84.944,83.504,80.694,76.316,74.902,73.59,71.44,65.984,64.732,64.446,61.188,60.776,59.76,57.128,53.660000000000004,53.39,51.14,50.618,50.120000000000005,49.61],\"sizemode\":\"area\"},\"name\":\"50001-100000\",\"text\":[\"Albuquerque International Sunport\",\"Jacksonville International Airport\",\"Bradley International Airport\",\"Will Rogers World Airport\",\"Buffalo Niagara International Airport\",\"Eppley Airfield\",\"Bob Hope Airport\",\"Ontario International Airport\",\"Richmond International Airport\",\"Tulsa International Airport\",\"Tucson International Airport\",\"El Paso International Airport\",\"Birmingham-Shuttlesworth International Airport\",\"Reno Tahoe International Airport\",\"Louisville International Standiford Field\",\"Norfolk International Airport\",\"Charleston Air Force Base-International Airport\",\"Theodore Francis Green State Airport\",\"Bill & Hillary Clinton National Airport/Adams Field\",\"Ted Stevens Anchorage International Airport\",\"Kahului Airport\",\"Boise Air Terminal/Gowen Field\",\"Gerald R. Ford International Airport\",\"McGhee Tyson Airport\",\"Des Moines International Airport\"],\"type\":\"scattergeo\"},{\"lat\":[36.281898,38.805801,39.90240097045898,33.81769943,43.118900299072266,32.12760162,37.649899,42.74829864501953,43.13990020751953,41.06700134277344,33.829700469970696,34.895698547399995,36.097801208496094,36.77619934082031,47.61989974975586,43.11119842529297,42.932598,30.473400115967003,31.9424991607666,30.533199,32.3111991882,34.42620087,43.64619827,40.91609954833984,38.0364990234375,41.88470077514648,34.637199401855,33.93880081176758,37.24570084,33.663601,43.5820007324,19.738783,21.97599983215332,40.79520035,30.4832,27.77039909362793,44.4719009399,35.219398,32.446602,39.22320175,30.691200256348,40.97850037,35.03530120849609,46.92070007324219,41.70869827270508,41.44850158691406,35.43619918823242,44.48509979248047,33.6796989441,40.1935005188,30.357106,30.20529938,44.12459945678711,40.664199829100006,35.2368011475,30.40730094909668,36.58700180053711,30.396499633789062,27.39539909362793,26.17580032,26.22850036621093,44.0452995300293,42.37419891357422,42.96540069580078,38.37310028076172,45.77750015,44.2580986023,43.6072998046875,32.30059814,38.0369987488,34.27059936523437,44.74140167236328,33.36989974975586,31.067199707,40.978101,40.652099609375,31.32740020751953,40.47710037,39.1223983765,38.13859939575195,46.77270126342773,35.43360138,44.2541008,29.6900997162,40.85100173950195,58.35499954223633,28.7775993347168,32.51089859008789,46.26470184326172,34.9911994934082,37.3255,64.81510162,45.80770111083984,42.77870178222656,19.721399307250977,37.13190079,40.03919983,37.1515007019,46.91630173,40.27669906616211,36.475201,41.3385009766,27.543800354003903,25.90679931640625,43.90829849243164,46.8420982361,43.532901763916016,24.556100845336918,32.4113006592,39.64260101,39.45759963989258,44.7775993347,42.234901428222656,39.84410095,29.179899,48.2593994140625,34.8292007446,35.33660125732422,43.514599,41.50410079956055,48.31050109863281,55.35559845,39.14099884033203,40.50899887,27.91020012,37.036389,32.65660095,30.58860016,38.5097999573,35.617099761999995,44.80739974975586,33.30780029,32.516300201416016,28.10280036926269,43.879002,30.12610054016113,32.35409927368164,31.3213005065918,26.92020035,47.48199844,38.81809997558594,31.61129951477051,42.908001,42.1599006652832,35.0730018616,31.35770034790039,47.949299,48.177898407,40.48120117,33.12829971,35.13850021,34.5676994324,44.3488998413,46.6068000793457,57.04710006713867,40.8493003845,43.41709899902344,41.5942,31.535499572753903,46.3535995483,30.78249931335449,33.30160140991211,33.45370101928711,31.2588005065918,37.62580109,33.450298309299995,43.50439835,39.79539871,41.78020096,33.9888,47.16839981079102,41.58679962,37.06079864501953,32.33259963989258,44.86579895019531,42.0831270134,43.16949844,42.40259933,29.9507999420166,44.520198822,56.48429871,42.4818,48.79280090332031,56.80170059,42.40200043,71.285402,64.51219940185547,40.27590179,42.26729965209961,37.151798248291016,34.89889908,38.53390121,32.6875,40.96749877929688,42.55709838867188,41.25310135,60.77980042,42.20869827,42.9098014831543,60.49179839999999,38.50899887,59.503299713100006,45.57089996,66.88469696,32.38399887084961,36.532082,42.49100112915039,70.19470215,31.467100143432614,37.70100021362305,37.9275016785,40.82490158081055,38.84220123,41.31209945678711,46.92969894,42.156101,45.63119888305664,46.25080108642578,44.6509017944336,57.75,45.7226982117,45.44910049438477,47.50939941,37.326698303222656,46.7974014282,45.07809829999999,46.39830017,45.8184013367,48.11420059,47.38660049,32.2243995667,48.566200256347656,37.8582992554,35.387798,38.289100646972656,45.95479965209961,46.3745002746582,43.1072998046875,39.2966003418,39.813801,38.5452,41.3931007385,37.62409973,37.894199371338,39.94269943,43.99190139770508,38.36669922,39.67869949,41.26369858,38.79100036621094,32.834201812699995,37.22529983520508,35.65879822,38.2638015747,47.90629959,35.6352005,45.54660034179688,42.19540023803711,38.75500107,36.161201477051,30.212099,44.68840027,37.04420089999999,29.3742008209,41.12620163,41.87400055,40.219200134277,41.15570068,40.4408989,34.65449905,38.9509010315,29.9592,51.87799835205078,44.6819000244,43.0778999329,44.38270187,58.42530060000001,59.04470062,44.91400146,41.66930008,34.18539810180664,58.67679977,39.707901,37.74010086,41.195899963379,34.200801849365,30.626800537100006,37.9538002,34.680999755859,47.20769882,41.26070023,40.7187004089,40.451804,32.692798614501946,29.6072998047,34.26810073852539],\"locationmode\":\"USA-states\",\"lon\":[-94.306801,-104.700996,-84.21939849853516,-118.1520004,-77.67240142822266,-81.20210266,-97.433098,-73.80169677734375,-89.3375015258789,-73.70760345458984,-116.50700378417967,-82.2189025879,-79.93730163574219,-119.71800231933594,-117.53399658203124,-76.1063003540039,-71.435699,-87.18659973144501,-102.2020034790039,-91.149597,-90.0758972168,-119.8399963,-70.30930328,-81.44219970703125,-84.60590362548828,-91.71080017089844,-86.775100708008,-81.11949920654297,-93.38860321,-101.822998,-96.741897583,-156.045603,-159.33900451660156,-73.10019684,-86.525398,-97.5011978149414,-73.15329742429998,-101.706001,-93.8256,-106.8690033,-88.242797851562,-85.19509888,-85.20379638671875,-96.81580352783205,-86.31729888916016,-90.50749969482422,-82.54180145263672,-88.12960052490234,-78.9282989502,-76.7633972168,-85.79541400000001,-91.98760223,-123.21199798583984,-89.6932983398,-120.641998291,-89.07009887695312,-121.84300231933594,-84.35030364990234,-82.55439758300781,-98.23860168,-97.65440368652344,-103.05699920654295,-122.8730010986328,-83.74359893798828,-81.59320068359375,-111.1529999,-88.51909637450001,-110.73799896240234,-86.39399719,-87.53240203860001,-77.90260314941406,-85.58219909667969,-81.9645004272461,-97.8289031982,-124.109,-75.44080352783203,-92.54979705810548,-88.91590118,-108.527000427,-78.4529037475586,-100.74600219726562,-119.0569992,-121.1500015,-82.27179718020001,-96.75920104980467,-134.57600402832028,-81.23750305175781,-92.0376968383789,-119.11900329589844,-78.88030242919922,-79.975403,-147.85600280000003,-108.54299926757812,-84.58740234375,-155.04800415039062,-76.49299622,-88.27809906,-107.753997803,-114.0910034,-74.8134994506836,-82.40740100000001,-75.72339630130001,-99.46160125732422,-97.4259033203125,-92.5,-92.1936035156,-84.07959747314453,-81.75959777832031,-99.6819000244,-106.9179993,-74.57720184326172,-89.6668014526,-85.5521011352539,-89.67790222,-81.058098,-101.27999877929688,-77.61209869380002,-94.36740112304688,-112.070999,-74.10479736328125,-114.25599670410156,-131.7140045,-96.6707992553711,-122.2929993,-82.68740082,-113.510306,-114.6060028,-96.36380005,-107.893997192,-106.088996887,-68.82810211181639,-111.6549988,-84.93890380859375,-80.64530181884766,-91.256699,-93.22329711914062,-95.40239715576172,-85.44960021972656,-81.99050140000001,-111.3710022,-92.21959686279295,-97.23049926757812,-106.463997,-76.8916015625,-77.04290008539998,-100.49600219726562,-97.176102,-103.641998291,-107.2180023,-117.2799988,-111.6709976,-98.4166030884,-105.539001465,-111.98300170898438,-135.36199951171878,-77.84870147710002,-124.24600219726562,-109.065001,-84.19450378417969,-87.39540100100001,-83.27670288085938,-104.53099822998048,-93.99099731445312,-81.46649932861328,-120.9540024,-88.59140014649999,-114.2959976,-121.8580017,-124.2369995,-98.491898,-88.48909759521484,-83.80780029,-88.7738037109375,-88.75189971923828,-91.48429870605467,-80.1738667488,-86.23819733,-96.38439941,-94.02069854736328,-109.024002075,-132.36999509999998,-114.487999,-122.53800201416016,-132.9450073,-90.70950317,-156.766008,-165.44500732421875,-79.40480042,-71.87570190429688,-94.49829864501952,-120.4570007,-106.9329987,-103.2170029,-98.30960083007812,-92.40029907226562,-70.06020355,-161.8379974,-75.97979736,-112.59600067138672,-145.4779968,-122.8130035,-139.660003662,-84.79669952,-162.598999,-94.71150207519533,-93.200544,-76.4583969116211,-148.46499630000002,-89.33709716796875,-113.0989990234375,-100.723999023,-115.79199981689452,-99.27320099,-105.6750030517578,-98.67819977,-121.733002,-89.46749877929688,-84.47239685058594,-73.46810150146484,-152.4940033,-87.0936965942,-98.42179870605467,-94.93370056,-79.20040130615234,-102.802001953,-83.56030273,-94.13809967,-88.11450195309999,-98.90879822,-92.83899689,-80.6975021362,-93.4030990600586,-80.3994979858,-80.709099,-104.49700164794922,-112.49700164794922,-117.01499938964844,-78.94619750976562,-80.2281036377,-82.927803,-89.835197,-70.6143035889,-118.83799740000002,-121.2379989624,-91.19460297,-76.02169799804688,-82.55799866,-75.60649872,-72.88680267,-97.6521987915039,-115.57900238,-89.57080078125,-117.8300018,-78.8964004517,-122.2819977,-77.38529968,-94.05989837646484,-89.09719848632812,-109.7549973,-97.08570098877,-85.6828,-111.1179962,-100.9599991,-100.927001953,-100.6839981,-103.5960007,-111.72299957275,-104.8119965,-109.5100021,-112.4199982,-95.6635971069,-81.339798,-176.64599609375,-75.46549987790002,-70.8233032227,-100.2860031,-135.7070007,-158.50500490000002,-97.15470123,-70.28040314,-79.7238998413086,-156.6490021,-77.72949982,-87.16680145,-112.0120010376,-119.20700073241998,-88.06809997559998,-107.9079971,-90.346702575684,-119.3199997,-80.67910004,-114.03099823,-105.011,-83.64920043945312,-95.1587982178,-88.7698974609375],\"marker\":{\"color\":\"#8DEEEE\",\"line\":{\"color\":\"rgb(40,40,40)\",\"width\":0.5},\"size\":[46.546,45.35,44.118,43.734,42.322,41.384,41.194,41.186,41.18,39.766,39.386,39.378,38.766,38.592,37.980000000000004,36.896,36.552,33.698,32.84,31.61,31.394000000000002,30.206,29.812,29.662,28.734,28.042,27.556,27.46,27.148,26.472,26.376,26.292,25.014,24.726,24.36,23.984,23.768,23.650000000000002,23.51,22.924,21.830000000000002,21.324,21.014,20.892,20.382,20.124,19.794,19.636,19.6,18.748,18.518,18.388,17.32,16.724,16.62,16.506,16.47,16.39,16.124,15.792,15.416,15.112,15.07,14.842,14.664,14.208,14.194,13.976,13.84,13.768,13.524000000000001,13.166,12.614,12.404,12.172,12.104000000000001,12.084,12.022,11.85,11.584,11.458,11.332,11.328,11.31,11.194,10.978,10.786,10.614,10.588000000000001,10.38,10.184000000000001,10.040000000000001,9.996,9.984,9.822000000000001,9.644,9.306000000000001,9.290000000000001,9.028,8.944,8.91,8.858,8.768,8.636000000000001,8.35,8.342,8.268,7.978,7.882000000000001,7.8500000000000005,7.8180000000000005,7.7540000000000004,7.18,7.158,7.112,7.008,6.946,6.766,6.766,6.68,6.606,6.37,6.306,6.272,6.228,6.206,5.986,5.986,5.934,5.8740000000000006,5.8020000000000005,5.634,5.484,5.468,5.432,5.402,5.348,5.168,4.994,4.8500000000000005,4.798,4.694,4.604,4.44,4.404,4.368,4.322,4.08,4.05,4.032,4.0120000000000005,3.982,3.8160000000000003,3.794,3.7600000000000002,3.75,3.746,3.694,3.62,3.616,3.56,3.5580000000000003,3.5340000000000003,3.512,3.468,3.444,3.352,3.332,3.286,3.232,3.152,3.126,3.116,3.078,2.99,2.9,2.802,2.684,2.634,2.578,2.4,2.398,2.396,2.37,2.336,2.322,2.2920000000000003,2.2840000000000003,2.2720000000000002,2.2680000000000002,2.266,2.178,2.158,2.114,2.108,2.09,2.054,2.008,2.0,1.98,1.958,1.924,1.9100000000000001,1.9080000000000001,1.856,1.852,1.804,1.804,1.7,1.694,1.6460000000000001,1.558,1.516,1.514,1.504,1.494,1.444,1.334,1.288,1.226,1.22,1.194,1.178,1.176,1.166,1.162,1.1320000000000001,1.102,1.09,1.082,1.068,1.058,1.03,0.978,0.924,0.914,0.872,0.858,0.84,0.838,0.834,0.812,0.796,0.778,0.766,0.76,0.76,0.752,0.73,0.716,0.6960000000000001,0.676,0.666,0.618,0.53,0.528,0.504,0.492,0.47400000000000003,0.462,0.456,0.418,0.41600000000000004,0.406,0.402,0.396,0.388,0.384,0.366,0.358,0.328,0.28800000000000003,0.268,0.234,0.232,0.232,0.21,0.192,0.182,0.18,0.17200000000000001,0.13,0.13,0.112,0.092,0.088,0.07,0.042,0.036000000000000004,0.014,0.004,0.0,0.0,0.0,0.0,0.0],\"sizemode\":\"area\"},\"name\":\"0-50000\",\"text\":[\"Northwest Arkansas Regional Airport\",\"City of Colorado Springs Municipal Airport\",\"James M Cox Dayton International Airport\",\"Long Beach /Daugherty Field/ Airport\",\"Greater Rochester International Airport\",\"Savannah Hilton Head International Airport\",\"Wichita Eisenhower National Airport\",\"Albany International Airport\",\"Dane County Regional Truax Field\",\"Westchester County Airport\",\"Palm Springs International Airport\",\"Greenville Spartanburg International Airport\",\"Piedmont Triad International Airport\",\"Fresno Yosemite International Airport\",\"Spokane International Airport\",\"Syracuse Hancock International Airport\",\"Manchester-Boston Regional Airport\",\"Pensacola Regional Airport\",\"Midland International Airport\",\"Baton Rouge Metropolitan Airport\",\"Jackson-Medgar Wiley Evers International Airport\",\"Santa Barbara Municipal Airport\",\"Portland International Jetport Airport\",\"Akron Canton Regional Airport\",\"Blue Grass Airport\",\"The Eastern Iowa Airport\",\"Huntsville International Carl T Jones Field\",\"Columbia Metropolitan Airport\",\"Springfield Branson National Airport\",\"Lubbock Preston Smith International Airport\",\"Joe Foss Field Airport\",\"Ellison Onizuka Kona International At Keahole Airport\",\"Lihue Airport\",\"Long Island Mac Arthur Airport\",\"Destin-Ft Walton Beach Airport\",\"Corpus Christi International Airport\",\"Burlington International Airport\",\"Rick Husband Amarillo International Airport\",\"Shreveport Regional Airport\",\"Aspen-Pitkin Co/Sardy Field\",\"Mobile Regional Airport\",\"Fort Wayne International Airport\",\"Lovell Field\",\"Hector International Airport\",\"South Bend Regional Airport\",\"Quad City International Airport\",\"Asheville Regional Airport\",\"Austin Straubel International Airport\",\"Myrtle Beach International Airport\",\"Harrisburg International Airport\",\"Northwest Florida Beaches International Airport\",\"Lafayette Regional Airport\",\"Mahlon Sweet Field\",\"General Wayne A. Downing Peoria International Airport\",\"San Luis County Regional Airport\",\"Gulfport Biloxi International Airport\",\"Monterey Peninsula Airport\",\"Tallahassee Regional Airport\",\"Sarasota Bradenton International Airport\",\"Mc Allen Miller International Airport\",\"Valley International Airport\",\"Rapid City Regional Airport\",\"Rogue Valley International Medford Airport\",\"Bishop International Airport\",\"Yeager Airport\",\"Gallatin Field\",\"Appleton International Airport\",\"Jackson Hole Airport\",\"Montgomery Regional (Dannelly Field) Airport\",\"Evansville Regional Airport\",\"Wilmington International Airport\",\"Cherry Capital Airport\",\"Augusta Regional At Bush Field\",\"Robert Gray  Army Air Field Airport\",\"California Redwood Coast-Humboldt County Airport\",\"Lehigh Valley International Airport\",\"Alexandria International Airport\",\"Central Illinois Regional Airport at Bloomington-Normal\",\"Grand Junction Regional Airport\",\"Charlottesville Albemarle Airport\",\"Bismarck Municipal Airport\",\"Meadows Field\",\"Roberts Field\",\"Gainesville Regional Airport\",\"Lincoln Airport\",\"Juneau International Airport\",\"Orlando Sanford International Airport\",\"Monroe Regional Airport\",\"Tri Cities Airport\",\"Fayetteville Regional Grannis Field\",\"Roanoke\\u2013Blacksburg Regional Airport\",\"Fairbanks International Airport\",\"Billings Logan International Airport\",\"Capital City Airport\",\"Hilo International Airport\",\"Newport News Williamsburg International Airport\",\"University of Illinois Willard Airport\",\"Durango La Plata County Airport\",\"Missoula International Airport\",\"Trenton Mercer Airport\",\"Tri-Cities Regional TN/VA Airport\",\"Wilkes Barre Scranton International Airport\",\"Laredo International Airport\",\"Brownsville South Padre Island International Airport\",\"Rochester International Airport\",\"Duluth International Airport\",\"MBS International Airport\",\"Key West International Airport\",\"Abilene Regional Airport\",\"Eagle County Regional Airport\",\"Atlantic City International Airport\",\"Central Wisconsin Airport\",\"Kalamazoo Battle Creek International Airport\",\"Abraham Lincoln Capital Airport\",\"Daytona Beach International Airport\",\"Minot International Airport\",\"Albert J Ellis Airport\",\"Fort Smith Regional Airport\",\"Idaho Falls Regional Airport\",\"Stewart International Airport\",\"Glacier Park International Airport\",\"Ketchikan International Airport\",\"Manhattan Regional Airport\",\"Redding Municipal Airport\",\"St Petersburg Clearwater International Airport\",\"St George Municipal Airport\",\"Yuma MCAS/Yuma International Airport\",\"Easterwood Field\",\"Montrose Regional Airport\",\"Santa Fe Municipal Airport\",\"Bangor International Airport\",\"Phoenix-Mesa-Gateway Airport\",\"Columbus Metropolitan Airport\",\"Melbourne International Airport\",\"La Crosse Municipal Airport\",\"Lake Charles Regional Airport\",\"Tyler Pounds Regional Airport\",\"Dothan Regional Airport\",\"Charlotte County Airport\",\"Great Falls International Airport\",\"Columbia Regional Airport\",\"Waco Regional Airport\",\"Casper-Natrona County International Airport\",\"Elmira Corning Regional Airport\",\"Coastal Carolina Regional Airport\",\"San Angelo Regional Mathis Field\",\"Grand Forks International Airport\",\"Sloulin Field International Airport\",\"Yampa Valley Airport\",\"Mc Clellan-Palomar Airport\",\"Flagstaff Pulliam Airport\",\"Lawton Fort Sill Regional Airport\",\"Gillette Campbell County Airport\",\"Helena Regional Airport\",\"Sitka Rocky Gutierrez Airport\",\"University Park Airport\",\"Southwest Oregon Regional Airport\",\"Southwest Wyoming Regional Airport\",\"Southwest Georgia Regional Airport\",\"Sawyer International Airport\",\"Valdosta Regional Airport\",\"Roswell International Air Center Airport\",\"Texarkana Regional Webb Field\",\"Brunswick Golden Isles Airport\",\"Modesto City Co-Harry Sham Field\",\"Golden Triangle Regional Airport\",\"Friedman Memorial Airport\",\"Chico Municipal Airport\",\"Jack Mc Namara Field Airport\",\"Sheppard Air Force Base-Wichita Falls Municipal Airport\",\"Houghton County Memorial Airport\",\"Toledo Express Airport\",\"Barkley Regional Airport\",\"Key Field\",\"Chippewa Valley Regional Airport\",\"Erie International Tom Ridge Field\",\"Muskegon County Airport\",\"Sioux Gateway Col. Bud Day Field\",\"Southeast Texas Regional Airport\",\"Yellowstone Regional Airport\",\"Wrangell Airport\",\"Joslin Field Magic Valley Regional Airport\",\"Bellingham International Airport\",\"Petersburg James A Johnson Airport\",\"Dubuque Regional Airport\",\"Wiley Post Will Rogers Memorial Airport\",\"Nome Airport\",\"Arnold Palmer Regional Airport\",\"Worcester Regional Airport\",\"Joplin Regional Airport\",\"Santa Maria Pub/Capt G Allan Hancock Field\",\"Gunnison Crested Butte Regional Airport\",\"Lea County Regional Airport\",\"Central Nebraska Regional Airport\",\"Waterloo Regional Airport\",\"Nantucket Memorial Airport\",\"Bethel Airport\",\"Greater Binghamton/Edwin A Link field\",\"Pocatello Regional Airport\",\"Merle K (Mudhole) Smith Airport\",\"Charles M. Schulz Sonoma County Airport\",\"Yakutat Airport\",\"Pellston Regional Airport of Emmet County Airport\",\"Ralph Wien Memorial Airport\",\"East Texas Regional Airport\",\"Branson Airport\",\"Ithaca Tompkins Regional Airport\",\"Deadhorse Airport\",\"Hattiesburg Laurel Regional Airport\",\"Cedar City Regional Airport\",\"Garden City Regional Airport\",\"Elko Regional Airport\",\"Hays Regional Airport\",\"Laramie Regional Airport\",\"Jamestown Regional Airport\",\"Crater Lake-Klamath Regional Airport\",\"Rhinelander Oneida County Airport\",\"Chippewa County International Airport\",\"Plattsburgh International Airport\",\"Kodiak Airport\",\"Delta County Airport\",\"Aberdeen Regional Airport\",\"Bemidji Regional Airport\",\"Lynchburg Regional Preston Glenn Field\",\"Dickinson Theodore Roosevelt Regional Airport\",\"Alpena County Regional Airport\",\"Brainerd Lakes Regional Airport\",\"Ford Airport\",\"Devils Lake Regional Airport\",\"Range Regional Airport\",\"Hilton Head Airport\",\"Falls International Airport\",\"Greenbrier Valley Airport\",\"Concord-Padgett Regional Airport\",\"Pueblo Memorial Airport\",\"Bert Mooney Airport\",\"Lewiston Nez Perce County Airport\",\"Niagara Falls International Airport\",\"North Central West Virginia Airport\",\"Rickenbacker International Airport\",\"Scott AFB/Midamerica Airport\",\"Martha's Vineyard Airport\",\"Mammoth Yosemite Airport\",\"Stockton Metropolitan Airport\",\"Quincy Regional Baldwin Field\",\"Watertown International Airport\",\"Tri-State/Milton J. Ferguson Field\",\"New Castle Airport\",\"Tweed New Haven Airport\",\"Salina Municipal Airport\",\"Imperial County Airport\",\"Cape Girardeau Regional Airport\",\"Inyokern Airport\",\"Shenandoah Valley Regional Airport\",\"Snohomish County (Paine Field) Airport\",\"Pitt Greenville Airport\",\"St Cloud Regional Airport\",\"Chicago Rockford International Airport\",\"Canyonlands Field\",\"Stillwater Regional Airport\",\"Panama City-Bay Co International Airport\",\"Yellowstone Airport\",\"Liberal Mid-America Regional Airport\",\"Del Rio International Airport\",\"North Platte Regional Airport Lee Bird Field\",\"Western Neb. Rgnl/William B. Heilig Airport\",\"Provo Municipal Airport\",\"Cheyenne Regional Jerry Olson Field\",\"Vernal Regional Airport\",\"Ernest A. Love Field\",\"Topeka Regional Airport - Forbes Field\",\"Northeast Florida Regional Airport\",\"Adak Airport\",\"Ogdensburg International Airport\",\"Portsmouth International at Pease Airport\",\"Pierre Regional Airport\",\"Gustavus Airport\",\"Dillingham Airport\",\"Watertown Regional Airport\",\"Barnstable Municipal Boardman Polando Field\",\"Florence Regional Airport\",\"King Salmon Airport\",\"Hagerstown Regional Richard A Henson Field\",\"Owensboro Daviess County Airport\",\"Ogden Hinckley Airport\",\"Oxnard Airport\",\"Mobile Downtown Airport\",\"Telluride Regional Airport\",\"Tunica Municipal Airport\",\"Grant County International Airport\",\"Youngstown Warren Regional Airport\",\"Wendover Airport\",\"Northern Colorado Regional Airport\",\"Middle Georgia Regional Airport\",\"Ellington Airport\",\"Tupelo Regional Airport\"],\"type\":\"scattergeo\"}],                        {\"template\":{\"data\":{\"histogram2dcontour\":[{\"type\":\"histogram2dcontour\",\"colorbar\":{\"outlinewidth\":0,\"ticks\":\"\"},\"colorscale\":[[0.0,\"#0d0887\"],[0.1111111111111111,\"#46039f\"],[0.2222222222222222,\"#7201a8\"],[0.3333333333333333,\"#9c179e\"],[0.4444444444444444,\"#bd3786\"],[0.5555555555555556,\"#d8576b\"],[0.6666666666666666,\"#ed7953\"],[0.7777777777777778,\"#fb9f3a\"],[0.8888888888888888,\"#fdca26\"],[1.0,\"#f0f921\"]]}],\"choropleth\":[{\"type\":\"choropleth\",\"colorbar\":{\"outlinewidth\":0,\"ticks\":\"\"}}],\"histogram2d\":[{\"type\":\"histogram2d\",\"colorbar\":{\"outlinewidth\":0,\"ticks\":\"\"},\"colorscale\":[[0.0,\"#0d0887\"],[0.1111111111111111,\"#46039f\"],[0.2222222222222222,\"#7201a8\"],[0.3333333333333333,\"#9c179e\"],[0.4444444444444444,\"#bd3786\"],[0.5555555555555556,\"#d8576b\"],[0.6666666666666666,\"#ed7953\"],[0.7777777777777778,\"#fb9f3a\"],[0.8888888888888888,\"#fdca26\"],[1.0,\"#f0f921\"]]}],\"heatmap\":[{\"type\":\"heatmap\",\"colorbar\":{\"outlinewidth\":0,\"ticks\":\"\"},\"colorscale\":[[0.0,\"#0d0887\"],[0.1111111111111111,\"#46039f\"],[0.2222222222222222,\"#7201a8\"],[0.3333333333333333,\"#9c179e\"],[0.4444444444444444,\"#bd3786\"],[0.5555555555555556,\"#d8576b\"],[0.6666666666666666,\"#ed7953\"],[0.7777777777777778,\"#fb9f3a\"],[0.8888888888888888,\"#fdca26\"],[1.0,\"#f0f921\"]]}],\"heatmapgl\":[{\"type\":\"heatmapgl\",\"colorbar\":{\"outlinewidth\":0,\"ticks\":\"\"},\"colorscale\":[[0.0,\"#0d0887\"],[0.1111111111111111,\"#46039f\"],[0.2222222222222222,\"#7201a8\"],[0.3333333333333333,\"#9c179e\"],[0.4444444444444444,\"#bd3786\"],[0.5555555555555556,\"#d8576b\"],[0.6666666666666666,\"#ed7953\"],[0.7777777777777778,\"#fb9f3a\"],[0.8888888888888888,\"#fdca26\"],[1.0,\"#f0f921\"]]}],\"contourcarpet\":[{\"type\":\"contourcarpet\",\"colorbar\":{\"outlinewidth\":0,\"ticks\":\"\"}}],\"contour\":[{\"type\":\"contour\",\"colorbar\":{\"outlinewidth\":0,\"ticks\":\"\"},\"colorscale\":[[0.0,\"#0d0887\"],[0.1111111111111111,\"#46039f\"],[0.2222222222222222,\"#7201a8\"],[0.3333333333333333,\"#9c179e\"],[0.4444444444444444,\"#bd3786\"],[0.5555555555555556,\"#d8576b\"],[0.6666666666666666,\"#ed7953\"],[0.7777777777777778,\"#fb9f3a\"],[0.8888888888888888,\"#fdca26\"],[1.0,\"#f0f921\"]]}],\"surface\":[{\"type\":\"surface\",\"colorbar\":{\"outlinewidth\":0,\"ticks\":\"\"},\"colorscale\":[[0.0,\"#0d0887\"],[0.1111111111111111,\"#46039f\"],[0.2222222222222222,\"#7201a8\"],[0.3333333333333333,\"#9c179e\"],[0.4444444444444444,\"#bd3786\"],[0.5555555555555556,\"#d8576b\"],[0.6666666666666666,\"#ed7953\"],[0.7777777777777778,\"#fb9f3a\"],[0.8888888888888888,\"#fdca26\"],[1.0,\"#f0f921\"]]}],\"mesh3d\":[{\"type\":\"mesh3d\",\"colorbar\":{\"outlinewidth\":0,\"ticks\":\"\"}}],\"scatter\":[{\"fillpattern\":{\"fillmode\":\"overlay\",\"size\":10,\"solidity\":0.2},\"type\":\"scatter\"}],\"parcoords\":[{\"type\":\"parcoords\",\"line\":{\"colorbar\":{\"outlinewidth\":0,\"ticks\":\"\"}}}],\"scatterpolargl\":[{\"type\":\"scatterpolargl\",\"marker\":{\"colorbar\":{\"outlinewidth\":0,\"ticks\":\"\"}}}],\"bar\":[{\"error_x\":{\"color\":\"#2a3f5f\"},\"error_y\":{\"color\":\"#2a3f5f\"},\"marker\":{\"line\":{\"color\":\"#E5ECF6\",\"width\":0.5},\"pattern\":{\"fillmode\":\"overlay\",\"size\":10,\"solidity\":0.2}},\"type\":\"bar\"}],\"scattergeo\":[{\"type\":\"scattergeo\",\"marker\":{\"colorbar\":{\"outlinewidth\":0,\"ticks\":\"\"}}}],\"scatterpolar\":[{\"type\":\"scatterpolar\",\"marker\":{\"colorbar\":{\"outlinewidth\":0,\"ticks\":\"\"}}}],\"histogram\":[{\"marker\":{\"pattern\":{\"fillmode\":\"overlay\",\"size\":10,\"solidity\":0.2}},\"type\":\"histogram\"}],\"scattergl\":[{\"type\":\"scattergl\",\"marker\":{\"colorbar\":{\"outlinewidth\":0,\"ticks\":\"\"}}}],\"scatter3d\":[{\"type\":\"scatter3d\",\"line\":{\"colorbar\":{\"outlinewidth\":0,\"ticks\":\"\"}},\"marker\":{\"colorbar\":{\"outlinewidth\":0,\"ticks\":\"\"}}}],\"scattermapbox\":[{\"type\":\"scattermapbox\",\"marker\":{\"colorbar\":{\"outlinewidth\":0,\"ticks\":\"\"}}}],\"scatterternary\":[{\"type\":\"scatterternary\",\"marker\":{\"colorbar\":{\"outlinewidth\":0,\"ticks\":\"\"}}}],\"scattercarpet\":[{\"type\":\"scattercarpet\",\"marker\":{\"colorbar\":{\"outlinewidth\":0,\"ticks\":\"\"}}}],\"carpet\":[{\"aaxis\":{\"endlinecolor\":\"#2a3f5f\",\"gridcolor\":\"white\",\"linecolor\":\"white\",\"minorgridcolor\":\"white\",\"startlinecolor\":\"#2a3f5f\"},\"baxis\":{\"endlinecolor\":\"#2a3f5f\",\"gridcolor\":\"white\",\"linecolor\":\"white\",\"minorgridcolor\":\"white\",\"startlinecolor\":\"#2a3f5f\"},\"type\":\"carpet\"}],\"table\":[{\"cells\":{\"fill\":{\"color\":\"#EBF0F8\"},\"line\":{\"color\":\"white\"}},\"header\":{\"fill\":{\"color\":\"#C8D4E3\"},\"line\":{\"color\":\"white\"}},\"type\":\"table\"}],\"barpolar\":[{\"marker\":{\"line\":{\"color\":\"#E5ECF6\",\"width\":0.5},\"pattern\":{\"fillmode\":\"overlay\",\"size\":10,\"solidity\":0.2}},\"type\":\"barpolar\"}],\"pie\":[{\"automargin\":true,\"type\":\"pie\"}]},\"layout\":{\"autotypenumbers\":\"strict\",\"colorway\":[\"#636efa\",\"#EF553B\",\"#00cc96\",\"#ab63fa\",\"#FFA15A\",\"#19d3f3\",\"#FF6692\",\"#B6E880\",\"#FF97FF\",\"#FECB52\"],\"font\":{\"color\":\"#2a3f5f\"},\"hovermode\":\"closest\",\"hoverlabel\":{\"align\":\"left\"},\"paper_bgcolor\":\"white\",\"plot_bgcolor\":\"#E5ECF6\",\"polar\":{\"bgcolor\":\"#E5ECF6\",\"angularaxis\":{\"gridcolor\":\"white\",\"linecolor\":\"white\",\"ticks\":\"\"},\"radialaxis\":{\"gridcolor\":\"white\",\"linecolor\":\"white\",\"ticks\":\"\"}},\"ternary\":{\"bgcolor\":\"#E5ECF6\",\"aaxis\":{\"gridcolor\":\"white\",\"linecolor\":\"white\",\"ticks\":\"\"},\"baxis\":{\"gridcolor\":\"white\",\"linecolor\":\"white\",\"ticks\":\"\"},\"caxis\":{\"gridcolor\":\"white\",\"linecolor\":\"white\",\"ticks\":\"\"}},\"coloraxis\":{\"colorbar\":{\"outlinewidth\":0,\"ticks\":\"\"}},\"colorscale\":{\"sequential\":[[0.0,\"#0d0887\"],[0.1111111111111111,\"#46039f\"],[0.2222222222222222,\"#7201a8\"],[0.3333333333333333,\"#9c179e\"],[0.4444444444444444,\"#bd3786\"],[0.5555555555555556,\"#d8576b\"],[0.6666666666666666,\"#ed7953\"],[0.7777777777777778,\"#fb9f3a\"],[0.8888888888888888,\"#fdca26\"],[1.0,\"#f0f921\"]],\"sequentialminus\":[[0.0,\"#0d0887\"],[0.1111111111111111,\"#46039f\"],[0.2222222222222222,\"#7201a8\"],[0.3333333333333333,\"#9c179e\"],[0.4444444444444444,\"#bd3786\"],[0.5555555555555556,\"#d8576b\"],[0.6666666666666666,\"#ed7953\"],[0.7777777777777778,\"#fb9f3a\"],[0.8888888888888888,\"#fdca26\"],[1.0,\"#f0f921\"]],\"diverging\":[[0,\"#8e0152\"],[0.1,\"#c51b7d\"],[0.2,\"#de77ae\"],[0.3,\"#f1b6da\"],[0.4,\"#fde0ef\"],[0.5,\"#f7f7f7\"],[0.6,\"#e6f5d0\"],[0.7,\"#b8e186\"],[0.8,\"#7fbc41\"],[0.9,\"#4d9221\"],[1,\"#276419\"]]},\"xaxis\":{\"gridcolor\":\"white\",\"linecolor\":\"white\",\"ticks\":\"\",\"title\":{\"standoff\":15},\"zerolinecolor\":\"white\",\"automargin\":true,\"zerolinewidth\":2},\"yaxis\":{\"gridcolor\":\"white\",\"linecolor\":\"white\",\"ticks\":\"\",\"title\":{\"standoff\":15},\"zerolinecolor\":\"white\",\"automargin\":true,\"zerolinewidth\":2},\"scene\":{\"xaxis\":{\"backgroundcolor\":\"#E5ECF6\",\"gridcolor\":\"white\",\"linecolor\":\"white\",\"showbackground\":true,\"ticks\":\"\",\"zerolinecolor\":\"white\",\"gridwidth\":2},\"yaxis\":{\"backgroundcolor\":\"#E5ECF6\",\"gridcolor\":\"white\",\"linecolor\":\"white\",\"showbackground\":true,\"ticks\":\"\",\"zerolinecolor\":\"white\",\"gridwidth\":2},\"zaxis\":{\"backgroundcolor\":\"#E5ECF6\",\"gridcolor\":\"white\",\"linecolor\":\"white\",\"showbackground\":true,\"ticks\":\"\",\"zerolinecolor\":\"white\",\"gridwidth\":2}},\"shapedefaults\":{\"line\":{\"color\":\"#2a3f5f\"}},\"annotationdefaults\":{\"arrowcolor\":\"#2a3f5f\",\"arrowhead\":0,\"arrowwidth\":1},\"geo\":{\"bgcolor\":\"white\",\"landcolor\":\"#E5ECF6\",\"subunitcolor\":\"white\",\"showland\":true,\"showlakes\":true,\"lakecolor\":\"white\"},\"title\":{\"x\":0.05},\"mapbox\":{\"style\":\"light\"}}},\"title\":{\"text\":\"Airports with Most Delays, 2010-19\",\"x\":0.5},\"geo\":{\"scope\":\"usa\",\"landcolor\":\"rgb(217, 217, 217)\",\"projection\":{\"type\":\"albers usa\"}},\"showlegend\":true,\"legend\":{\"title\":{\"text\":\"Number of Delays, 2010-19\"}}},                        {\"responsive\": true}                    ).then(function(){\n",
       "                            \n",
       "var gd = document.getElementById('2a4e2c4e-ba85-4eb5-9f6e-122c44c0a899');\n",
       "var x = new MutationObserver(function (mutations, observer) {{\n",
       "        var display = window.getComputedStyle(gd).display;\n",
       "        if (!display || display === 'none') {{\n",
       "            console.log([gd, 'removed!']);\n",
       "            Plotly.purge(gd);\n",
       "            observer.disconnect();\n",
       "        }}\n",
       "}});\n",
       "\n",
       "// Listen for the removal of the full notebook cells\n",
       "var notebookContainer = gd.closest('#notebook-container');\n",
       "if (notebookContainer) {{\n",
       "    x.observe(notebookContainer, {childList: true});\n",
       "}}\n",
       "\n",
       "// Listen for the clearing of the current output cell\n",
       "var outputEl = gd.closest('.output');\n",
       "if (outputEl) {{\n",
       "    x.observe(outputEl, {childList: true});\n",
       "}}\n",
       "\n",
       "                        })                };                });            </script>        </div>"
      ]
     },
     "metadata": {},
     "output_type": "display_data"
    }
   ],
   "source": [
    "fig.update_layout(\n",
    "        title_text = 'Airports with Most Delays, 2010-19',\n",
    "        title_x=0.5,\n",
    "        showlegend = True,\n",
    "        legend_title = 'Number of Delays, 2010-19',\n",
    "        geo = dict(\n",
    "            scope = 'usa',\n",
    "            landcolor = 'rgb(217, 217, 217)',\n",
    "            projection=go.layout.geo.Projection(type = 'albers usa'),\n",
    "        )\n",
    "    )\n"
   ]
  },
  {
   "cell_type": "code",
   "execution_count": null,
   "id": "230bc0ae",
   "metadata": {},
   "outputs": [],
   "source": []
  },
  {
   "cell_type": "code",
   "execution_count": null,
   "id": "68ad6979",
   "metadata": {},
   "outputs": [],
   "source": []
  },
  {
   "cell_type": "markdown",
   "id": "54e14e35",
   "metadata": {},
   "source": [
    "### --------------------------------------------------------------------------------------------------- end delays"
   ]
  },
  {
   "cell_type": "markdown",
   "id": "c2738b07",
   "metadata": {},
   "source": [
    "### Airplanes"
   ]
  },
  {
   "cell_type": "code",
   "execution_count": null,
   "id": "ea880ecb",
   "metadata": {},
   "outputs": [],
   "source": [
    "airplanes = pd.read_csv('../Data/airplanes.csv')\n",
    "airplanes.head()"
   ]
  },
  {
   "cell_type": "code",
   "execution_count": null,
   "id": "7752cbc4",
   "metadata": {},
   "outputs": [],
   "source": [
    "airplanes.rename(columns = {'Name':'Plane', 'IATA code':'Plane_IATA','ICAO code':'Plane_ICAO'}, inplace=True)\n",
    "airplanes.head()"
   ]
  },
  {
   "cell_type": "code",
   "execution_count": null,
   "id": "747980c7",
   "metadata": {},
   "outputs": [],
   "source": [
    "airplanes.isnull().sum()"
   ]
  },
  {
   "cell_type": "markdown",
   "id": "f445591f",
   "metadata": {},
   "source": [
    "### -------------------------------------------------------------------------------- end airplanes"
   ]
  },
  {
   "cell_type": "markdown",
   "id": "424a138e",
   "metadata": {},
   "source": [
    "### Routes (not helpful b/c of lack of records - use passengers data instead)"
   ]
  },
  {
   "cell_type": "code",
   "execution_count": null,
   "id": "034de774",
   "metadata": {},
   "outputs": [],
   "source": [
    "routes = pd.read_csv('../Data/routes.csv')\n",
    "routes.head()"
   ]
  },
  {
   "cell_type": "code",
   "execution_count": null,
   "id": "9110ca9c",
   "metadata": {},
   "outputs": [],
   "source": [
    "routes.shape"
   ]
  },
  {
   "cell_type": "code",
   "execution_count": null,
   "id": "3bab5516",
   "metadata": {},
   "outputs": [],
   "source": [
    "routes.isnull().sum()"
   ]
  },
  {
   "cell_type": "code",
   "execution_count": null,
   "id": "c33d8d5d",
   "metadata": {},
   "outputs": [],
   "source": [
    "routes.drop('Codeshare', axis=1, inplace=True)\n",
    "routes.head(1)"
   ]
  },
  {
   "cell_type": "code",
   "execution_count": null,
   "id": "183cce45",
   "metadata": {},
   "outputs": [],
   "source": [
    "routes.rename(columns = {'Airline':'Airline_IATA_r', 'Airline ID':'Airline_ID_r', 'Source airport': 'Source_ap_r', 'Source airport ID': 'Source_ap_ID_r', 'Destination airport': 'Dest_ap_r', 'Destination airport ID': 'Dest_ap_ID_r', 'Stops':'Stops_r','Equipment':'Plane_IATA_r'}, inplace=True)\n",
    "routes.head(1)"
   ]
  },
  {
   "cell_type": "markdown",
   "id": "f51f8206",
   "metadata": {},
   "source": [
    "### ------------------------------------------------------------------------------------------------------------------- end routes"
   ]
  },
  {
   "cell_type": "code",
   "execution_count": null,
   "id": "3de52aa5",
   "metadata": {},
   "outputs": [],
   "source": [
    "### Finding Number of Carrier Delays by more than 15 minutes\n",
    "### Join Airlines with Delays"
   ]
  },
  {
   "cell_type": "code",
   "execution_count": null,
   "id": "6e0cb906",
   "metadata": {},
   "outputs": [],
   "source": [
    "delays.head(2)"
   ]
  },
  {
   "cell_type": "code",
   "execution_count": null,
   "id": "fbf878ed",
   "metadata": {},
   "outputs": [],
   "source": [
    "delays.carrier_del.unique()"
   ]
  },
  {
   "cell_type": "code",
   "execution_count": null,
   "id": "56a11341",
   "metadata": {},
   "outputs": [],
   "source": [
    "delays.columns"
   ]
  },
  {
   "cell_type": "code",
   "execution_count": null,
   "id": "05a0bb47",
   "metadata": {},
   "outputs": [],
   "source": [
    "airlines.Name_al.unique()"
   ]
  },
  {
   "cell_type": "code",
   "execution_count": null,
   "id": "ae2f0b1a",
   "metadata": {},
   "outputs": [],
   "source": [
    "airlines.head()"
   ]
  },
  {
   "cell_type": "code",
   "execution_count": null,
   "id": "12db76ef",
   "metadata": {},
   "outputs": [],
   "source": [
    "delays.isnull().sum()"
   ]
  },
  {
   "cell_type": "code",
   "execution_count": null,
   "id": "9100b154",
   "metadata": {},
   "outputs": [],
   "source": [
    "delays.columns"
   ]
  },
  {
   "cell_type": "code",
   "execution_count": null,
   "id": "ad37786a",
   "metadata": {},
   "outputs": [],
   "source": [
    "airlines.columns"
   ]
  },
  {
   "cell_type": "markdown",
   "id": "3d3dcdc8",
   "metadata": {},
   "source": [
    "### Merge Airline dataset with Delay dataset"
   ]
  },
  {
   "cell_type": "code",
   "execution_count": null,
   "id": "74c8170c",
   "metadata": {},
   "outputs": [],
   "source": [
    "#mergedStuff = pd.merge(df1, df2, on=['Name'], how='inner')\n",
    "delays_al = delays.merge(airlines, left_on='al_iata_del', right_on='IATA_al', how='left')\n",
    "delays_al.head(2)"
   ]
  },
  {
   "cell_type": "code",
   "execution_count": null,
   "id": "09212af3",
   "metadata": {},
   "outputs": [],
   "source": [
    "delays_al.columns"
   ]
  },
  {
   "cell_type": "code",
   "execution_count": null,
   "id": "6fba6794",
   "metadata": {},
   "outputs": [],
   "source": [
    "delays_al = delays_al.loc[:, ['year_del', 'month_del', 'al_iata_del', 'carrier_del', 'airport_code_del', 'airport_name_del', 'AirLine_ID_al', 'Name_al', 'IATA_al', 'ICAO_al', 'Country_al', 'Active_al', 'arr_flights', 'arr_del15', 'carrier_ct', 'weather_ct',\n",
    "       'nas_ct', 'security_ct', 'late_aircraft_ct', 'arr_cancelled','arr_diverted', 'arr_delay', 'carrier_delay', 'weather_delay','nas_delay', 'security_delay', 'late_aircraft_delay']]\n",
    "delays_al.head(3)"
   ]
  },
  {
   "cell_type": "code",
   "execution_count": null,
   "id": "91d9a740",
   "metadata": {},
   "outputs": [],
   "source": []
  },
  {
   "cell_type": "code",
   "execution_count": null,
   "id": "5e15103f",
   "metadata": {},
   "outputs": [],
   "source": [
    "#can also use iterrows\n",
    "#for x in airlines.itertuples():\n",
    "#    if x[2].find('ExpressJet') != -1:\n",
    "#        print(x)"
   ]
  },
  {
   "cell_type": "code",
   "execution_count": null,
   "id": "6ed4ac9a",
   "metadata": {},
   "outputs": [],
   "source": [
    "#thinking about joining on airline name after filter but expressjet appears to be the only one with a history of changes in delays data\n",
    "#express = airlines[airlines['Name'].str.contains('ExpressJet')]\n",
    "#express.head()"
   ]
  },
  {
   "cell_type": "code",
   "execution_count": null,
   "id": "4b069642",
   "metadata": {},
   "outputs": [],
   "source": [
    "delays_al.columns"
   ]
  },
  {
   "cell_type": "code",
   "execution_count": null,
   "id": "417ea329",
   "metadata": {},
   "outputs": [],
   "source": [
    "delays_al_sum = delays_al.groupby(['carrier_del'])['arr_del15'].sum().sort_values(ascending=False).reset_index(name='sum_delays')\n",
    "delays_al_sum.head(2)"
   ]
  },
  {
   "cell_type": "code",
   "execution_count": null,
   "id": "ea0486a1",
   "metadata": {},
   "outputs": [],
   "source": [
    "sum_arr_air = delays_al.groupby(['carrier_del'])['arr_flights'].sum().sort_values(ascending=False).reset_index(name='sum_arrivals')\n",
    "sum_arr_air.head(2)"
   ]
  },
  {
   "cell_type": "code",
   "execution_count": null,
   "id": "93a496b6",
   "metadata": {},
   "outputs": [],
   "source": [
    "delays_all_airlines = delays_al_sum.merge(sum_arr_air, left_on='carrier_del', right_on='carrier_del', how='left')\n",
    "delays_all_airlines.head()"
   ]
  },
  {
   "cell_type": "markdown",
   "id": "89dae15e",
   "metadata": {},
   "source": [
    "### -----------------------------------------------------------------------------"
   ]
  },
  {
   "cell_type": "markdown",
   "id": "fe8fb15c",
   "metadata": {},
   "source": [
    "### Top/Bottom AIRLINE Delay Percentage from 2010-2019"
   ]
  },
  {
   "cell_type": "code",
   "execution_count": null,
   "id": "23bf4a88",
   "metadata": {},
   "outputs": [],
   "source": [
    "delays_all_airlines['pct_delay'] = delays_all_airlines['sum_delays'] / delays_all_airlines['sum_arrivals']\n",
    "delays_all_airlines = delays_all_airlines.sort_values(by='pct_delay', ascending=False)\n",
    "delays_all_airlines.head(10)"
   ]
  },
  {
   "cell_type": "code",
   "execution_count": null,
   "id": "129135c4",
   "metadata": {},
   "outputs": [],
   "source": [
    "delays_all_al_top10 = delays_all_airlines.nlargest(n=10, columns=['pct_delay'])\n",
    "delays_all_al_top10.head(11)"
   ]
  },
  {
   "cell_type": "code",
   "execution_count": null,
   "id": "c327c7cd",
   "metadata": {},
   "outputs": [],
   "source": [
    "delays_al.year_del.min()"
   ]
  },
  {
   "cell_type": "code",
   "execution_count": null,
   "id": "0a7b6354",
   "metadata": {},
   "outputs": [],
   "source": [
    "delays_al.year_del.max()"
   ]
  },
  {
   "cell_type": "markdown",
   "id": "29e41be9",
   "metadata": {},
   "source": [
    "# -----------------------------------------------------------"
   ]
  },
  {
   "cell_type": "markdown",
   "id": "30f5103b",
   "metadata": {},
   "source": [
    "### Average & Mean Delays for All AIRLINES"
   ]
  },
  {
   "cell_type": "code",
   "execution_count": null,
   "id": "f44d0fbe",
   "metadata": {},
   "outputs": [],
   "source": [
    "#average\n",
    "delays_all_airlines.sum_delays.sum() / delays_all_airlines.sum_arrivals.sum()"
   ]
  },
  {
   "cell_type": "code",
   "execution_count": null,
   "id": "6ea437b9",
   "metadata": {},
   "outputs": [],
   "source": [
    "#mean\n",
    "delays_all_airlines.pct_delay.mean()"
   ]
  },
  {
   "cell_type": "code",
   "execution_count": null,
   "id": "9329e4eb",
   "metadata": {},
   "outputs": [],
   "source": [
    "plt.figure(facecolor='white')\n",
    "plt.barh(delays_all_al_top10['carrier_del'], delays_all_al_top10['pct_delay'],color='lightseagreen')\n",
    "plt.gca().invert_yaxis()\n",
    "plt.ylabel('Airlines', fontsize=10, color='black', rotation=90, labelpad=15)\n",
    "plt.title('Top Airline Flight Delay Percentages \\n (United States)', fontsize=12, fontname=\"Times New Roman Bold\", color='black', pad=20)\n",
    "plt.tick_params(axis='x', colors='black')\n",
    "plt.tick_params(axis='y', colors='black')\n",
    "plt.xlabel('Percentage of Total Flights Delayed', fontsize=11, color='black', rotation=0, labelpad=15)\n",
    "#plt.axvline(x=67521, color='r', linestyle='-', label=' U.S. Census \\n National Household \\n Median Income')\n",
    "#plt.legend(loc = 'upper right')\n",
    "plt.savefig('Top10_Delayed_Airlines', dpi=200, transparent=True, bbox_inches='tight')\n",
    "plt.show()"
   ]
  },
  {
   "cell_type": "markdown",
   "id": "c7831c14",
   "metadata": {},
   "source": [
    "### --------------------------------------------------------------------------------"
   ]
  },
  {
   "cell_type": "code",
   "execution_count": null,
   "id": "898758c2",
   "metadata": {},
   "outputs": [],
   "source": []
  },
  {
   "cell_type": "code",
   "execution_count": null,
   "id": "94a4ae85",
   "metadata": {},
   "outputs": [],
   "source": [
    "#finding month of most airline delays of 15 minutes or more\n",
    "delays_month = delays_al.groupby(['year_del', 'month_del', 'carrier_del','arr_flights', 'arr_del15'])['arr_del15'].sum().sort_values(ascending=False).reset_index(name='sum_delays')\n",
    "delays_month.head(10)"
   ]
  },
  {
   "cell_type": "code",
   "execution_count": null,
   "id": "9cb25851",
   "metadata": {},
   "outputs": [],
   "source": []
  },
  {
   "cell_type": "markdown",
   "id": "ae7b0e6f",
   "metadata": {},
   "source": [
    "### Merge Passengers with Routes --- Passengers have year & month data"
   ]
  },
  {
   "cell_type": "code",
   "execution_count": null,
   "id": "4fcc63e4",
   "metadata": {},
   "outputs": [],
   "source": [
    "routes.columns"
   ]
  },
  {
   "cell_type": "code",
   "execution_count": null,
   "id": "53188c96",
   "metadata": {},
   "outputs": [],
   "source": [
    "routes.dtypes"
   ]
  },
  {
   "cell_type": "code",
   "execution_count": null,
   "id": "67729796",
   "metadata": {},
   "outputs": [],
   "source": [
    "passengers.columns"
   ]
  },
  {
   "cell_type": "code",
   "execution_count": null,
   "id": "165bf23a",
   "metadata": {},
   "outputs": [],
   "source": [
    "passengers.dtypes"
   ]
  },
  {
   "cell_type": "code",
   "execution_count": null,
   "id": "9af4e19b",
   "metadata": {},
   "outputs": [],
   "source": [
    "# Joining routes doesn't help mainly because of lack of records, Airline ID is known (airline IATA would be nice),\n",
    "routes.tail(1)"
   ]
  },
  {
   "cell_type": "code",
   "execution_count": null,
   "id": "e789b9c1",
   "metadata": {},
   "outputs": [],
   "source": [
    "passengers.tail(1)"
   ]
  },
  {
   "cell_type": "code",
   "execution_count": null,
   "id": "36c2a106",
   "metadata": {},
   "outputs": [],
   "source": [
    "pass_routes = passengers.merge(routes, left_on=['AIRLINE_ID', 'ORIGIN', 'DEST'], right_on=['Airline_ID_r', 'Source_ap_r', 'Dest_ap_r'],  how='left')\n",
    "pass_routes.head(2)"
   ]
  },
  {
   "cell_type": "code",
   "execution_count": null,
   "id": "aba489ba",
   "metadata": {},
   "outputs": [],
   "source": [
    "passengers.shape"
   ]
  },
  {
   "cell_type": "code",
   "execution_count": null,
   "id": "3ccd79dc",
   "metadata": {},
   "outputs": [],
   "source": [
    "routes.shape"
   ]
  },
  {
   "cell_type": "code",
   "execution_count": null,
   "id": "5d573400",
   "metadata": {},
   "outputs": [],
   "source": [
    "pass_routes.shape"
   ]
  },
  {
   "cell_type": "code",
   "execution_count": null,
   "id": "4247a51e",
   "metadata": {},
   "outputs": [],
   "source": []
  },
  {
   "cell_type": "code",
   "execution_count": null,
   "id": "5760c3fb",
   "metadata": {},
   "outputs": [],
   "source": []
  },
  {
   "cell_type": "code",
   "execution_count": null,
   "id": "3f5031b9",
   "metadata": {},
   "outputs": [],
   "source": []
  },
  {
   "cell_type": "code",
   "execution_count": null,
   "id": "173deda1",
   "metadata": {},
   "outputs": [],
   "source": []
  }
 ],
 "metadata": {
  "kernelspec": {
   "display_name": "Python 3 (ipykernel)",
   "language": "python",
   "name": "python3"
  },
  "language_info": {
   "codemirror_mode": {
    "name": "ipython",
    "version": 3
   },
   "file_extension": ".py",
   "mimetype": "text/x-python",
   "name": "python",
   "nbconvert_exporter": "python",
   "pygments_lexer": "ipython3",
   "version": "3.9.7"
  }
 },
 "nbformat": 4,
 "nbformat_minor": 5
}
